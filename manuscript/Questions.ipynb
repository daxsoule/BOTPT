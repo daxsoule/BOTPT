{
 "cells": [
  {
   "cell_type": "markdown",
   "metadata": {},
   "source": [
    "#### What is a mid-ocean ridge? Please describe the interactions and linkages among the geologic, hydrologic and biologic systems of which they are comprised. Fundamental to this effort is understanding the process of mass and energy flow from the mantle to the crust, which drives hydrothermal circulation, and creates new seafloor and supports life there. How does crustal accretion vary temporally? \n",
    "A mid-ocean ridge is an underwater mountain range formed by divergent plate tectonics. It is divided into segments by transform faults and other offsets. (Rubin 2014)"
   ]
  },
  {
   "cell_type": "markdown",
   "metadata": {},
   "source": [
    "#### Is there a single central source where magma upwells from the mantle to the crust in a one-dimensional process, or are there many distributed sources along the ridge axis in a two or three-dimensional process? "
   ]
  },
  {
   "cell_type": "markdown",
   "metadata": {},
   "source": [
    "#### What is segmentation? What is it related to?  (Toomey et al., 2007)\n",
    "Segmentation is related to the asymmetric nature of mantle upwelling. This asymmetry also has implications for asthenospheric flow, crustal accretion, and tectonic and hydrothermal vent activities."
   ]
  },
  {
   "cell_type": "markdown",
   "metadata": {},
   "source": [
    "#### What do the segments on a mid-ocean ridge indicate? (Karsten et al., 1990)\n",
    "Segments are formed by transform faults that accomodate spreading and overlapping spreading centers. \n",
    "paper not found "
   ]
  },
  {
   "cell_type": "markdown",
   "metadata": {},
   "source": [
    "#### Describe how MORs are able to be classified according to their spreading rates (Phipps Morgan and Chen, 1993).\n",
    "MORs are classified into fast or slow spreading rates based on the thermal regime balance between magmatic heat injection during crustal accretion and hydrothermal heat removal. This is consistent with a thermally controlled magma \"solidus\" temperature which limits the height at which magma rises to and can exist as a steady state feature at a spreading center. The stretching of strong axial lithosphere is responsible for the origin of a median valley topography (at a slow spreading ridge). "
   ]
  },
  {
   "cell_type": "markdown",
   "metadata": {},
   "source": [
    "#### How does crustal accretion vary temporally? (Canales et al., 2003)\n",
    "paper not found."
   ]
  },
  {
   "cell_type": "markdown",
   "metadata": {},
   "source": [
    "#### What does the variation in crustal thickness perpendicular to the axis tell us? What assumptions are included in your answer?"
   ]
  },
  {
   "cell_type": "markdown",
   "metadata": {},
   "source": [
    "#### What does the variation in crustal thickness along axis tell us? "
   ]
  },
  {
   "cell_type": "markdown",
   "metadata": {},
   "source": [
    "#### What do variations in lower crustal velocities along axis tell us about lower crustal properties? (Carlson, 2009)"
   ]
  },
  {
   "cell_type": "markdown",
   "metadata": {},
   "source": [
    "#### Please compare and contrast slow, intermediate and fast spreading ridges morphologically, tectonically, magmatically and hydrothermally. (Phipps Morgan and Chen, 1993, Canales et al., 2003, Holmes et al., 2008, Van Ark, et al., 2007)"
   ]
  },
  {
   "cell_type": "code",
   "execution_count": null,
   "metadata": {},
   "outputs": [],
   "source": []
  }
 ],
 "metadata": {
  "kernelspec": {
   "display_name": "Python 3",
   "language": "python",
   "name": "python3"
  },
  "language_info": {
   "codemirror_mode": {
    "name": "ipython",
    "version": 3
   },
   "file_extension": ".py",
   "mimetype": "text/x-python",
   "name": "python",
   "nbconvert_exporter": "python",
   "pygments_lexer": "ipython3",
   "version": "3.7.3"
  }
 },
 "nbformat": 4,
 "nbformat_minor": 4
}
