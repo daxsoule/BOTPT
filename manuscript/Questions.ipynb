{
 "cells": [
  {
   "cell_type": "markdown",
   "metadata": {},
   "source": [
    "## New insights into magma plumbing along rift systems from detailed observations of eruptive behavior at Axial volcano"
   ]
  },
  {
   "cell_type": "markdown",
   "metadata": {},
   "source": [
    "Freysteinn Sigmundsson"
   ]
  },
  {
   "cell_type": "markdown",
   "metadata": {},
   "source": [
    "Geophysical magma plumbing models, in general, may need to allow for more complexities such as patial heterogeneities in magma composition, melt content, and location of major volume changes within a single magma dominated crustal volume during eruptions. Chadwick et al. [2016] find that the 2015 eruption was the largest since mapping and monitoring began and the most mafic since ~1450 CE. The change in lava composition followed an increase in the magma supply rate and a decreased repose interval compared to the last event. At least 11 lava flows with a range of MgO content, and a combined volume of ~0.15 km3, were fed by a dike >19 km long that tapped a zoned magma body beneath the caldera."
   ]
  },
  {
   "cell_type": "markdown",
   "metadata": {},
   "source": [
    "It remains to be seen if a spreading rate of 55–60 mm/yr and hotspot-ridge interaction at Axial is sufficient to drive a continuous episode of rifting in the long-term or if magma supply to the shallow magma domain will pause."
   ]
  },
  {
   "cell_type": "markdown",
   "metadata": {},
   "source": [
    "Subaerial rifting episodes include diking events in alternating directions along rift zones away from a central magma upflow region, eventually selecting the most favorable direction, depending not only on deviatoric stresses and pressure gradients from topography and gravitational potential energy [Heimisson et al., 2015]. After two previous rifting events southward from Axial, the 2015 activity propagated northward and released stress there. Seismicity at Axial revealed the geometry of caldera faults, which could be activated in a caldera collapse in relation to lateral flow of a much larger volume of magma along the rifts in future events, similar to the 2014–2015 Bardarbunga rifting event in Iceland [Gudmundsson et al., 2016]."
   ]
  },
  {
   "cell_type": "code",
   "execution_count": null,
   "metadata": {},
   "outputs": [],
   "source": []
  }
 ],
 "metadata": {
  "kernelspec": {
   "display_name": "Python 3",
   "language": "python",
   "name": "python3"
  },
  "language_info": {
   "codemirror_mode": {
    "name": "ipython",
    "version": 3
   },
   "file_extension": ".py",
   "mimetype": "text/x-python",
   "name": "python",
   "nbconvert_exporter": "python",
   "pygments_lexer": "ipython3",
   "version": "3.6.6"
  }
 },
 "nbformat": 4,
 "nbformat_minor": 2
}
