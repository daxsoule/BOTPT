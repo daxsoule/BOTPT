{
 "cells": [
  {
   "cell_type": "markdown",
   "metadata": {},
   "source": [
    "Arnulf, A.F., Harding, A.J., Kent, G.M., Carbotte, S.M., Canales, J.P., Nedimovi, M.R. (2014). Anatomy of an active submarine volcano. Geology. DOI: 10.1130/G35629.1  "
   ]
  },
  {
   "cell_type": "markdown",
   "metadata": {},
   "source": [
    "Chadwick, W.W., Jr., Paduan, J.B., Clague, D.A., Dreyer, B.M., Merle, S.G., Bobbitt, A.M., Caress, D.W., Philip, B.T., Kelley, D.S., Nooner, S.L. (2016). Voluminous eruption from a zoned magma body after an increase in supply rate at Axial Seamount. Geophys. Res. Lett., 43, 12,063–12,070. doi:10.1002/ 2016GL071327. \n"
   ]
  },
  {
   "cell_type": "markdown",
   "metadata": {},
   "source": [
    "Clague, D.A., B.M. Dreyer, J.B. Paduan, J.F. Martin, W.W. Chadwick Jr., D.W. Caress,\n",
    "R.A. Portner, T.P. Guilderson, M.L. McGann,D.A. Butterfield, and others. 2013. Geologic history of the summit of Axial Seamount, Juan de Fuca Ridge. Geochemistry, Geophysics, Geosystems 14:4,403–4,443, https://doi.org/10.1002/ggge.20240."
   ]
  },
  {
   "cell_type": "markdown",
   "metadata": {},
   "source": [
    "Levy, S., Bohnenstiehl, D.R., Sprinkle, P., Boettcher, M.S., Wilcock, W.S.D., Tolstoy, M., and Waldhauser, F. (2018). Mechanics of fault reactivation before, during, and after the 2015 eruption of Axial Seamount. Geology. 46. 10.1130/G39978.1. "
   ]
  },
  {
   "cell_type": "markdown",
   "metadata": {},
   "source": [
    "Nooner, S.L., and W.W. Chadwick Jr. 2009. Volcanic inflation measured in the caldera of Axial Seamount: Implications for magma supply and future eruptions. Geochemistry, Geophysics, Geosystems 10, Q02002, https://doi.org/ 10.1029/2008GC002315."
   ]
  },
  {
   "cell_type": "markdown",
   "metadata": {},
   "source": [
    "Nooner, S.L., Chadwick, W. W., Jr. (2016). Inflation-predictable behavior and co-eruption deformation at Axial Seamount. Science, 354 (6318), 1399-1403. doi: 10.1126/science.aah4666.  \n",
    " "
   ]
  },
  {
   "cell_type": "markdown",
   "metadata": {},
   "source": [
    "Rubin, K.H. (2016) Mid-ocean Ridge Magmatism and Volcanism. In: Harff J., Meschede M., Petersen S., Thiede J. (eds) Encyclopedia of Marine Geosciences. Encyclopedia of Earth Sciences Series. Springer, Dordrecht"
   ]
  },
  {
   "cell_type": "markdown",
   "metadata": {},
   "source": [
    "Sigmundsson, F. ( 2016), New insights into magma plumbing along rift systems from detailed observations of eruptive behavior at Axial volcano, Geophys. Res. Lett., 43, 12,423– 12,427, doi:10.1002/2016GL071884."
   ]
  },
  {
   "cell_type": "markdown",
   "metadata": {},
   "source": [
    "Wilcock, W., Dziak, R., Tolstoy, M., Chadwick, W., Nooner, S., Bohnenstiehl, D., . . . Mann, M. (2018). THE RECENT VOLCANIC HISTORY OF AXIAL SEAMOUNT: Geophysical Insights into Past Eruption Dynamics with an Eye Toward Enhanced Observations of Future Eruptions. Oceanography, 31(1), 114-123. Retrieved from http://www.jstor.org/stable/26307795\n"
   ]
  },
  {
   "cell_type": "markdown",
   "metadata": {},
   "source": [
    "Wilcock, W.S.D., M. Tolstoy, F. Waldhauser, C. Garcia, Y.J. Tan, D.R. Bohnenstiehl, J. Caplan- Auerbach, R.P. Dziak, A.F. Arnulf, and M.E. Mann. 2016. Seismic constraints on caldera dynam-\n",
    "ics from the 2015 Axial Seamount eruption. Science 354:1,395–1,399, https://doi.org/10.1126/ science.aah5563.\n"
   ]
  }
 ],
 "metadata": {
  "kernelspec": {
   "display_name": "Python 3",
   "language": "python",
   "name": "python3"
  },
  "language_info": {
   "codemirror_mode": {
    "name": "ipython",
    "version": 3
   },
   "file_extension": ".py",
   "mimetype": "text/x-python",
   "name": "python",
   "nbconvert_exporter": "python",
   "pygments_lexer": "ipython3",
   "version": "3.6.6"
  }
 },
 "nbformat": 4,
 "nbformat_minor": 2
}
