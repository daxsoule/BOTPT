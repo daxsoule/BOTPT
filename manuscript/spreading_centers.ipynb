{
 "cells": [
  {
   "cell_type": "markdown",
   "metadata": {},
   "source": [
    "|Tectonic Regime| Fast | Intermediate  | Slow |\n",
    "| --- | --- | --- | --- |\n",
    "| Spreading rate | >9 cm/yr | 4-9 cm/yr | <4 cm/yr |\n",
    "| Rate of seismicity |  |  |  |\n",
    "| Type of seismicity |  |  |  |\n",
    "| Bathymetry |  |  |  |\n",
    "| Magma source |  |  |  |\n",
    "| Frequency of volcanism|  |  |  | \n",
    "| Hydrothermal activity | high T vents are common |high T vents are common | high T vents are rare |\n",
    "| Examples | East Pacific Rise | | Mid-Atlantic Ridge |"
   ]
  }
 ],
 "metadata": {
  "kernelspec": {
   "display_name": "Python 3",
   "language": "python",
   "name": "python3"
  },
  "language_info": {
   "codemirror_mode": {
    "name": "ipython",
    "version": 3
   },
   "file_extension": ".py",
   "mimetype": "text/x-python",
   "name": "python",
   "nbconvert_exporter": "python",
   "pygments_lexer": "ipython3",
   "version": "3.7.3"
  }
 },
 "nbformat": 4,
 "nbformat_minor": 4
}
