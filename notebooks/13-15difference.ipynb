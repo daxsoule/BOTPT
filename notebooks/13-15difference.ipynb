{
 "cells": [
  {
   "cell_type": "markdown",
   "metadata": {},
   "source": [
    "## BPR Depth Difference plots (NEMO 2013- 2015)"
   ]
  },
  {
   "cell_type": "code",
   "execution_count": null,
   "metadata": {},
   "outputs": [],
   "source": [
    "%reset -f"
   ]
  },
  {
   "cell_type": "markdown",
   "metadata": {},
   "source": [
    "### API Information Setup"
   ]
  },
  {
   "cell_type": "code",
   "execution_count": null,
   "metadata": {},
   "outputs": [],
   "source": [
    "import pandas as pd\n",
    "import hvplot.pandas\n",
    "import numpy as np\n",
    "import matplotlib.dates as dates\n",
    "import warnings\n",
    "warnings.filterwarnings('ignore')"
   ]
  },
  {
   "cell_type": "markdown",
   "metadata": {},
   "source": [
    "### Nemo Center "
   ]
  },
  {
   "cell_type": "code",
   "execution_count": null,
   "metadata": {},
   "outputs": [],
   "source": [
    "!head /home/jovyan/data/bpr/Axial_Deformation/nemo2013-2015-BPR-Center-15sec-driftcorr-detided-lpf.txt"
   ]
  },
  {
   "cell_type": "code",
   "execution_count": null,
   "metadata": {},
   "outputs": [],
   "source": [
    "bpr_file = '/home/jovyan/data/bpr/Axial_Deformation/nemo2013-2015-BPR-Center-15sec-driftcorr-detided-lpf.txt'"
   ]
  },
  {
   "cell_type": "code",
   "execution_count": null,
   "metadata": {},
   "outputs": [],
   "source": [
    "import datetime\n",
    "def dateparse (date_string):\n",
    "    return datetime.datetime.strptime(date_string, '%m/%d/%Y %H:%M:%S')"
   ]
  },
  {
   "cell_type": "code",
   "execution_count": null,
   "metadata": {},
   "outputs": [],
   "source": [
    "df_nemoC = pd.read_csv(bpr_file, parse_dates=True, date_parser=dateparse, index_col='Date',\n",
    "                       dtype = {'Date': object,'RawDep': np.float64,\n",
    "                                'Temp': np.float64, 'DriftCorrRawDep': np.float64,\n",
    "                                'SpotlDep': np.float64, 'DriftCorrSpotlDep': np.float64,\n",
    "                                'LPFDep,DriftCorrLPFDep': np.float64})"
   ]
  },
  {
   "cell_type": "code",
   "execution_count": null,
   "metadata": {},
   "outputs": [],
   "source": [
    "df_nemoC.head()"
   ]
  },
  {
   "cell_type": "code",
   "execution_count": null,
   "metadata": {},
   "outputs": [],
   "source": [
    "df_nemoC.hvplot.scatter(x='Date', y= ['DriftCorrRawDep', 'DriftCorrSpotlDep', 'DriftCorrLPFDep'], subplots= True, datashade=True, flip_yaxis=True).cols(1)"
   ]
  },
  {
   "cell_type": "markdown",
   "metadata": {},
   "source": [
    "### Nemo South"
   ]
  },
  {
   "cell_type": "code",
   "execution_count": null,
   "metadata": {},
   "outputs": [],
   "source": [
    "bpr_file = '/home/jovyan/data/bpr/Axial_Deformation/nemo2013-2015-BPR-South-1-15sec-driftcorr-detided-lpf.txt'\n",
    "df_nemoS = pd.read_csv(bpr_file, parse_dates=True, date_parser=dateparse, index_col='Date',\n",
    "                       dtype = {'Date': object,'RawDep': np.float64,\n",
    "                                'Temp': np.float64, 'DriftCorrRawDep': np.float64,\n",
    "                                'SpotlDep': np.float64, 'DriftCorrSpotlDep': np.float64,\n",
    "                                'LPFDep,DriftCorrLPFDep': np.float64})"
   ]
  },
  {
   "cell_type": "code",
   "execution_count": null,
   "metadata": {},
   "outputs": [],
   "source": [
    "df_nemoS.hvplot.scatter(x='Date', y= ['DriftCorrRawDep', 'DriftCorrSpotlDep', 'DriftCorrLPFDep'], subplots= True, datashade=True, flip_yaxis=True).cols(1)"
   ]
  },
  {
   "cell_type": "markdown",
   "metadata": {},
   "source": [
    "### Difference plot: Central - South "
   ]
  },
  {
   "cell_type": "code",
   "execution_count": null,
   "metadata": {},
   "outputs": [],
   "source": [
    "test = pd.merge(df_nemoC, df_nemoS,how='outer', indicator=True, left_index=True, right_index=True, suffixes=('_C', '_S'))"
   ]
  },
  {
   "cell_type": "code",
   "execution_count": null,
   "metadata": {},
   "outputs": [],
   "source": [
    "df_nemoMerge = test[test['_merge'] == 'both']\n",
    "del df_nemoMerge['_merge']"
   ]
  },
  {
   "cell_type": "code",
   "execution_count": null,
   "metadata": {},
   "outputs": [],
   "source": [
    "df_nemoMerge.head()"
   ]
  },
  {
   "cell_type": "markdown",
   "metadata": {},
   "source": [
    "#### Calculate Depth difference "
   ]
  },
  {
   "cell_type": "code",
   "execution_count": null,
   "metadata": {},
   "outputs": [],
   "source": [
    "depthDiff = df_nemoMerge['DriftCorrRawDep_C'].values - df_nemoMerge['DriftCorrRawDep_S'].values"
   ]
  },
  {
   "cell_type": "code",
   "execution_count": null,
   "metadata": {},
   "outputs": [],
   "source": [
    "df_nemoMerge['diff'] = depthDiff"
   ]
  },
  {
   "cell_type": "code",
   "execution_count": null,
   "metadata": {},
   "outputs": [],
   "source": [
    "df_nemoMerge.hvplot.scatter(x='Date', y='diff', datashade=True, flip_yaxis=True)"
   ]
  },
  {
   "cell_type": "markdown",
   "metadata": {},
   "source": [
    "### Clean up dataframe"
   ]
  },
  {
   "cell_type": "code",
   "execution_count": null,
   "metadata": {},
   "outputs": [],
   "source": [
    "df_nemoMean=df_nemoMerge.groupby(df_nemoMerge.index.date).mean()\n",
    "del df_nemoMean['RawDep_C']\n",
    "del df_nemoMean['Temp_C']\n",
    "del df_nemoMean['DriftCorrRawDep_C']\n",
    "del df_nemoMean['SpotlDep_C']\n",
    "del df_nemoMean['DriftCorrSpotlDep_C']\n",
    "del df_nemoMean['LPFDep_C']\n",
    "del df_nemoMean['RawDep_S']\n",
    "del df_nemoMean['Temp_S']\n",
    "del df_nemoMean['DriftCorrRawDep_S']\n",
    "del df_nemoMean['SpotlDep_S']\n",
    "del df_nemoMean['DriftCorrSpotlDep_S']\n",
    "del df_nemoMean['LPFDep_S']\n",
    "df_nemoMean.head()"
   ]
  },
  {
   "cell_type": "code",
   "execution_count": null,
   "metadata": {},
   "outputs": [],
   "source": []
  }
 ],
 "metadata": {
  "kernelspec": {
   "display_name": "Python 3",
   "language": "python",
   "name": "python3"
  },
  "language_info": {
   "codemirror_mode": {
    "name": "ipython",
    "version": 3
   },
   "file_extension": ".py",
   "mimetype": "text/x-python",
   "name": "python",
   "nbconvert_exporter": "python",
   "pygments_lexer": "ipython3",
   "version": "3.6.6"
  }
 },
 "nbformat": 4,
 "nbformat_minor": 2
}
