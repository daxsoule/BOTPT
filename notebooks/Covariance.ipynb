{
 "cells": [
  {
   "cell_type": "code",
   "execution_count": 21,
   "metadata": {},
   "outputs": [],
   "source": [
    "import xarray as xr\n",
    "import pandas as pd\n",
    "import numpy as np\n",
    "import datetime\n",
    "import os\n",
    "import matplotlib.pyplot as plt\n",
    "import matplotlib.dates as dates\n",
    "from matplotlib import pyplot\n",
    "from pylab import rcParams\n",
    "import pickle as pk\n",
    "import gc\n",
    "import requests \n",
    "import matplotlib.gridspec as gridspec\n",
    "import netCDF4 as nc\n",
    "import hvplot\n",
    "import hvplot.pandas\n",
    "import hvplot.xarray\n",
    "import holoviews as hv\n",
    "from holoviews import opts"
   ]
  },
  {
   "cell_type": "code",
   "execution_count": 22,
   "metadata": {},
   "outputs": [
    {
     "data": {
      "text/html": [
       "<img src=\"https://cdn-images-1.medium.com/max/800/1*w-05-YnuJMl84KMSRw1J2g.png\"/>"
      ],
      "text/plain": [
       "<IPython.core.display.Image object>"
      ]
     },
     "execution_count": 22,
     "metadata": {},
     "output_type": "execute_result"
    }
   ],
   "source": [
    "from IPython.display import Image\n",
    "Image(url = \"https://cdn-images-1.medium.com/max/800/1*w-05-YnuJMl84KMSRw1J2g.png\")"
   ]
  },
  {
   "cell_type": "markdown",
   "metadata": {},
   "source": [
    "Covariance is scale-dependent. "
   ]
  },
  {
   "cell_type": "markdown",
   "metadata": {},
   "source": [
    "#### Pearson's Corellation Coefficient"
   ]
  },
  {
   "cell_type": "code",
   "execution_count": 23,
   "metadata": {},
   "outputs": [
    {
     "name": "stdout",
     "output_type": "stream",
     "text": [
      "-2.5\n"
     ]
    }
   ],
   "source": [
    "def mean(x):\n",
    "    return sum(x)/len(x)\n",
    "\n",
    "def covariance(x,y):\n",
    "    calc = []\n",
    "    for i in range(len(x)):\n",
    "        xi = x[i] - mean(x)\n",
    "        yi = y[i] - mean(y)\n",
    "        calc.append(xi * yi)\n",
    "    return sum(calc)/(len(x) - 1)\n",
    "    \n",
    "a = [1,2,3,4,5] ; b = [5,4,3,2,1]\n",
    "print(covariance(a,b))"
   ]
  },
  {
   "cell_type": "markdown",
   "metadata": {},
   "source": [
    "#### Normalizing covariance"
   ]
  },
  {
   "cell_type": "code",
   "execution_count": 24,
   "metadata": {},
   "outputs": [],
   "source": [
    "import math\n",
    "\n",
    "def stDev(x):\n",
    "    variance = 0\n",
    "    for i in x:\n",
    "        variance += (i - mean(x) ** 2) / len(x)\n",
    "    return math.sqrt(variance)\n",
    "    \n",
    "def Pearsons(x,y):\n",
    "    cov = covariance(x,y)\n",
    "    return cov / (stDev(x) * stDev(y))"
   ]
  },
  {
   "cell_type": "markdown",
   "metadata": {},
   "source": [
    "#### Import Seismic Data "
   ]
  },
  {
   "cell_type": "code",
   "execution_count": 25,
   "metadata": {},
   "outputs": [],
   "source": [
    "seismic_file = '/home/jovyan/data/hypo71.dat.txt'\n",
    "df_seismic_data = pd.read_csv(seismic_file, delim_whitespace=True, dtype=object)\n",
    "df_seismic_data['datetime'] = df_seismic_data['yyyymmdd'] + 'T' + \\\n",
    "            df_seismic_data['HHMM'].str.slice(start=0, stop=2) + ':' + \\\n",
    "            df_seismic_data['HHMM'].str.slice(start=2) \n",
    "df_seismic_data.index = pd.to_datetime(df_seismic_data['datetime'].values)\n",
    "df_seismic_data['datetime'] = pd.to_datetime(df_seismic_data['datetime'].values)\n",
    "df_seismic_data = df_seismic_data.loc['2017-01-1 00:00:00':'2019-06-17 00:00:00']\n",
    "df_seismic_data.head()\n",
    "# del df_seismic_data['yyyymmdd']\n",
    "# del df_seismic_data['HHMM']\n",
    "del df_seismic_data['Lon(D']\n",
    "# del df_seismic_data['SSS.SS']\n",
    "# del df_seismic_data['Depth']\n",
    "del df_seismic_data['M)']\n",
    "del df_seismic_data['M).1']\n",
    "del df_seismic_data['NWR']\n",
    "del df_seismic_data['GAP']\n",
    "del df_seismic_data['DMIN']\n",
    "del df_seismic_data['ERH']\n",
    "del df_seismic_data['ERZ']\n",
    "del df_seismic_data['ID']\n",
    "del df_seismic_data['Lat(D']\n",
    "del df_seismic_data['PMom']\n",
    "del df_seismic_data['SMom']\n",
    "df_seismic_data['Depth'] = df_seismic_data['Depth'].astype('float64').values\n",
    "df_seismic_data['MW'] = df_seismic_data['MW'].astype('float64').values\n",
    "df_seismic_data['RMS'] = df_seismic_data['RMS'].astype('float64').values"
   ]
  },
  {
   "cell_type": "code",
   "execution_count": 26,
   "metadata": {},
   "outputs": [
    {
     "data": {
      "text/html": [
       "<div>\n",
       "<style scoped>\n",
       "    .dataframe tbody tr th:only-of-type {\n",
       "        vertical-align: middle;\n",
       "    }\n",
       "\n",
       "    .dataframe tbody tr th {\n",
       "        vertical-align: top;\n",
       "    }\n",
       "\n",
       "    .dataframe thead th {\n",
       "        text-align: right;\n",
       "    }\n",
       "</style>\n",
       "<table border=\"1\" class=\"dataframe\">\n",
       "  <thead>\n",
       "    <tr style=\"text-align: right;\">\n",
       "      <th></th>\n",
       "      <th>yyyymmdd</th>\n",
       "      <th>HHMM</th>\n",
       "      <th>SSS.SS</th>\n",
       "      <th>Depth</th>\n",
       "      <th>MW</th>\n",
       "      <th>RMS</th>\n",
       "      <th>datetime</th>\n",
       "      <th>date</th>\n",
       "    </tr>\n",
       "  </thead>\n",
       "  <tbody>\n",
       "    <tr>\n",
       "      <th>2019-06-13 22:51:00</th>\n",
       "      <td>20190613</td>\n",
       "      <td>2251</td>\n",
       "      <td>38.04</td>\n",
       "      <td>1.58</td>\n",
       "      <td>0.65</td>\n",
       "      <td>0.02</td>\n",
       "      <td>2019-06-13 22:51:00</td>\n",
       "      <td>2019-06-13</td>\n",
       "    </tr>\n",
       "    <tr>\n",
       "      <th>2019-06-14 08:06:00</th>\n",
       "      <td>20190614</td>\n",
       "      <td>0806</td>\n",
       "      <td>0.73</td>\n",
       "      <td>0.61</td>\n",
       "      <td>0.34</td>\n",
       "      <td>0.04</td>\n",
       "      <td>2019-06-14 08:06:00</td>\n",
       "      <td>2019-06-14</td>\n",
       "    </tr>\n",
       "    <tr>\n",
       "      <th>2019-06-14 14:34:00</th>\n",
       "      <td>20190614</td>\n",
       "      <td>1434</td>\n",
       "      <td>18.36</td>\n",
       "      <td>0.70</td>\n",
       "      <td>0.25</td>\n",
       "      <td>0.01</td>\n",
       "      <td>2019-06-14 14:34:00</td>\n",
       "      <td>2019-06-14</td>\n",
       "    </tr>\n",
       "    <tr>\n",
       "      <th>2019-06-14 22:26:00</th>\n",
       "      <td>20190614</td>\n",
       "      <td>2226</td>\n",
       "      <td>27.48</td>\n",
       "      <td>0.83</td>\n",
       "      <td>0.34</td>\n",
       "      <td>0.01</td>\n",
       "      <td>2019-06-14 22:26:00</td>\n",
       "      <td>2019-06-14</td>\n",
       "    </tr>\n",
       "    <tr>\n",
       "      <th>2019-06-16 16:45:00</th>\n",
       "      <td>20190616</td>\n",
       "      <td>1645</td>\n",
       "      <td>2.57</td>\n",
       "      <td>1.48</td>\n",
       "      <td>0.62</td>\n",
       "      <td>0.04</td>\n",
       "      <td>2019-06-16 16:45:00</td>\n",
       "      <td>2019-06-16</td>\n",
       "    </tr>\n",
       "  </tbody>\n",
       "</table>\n",
       "</div>"
      ],
      "text/plain": [
       "                     yyyymmdd  HHMM SSS.SS  Depth    MW   RMS  \\\n",
       "2019-06-13 22:51:00  20190613  2251  38.04   1.58  0.65  0.02   \n",
       "2019-06-14 08:06:00  20190614  0806   0.73   0.61  0.34  0.04   \n",
       "2019-06-14 14:34:00  20190614  1434  18.36   0.70  0.25  0.01   \n",
       "2019-06-14 22:26:00  20190614  2226  27.48   0.83  0.34  0.01   \n",
       "2019-06-16 16:45:00  20190616  1645   2.57   1.48  0.62  0.04   \n",
       "\n",
       "                               datetime        date  \n",
       "2019-06-13 22:51:00 2019-06-13 22:51:00  2019-06-13  \n",
       "2019-06-14 08:06:00 2019-06-14 08:06:00  2019-06-14  \n",
       "2019-06-14 14:34:00 2019-06-14 14:34:00  2019-06-14  \n",
       "2019-06-14 22:26:00 2019-06-14 22:26:00  2019-06-14  \n",
       "2019-06-16 16:45:00 2019-06-16 16:45:00  2019-06-16  "
      ]
     },
     "execution_count": 26,
     "metadata": {},
     "output_type": "execute_result"
    }
   ],
   "source": [
    "df_seismic_data.datetime.astype(np.int64).values/1e64\n",
    "df_seismic_data['date'] =pd.DatetimeIndex(df_seismic_data.datetime).date\n",
    "df_seismic_data.tail()"
   ]
  },
  {
   "cell_type": "markdown",
   "metadata": {},
   "source": [
    "### MW Average"
   ]
  },
  {
   "cell_type": "code",
   "execution_count": 27,
   "metadata": {},
   "outputs": [
    {
     "data": {
      "text/plain": [
       "(0.6170656145739554, 1.1020784791357765)"
      ]
     },
     "execution_count": 27,
     "metadata": {},
     "output_type": "execute_result"
    }
   ],
   "source": [
    "# values = make_array(2, 3, 3, 9)\n",
    "# MW = make_array(df_seismic_data['MW'])\n",
    "mw = df_seismic_data['MW']\n",
    "depth = df_seismic_data['Depth']\n",
    "average = mw.mean(), depth.mean()\n",
    "mw_average = mw.mean()\n",
    "depth_average = depth.mean()\n",
    "# mw_average\n",
    "average"
   ]
  },
  {
   "cell_type": "markdown",
   "metadata": {},
   "source": [
    "### MW Histogram"
   ]
  },
  {
   "cell_type": "code",
   "execution_count": 28,
   "metadata": {},
   "outputs": [
    {
     "data": {
      "text/plain": [
       "array([[<matplotlib.axes._subplots.AxesSubplot object at 0x7f0e144d9710>]],\n",
       "      dtype=object)"
      ]
     },
     "execution_count": 28,
     "metadata": {},
     "output_type": "execute_result"
    },
    {
     "data": {
      "image/png": "[encoded data removed]",
      "text/plain": [
       "<Figure size 432x288 with 1 Axes>"
      ]
     },
     "metadata": {
      "needs_background": "light"
     },
     "output_type": "display_data"
    }
   ],
   "source": [
    "df_seismic_data.hist('MW', ec='w')\n",
    "# df_seismis_data.hist('MW', bins=np.arange(65.5, 90.5), ec='w')\n",
    "# nba.hist('Height', bins=np.arange(65.5, 90.5), ec='w')"
   ]
  },
  {
   "cell_type": "code",
   "execution_count": 29,
   "metadata": {},
   "outputs": [
    {
     "data": {
      "text/html": [
       "<div>\n",
       "<style scoped>\n",
       "    .dataframe tbody tr th:only-of-type {\n",
       "        vertical-align: middle;\n",
       "    }\n",
       "\n",
       "    .dataframe tbody tr th {\n",
       "        vertical-align: top;\n",
       "    }\n",
       "\n",
       "    .dataframe thead th {\n",
       "        text-align: right;\n",
       "    }\n",
       "</style>\n",
       "<table border=\"1\" class=\"dataframe\">\n",
       "  <thead>\n",
       "    <tr style=\"text-align: right;\">\n",
       "      <th></th>\n",
       "      <th>yyyymmdd</th>\n",
       "      <th>HHMM</th>\n",
       "      <th>SSS.SS</th>\n",
       "      <th>Depth</th>\n",
       "      <th>MW</th>\n",
       "      <th>RMS</th>\n",
       "      <th>datetime</th>\n",
       "      <th>date</th>\n",
       "      <th>MW Dev</th>\n",
       "      <th>Depth Dev</th>\n",
       "    </tr>\n",
       "  </thead>\n",
       "  <tbody>\n",
       "    <tr>\n",
       "      <th>2017-01-01 02:15:00</th>\n",
       "      <td>20170101</td>\n",
       "      <td>0215</td>\n",
       "      <td>31.68</td>\n",
       "      <td>0.51</td>\n",
       "      <td>0.13</td>\n",
       "      <td>0.02</td>\n",
       "      <td>2017-01-01 02:15:00</td>\n",
       "      <td>2017-01-01</td>\n",
       "      <td>-0.487066</td>\n",
       "      <td>-0.592078</td>\n",
       "    </tr>\n",
       "    <tr>\n",
       "      <th>2017-01-01 02:36:00</th>\n",
       "      <td>20170101</td>\n",
       "      <td>0236</td>\n",
       "      <td>35.66</td>\n",
       "      <td>1.09</td>\n",
       "      <td>-0.02</td>\n",
       "      <td>0.01</td>\n",
       "      <td>2017-01-01 02:36:00</td>\n",
       "      <td>2017-01-01</td>\n",
       "      <td>-0.637066</td>\n",
       "      <td>-0.012078</td>\n",
       "    </tr>\n",
       "    <tr>\n",
       "      <th>2017-01-01 05:31:00</th>\n",
       "      <td>20170101</td>\n",
       "      <td>0531</td>\n",
       "      <td>15.63</td>\n",
       "      <td>0.93</td>\n",
       "      <td>0.06</td>\n",
       "      <td>0.02</td>\n",
       "      <td>2017-01-01 05:31:00</td>\n",
       "      <td>2017-01-01</td>\n",
       "      <td>-0.557066</td>\n",
       "      <td>-0.172078</td>\n",
       "    </tr>\n",
       "    <tr>\n",
       "      <th>2017-01-02 17:11:00</th>\n",
       "      <td>20170102</td>\n",
       "      <td>1711</td>\n",
       "      <td>2.71</td>\n",
       "      <td>0.56</td>\n",
       "      <td>-0.03</td>\n",
       "      <td>0.03</td>\n",
       "      <td>2017-01-02 17:11:00</td>\n",
       "      <td>2017-01-02</td>\n",
       "      <td>-0.647066</td>\n",
       "      <td>-0.542078</td>\n",
       "    </tr>\n",
       "    <tr>\n",
       "      <th>2017-01-04 01:48:00</th>\n",
       "      <td>20170104</td>\n",
       "      <td>0148</td>\n",
       "      <td>37.13</td>\n",
       "      <td>1.57</td>\n",
       "      <td>0.71</td>\n",
       "      <td>0.02</td>\n",
       "      <td>2017-01-04 01:48:00</td>\n",
       "      <td>2017-01-04</td>\n",
       "      <td>0.092934</td>\n",
       "      <td>0.467922</td>\n",
       "    </tr>\n",
       "  </tbody>\n",
       "</table>\n",
       "</div>"
      ],
      "text/plain": [
       "                     yyyymmdd  HHMM SSS.SS  Depth    MW   RMS  \\\n",
       "2017-01-01 02:15:00  20170101  0215  31.68   0.51  0.13  0.02   \n",
       "2017-01-01 02:36:00  20170101  0236  35.66   1.09 -0.02  0.01   \n",
       "2017-01-01 05:31:00  20170101  0531  15.63   0.93  0.06  0.02   \n",
       "2017-01-02 17:11:00  20170102  1711   2.71   0.56 -0.03  0.03   \n",
       "2017-01-04 01:48:00  20170104  0148  37.13   1.57  0.71  0.02   \n",
       "\n",
       "                               datetime        date    MW Dev  Depth Dev  \n",
       "2017-01-01 02:15:00 2017-01-01 02:15:00  2017-01-01 -0.487066  -0.592078  \n",
       "2017-01-01 02:36:00 2017-01-01 02:36:00  2017-01-01 -0.637066  -0.012078  \n",
       "2017-01-01 05:31:00 2017-01-01 05:31:00  2017-01-01 -0.557066  -0.172078  \n",
       "2017-01-02 17:11:00 2017-01-02 17:11:00  2017-01-02 -0.647066  -0.542078  \n",
       "2017-01-04 01:48:00 2017-01-04 01:48:00  2017-01-04  0.092934   0.467922  "
      ]
     },
     "execution_count": 29,
     "metadata": {},
     "output_type": "execute_result"
    }
   ],
   "source": [
    "deviations_mw = mw - mw_average\n",
    "deviations_depth = depth - depth_average\n",
    "df_seismic_data['MW Dev'] = deviations_mw\n",
    "df_seismic_data['Depth Dev'] = deviations_depth\n",
    "df_seismic_data.head(5)"
   ]
  },
  {
   "cell_type": "code",
   "execution_count": 30,
   "metadata": {},
   "outputs": [
    {
     "data": {
      "text/plain": [
       "8.952838470577262e-13"
      ]
     },
     "execution_count": 30,
     "metadata": {},
     "output_type": "execute_result"
    }
   ],
   "source": [
    "# Sum of deviations should equal to zero\n",
    "deviations_mw.sum()"
   ]
  },
  {
   "cell_type": "code",
   "execution_count": 31,
   "metadata": {},
   "outputs": [
    {
     "data": {
      "text/html": [
       "<div>\n",
       "<style scoped>\n",
       "    .dataframe tbody tr th:only-of-type {\n",
       "        vertical-align: middle;\n",
       "    }\n",
       "\n",
       "    .dataframe tbody tr th {\n",
       "        vertical-align: top;\n",
       "    }\n",
       "\n",
       "    .dataframe thead th {\n",
       "        text-align: right;\n",
       "    }\n",
       "</style>\n",
       "<table border=\"1\" class=\"dataframe\">\n",
       "  <thead>\n",
       "    <tr style=\"text-align: right;\">\n",
       "      <th></th>\n",
       "      <th>yyyymmdd</th>\n",
       "      <th>HHMM</th>\n",
       "      <th>SSS.SS</th>\n",
       "      <th>Depth</th>\n",
       "      <th>MW</th>\n",
       "      <th>RMS</th>\n",
       "      <th>datetime</th>\n",
       "      <th>date</th>\n",
       "      <th>MW Dev</th>\n",
       "      <th>Depth Dev</th>\n",
       "      <th>MW Squared Deviation</th>\n",
       "    </tr>\n",
       "  </thead>\n",
       "  <tbody>\n",
       "    <tr>\n",
       "      <th>2017-01-01 02:15:00</th>\n",
       "      <td>20170101</td>\n",
       "      <td>0215</td>\n",
       "      <td>31.68</td>\n",
       "      <td>0.51</td>\n",
       "      <td>0.13</td>\n",
       "      <td>0.02</td>\n",
       "      <td>2017-01-01 02:15:00</td>\n",
       "      <td>2017-01-01</td>\n",
       "      <td>-0.487066</td>\n",
       "      <td>-0.592078</td>\n",
       "      <td>0.237233</td>\n",
       "    </tr>\n",
       "    <tr>\n",
       "      <th>2017-01-01 02:36:00</th>\n",
       "      <td>20170101</td>\n",
       "      <td>0236</td>\n",
       "      <td>35.66</td>\n",
       "      <td>1.09</td>\n",
       "      <td>-0.02</td>\n",
       "      <td>0.01</td>\n",
       "      <td>2017-01-01 02:36:00</td>\n",
       "      <td>2017-01-01</td>\n",
       "      <td>-0.637066</td>\n",
       "      <td>-0.012078</td>\n",
       "      <td>0.405853</td>\n",
       "    </tr>\n",
       "    <tr>\n",
       "      <th>2017-01-01 05:31:00</th>\n",
       "      <td>20170101</td>\n",
       "      <td>0531</td>\n",
       "      <td>15.63</td>\n",
       "      <td>0.93</td>\n",
       "      <td>0.06</td>\n",
       "      <td>0.02</td>\n",
       "      <td>2017-01-01 05:31:00</td>\n",
       "      <td>2017-01-01</td>\n",
       "      <td>-0.557066</td>\n",
       "      <td>-0.172078</td>\n",
       "      <td>0.310322</td>\n",
       "    </tr>\n",
       "    <tr>\n",
       "      <th>2017-01-02 17:11:00</th>\n",
       "      <td>20170102</td>\n",
       "      <td>1711</td>\n",
       "      <td>2.71</td>\n",
       "      <td>0.56</td>\n",
       "      <td>-0.03</td>\n",
       "      <td>0.03</td>\n",
       "      <td>2017-01-02 17:11:00</td>\n",
       "      <td>2017-01-02</td>\n",
       "      <td>-0.647066</td>\n",
       "      <td>-0.542078</td>\n",
       "      <td>0.418694</td>\n",
       "    </tr>\n",
       "    <tr>\n",
       "      <th>2017-01-04 01:48:00</th>\n",
       "      <td>20170104</td>\n",
       "      <td>0148</td>\n",
       "      <td>37.13</td>\n",
       "      <td>1.57</td>\n",
       "      <td>0.71</td>\n",
       "      <td>0.02</td>\n",
       "      <td>2017-01-04 01:48:00</td>\n",
       "      <td>2017-01-04</td>\n",
       "      <td>0.092934</td>\n",
       "      <td>0.467922</td>\n",
       "      <td>0.008637</td>\n",
       "    </tr>\n",
       "  </tbody>\n",
       "</table>\n",
       "</div>"
      ],
      "text/plain": [
       "                     yyyymmdd  HHMM SSS.SS  Depth    MW   RMS  \\\n",
       "2017-01-01 02:15:00  20170101  0215  31.68   0.51  0.13  0.02   \n",
       "2017-01-01 02:36:00  20170101  0236  35.66   1.09 -0.02  0.01   \n",
       "2017-01-01 05:31:00  20170101  0531  15.63   0.93  0.06  0.02   \n",
       "2017-01-02 17:11:00  20170102  1711   2.71   0.56 -0.03  0.03   \n",
       "2017-01-04 01:48:00  20170104  0148  37.13   1.57  0.71  0.02   \n",
       "\n",
       "                               datetime        date    MW Dev  Depth Dev  \\\n",
       "2017-01-01 02:15:00 2017-01-01 02:15:00  2017-01-01 -0.487066  -0.592078   \n",
       "2017-01-01 02:36:00 2017-01-01 02:36:00  2017-01-01 -0.637066  -0.012078   \n",
       "2017-01-01 05:31:00 2017-01-01 05:31:00  2017-01-01 -0.557066  -0.172078   \n",
       "2017-01-02 17:11:00 2017-01-02 17:11:00  2017-01-02 -0.647066  -0.542078   \n",
       "2017-01-04 01:48:00 2017-01-04 01:48:00  2017-01-04  0.092934   0.467922   \n",
       "\n",
       "                     MW Squared Deviation  \n",
       "2017-01-01 02:15:00              0.237233  \n",
       "2017-01-01 02:36:00              0.405853  \n",
       "2017-01-01 05:31:00              0.310322  \n",
       "2017-01-02 17:11:00              0.418694  \n",
       "2017-01-04 01:48:00              0.008637  "
      ]
     },
     "execution_count": 31,
     "metadata": {},
     "output_type": "execute_result"
    }
   ],
   "source": [
    "sqdev_mw = deviations_mw ** 2\n",
    "df_seismic_data['MW Squared Deviation'] = sqdev_mw\n",
    "df_seismic_data.head(5)"
   ]
  },
  {
   "cell_type": "markdown",
   "metadata": {},
   "source": [
    "#### MW Variance"
   ]
  },
  {
   "cell_type": "code",
   "execution_count": 32,
   "metadata": {},
   "outputs": [
    {
     "data": {
      "text/plain": [
       "0.11312732646843948"
      ]
     },
     "execution_count": 32,
     "metadata": {},
     "output_type": "execute_result"
    }
   ],
   "source": [
    "# Variance of the data is the average of the squared deviations\n",
    "variance_mw = sqdev_mw.mean()\n",
    "variance_mw"
   ]
  },
  {
   "cell_type": "markdown",
   "metadata": {},
   "source": [
    "#### MW STDEV"
   ]
  },
  {
   "cell_type": "code",
   "execution_count": 33,
   "metadata": {},
   "outputs": [
    {
     "data": {
      "text/plain": [
       "0.3363440596598065"
      ]
     },
     "execution_count": 33,
     "metadata": {},
     "output_type": "execute_result"
    }
   ],
   "source": [
    "# Standard Deviation (SD) is the square root of the variance\n",
    "\n",
    "sd_mw = variance_mw ** 0.5\n",
    "sd_mw"
   ]
  },
  {
   "cell_type": "markdown",
   "metadata": {},
   "source": [
    "#### Depth vs MW"
   ]
  },
  {
   "cell_type": "code",
   "execution_count": 34,
   "metadata": {},
   "outputs": [
    {
     "data": {
      "image/png": "[encoded data removed]",
      "text/plain": [
       "<Figure size 432x288 with 1 Axes>"
      ]
     },
     "metadata": {
      "needs_background": "light"
     },
     "output_type": "display_data"
    }
   ],
   "source": [
    "ax1 = df_seismic_data.plot.scatter(x='MW',\n",
    "                                  y='Depth')\n",
    "plt.savefig('/home/jovyan/botpt/figures/mwvsdepth.png')"
   ]
  },
  {
   "cell_type": "code",
   "execution_count": 38,
   "metadata": {},
   "outputs": [
    {
     "data": {
      "text/html": [
       "<div>\n",
       "<style scoped>\n",
       "    .dataframe tbody tr th:only-of-type {\n",
       "        vertical-align: middle;\n",
       "    }\n",
       "\n",
       "    .dataframe tbody tr th {\n",
       "        vertical-align: top;\n",
       "    }\n",
       "\n",
       "    .dataframe thead th {\n",
       "        text-align: right;\n",
       "    }\n",
       "</style>\n",
       "<table border=\"1\" class=\"dataframe\">\n",
       "  <thead>\n",
       "    <tr style=\"text-align: right;\">\n",
       "      <th></th>\n",
       "      <th>Depth</th>\n",
       "      <th>MW</th>\n",
       "      <th>RMS</th>\n",
       "      <th>MW Dev</th>\n",
       "      <th>Depth Dev</th>\n",
       "      <th>MW Squared Deviation</th>\n",
       "    </tr>\n",
       "    <tr>\n",
       "      <th>date</th>\n",
       "      <th></th>\n",
       "      <th></th>\n",
       "      <th></th>\n",
       "      <th></th>\n",
       "      <th></th>\n",
       "      <th></th>\n",
       "    </tr>\n",
       "  </thead>\n",
       "  <tbody>\n",
       "    <tr>\n",
       "      <th>2019-06-11</th>\n",
       "      <td>1.667500</td>\n",
       "      <td>0.53</td>\n",
       "      <td>0.0225</td>\n",
       "      <td>-0.087066</td>\n",
       "      <td>0.565422</td>\n",
       "      <td>0.014430</td>\n",
       "    </tr>\n",
       "    <tr>\n",
       "      <th>2019-06-12</th>\n",
       "      <td>1.200000</td>\n",
       "      <td>0.63</td>\n",
       "      <td>0.0200</td>\n",
       "      <td>0.012934</td>\n",
       "      <td>0.097922</td>\n",
       "      <td>0.000167</td>\n",
       "    </tr>\n",
       "    <tr>\n",
       "      <th>2019-06-13</th>\n",
       "      <td>1.580000</td>\n",
       "      <td>0.65</td>\n",
       "      <td>0.0200</td>\n",
       "      <td>0.032934</td>\n",
       "      <td>0.477922</td>\n",
       "      <td>0.001085</td>\n",
       "    </tr>\n",
       "    <tr>\n",
       "      <th>2019-06-14</th>\n",
       "      <td>0.713333</td>\n",
       "      <td>0.31</td>\n",
       "      <td>0.0200</td>\n",
       "      <td>-0.307066</td>\n",
       "      <td>-0.388745</td>\n",
       "      <td>0.096089</td>\n",
       "    </tr>\n",
       "    <tr>\n",
       "      <th>2019-06-16</th>\n",
       "      <td>1.480000</td>\n",
       "      <td>0.62</td>\n",
       "      <td>0.0400</td>\n",
       "      <td>0.002934</td>\n",
       "      <td>0.377922</td>\n",
       "      <td>0.000009</td>\n",
       "    </tr>\n",
       "  </tbody>\n",
       "</table>\n",
       "</div>"
      ],
      "text/plain": [
       "               Depth    MW     RMS    MW Dev  Depth Dev  MW Squared Deviation\n",
       "date                                                                         \n",
       "2019-06-11  1.667500  0.53  0.0225 -0.087066   0.565422              0.014430\n",
       "2019-06-12  1.200000  0.63  0.0200  0.012934   0.097922              0.000167\n",
       "2019-06-13  1.580000  0.65  0.0200  0.032934   0.477922              0.001085\n",
       "2019-06-14  0.713333  0.31  0.0200 -0.307066  -0.388745              0.096089\n",
       "2019-06-16  1.480000  0.62  0.0400  0.002934   0.377922              0.000009"
      ]
     },
     "execution_count": 38,
     "metadata": {},
     "output_type": "execute_result"
    }
   ],
   "source": [
    "df_eqMean=df_seismic_data.groupby('date').mean()\n",
    "df_eqCount= df_seismic_data.groupby('date').count()\n",
    "#del df_eqMean['datetime']\n",
    "#df_eqMean.columns.name = df_eqMean.index.name\n",
    "#df_eqMean.index.name = None\n",
    "df_eqMean.tail()"
   ]
  },
  {
   "cell_type": "code",
   "execution_count": 39,
   "metadata": {},
   "outputs": [
    {
     "data": {
      "text/html": [
       "<div>\n",
       "<style scoped>\n",
       "    .dataframe tbody tr th:only-of-type {\n",
       "        vertical-align: middle;\n",
       "    }\n",
       "\n",
       "    .dataframe tbody tr th {\n",
       "        vertical-align: top;\n",
       "    }\n",
       "\n",
       "    .dataframe thead th {\n",
       "        text-align: right;\n",
       "    }\n",
       "</style>\n",
       "<table border=\"1\" class=\"dataframe\">\n",
       "  <thead>\n",
       "    <tr style=\"text-align: right;\">\n",
       "      <th></th>\n",
       "      <th>yyyymmdd</th>\n",
       "      <th>HHMM</th>\n",
       "      <th>SSS.SS</th>\n",
       "      <th>Depth</th>\n",
       "      <th>MW</th>\n",
       "      <th>RMS</th>\n",
       "      <th>datetime</th>\n",
       "      <th>MW Dev</th>\n",
       "      <th>Depth Dev</th>\n",
       "      <th>MW Squared Deviation</th>\n",
       "      <th>count</th>\n",
       "    </tr>\n",
       "    <tr>\n",
       "      <th>date</th>\n",
       "      <th></th>\n",
       "      <th></th>\n",
       "      <th></th>\n",
       "      <th></th>\n",
       "      <th></th>\n",
       "      <th></th>\n",
       "      <th></th>\n",
       "      <th></th>\n",
       "      <th></th>\n",
       "      <th></th>\n",
       "      <th></th>\n",
       "    </tr>\n",
       "  </thead>\n",
       "  <tbody>\n",
       "    <tr>\n",
       "      <th>2017-01-01</th>\n",
       "      <td>3</td>\n",
       "      <td>3</td>\n",
       "      <td>3</td>\n",
       "      <td>3</td>\n",
       "      <td>3</td>\n",
       "      <td>3</td>\n",
       "      <td>3</td>\n",
       "      <td>3</td>\n",
       "      <td>3</td>\n",
       "      <td>3</td>\n",
       "      <td>3.0</td>\n",
       "    </tr>\n",
       "    <tr>\n",
       "      <th>2017-01-02</th>\n",
       "      <td>1</td>\n",
       "      <td>1</td>\n",
       "      <td>1</td>\n",
       "      <td>1</td>\n",
       "      <td>1</td>\n",
       "      <td>1</td>\n",
       "      <td>1</td>\n",
       "      <td>1</td>\n",
       "      <td>1</td>\n",
       "      <td>1</td>\n",
       "      <td>1.0</td>\n",
       "    </tr>\n",
       "    <tr>\n",
       "      <th>2017-01-04</th>\n",
       "      <td>6</td>\n",
       "      <td>6</td>\n",
       "      <td>6</td>\n",
       "      <td>6</td>\n",
       "      <td>6</td>\n",
       "      <td>6</td>\n",
       "      <td>6</td>\n",
       "      <td>6</td>\n",
       "      <td>6</td>\n",
       "      <td>6</td>\n",
       "      <td>6.0</td>\n",
       "    </tr>\n",
       "    <tr>\n",
       "      <th>2017-01-05</th>\n",
       "      <td>2</td>\n",
       "      <td>2</td>\n",
       "      <td>2</td>\n",
       "      <td>2</td>\n",
       "      <td>2</td>\n",
       "      <td>2</td>\n",
       "      <td>2</td>\n",
       "      <td>2</td>\n",
       "      <td>2</td>\n",
       "      <td>2</td>\n",
       "      <td>2.0</td>\n",
       "    </tr>\n",
       "    <tr>\n",
       "      <th>2017-01-06</th>\n",
       "      <td>4</td>\n",
       "      <td>4</td>\n",
       "      <td>4</td>\n",
       "      <td>4</td>\n",
       "      <td>4</td>\n",
       "      <td>4</td>\n",
       "      <td>4</td>\n",
       "      <td>4</td>\n",
       "      <td>4</td>\n",
       "      <td>4</td>\n",
       "      <td>4.0</td>\n",
       "    </tr>\n",
       "  </tbody>\n",
       "</table>\n",
       "</div>"
      ],
      "text/plain": [
       "            yyyymmdd  HHMM  SSS.SS  Depth  MW  RMS  datetime  MW Dev  \\\n",
       "date                                                                   \n",
       "2017-01-01         3     3       3      3   3    3         3       3   \n",
       "2017-01-02         1     1       1      1   1    1         1       1   \n",
       "2017-01-04         6     6       6      6   6    6         6       6   \n",
       "2017-01-05         2     2       2      2   2    2         2       2   \n",
       "2017-01-06         4     4       4      4   4    4         4       4   \n",
       "\n",
       "            Depth Dev  MW Squared Deviation  count  \n",
       "date                                                \n",
       "2017-01-01          3                     3    3.0  \n",
       "2017-01-02          1                     1    1.0  \n",
       "2017-01-04          6                     6    6.0  \n",
       "2017-01-05          2                     2    2.0  \n",
       "2017-01-06          4                     4    4.0  "
      ]
     },
     "execution_count": 39,
     "metadata": {},
     "output_type": "execute_result"
    }
   ],
   "source": [
    "# df_seismic_data['count'] = df_eqCount.datetime.astype('float64').values\n",
    "# df_seismic_data.head()\n",
    "df_eqCount['count'] = df_eqCount.datetime.astype('float64').values\n",
    "df_eqCount.head()"
   ]
  },
  {
   "cell_type": "code",
   "execution_count": 43,
   "metadata": {},
   "outputs": [
    {
     "data": {
      "text/html": [
       "<div>\n",
       "<style scoped>\n",
       "    .dataframe tbody tr th:only-of-type {\n",
       "        vertical-align: middle;\n",
       "    }\n",
       "\n",
       "    .dataframe tbody tr th {\n",
       "        vertical-align: top;\n",
       "    }\n",
       "\n",
       "    .dataframe thead th {\n",
       "        text-align: right;\n",
       "    }\n",
       "</style>\n",
       "<table border=\"1\" class=\"dataframe\">\n",
       "  <thead>\n",
       "    <tr style=\"text-align: right;\">\n",
       "      <th></th>\n",
       "      <th>Depth</th>\n",
       "      <th>MW</th>\n",
       "      <th>RMS</th>\n",
       "      <th>MW Dev</th>\n",
       "      <th>Depth Dev</th>\n",
       "      <th>MW Squared Deviation</th>\n",
       "      <th>count</th>\n",
       "    </tr>\n",
       "    <tr>\n",
       "      <th>date</th>\n",
       "      <th></th>\n",
       "      <th></th>\n",
       "      <th></th>\n",
       "      <th></th>\n",
       "      <th></th>\n",
       "      <th></th>\n",
       "      <th></th>\n",
       "    </tr>\n",
       "  </thead>\n",
       "  <tbody>\n",
       "    <tr>\n",
       "      <th>2017-01-01</th>\n",
       "      <td>0.843333</td>\n",
       "      <td>0.056667</td>\n",
       "      <td>0.016667</td>\n",
       "      <td>-0.560399</td>\n",
       "      <td>-0.258745</td>\n",
       "      <td>0.317803</td>\n",
       "      <td>3.0</td>\n",
       "    </tr>\n",
       "    <tr>\n",
       "      <th>2017-01-02</th>\n",
       "      <td>0.560000</td>\n",
       "      <td>-0.030000</td>\n",
       "      <td>0.030000</td>\n",
       "      <td>-0.647066</td>\n",
       "      <td>-0.542078</td>\n",
       "      <td>0.418694</td>\n",
       "      <td>1.0</td>\n",
       "    </tr>\n",
       "    <tr>\n",
       "      <th>2017-01-04</th>\n",
       "      <td>1.281667</td>\n",
       "      <td>0.308333</td>\n",
       "      <td>0.030000</td>\n",
       "      <td>-0.308732</td>\n",
       "      <td>0.179588</td>\n",
       "      <td>0.162430</td>\n",
       "      <td>6.0</td>\n",
       "    </tr>\n",
       "    <tr>\n",
       "      <th>2017-01-05</th>\n",
       "      <td>1.390000</td>\n",
       "      <td>0.540000</td>\n",
       "      <td>0.035000</td>\n",
       "      <td>-0.077066</td>\n",
       "      <td>0.287922</td>\n",
       "      <td>0.090039</td>\n",
       "      <td>2.0</td>\n",
       "    </tr>\n",
       "    <tr>\n",
       "      <th>2017-01-06</th>\n",
       "      <td>1.422500</td>\n",
       "      <td>0.052500</td>\n",
       "      <td>0.027500</td>\n",
       "      <td>-0.564566</td>\n",
       "      <td>0.320422</td>\n",
       "      <td>0.342053</td>\n",
       "      <td>4.0</td>\n",
       "    </tr>\n",
       "  </tbody>\n",
       "</table>\n",
       "</div>"
      ],
      "text/plain": [
       "               Depth        MW       RMS    MW Dev  Depth Dev  \\\n",
       "date                                                            \n",
       "2017-01-01  0.843333  0.056667  0.016667 -0.560399  -0.258745   \n",
       "2017-01-02  0.560000 -0.030000  0.030000 -0.647066  -0.542078   \n",
       "2017-01-04  1.281667  0.308333  0.030000 -0.308732   0.179588   \n",
       "2017-01-05  1.390000  0.540000  0.035000 -0.077066   0.287922   \n",
       "2017-01-06  1.422500  0.052500  0.027500 -0.564566   0.320422   \n",
       "\n",
       "            MW Squared Deviation  count  \n",
       "date                                     \n",
       "2017-01-01              0.317803    3.0  \n",
       "2017-01-02              0.418694    1.0  \n",
       "2017-01-04              0.162430    6.0  \n",
       "2017-01-05              0.090039    2.0  \n",
       "2017-01-06              0.342053    4.0  "
      ]
     },
     "execution_count": 43,
     "metadata": {},
     "output_type": "execute_result"
    }
   ],
   "source": [
    "df_eqMean['count'] = df_eqCount['count'].values\n",
    "df_eqMean.head()"
   ]
  },
  {
   "cell_type": "markdown",
   "metadata": {},
   "source": [
    "#### Daily Average MW vs Depth"
   ]
  },
  {
   "cell_type": "code",
   "execution_count": 46,
   "metadata": {},
   "outputs": [
    {
     "data": {
      "image/png": "[encoded data removed]",
      "text/plain": [
       "<Figure size 432x288 with 1 Axes>"
      ]
     },
     "metadata": {
      "needs_background": "light"
     },
     "output_type": "display_data"
    }
   ],
   "source": [
    "ax1 = df_eqMean.plot.scatter(x='MW',\n",
    "                                  y='Depth')\n",
    "plt.savefig('/home/jovyan/botpt/figures/mwvsdepth.png')"
   ]
  },
  {
   "cell_type": "markdown",
   "metadata": {},
   "source": [
    "#### Depth vs Count"
   ]
  },
  {
   "cell_type": "code",
   "execution_count": 47,
   "metadata": {},
   "outputs": [
    {
     "data": {
      "image/png": "[encoded data removed]",
      "text/plain": [
       "<Figure size 432x288 with 1 Axes>"
      ]
     },
     "metadata": {
      "needs_background": "light"
     },
     "output_type": "display_data"
    }
   ],
   "source": [
    "ax2 = df_eqMean.plot.scatter(x='count',\n",
    "                                  y='Depth')\n",
    "plt.savefig('/home/jovyan/botpt/figures/countvsdepth.png')"
   ]
  },
  {
   "cell_type": "markdown",
   "metadata": {},
   "source": [
    "#### MW vs Count"
   ]
  },
  {
   "cell_type": "code",
   "execution_count": 48,
   "metadata": {},
   "outputs": [
    {
     "data": {
      "image/png": "[encoded data removed]",
      "text/plain": [
       "<Figure size 432x288 with 1 Axes>"
      ]
     },
     "metadata": {
      "needs_background": "light"
     },
     "output_type": "display_data"
    }
   ],
   "source": [
    "ax3 = df_eqMean.plot.scatter(x='count',\n",
    "                                  y='MW')\n",
    "plt.savefig('/home/jovyan/botpt/figures/countvsmw.png')"
   ]
  },
  {
   "cell_type": "code",
   "execution_count": 51,
   "metadata": {},
   "outputs": [
    {
     "name": "stdout",
     "output_type": "stream",
     "text": [
      "CC = 0.130\n"
     ]
    }
   ],
   "source": [
    "#MW and Depth Correlation Coeeficient\n",
    "depth = df_eqMean['Depth']\n",
    "mw = df_eqMean['MW']\n",
    "\n",
    "# Next, break into parts to solve\n",
    "n=len(depth)\n",
    "sumxy = sum(depth*mw)\n",
    "sumx = sum(depth)\n",
    "sumy = sum(mw)\n",
    "sumx2 = sum(depth**2)\n",
    "sumy2 = sum(mw**2)\n",
    "\n",
    "cc = ((n*sumxy) - (sumx*sumy)) / np.sqrt( ((n*sumx2) - sumx**2) * ((n*sumy2) - sumy**2) )\n",
    "# Print the correlation coefficient:\n",
    "print('CC = %0.3f' % cc)"
   ]
  },
  {
   "cell_type": "code",
   "execution_count": 54,
   "metadata": {},
   "outputs": [
    {
     "name": "stdout",
     "output_type": "stream",
     "text": [
      "CC = -0.016\n"
     ]
    }
   ],
   "source": [
    "#Depth and Depth Correlation Coeeficient\n",
    "depth = df_eqMean['Depth']\n",
    "count = df_eqMean['count']\n",
    "# mw = df_eqMean['MW']\n",
    "\n",
    "\n",
    "# Next, break into parts to solve\n",
    "# n=len(depth)\n",
    "sumxz = sum(depth*count)\n",
    "sumx = sum(depth)\n",
    "sumz = sum(count)\n",
    "sumx2 = sum(depth**2)\n",
    "sumz2 = sum(count**2)\n",
    "\n",
    "cc = ((n*sumxz) - (sumx*sumz)) / np.sqrt( ((n*sumx2) - sumx**2) * ((n*sumz2) - sumz**2) )\n",
    "# Print the correlation coefficient:\n",
    "print('CC = %0.3f' % cc)"
   ]
  },
  {
   "cell_type": "code",
   "execution_count": 55,
   "metadata": {},
   "outputs": [
    {
     "name": "stdout",
     "output_type": "stream",
     "text": [
      "CC = 0.239\n"
     ]
    }
   ],
   "source": [
    "# MW and Count Correlation Coefficient\n",
    "mw = df_eqMean['MW']\n",
    "count = df_eqMean['count']\n",
    "# mw = df_eqMean['MW']\n",
    "\n",
    "\n",
    "# Next, break into parts to solve\n",
    "# n=len(depth)\n",
    "sumyz = sum(mw*count)\n",
    "sumy = sum(mw)\n",
    "sumz = sum(count)\n",
    "sumy2 = sum(mw**2)\n",
    "sumz2 = sum(count**2)\n",
    "\n",
    "cc = ((n*sumyz) - (sumy*sumz)) / np.sqrt( ((n*sumy2) - sumy**2) * ((n*sumz2) - sumz**2) )\n",
    "# Print the correlation coefficient:\n",
    "print('CC = %0.3f' % cc)"
   ]
  },
  {
   "cell_type": "code",
   "execution_count": 5,
   "metadata": {},
   "outputs": [],
   "source": [
    "# Plot Regression Lines and Calculate R Squared Value "
   ]
  },
  {
   "cell_type": "code",
   "execution_count": 1,
   "metadata": {},
   "outputs": [],
   "source": [
    "# Inflation vs Count"
   ]
  },
  {
   "cell_type": "code",
   "execution_count": 3,
   "metadata": {},
   "outputs": [],
   "source": [
    "# Inflation vs Depth"
   ]
  },
  {
   "cell_type": "code",
   "execution_count": 4,
   "metadata": {},
   "outputs": [],
   "source": [
    "# Inflation vs MW"
   ]
  },
  {
   "cell_type": "code",
   "execution_count": null,
   "metadata": {},
   "outputs": [],
   "source": [
    "# Relative inflation vs Count \n",
    "# relative to highest prior value"
   ]
  },
  {
   "cell_type": "markdown",
   "metadata": {},
   "source": [
    "how fast vs where are we comapared to prior high"
   ]
  },
  {
   "cell_type": "markdown",
   "metadata": {},
   "source": [
    "#### Regression Model"
   ]
  },
  {
   "cell_type": "code",
   "execution_count": 39,
   "metadata": {},
   "outputs": [],
   "source": [
    "import numpy as np\n",
    "\n",
    "%matplotlib inline\n",
    "import matplotlib.pyplot as plots\n",
    "plots.style.use('fivethirtyeight')\n",
    "\n",
    "def standard_units(x):\n",
    "    \"Convert any array of numbers to standard units.\"\n",
    "    return (x - np.average(x)) / np.std(x)\n",
    "\n",
    "def correlation(t, x, y):\n",
    "    \"\"\"Return the correlation coefficient (r) of two variables.\"\"\"\n",
    "    return np.mean(standard_units(t.column(x)) * standard_units(t.column(y)))\n",
    "\n",
    "def slope(t, x, y):\n",
    "    \"\"\"The slope of the regression line (original units).\"\"\"\n",
    "    r = correlation(t, x, y)\n",
    "    return r * np.std(t.column(y)) / np.std(t.column(x))\n",
    "\n",
    "def intercept(t, x, y):\n",
    "    \"\"\"The intercept of the regression line (original units).\"\"\"\n",
    "    return np.mean(t.column(y)) - slope(t, x, y) * np.mean(t.column(x))\n",
    "\n",
    "def fit(t, x, y):\n",
    "    \"\"\"The fitted values along the regression line.\"\"\"\n",
    "    a = slope(t, x, y)\n",
    "    b = intercept(t, x, y)\n",
    "    return a * t.column(x) + b\n",
    "\n",
    "def plot_residuals(t, x, y):\n",
    "    \"\"\"Plot a scatter diagram and residuals.\"\"\"\n",
    "    t.scatter(x, y, fit_line=True)\n",
    "    actual = t.column(y)\n",
    "    fitted = fit(t, x, y)\n",
    "    residuals = actual - fitted\n",
    "    print('r:', correlation(t, x, y))\n",
    "    print('RMSE:', np.mean(residuals**2)**0.5)\n",
    "    t.select(x).with_column('Residual', residuals).scatter(0, 1)"
   ]
  },
  {
   "cell_type": "markdown",
   "metadata": {},
   "source": [
    "### Calculating R"
   ]
  },
  {
   "cell_type": "code",
   "execution_count": null,
   "metadata": {},
   "outputs": [],
   "source": []
  }
 ],
 "metadata": {
  "kernelspec": {
   "display_name": "Python 3",
   "language": "python",
   "name": "python3"
  },
  "language_info": {
   "codemirror_mode": {
    "name": "ipython",
    "version": 3
   },
   "file_extension": ".py",
   "mimetype": "text/x-python",
   "name": "python",
   "nbconvert_exporter": "python",
   "pygments_lexer": "ipython3",
   "version": "3.7.3"
  }
 },
 "nbformat": 4,
 "nbformat_minor": 4
}
