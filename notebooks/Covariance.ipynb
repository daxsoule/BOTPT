{
 "cells": [
  {
   "cell_type": "code",
   "execution_count": null,
   "metadata": {},
   "outputs": [],
   "source": [
    "import xarray as xr\n",
    "import pandas as pd\n",
    "import numpy as np\n",
    "import datetime\n",
    "import os\n",
    "import matplotlib.pyplot as plt\n",
    "import matplotlib.dates as dates\n",
    "from matplotlib import pyplot\n",
    "from pylab import rcParams\n",
    "import pickle as pk\n",
    "import gc\n",
    "import requests \n",
    "import matplotlib.gridspec as gridspec\n",
    "import netCDF4 as nc\n",
    "import hvplot\n",
    "import hvplot.pandas\n",
    "import hvplot.xarray\n",
    "import holoviews as hv\n",
    "from holoviews import opts"
   ]
  },
  {
   "cell_type": "code",
   "execution_count": null,
   "metadata": {},
   "outputs": [],
   "source": [
    "from IPython.display import Image\n",
    "Image(url = \"https://cdn-images-1.medium.com/max/800/1*w-05-YnuJMl84KMSRw1J2g.png\")"
   ]
  },
  {
   "cell_type": "markdown",
   "metadata": {},
   "source": [
    "Covariance is scale-dependent. "
   ]
  },
  {
   "cell_type": "markdown",
   "metadata": {},
   "source": [
    "#### Pearson's Corellation Coefficient"
   ]
  },
  {
   "cell_type": "code",
   "execution_count": null,
   "metadata": {},
   "outputs": [],
   "source": [
    "def mean(x):\n",
    "    return sum(x)/len(x)\n",
    "\n",
    "def covariance(x,y):\n",
    "    calc = []\n",
    "    for i in range(len(x)):\n",
    "        xi = x[i] - mean(x)\n",
    "        yi = y[i] - mean(y)\n",
    "        calc.append(xi * yi)\n",
    "    return sum(calc)/(len(x) - 1)\n",
    "    \n",
    "a = [1,2,3,4,5] ; b = [5,4,3,2,1]\n",
    "print(covariance(a,b))"
   ]
  },
  {
   "cell_type": "markdown",
   "metadata": {},
   "source": [
    "#### Normalizing covariance"
   ]
  },
  {
   "cell_type": "code",
   "execution_count": null,
   "metadata": {},
   "outputs": [],
   "source": [
    "import math\n",
    "\n",
    "def stDev(x):\n",
    "    variance = 0\n",
    "    for i in x:\n",
    "        variance += (i - mean(x) ** 2) / len(x)\n",
    "    return math.sqrt(variance)\n",
    "    \n",
    "def Pearsons(x,y):\n",
    "    cov = covariance(x,y)\n",
    "    return cov / (stDev(x) * stDev(y))"
   ]
  },
  {
   "cell_type": "markdown",
   "metadata": {},
   "source": [
    "#### Import Seismic Data "
   ]
  },
  {
   "cell_type": "code",
   "execution_count": null,
   "metadata": {},
   "outputs": [],
   "source": [
    "seismic_file = '/home/jovyan/data/hypo71.dat.txt'\n",
    "df_seismic_data = pd.read_csv(seismic_file, delim_whitespace=True, dtype=object)\n",
    "df_seismic_data['datetime'] = df_seismic_data['yyyymmdd'] + 'T' + \\\n",
    "            df_seismic_data['HHMM'].str.slice(start=0, stop=2) + ':' + \\\n",
    "            df_seismic_data['HHMM'].str.slice(start=2) \n",
    "df_seismic_data.index = pd.to_datetime(df_seismic_data['datetime'].values)\n",
    "df_seismic_data['datetime'] = pd.to_datetime(df_seismic_data['datetime'].values)\n",
    "df_seismic_data = df_seismic_data.loc['2017-01-1 00:00:00':'2019-06-17 00:00:00']\n",
    "df_seismic_data.head()\n",
    "# del df_seismic_data['yyyymmdd']\n",
    "# del df_seismic_data['HHMM']\n",
    "del df_seismic_data['Lon(D']\n",
    "# del df_seismic_data['SSS.SS']\n",
    "# del df_seismic_data['Depth']\n",
    "del df_seismic_data['M)']\n",
    "del df_seismic_data['M).1']\n",
    "del df_seismic_data['NWR']\n",
    "del df_seismic_data['GAP']\n",
    "del df_seismic_data['DMIN']\n",
    "del df_seismic_data['ERH']\n",
    "del df_seismic_data['ERZ']\n",
    "del df_seismic_data['ID']\n",
    "del df_seismic_data['Lat(D']\n",
    "del df_seismic_data['PMom']\n",
    "del df_seismic_data['SMom']\n",
    "df_seismic_data['Depth'] = df_seismic_data['Depth'].astype('float64').values\n",
    "df_seismic_data['MW'] = df_seismic_data['MW'].astype('float64').values\n",
    "df_seismic_data['RMS'] = df_seismic_data['RMS'].astype('float64').values"
   ]
  },
  {
   "cell_type": "code",
   "execution_count": null,
   "metadata": {},
   "outputs": [],
   "source": [
    "df_seismic_data.datetime.astype(np.int64).values/1e64\n",
    "df_seismic_data['date'] =pd.DatetimeIndex(df_seismic_data.datetime).date\n",
    "df_seismic_data.tail()"
   ]
  },
  {
   "cell_type": "markdown",
   "metadata": {},
   "source": [
    "### MW Average"
   ]
  },
  {
   "cell_type": "code",
   "execution_count": null,
   "metadata": {},
   "outputs": [],
   "source": [
    "# values = make_array(2, 3, 3, 9)\n",
    "# MW = make_array(df_seismic_data['MW'])\n",
    "mw = df_seismic_data['MW']\n",
    "depth = df_seismic_data['Depth']\n",
    "average = mw.mean(), depth.mean()\n",
    "mw_average = mw.mean()\n",
    "depth_average = depth.mean()\n",
    "# mw_average\n",
    "average"
   ]
  },
  {
   "cell_type": "markdown",
   "metadata": {},
   "source": [
    "### MW Histogram"
   ]
  },
  {
   "cell_type": "code",
   "execution_count": null,
   "metadata": {},
   "outputs": [],
   "source": [
    "df_seismic_data.hist('MW', ec='w')\n",
    "# df_seismis_data.hist('MW', bins=np.arange(65.5, 90.5), ec='w')\n",
    "# nba.hist('Height', bins=np.arange(65.5, 90.5), ec='w')"
   ]
  },
  {
   "cell_type": "markdown",
   "metadata": {},
   "source": [
    "### Depth Histogram"
   ]
  },
  {
   "cell_type": "code",
   "execution_count": null,
   "metadata": {},
   "outputs": [],
   "source": [
    "df_seismic_data.hist('Depth', bins=np.arange(0, 6), ec='w')\n",
    "# df_seismic_data.hist('Depth', ec='w')"
   ]
  },
  {
   "cell_type": "code",
   "execution_count": null,
   "metadata": {},
   "outputs": [],
   "source": [
    "deviations_mw = mw - mw_average\n",
    "deviations_depth = depth - depth_average\n",
    "df_seismic_data['MW Dev'] = deviations_mw\n",
    "df_seismic_data['Depth Dev'] = deviations_depth\n",
    "df_seismic_data.head(5)"
   ]
  },
  {
   "cell_type": "code",
   "execution_count": null,
   "metadata": {},
   "outputs": [],
   "source": [
    "# Sum of deviations should equal to zero\n",
    "deviations_mw.sum()"
   ]
  },
  {
   "cell_type": "code",
   "execution_count": null,
   "metadata": {},
   "outputs": [],
   "source": [
    "sqdev_mw = deviations_mw ** 2\n",
    "df_seismic_data['MW Squared Deviation'] = sqdev_mw\n",
    "df_seismic_data.head(5)"
   ]
  },
  {
   "cell_type": "markdown",
   "metadata": {},
   "source": [
    "#### MW Variance"
   ]
  },
  {
   "cell_type": "code",
   "execution_count": null,
   "metadata": {},
   "outputs": [],
   "source": [
    "# Variance of the data is the average of the squared deviations\n",
    "variance_mw = sqdev_mw.mean()\n",
    "variance_mw"
   ]
  },
  {
   "cell_type": "markdown",
   "metadata": {},
   "source": [
    "#### MW STDEV"
   ]
  },
  {
   "cell_type": "code",
   "execution_count": null,
   "metadata": {},
   "outputs": [],
   "source": [
    "# Standard Deviation (SD) is the square root of the variance\n",
    "\n",
    "sd_mw = variance_mw ** 0.5\n",
    "sd_mw"
   ]
  },
  {
   "cell_type": "markdown",
   "metadata": {},
   "source": [
    "#### Depth vs MW"
   ]
  },
  {
   "cell_type": "code",
   "execution_count": null,
   "metadata": {},
   "outputs": [],
   "source": [
    "ax1 = df_seismic_data.plot.scatter(x='MW',\n",
    "                                  y='Depth')\n",
    "plt.savefig('/home/jovyan/botpt/figures/mwvsdepth.png')"
   ]
  },
  {
   "cell_type": "markdown",
   "metadata": {},
   "source": [
    "#### Standard Units"
   ]
  },
  {
   "cell_type": "code",
   "execution_count": null,
   "metadata": {},
   "outputs": [],
   "source": [
    "def standard_units(x):\n",
    "    \"Convert any array of numbers to standard units.\"\n",
    "    return (x - np.average(x)) / np.std(x)"
   ]
  },
  {
   "cell_type": "code",
   "execution_count": null,
   "metadata": {},
   "outputs": [],
   "source": [
    "df_seismic_data['MW Squared Deviation'] = sqdev_mw\n",
    "\n",
    "Table().with_columns(\n",
    "    'mpg (standard units)',  standard_units(suv.column('mpg')), \n",
    "    'msrp (standard units)', standard_units(suv.column('msrp'))\n",
    ").scatter(0, 1)\n",
    "plots.xlim(-3, 3)\n",
    "plots.ylim(-3, 3);"
   ]
  },
  {
   "cell_type": "code",
   "execution_count": null,
   "metadata": {},
   "outputs": [],
   "source": [
    "# Calculating R"
   ]
  },
  {
   "cell_type": "code",
   "execution_count": null,
   "metadata": {},
   "outputs": [],
   "source": [
    "df_eqMean=df_seismic_data.groupby('date').mean()\n",
    "df_eqCount= df_seismic_data.groupby('date').count()\n",
    "#del df_eqMean['datetime']\n",
    "#df_eqMean.columns.name = df_eqMean.index.name\n",
    "#df_eqMean.index.name = None\n",
    "df_eqMean.tail()"
   ]
  },
  {
   "cell_type": "code",
   "execution_count": null,
   "metadata": {},
   "outputs": [],
   "source": [
    "df_eqCount['count'] = df_eqCount.datetime.astype('float64').values\n",
    "df_eqCount.head()"
   ]
  },
  {
   "cell_type": "code",
   "execution_count": null,
   "metadata": {},
   "outputs": [],
   "source": [
    "df_eqMean['count'] = df_eqCount['count'].values\n",
    "# df_seismic_data['count'] = df_eqCount['count'].values\n",
    "# df_eqMean.head()\n",
    "type(df_eqMean['count'].value())"
   ]
  },
  {
   "cell_type": "code",
   "execution_count": null,
   "metadata": {},
   "outputs": [],
   "source": [
    "# df_seismic_data['frequency'] = sqdev_mw\n",
    "df_seismic_data['frequency'] = df_eqMean['count']\n",
    "df_seismic_data.head(5)\n",
    "type(df_seismic_data['MW'])"
   ]
  },
  {
   "cell_type": "markdown",
   "metadata": {},
   "source": [
    "#### Frequency vs MW"
   ]
  },
  {
   "cell_type": "code",
   "execution_count": null,
   "metadata": {},
   "outputs": [],
   "source": [
    "ax2 = df_seismic_data.plot.scatter(x='MW',\n",
    "                                  y='frequency')"
   ]
  },
  {
   "cell_type": "markdown",
   "metadata": {},
   "source": [
    "#### Frequency vs Depth "
   ]
  },
  {
   "cell_type": "code",
   "execution_count": null,
   "metadata": {},
   "outputs": [],
   "source": [
    "ax3 = df_seismic_data.plot.scatter(x='Depth',\n",
    "                                  y='frequency')"
   ]
  },
  {
   "cell_type": "code",
   "execution_count": null,
   "metadata": {},
   "outputs": [],
   "source": []
  }
 ],
 "metadata": {
  "kernelspec": {
   "display_name": "Python 3",
   "language": "python",
   "name": "python3"
  },
  "language_info": {
   "codemirror_mode": {
    "name": "ipython",
    "version": 3
   },
   "file_extension": ".py",
   "mimetype": "text/x-python",
   "name": "python",
   "nbconvert_exporter": "python",
   "pygments_lexer": "ipython3",
   "version": "3.6.6"
  }
 },
 "nbformat": 4,
 "nbformat_minor": 2
}
