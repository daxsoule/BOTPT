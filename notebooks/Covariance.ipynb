{
 "cells": [
  {
   "cell_type": "code",
   "execution_count": null,
   "metadata": {},
   "outputs": [],
   "source": [
    "import xarray as xr\n",
    "import pandas as pd\n",
    "import numpy as np\n",
    "import datetime\n",
    "import os\n",
    "import matplotlib.pyplot as plt\n",
    "import matplotlib.dates as dates\n",
    "from matplotlib import pyplot\n",
    "from pylab import rcParams\n",
    "import pickle as pk\n",
    "import gc\n",
    "import requests \n",
    "import matplotlib.gridspec as gridspec\n",
    "import netCDF4 as nc\n",
    "import hvplot\n",
    "import hvplot.pandas\n",
    "import hvplot.xarray\n",
    "import holoviews as hv\n",
    "from holoviews import opts"
   ]
  },
  {
   "cell_type": "code",
   "execution_count": null,
   "metadata": {},
   "outputs": [],
   "source": [
    "from IPython.display import Image\n",
    "Image(url = \"https://cdn-images-1.medium.com/max/800/1*w-05-YnuJMl84KMSRw1J2g.png\")"
   ]
  },
  {
   "cell_type": "markdown",
   "metadata": {},
   "source": [
    "Covariance is scale-dependent. "
   ]
  },
  {
   "cell_type": "markdown",
   "metadata": {},
   "source": [
    "#### Pearson's Corellation Coefficient"
   ]
  },
  {
   "cell_type": "code",
   "execution_count": null,
   "metadata": {},
   "outputs": [],
   "source": [
    "def mean(x):\n",
    "    return sum(x)/len(x)\n",
    "\n",
    "def covariance(x,y):\n",
    "    calc = []\n",
    "    for i in range(len(x)):\n",
    "        xi = x[i] - mean(x)\n",
    "        yi = y[i] - mean(y)\n",
    "        calc.append(xi * yi)\n",
    "    return sum(calc)/(len(x) - 1)\n",
    "    \n",
    "a = [1,2,3,4,5] ; b = [5,4,3,2,1]\n",
    "print(covariance(a,b))"
   ]
  },
  {
   "cell_type": "markdown",
   "metadata": {},
   "source": [
    "#### Normalizing covariance"
   ]
  },
  {
   "cell_type": "code",
   "execution_count": null,
   "metadata": {},
   "outputs": [],
   "source": [
    "import math\n",
    "\n",
    "def stDev(x):\n",
    "    variance = 0\n",
    "    for i in x:\n",
    "        variance += (i - mean(x) ** 2) / len(x)\n",
    "    return math.sqrt(variance)\n",
    "    \n",
    "def Pearsons(x,y):\n",
    "    cov = covariance(x,y)\n",
    "    return cov / (stDev(x) * stDev(y))"
   ]
  },
  {
   "cell_type": "markdown",
   "metadata": {},
   "source": [
    "#### Import Seismic Data "
   ]
  },
  {
   "cell_type": "code",
   "execution_count": null,
   "metadata": {},
   "outputs": [],
   "source": [
    "seismic_file = '/home/jovyan/data/hypo71.dat.txt'\n",
    "df_seismic_data = pd.read_csv(seismic_file, delim_whitespace=True, dtype=object)\n",
    "df_seismic_data['datetime'] = df_seismic_data['yyyymmdd'] + 'T' + \\\n",
    "            df_seismic_data['HHMM'].str.slice(start=0, stop=2) + ':' + \\\n",
    "            df_seismic_data['HHMM'].str.slice(start=2) \n",
    "df_seismic_data.index = pd.to_datetime(df_seismic_data['datetime'].values)\n",
    "df_seismic_data['datetime'] = pd.to_datetime(df_seismic_data['datetime'].values)\n",
    "df_seismic_data = df_seismic_data.loc['2017-01-1 00:00:00':'2019-06-17 00:00:00']\n",
    "df_seismic_data.head()\n",
    "# del df_seismic_data['yyyymmdd']\n",
    "# del df_seismic_data['HHMM']\n",
    "del df_seismic_data['Lon(D']\n",
    "# del df_seismic_data['SSS.SS']\n",
    "# del df_seismic_data['Depth']\n",
    "del df_seismic_data['M)']\n",
    "del df_seismic_data['M).1']\n",
    "del df_seismic_data['NWR']\n",
    "del df_seismic_data['GAP']\n",
    "del df_seismic_data['DMIN']\n",
    "del df_seismic_data['ERH']\n",
    "del df_seismic_data['ERZ']\n",
    "del df_seismic_data['ID']\n",
    "del df_seismic_data['Lat(D']\n",
    "del df_seismic_data['PMom']\n",
    "del df_seismic_data['SMom']\n",
    "df_seismic_data['Depth'] = df_seismic_data['Depth'].astype('float64').values\n",
    "df_seismic_data['MW'] = df_seismic_data['MW'].astype('float64').values\n",
    "df_seismic_data['RMS'] = df_seismic_data['RMS'].astype('float64').values"
   ]
  },
  {
   "cell_type": "code",
   "execution_count": null,
   "metadata": {},
   "outputs": [],
   "source": [
    "df_seismic_data.datetime.astype(np.int64).values/1e64\n",
    "df_seismic_data['date'] =pd.DatetimeIndex(df_seismic_data.datetime).date\n",
    "df_seismic_data.tail()"
   ]
  },
  {
   "cell_type": "markdown",
   "metadata": {},
   "source": [
    "#### Depth vs MW"
   ]
  },
  {
   "cell_type": "code",
   "execution_count": null,
   "metadata": {},
   "outputs": [],
   "source": [
    "df_seismic_data['MW'].tail()"
   ]
  },
  {
   "cell_type": "code",
   "execution_count": null,
   "metadata": {},
   "outputs": [],
   "source": [
    "def mean(x):\n",
    "    return sum(x)/len(x)\n",
    "\n",
    "def covariance(x,y):\n",
    "    calc = []\n",
    "    for i in range(len(x)):\n",
    "        xi = x[i] - mean(x)\n",
    "        yi = y[i] - mean(y)\n",
    "        calc.append(xi * yi)\n",
    "    return sum(calc)/(len(x) - 1)\n",
    "    \n",
    "a = [1,2,3,4,5] ; b = [5,4,3,2,1]\n",
    "print(covariance(a,b))"
   ]
  },
  {
   "cell_type": "markdown",
   "metadata": {},
   "source": [
    "#### Frequency vs MW"
   ]
  },
  {
   "cell_type": "markdown",
   "metadata": {},
   "source": [
    "#### Frequency vs Depth "
   ]
  }
 ],
 "metadata": {
  "kernelspec": {
   "display_name": "Python 3",
   "language": "python",
   "name": "python3"
  },
  "language_info": {
   "codemirror_mode": {
    "name": "ipython",
    "version": 3
   },
   "file_extension": ".py",
   "mimetype": "text/x-python",
   "name": "python",
   "nbconvert_exporter": "python",
   "pygments_lexer": "ipython3",
   "version": "3.6.6"
  }
 },
 "nbformat": 4,
 "nbformat_minor": 2
}
