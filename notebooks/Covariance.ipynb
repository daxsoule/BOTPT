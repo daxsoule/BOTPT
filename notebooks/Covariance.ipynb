{
 "cells": [
  {
   "cell_type": "code",
   "execution_count": null,
   "metadata": {},
   "outputs": [],
   "source": [
    "from IPython.display import Image\n",
    "Image(url = \"https://cdn-images-1.medium.com/max/800/1*w-05-YnuJMl84KMSRw1J2g.png\")"
   ]
  },
  {
   "cell_type": "markdown",
   "metadata": {},
   "source": [
    "Covariance is scale-dependent. "
   ]
  },
  {
   "cell_type": "markdown",
   "metadata": {},
   "source": [
    "#### Pearson's Corellation Coefficient"
   ]
  },
  {
   "cell_type": "code",
   "execution_count": null,
   "metadata": {},
   "outputs": [],
   "source": [
    "def mean(x):\n",
    "    return sum(x)/len(x)\n",
    "\n",
    "def covariance(x,y):\n",
    "    calc = []\n",
    "    for i in range(len(x)):\n",
    "        xi = x[i] - mean(x)\n",
    "        yi = y[i] - mean(y)\n",
    "        calc.append(xi * yi)\n",
    "    return sum(calc)/(len(x) - 1)\n",
    "    \n",
    "a = [1,2,3,4,5] ; b = [5,4,3,2,1]\n",
    "print(covariance(a,b))"
   ]
  },
  {
   "cell_type": "markdown",
   "metadata": {},
   "source": [
    "#### Normalizing covariance"
   ]
  },
  {
   "cell_type": "code",
   "execution_count": null,
   "metadata": {},
   "outputs": [],
   "source": [
    "import math\n",
    "\n",
    "def stDev(x):\n",
    "    variance = 0\n",
    "    for i in x:\n",
    "        variance += (i - mean(x) ** 2) / len(x)\n",
    "    return math.sqrt(variance)\n",
    "    \n",
    "def Pearsons(x,y):\n",
    "    cov = covariance(x,y)\n",
    "    return cov / (stDev(x) * stDev(y))"
   ]
  },
  {
   "cell_type": "code",
   "execution_count": null,
   "metadata": {},
   "outputs": [],
   "source": []
  }
 ],
 "metadata": {
  "kernelspec": {
   "display_name": "Python 3",
   "language": "python",
   "name": "python3"
  },
  "language_info": {
   "codemirror_mode": {
    "name": "ipython",
    "version": 3
   },
   "file_extension": ".py",
   "mimetype": "text/x-python",
   "name": "python",
   "nbconvert_exporter": "python",
   "pygments_lexer": "ipython3",
   "version": "3.6.6"
  }
 },
 "nbformat": 4,
 "nbformat_minor": 2
}
