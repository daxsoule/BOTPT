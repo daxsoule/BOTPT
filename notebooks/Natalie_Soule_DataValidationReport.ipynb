{
 "cells": [
  {
   "cell_type": "markdown",
   "metadata": {},
   "source": [
    "# Data Validation Report: Comparing Pressure Measurements from BOTPT and BPR\n",
    "#### Evaluators: Jazlyn Natalie, Dax Soule"
   ]
  },
  {
   "cell_type": "markdown",
   "metadata": {},
   "source": [
    "In this report, we analyze seafloor pressure measurements taken at The Axial Seamount's Central Caldera (RS03CCAL) by two co-located instruments: BOTPT (Bottom Pressure and Tilt Meter) and BPR. We selected December 30, 2014 and February 1, 2015 to be the start and end study time for this report. The original plan was to look at data from January 1 to February 1, 2015, but there is an issue with the January 1 data that corrupted the file associated with that day. However, moving the start time to December 30, 2014 rectified the problem.     "
   ]
  },
  {
   "cell_type": "code",
   "execution_count": null,
   "metadata": {},
   "outputs": [],
   "source": [
    "# Load map of Axial caldera showing locations of BOTPT instruments (red circles)\n",
    "from IPython.display import Image\n",
    "Image(url = \"https://www.pmel.noaa.gov/eoi/rsn/Axial-2017-OOI-caldera-ed-sm.png\")"
   ]
  },
  {
   "cell_type": "code",
   "execution_count": null,
   "metadata": {},
   "outputs": [],
   "source": [
    "#Zoomed in map of Axial caldera\n",
    "from IPython.display import Image\n",
    "Image(url = \"https://www.pmel.noaa.gov/eoi/rsn/Axial-2017-OOI-zoom-ed-sm.png\")"
   ]
  },
  {
   "cell_type": "markdown",
   "metadata": {},
   "source": [
    "### API Information Setup"
   ]
  },
  {
   "cell_type": "code",
   "execution_count": null,
   "metadata": {},
   "outputs": [],
   "source": [
    "# USERNAME = 'OOIAPI-BI8MMX3Y14S4FL'\n",
    "# TOKEN =  'TEMP-TOKEN-MK0PEMRS0CFA8Z'"
   ]
  },
  {
   "cell_type": "markdown",
   "metadata": {},
   "source": [
    "### Import Python Libraries "
   ]
  },
  {
   "cell_type": "code",
   "execution_count": null,
   "metadata": {},
   "outputs": [],
   "source": [
    "# First, we need to add some more Python libraries\n",
    "import requests\n",
    "import datetime\n",
    "import time\n",
    "import pandas as pd\n",
    "import numpy as np\n",
    "import datetime\n",
    "import matplotlib.pyplot as plt\n",
    "import seaborn as sns\n",
    "sns.set()\n",
    "import matplotlib.dates as dates\n",
    "import pickle as pk"
   ]
  },
  {
   "cell_type": "code",
   "execution_count": null,
   "metadata": {},
   "outputs": [],
   "source": [
    "import xarray as xr\n",
    "import re\n",
    "import requests\n",
    "import os\n",
    "import gc"
   ]
  },
  {
   "cell_type": "markdown",
   "metadata": {},
   "source": [
    "### Downloading Data and Metadata"
   ]
  },
  {
   "cell_type": "code",
   "execution_count": null,
   "metadata": {},
   "outputs": [],
   "source": [
    "# API Login Information\n",
    "username = 'OOIAPI-BI8MMX3Y14S4FL'\n",
    "token = 'TEMP-TOKEN-MK0PEMRS0CFA8Z'\n",
    "\n",
    "# Sensor Base URL\n",
    "base_url = 'https://ooinet.oceanobservatories.org/api/m2m/12576/sensor/inv/'\n",
    "\n",
    "# Instrument Vocabulary\n",
    "subsite = 'RS03CCAL'\n",
    "node = 'MJ03F'\n",
    "sensor = '05-BOTPTA301'\n",
    "method = 'streamed'\n",
    "stream = 'botpt_nano_sample'\n",
    "beginDT = '2014-12-30T01:01:01.000Z'\n",
    "endDT = '2015-02-01T01:01:01.000Z'"
   ]
  },
  {
   "cell_type": "code",
   "execution_count": null,
   "metadata": {},
   "outputs": [],
   "source": [
    "# Create the request URL\n",
    "data_request_url ='/'.join((base_url,subsite,node,sensor,method,stream))\n",
    "\n",
    "# All of the following are optional\n",
    "params = {\n",
    "    'beginDT':beginDT,\n",
    "    'endDT':endDT,   \n",
    "}"
   ]
  },
  {
   "cell_type": "code",
   "execution_count": null,
   "metadata": {},
   "outputs": [],
   "source": [
    "print(data)"
   ]
  },
  {
   "cell_type": "markdown",
   "metadata": {},
   "source": [
    "## Annotations"
   ]
  },
  {
   "cell_type": "code",
   "execution_count": null,
   "metadata": {},
   "outputs": [],
   "source": [
    "USERNAME = 'OOIAPI-BI8MMX3Y14S4FL'\n",
    "TOKEN = 'TEMP-TOKEN-MK0PEMRS0CFA8Z'\n",
    "\n",
    "# Specify a reference designator\n",
    "refdes = 'RS03ASHS-MJ03B-09-BOTPTA304'\n",
    "\n",
    "# Specify a time range of interest\n",
    "# begin = int(datetime.date(2017,1,1).strftime('%s'))*1000\n",
    "# end = int(datetime.date(2018,1,1).strftime('%s'))*1000\n",
    "\n",
    "# Alternatively, if you want all annotations, use these dates\n",
    "# beginDT = '2014-12-30T01:01:01.000Z'\n",
    "# endDT = '2015-02-01T01:01:01.000Z'\n",
    "begin = int(datetime.date(2014,12,30).strftime('%s'))*1000\n",
    "end = int(datetime.date(2015,2,1).strftime(\"%s\")) * 1000 # current date"
   ]
  },
  {
   "cell_type": "code",
   "execution_count": null,
   "metadata": {},
   "outputs": [],
   "source": [
    "ANNO_API = 'https://ooinet.oceanobservatories.org/api/m2m/12580/anno/find'\n",
    "params = {\n",
    "  'beginDT': begin,\n",
    "  'endDT': end,\n",
    "  'refdes': refdes,\n",
    "}\n",
    "\n",
    "# Send the request\n",
    "r = requests.get(ANNO_API, params=params, auth=(USERNAME, TOKEN))\n",
    "data = r.json()"
   ]
  },
  {
   "cell_type": "code",
   "execution_count": null,
   "metadata": {},
   "outputs": [],
   "source": [
    "# convert timestamps\n",
    "def convert_time(ms):\n",
    "    if ms != None:\n",
    "        return datetime.datetime.utcfromtimestamp(ms/1000)\n",
    "    else:\n",
    "        return None"
   ]
  },
  {
   "cell_type": "code",
   "execution_count": null,
   "metadata": {},
   "outputs": [],
   "source": [
    "# Convert info the json response to a dataframe for easier visualization\n",
    "# no stream specification means it's specific for the instrument \n",
    "df = pd.DataFrame() # Setup empty array\n",
    "for d in data:\n",
    "    df = df.append({\n",
    "        'annotation_id': d['id'],\n",
    "        'subsite': d['subsite'],\n",
    "        'node': d['node'],\n",
    "        'sensor': d['sensor'],\n",
    "        'stream': d['stream'],\n",
    "        'method': d['method'],\n",
    "        'start': convert_time(d['beginDT']),\n",
    "        'stop': convert_time(d['endDT']),\n",
    "        'qcFlag': d['qcFlag'],\n",
    "        'annotation': d['annotation']\n",
    "    }, ignore_index=True)\n",
    "pd.set_option('display.max_colwidth', -1) # Show the full annotation text\n",
    "df"
   ]
  },
  {
   "cell_type": "markdown",
   "metadata": {},
   "source": [
    "WARNING:\n",
    "Data request lines are commented out to prevent accidental resubmission when running through the entire notebook quickly."
   ]
  },
  {
   "cell_type": "markdown",
   "metadata": {},
   "source": [
    "## Data Request"
   ]
  },
  {
   "cell_type": "code",
   "execution_count": null,
   "metadata": {},
   "outputs": [],
   "source": [
    "# Data Request Line\n",
    "r = requests.get(data_request_url, params=params, auth=(username, token))\n",
    "data = r.json()"
   ]
  },
  {
   "cell_type": "code",
   "execution_count": null,
   "metadata": {},
   "outputs": [],
   "source": [
    "# print(data['allURLs'][0])"
   ]
  },
  {
   "cell_type": "code",
   "execution_count": null,
   "metadata": {},
   "outputs": [],
   "source": [
    "# %%time\n",
    "# check_complete = data['allURLs'][1] + '/status.txt'\n",
    "# for i in range(1800): \n",
    "#     r = requests.get(check_complete)\n",
    "#     if r.status_code == requests.codes.ok:\n",
    "#         print('request completed')\n",
    "#         break\n",
    "#     else:\n",
    "#         time.sleep(1)"
   ]
  },
  {
   "cell_type": "code",
   "execution_count": null,
   "metadata": {},
   "outputs": [],
   "source": [
    "url='https://opendap.oceanobservatories.org/thredds/catalog/ooi/jazlynnatalie12@gmail.com/20180718T210007-RS03CCAL-MJ03F-05-BOTPTA301-streamed-botpt_nano_sample/catalog.html'\n",
    "tds_url = 'https://opendap.oceanobservatories.org/thredds/dodsC'\n",
    "datasets = requests.get(url).text\n",
    "urls = re.findall(r'href=[\\'\"]?([^\\'\" >]+)', datasets)\n",
    "x = re.findall(r'(ooi/.*?.nc)', datasets)\n",
    "for i in x:\n",
    "    if i.endswith('.nc') == False:\n",
    "        x.remove(i)\n",
    "for i in x:\n",
    "    try:\n",
    "        float(i[-4])\n",
    "    except:\n",
    "        x.remove(i)\n",
    "datasets = [os.path.join(tds_url, i) for i in x]"
   ]
  },
  {
   "cell_type": "code",
   "execution_count": null,
   "metadata": {},
   "outputs": [],
   "source": [
    "print(datasets)"
   ]
  },
  {
   "cell_type": "markdown",
   "metadata": {},
   "source": [
    "### Create Output Directory"
   ]
  },
  {
   "cell_type": "code",
   "execution_count": null,
   "metadata": {},
   "outputs": [],
   "source": [
    "# make the output directory\n",
    "new_dir = '15s_mean_data/'\n",
    "if not os.path.isdir(new_dir):\n",
    "    try:\n",
    "        os.makedirs(new_dir)\n",
    "    except OSError:\n",
    "        if os.path.exists(new_dir):\n",
    "            pass\n",
    "        else:\n",
    "            raise"
   ]
  },
  {
   "cell_type": "markdown",
   "metadata": {},
   "source": [
    "### Downsample data"
   ]
  },
  {
   "cell_type": "code",
   "execution_count": null,
   "metadata": {},
   "outputs": [],
   "source": [
    "# read in the data directly off THREDDS and write out as subsampled pickled pandas dataframe\n",
    "# NOTE: It takes about one hour to subsample 69499.81 Mbytes of data and write it out to a dataframe. \n",
    "num = 0\n",
    "for i in datasets:\n",
    "    print('Downsampling file {} of {}'.format(str(num + 1), str(len(datasets))))\n",
    "    ds = xr.open_dataset(i)\n",
    "    ds = ds.swap_dims({'obs': 'time'})\n",
    "    \n",
    "    botpt = pd.DataFrame()\n",
    "    botpt['bottom_pressure'] = ds['bottom_pressure'].to_pandas().resample('15S').mean()\n",
    "    del botpt.index.name\n",
    "\n",
    "    botpt = botpt.dropna()\n",
    "\n",
    "    out = '15s_mean_data/' + i.split('/')[-1][:-3] + '_resampled' + '.pd'\n",
    "    num = num +1\n",
    "\n",
    "    with open(out, 'wb') as fh:\n",
    "        pk.dump(botpt,fh)\n",
    "\n",
    "    gc.collect()\n",
    "print('Complete!')"
   ]
  },
  {
   "cell_type": "markdown",
   "metadata": {},
   "source": [
    "### Aggregrate downsampled data"
   ]
  },
  {
   "cell_type": "code",
   "execution_count": null,
   "metadata": {},
   "outputs": [],
   "source": [
    "# create a single file with all the pickled data.\n",
    "botpt = pd.DataFrame()\n",
    "for path, subdirs, files in os.walk('15s_mean_data/'):\n",
    "#     files = files[1:]\n",
    "    for name in files:\n",
    "        file_name = os.path.join(path, name) \n",
    "        with open(file_name, 'rb') as f:\n",
    "            pd_df = pk.load(f)\n",
    "            botpt = botpt.append(pd_df)\n",
    "\n",
    "botpt.index.name = 'time'\n",
    "botpt = botpt.sort_values(by=['time'])\n",
    "\n",
    "with open('botpt.pd', 'wb') as f:\n",
    "    pk.dump(botpt,f)"
   ]
  },
  {
   "cell_type": "code",
   "execution_count": null,
   "metadata": {},
   "outputs": [],
   "source": [
    "# to open the first file\n",
    "x = xr.open_dataset(datasets[0])\n",
    "print(x)"
   ]
  },
  {
   "cell_type": "code",
   "execution_count": null,
   "metadata": {},
   "outputs": [],
   "source": [
    "# obtain more information on data variables (specify by adding .units, .comment, etc)\n",
    "x['bottom_pressure'].units"
   ]
  },
  {
   "cell_type": "markdown",
   "metadata": {},
   "source": [
    "psia = abbreviation for pressure units of pound(s)-force per square inch absolute. This pressure is referenced relative to a vacuum and includes the pressures exerted by both the water column and the atmosphere."
   ]
  },
  {
   "cell_type": "markdown",
   "metadata": {},
   "source": [
    "### Missing data \n",
    "The January 16, 2015 BOTPT data is missing. "
   ]
  },
  {
   "cell_type": "markdown",
   "metadata": {},
   "source": [
    "### Timeseries Plot of BOTPT"
   ]
  },
  {
   "cell_type": "code",
   "execution_count": null,
   "metadata": {},
   "outputs": [],
   "source": [
    "fig, (ax) = plt.subplots(figsize=(10,5))\n",
    "botpt['bottom_pressure'].plot(axes=ax);\n",
    "plt.ylabel('P (psia)', fontsize = 15, labelpad = 12)\n",
    "plt.xlabel('time', fontsize = 15, labelpad = 12)\n",
    "plt.title('BOTPT', fontsize = 15)\n",
    "fig.savefig('data_eval_plots/botpt.svg', format='svg', dpi=1200)"
   ]
  },
  {
   "cell_type": "markdown",
   "metadata": {},
   "source": [
    "### Converting pressure measurements from BOTPT to depth"
   ]
  },
  {
   "cell_type": "code",
   "execution_count": null,
   "metadata": {},
   "outputs": [],
   "source": [
    "botpt_corrected = (botpt['bottom_pressure']*.67)\n",
    "botpt_mean = botpt_corrected.mean()\n",
    "botpt_diff = botpt_corrected - botpt_mean\n",
    "print(botpt_corrected)\n",
    "botpt.tail()"
   ]
  },
  {
   "cell_type": "code",
   "execution_count": null,
   "metadata": {},
   "outputs": [],
   "source": [
    "fig, (ax) = plt.subplots(figsize=(10,5))\n",
    "botpt_corrected.plot(axes=ax)\n",
    "plt.ylabel('depth (m)', fontsize = 15, labelpad = 12)\n",
    "plt.xlabel('time', fontsize = 15, labelpad = 12)\n",
    "plt.title('BOTPT', fontsize = 15)\n",
    "# fig.savefig('data_eval_plots/depbotpt.svg', format='svg', dpi=1200)"
   ]
  },
  {
   "cell_type": "markdown",
   "metadata": {},
   "source": [
    "### Importing BPR datasets "
   ]
  },
  {
   "cell_type": "code",
   "execution_count": null,
   "metadata": {},
   "outputs": [],
   "source": [
    "bpr = xr.open_dataset('test1.nc')\n",
    "bpr = bpr.swap_dims({'index': 'time'})\n",
    "# df = botpt_bpr.to_dataframe()\n",
    "# df.head()"
   ]
  },
  {
   "cell_type": "markdown",
   "metadata": {},
   "source": [
    "### BPR measurements (already) in depth"
   ]
  },
  {
   "cell_type": "code",
   "execution_count": null,
   "metadata": {},
   "outputs": [],
   "source": [
    "fig, (ax) = plt.subplots(figsize=(10,5))\n",
    "bpr['DriftCorrRawDep'].plot(ax=ax);\n",
    "plt.ylabel('depth (m)', fontsize = 15, labelpad = 12)\n",
    "plt.xlabel('time', fontsize = 15, labelpad = 12)\n",
    "plt.title('BPR', fontsize = 15)\n",
    "fig.savefig('data_eval_plots/bpr.svg', format='svg', dpi=1200)"
   ]
  },
  {
   "cell_type": "markdown",
   "metadata": {},
   "source": [
    "### Compare BOTPT and BPR measurements"
   ]
  },
  {
   "cell_type": "code",
   "execution_count": null,
   "metadata": {},
   "outputs": [],
   "source": [
    "fig, ax = plt.subplots(figsize=(10, 5))\n",
    "# ax.plot(botpt_corrected,label='BOTPT')\n",
    "botpt_corrected.plot(ax=ax);\n",
    "bpr['DriftCorrRawDep'].plot(ax=ax);\n",
    "ax.set_ylabel('depth',fontsize = 15, labelpad = 12)\n",
    "ax.set_xlabel('time', fontsize = 15, labelpad = 12)\n",
    "plt.legend(['BOTPT', 'BPR']);\n",
    "plt.title('BOTPT vs BPR', fontsize = 15)\n",
    "# fig.savefig('data_eval_plots/botptvsbpr.svg', format='svg', dpi=1200)"
   ]
  },
  {
   "cell_type": "markdown",
   "metadata": {},
   "source": [
    "### Reduce each time series to the mean"
   ]
  },
  {
   "cell_type": "code",
   "execution_count": null,
   "metadata": {},
   "outputs": [],
   "source": [
    "fig, ax = plt.subplots(figsize=(10, 5))\n",
    "# ax.plot(t,z-zm)\n",
    "x = ax.plot(botpt_corrected - botpt_corrected.mean(),label='BOTPT')\n",
    "y = plt.plot(bpr['time'],bpr['DriftCorrRawDep']-bpr['DriftCorrRawDep'].mean())\n",
    "# x = ax.plot(botpt_corrected - botpt_corrected.mean(),label='BOTPT')\n",
    "ax.set_ylabel('depth',fontsize = 15, labelpad = 12)\n",
    "ax.set_xlabel('time', fontsize = 15, labelpad = 12)\n",
    "plt.title('Reduced Mean BOTPT vs BPR', fontsize = 15)\n",
    "plt.legend(['BOTPT', 'BPR']);\n",
    "# ax.plot(botpt_bpr - botpt_bpr.mean())\n",
    "# ax.plot(botpt_bpr['DriftCorrRawDep'] - zm,label='BOTPT at 1526 m')\n",
    "# # ax.set_xlim(datetime.date(2015,1,1),datetime.date(2015,1,5))\n",
    "\n",
    "# # # plt.savefig('data_eval_plots.eps', )\n",
    "# # fig.savefig('data_eval_plots/meanofbotp.svg', format='svg', dpi=1200)"
   ]
  },
  {
   "cell_type": "markdown",
   "metadata": {},
   "source": [
    "The BPR data obtained starts on January 1, 2015, thus the lack of data on the graph prior to that date. "
   ]
  },
  {
   "cell_type": "code",
   "execution_count": null,
   "metadata": {},
   "outputs": [],
   "source": [
    "type(botpt_corrected)"
   ]
  },
  {
   "cell_type": "markdown",
   "metadata": {},
   "source": [
    "Identify start and end time for each plotted vector"
   ]
  },
  {
   "cell_type": "code",
   "execution_count": null,
   "metadata": {},
   "outputs": [],
   "source": [
    "# botpt_bpr['time'][0]"
   ]
  },
  {
   "cell_type": "markdown",
   "metadata": {},
   "source": [
    "### Zooming in on the graph"
   ]
  },
  {
   "cell_type": "code",
   "execution_count": null,
   "metadata": {},
   "outputs": [],
   "source": [
    "t = bpr['time']\n",
    "z = bpr['DriftCorrRawDep']\n",
    "zm = z.mean()\n",
    "zdiff = z - zm\n",
    "\n",
    "# # v = botpt_corrected\n",
    "# c = botpt_corrected['bottom_pressure']\n",
    "# cm = c.mean()"
   ]
  },
  {
   "cell_type": "code",
   "execution_count": null,
   "metadata": {},
   "outputs": [],
   "source": [
    "a = bpr.to_dataframe()\n",
    "b = pd.DataFrame(botpt_corrected)\n",
    "c = pd.merge(a, b, how='inner',left_index=True,right_index=True)"
   ]
  },
  {
   "cell_type": "code",
   "execution_count": null,
   "metadata": {},
   "outputs": [],
   "source": [
    "# c['DriftCorrRawDep'].plot()\n",
    "# c['bottom_pressure'].plot()\n",
    "fig,ax = plt.subplots(1,1,figsize=(14,8))\n",
    "m1 = c['DriftCorrRawDep'].mean()\n",
    "m2=c['bottom_pressure'].mean()\n",
    "ax.plot(c.index, c['DriftCorrRawDep'] - m1,marker='.',markersize=1,linestyle=None,label='bpr')\n",
    "ax.plot(c.index, c['bottom_pressure'] - m2,marker='.',markersize=1,label='botpt',linestyle=None)\n",
    "plt.legend()\n",
    "ax.set_xlim(datetime.datetime(2015,1,8,1,0,0),datetime.datetime(2015,1,8,2,0,0))"
   ]
  },
  {
   "cell_type": "markdown",
   "metadata": {},
   "source": [
    "### Calculating Difference\n"
   ]
  },
  {
   "cell_type": "code",
   "execution_count": null,
   "metadata": {},
   "outputs": [],
   "source": [
    "plt.plot(c.index,(c['DriftCorrRawDep']-m1) - (c['bottom_pressure']-m2));"
   ]
  },
  {
   "cell_type": "code",
   "execution_count": null,
   "metadata": {},
   "outputs": [],
   "source": [
    "print (botpt['bottom_pressure'].values)"
   ]
  },
  {
   "cell_type": "markdown",
   "metadata": {},
   "source": [
    "## Conclusions: \n",
    "1. The reduced means of BOTPT and BPR match almost perfectly.   \n",
    "2. BPR measurements fill in the missing gap (January 16, 2015) nicely when the two graphs are overlapped. \n",
    "\n",
    "#### Next step: Do analysis on longer timeseries. "
   ]
  }
 ],
 "metadata": {
  "kernelspec": {
   "display_name": "Python 3",
   "language": "python",
   "name": "python3"
  },
  "language_info": {
   "codemirror_mode": {
    "name": "ipython",
    "version": 3
   },
   "file_extension": ".py",
   "mimetype": "text/x-python",
   "name": "python",
   "nbconvert_exporter": "python",
   "pygments_lexer": "ipython3",
   "version": "3.6.6"
  }
 },
 "nbformat": 4,
 "nbformat_minor": 2
}
