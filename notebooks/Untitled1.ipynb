{
 "cells": [
  {
   "cell_type": "code",
   "execution_count": null,
   "metadata": {},
   "outputs": [],
   "source": [
    "import xarray as xr\n",
    "import pandas as pd\n",
    "import numpy as np\n",
    "import datetime\n",
    "import os\n",
    "import matplotlib.pyplot as plt\n",
    "import matplotlib.dates as dates\n",
    "from matplotlib import pyplot\n",
    "from pylab import rcParams\n",
    "import pickle as pk\n",
    "import gc\n",
    "import requests \n",
    "import matplotlib.gridspec as gridspec\n",
    "import netCDF4 as nc\n",
    "import hvplot\n",
    "import hvplot.pandas\n",
    "import hvplot.xarray\n",
    "import holoviews as hv\n",
    "from holoviews import opts"
   ]
  },
  {
   "cell_type": "markdown",
   "metadata": {},
   "source": [
    "#### Read tide data"
   ]
  },
  {
   "cell_type": "code",
   "execution_count": null,
   "metadata": {},
   "outputs": [],
   "source": [
    "tide_file = '/home/jovyan/data/tide/pred_F.txt'\n",
    "df_tides = pd.read_csv(tide_file, delim_whitespace=True, dtype = object)\n",
    "df_tides['datetime']=df_tides['year'] + '-' + df_tides['month'] + '-' + df_tides['day'] + \\\n",
    "            'T' + df_tides['hour'] + ':' + df_tides['minute'] + ':' + df_tides['second']\n",
    "df_tides.index=pd.to_datetime(df_tides['datetime'].values)\n",
    "del df_tides['year']\n",
    "del df_tides['month']\n",
    "del df_tides['day']\n",
    "del df_tides['hour']\n",
    "del df_tides['minute']\n",
    "del df_tides['second']\n",
    "del df_tides['datetime']\n",
    "df_tides['height'] = df_tides['height'].astype(float)\n",
    "df_tides= df_tides.sort_index()"
   ]
  },
  {
   "cell_type": "code",
   "execution_count": null,
   "metadata": {},
   "outputs": [],
   "source": [
    "#list comprehention\n",
    "epoch= [i.timestamp() for i in df_tides.index.to_pydatetime()]"
   ]
  },
  {
   "cell_type": "code",
   "execution_count": null,
   "metadata": {},
   "outputs": [],
   "source": [
    "df_tides['epoch'] = epoch"
   ]
  },
  {
   "cell_type": "markdown",
   "metadata": {},
   "source": [
    "#### Pull in data MJ03F (Central Caldera)"
   ]
  },
  {
   "cell_type": "code",
   "execution_count": null,
   "metadata": {},
   "outputs": [],
   "source": [
    "with open('/home/jovyan/data/botpt/2019bottom_pressure15s_F.pkl', 'rb') as F:\n",
    "    botpt_data_F = pk.load(F)\n",
    "df_botptF = pd.DataFrame(botpt_data_F)\n",
    "df_botptF['bottom_pressure'] = df_botptF['bottom_pressure'].astype(float)\n",
    "df_botptF['depth']=df_botptF['bottom_pressure'].astype(float) * 0.670\n",
    "#MJ03F_cal_depths = [MJ03F_pressure * 0.0670 for MJ03F_pressure in MJ03F_pressure]\n",
    "#list comprehention\"\n",
    "epoch= [i.timestamp() for i in df_botptF.index.to_pydatetime()]\n",
    "df_botptF['epoch'] = epoch\n",
    "df_botptF= df_botptF.sort_index()\n",
    "df_botptF.index.name= 'Date'\n",
    "df_botptF.tail()"
   ]
  },
  {
   "cell_type": "code",
   "execution_count": null,
   "metadata": {},
   "outputs": [],
   "source": [
    "df_botptF.hvplot.scatter(x='Date', y='depth', height=200, datashade=True,\n",
    "                       flip_yaxis=True)"
   ]
  },
  {
   "cell_type": "code",
   "execution_count": null,
   "metadata": {},
   "outputs": [],
   "source": [
    "df_subsetTides = df_tides.loc['2017-01-1 00:00:00':'2019-06-17 00:00:00']\n",
    "df_subsetBOTPTF = df_botptF.loc['2017-01-1 00:00:00':'2019-06-17 00:00:00']"
   ]
  },
  {
   "cell_type": "code",
   "execution_count": null,
   "metadata": {},
   "outputs": [],
   "source": [
    "df_subsetBOTPTF['tides'] = df_subsetTides.height\n",
    "df_subsetBOTPTF.tail()"
   ]
  },
  {
   "cell_type": "code",
   "execution_count": null,
   "metadata": {},
   "outputs": [],
   "source": [
    "df_subsetBOTPTF['dtide']=  df_subsetBOTPTF['depth'] - df_subsetBOTPTF['tides']\n",
    "df_subsetBOTPTF.tail()"
   ]
  },
  {
   "cell_type": "code",
   "execution_count": null,
   "metadata": {},
   "outputs": [],
   "source": [
    "dtide_F = df_subsetBOTPTF['dtide']"
   ]
  },
  {
   "cell_type": "code",
   "execution_count": null,
   "metadata": {},
   "outputs": [],
   "source": [
    "dtide_F.max()"
   ]
  },
  {
   "cell_type": "code",
   "execution_count": null,
   "metadata": {},
   "outputs": [],
   "source": [
    "# dtide_F['inflation']=df_subsetBOTPTF['dtide'].astype(float) - 1511.257516699219"
   ]
  },
  {
   "cell_type": "code",
   "execution_count": null,
   "metadata": {},
   "outputs": [],
   "source": [
    "df_subsetBOTPTF['inflation']=df_subsetBOTPTF['dtide'].astype(float) - 1511.257516699219"
   ]
  },
  {
   "cell_type": "code",
   "execution_count": null,
   "metadata": {},
   "outputs": [],
   "source": [
    "df_subsetBOTPTF.head(10)"
   ]
  },
  {
   "cell_type": "code",
   "execution_count": null,
   "metadata": {},
   "outputs": [],
   "source": [
    "dtide_F['inflation'].head(5)"
   ]
  },
  {
   "cell_type": "code",
   "execution_count": null,
   "metadata": {},
   "outputs": [],
   "source": [
    "dtide_F['inflation'].plt()"
   ]
  },
  {
   "cell_type": "code",
   "execution_count": null,
   "metadata": {},
   "outputs": [],
   "source": [
    "dtide_F.hvplot(x='Date', y='inflation', datashade=True, height=200,\n",
    "                       flip_yaxis=True)"
   ]
  },
  {
   "cell_type": "code",
   "execution_count": null,
   "metadata": {},
   "outputs": [],
   "source": [
    "# Plot one day \n",
    "plt.close()\n",
    "fig1, ax1 = plt.subplots()\n",
    "fig.set_size_inches(28, 6)\n",
    "hb1 = ax.plot(inflation)\n",
    "ax.yaxis.grid(True)\n",
    "ax.xaxis.grid(True)\n",
    "ax.set_xlim(datetime.datetime(2017, 1, 1, 0, 0),datetime.datetime(2019, 6, 17, 0, 0))\n",
    "years = dates.YearLocator()\n",
    "months = dates.MonthLocator()\n",
    "yearsFmt = dates.DateFormatter('\\n\\n\\n%Y')\n",
    "monthsFmt = dates.DateFormatter('%b')\n",
    "ax.xaxis.set_major_locator(months)\n",
    "ax.xaxis.set_major_formatter(monthsFmt)\n",
    "ax.xaxis.set_minor_locator(years)\n",
    "ax.xaxis.set_minor_formatter(yearsFmt)\n",
    "plt.tight_layout()\n",
    "plt.setp(ax.xaxis.get_majorticklabels(), rotation=90)\n",
    "plt.gca().invert_yaxis()\n",
    "plt.show()"
   ]
  },
  {
   "cell_type": "code",
   "execution_count": null,
   "metadata": {},
   "outputs": [],
   "source": [
    "# Plot one day \n",
    "plt.close()\n",
    "fig, ax = plt.subplots()\n",
    "fig.set_size_inches(28, 6)\n",
    "hb1 = ax.plot(dtide_F)\n",
    "ax.yaxis.grid(True)\n",
    "ax.xaxis.grid(True)\n",
    "ax.set_xlim(datetime.datetime(2017, 1, 1, 0, 0),datetime.datetime(2019, 6, 17, 0, 0))\n",
    "years = dates.YearLocator()\n",
    "months = dates.MonthLocator()\n",
    "yearsFmt = dates.DateFormatter('\\n\\n\\n%Y')\n",
    "monthsFmt = dates.DateFormatter('%b')\n",
    "ax.xaxis.set_major_locator(months)\n",
    "ax.xaxis.set_major_formatter(monthsFmt)\n",
    "ax.xaxis.set_minor_locator(years)\n",
    "ax.xaxis.set_minor_formatter(yearsFmt)\n",
    "plt.tight_layout()\n",
    "plt.setp(ax.xaxis.get_majorticklabels(), rotation=90)\n",
    "plt.gca().invert_yaxis()\n",
    "plt.show()"
   ]
  },
  {
   "cell_type": "code",
   "execution_count": null,
   "metadata": {},
   "outputs": [],
   "source": [
    "df_subsetBOTPTF.hvplot(x='Date', y='dtide', datashade=True, height=200,\n",
    "                       flip_yaxis=True)"
   ]
  },
  {
   "cell_type": "markdown",
   "metadata": {},
   "source": [
    "### Pull in data MJ03E"
   ]
  },
  {
   "cell_type": "code",
   "execution_count": null,
   "metadata": {},
   "outputs": [],
   "source": [
    "with open('/home/jovyan/data/botpt/2019bottom_pressure15s_E.pkl', 'rb') as E:\n",
    "    botpt_data_E = pk.load(E)\n",
    "df_botptE = pd.DataFrame(botpt_data_E)\n",
    "df_botptE['bottom_pressure'] = df_botptE['bottom_pressure'].astype(float)\n",
    "df_botptE['depth']=df_botptE['bottom_pressure'].astype(float) * 0.670\n",
    "epoch= [i.timestamp() for i in df_botptE.index.to_pydatetime()]\n",
    "df_botptE['epoch'] = epoch\n",
    "df_botptE= df_botptF.sort_index()\n",
    "df_botptE.index.name= 'Date'\n",
    "df_botptE.tail()"
   ]
  },
  {
   "cell_type": "code",
   "execution_count": null,
   "metadata": {},
   "outputs": [],
   "source": [
    "df_botptE.hvplot.scatter(x='Date', y='depth', height=200, datashade=True,\n",
    "                       flip_yaxis=True)"
   ]
  },
  {
   "cell_type": "code",
   "execution_count": null,
   "metadata": {},
   "outputs": [],
   "source": [
    "df_subsetTides = df_tides.loc['2015-01-1 00:00:00':'2019-06-17 00:00:00']\n",
    "df_subsetBOTPTE = df_botptE.loc['2015-01-1 00:00:00':'2019-06-17 00:00:00']"
   ]
  },
  {
   "cell_type": "code",
   "execution_count": null,
   "metadata": {},
   "outputs": [],
   "source": [
    "df_subsetBOTPTE['tides'] = df_subsetTides.height\n",
    "df_subsetBOTPTE.tail()"
   ]
  },
  {
   "cell_type": "code",
   "execution_count": null,
   "metadata": {},
   "outputs": [],
   "source": [
    "df_subsetBOTPTE['dtide']=  df_subsetBOTPTE['depth'] - df_subsetBOTPTE['tides']\n",
    "df_subsetBOTPTE.tail()"
   ]
  },
  {
   "cell_type": "code",
   "execution_count": null,
   "metadata": {},
   "outputs": [],
   "source": [
    "dtide_E = df_subsetBOTPTE['dtide']"
   ]
  },
  {
   "cell_type": "code",
   "execution_count": null,
   "metadata": {},
   "outputs": [],
   "source": [
    "df_subsetBOTPTE.hvplot(x='Date', y='dtide', datashade=True, height=200,\n",
    "                       flip_yaxis=True)"
   ]
  },
  {
   "cell_type": "code",
   "execution_count": null,
   "metadata": {},
   "outputs": [],
   "source": [
    "plt.close()\n",
    "fig6, (ax2, ax3) = plt.subplots(2,1)\n",
    "# fig6.set_size_inches(30, 14)\n",
    "fig6.set_size_inches(60, 28)\n",
    "\n",
    "hb1 = ax2.plot(dtide_F)\n",
    "ax2.set_ylim(ax2.get_ylim()[::-1])\n",
    "ax2.yaxis.grid(True)\n",
    "plt.gca().invert_yaxis()\n",
    "ax2.xaxis.grid(True)\n",
    "ax2.set_xlim(datetime.datetime(2017, 1, 1, 0, 0),datetime.datetime(2019, 6, 17, 0, 0))\n",
    "# years = dates.YearLocator()\n",
    "months = dates.MonthLocator()\n",
    "# yearsFmt = dates.DateFormatter('\\n\\n\\n%Y')\n",
    "monthsFmt = dates.DateFormatter('%b')\n",
    "ax2.xaxis.set_major_locator(months)\n",
    "ax2.xaxis.set_major_formatter(monthsFmt)\n",
    "# ax2.xaxis.set_minor_locator(years)\n",
    "# ax2.xaxis.set_minor_formatter(yearsFmt)\n",
    "ax2.set_title('Central Caldera Inflation', fontsize=24, fontweight = 'bold')\n",
    "ax2.set_ylabel('Depth (m)', fontsize=20, fontweight = 'bold', rotation=90)\n",
    "\n",
    "hb1 = ax3.plot(dtide_E)\n",
    "# hb2 = ax5.plot(time, depth_av, linewidth=5)\n",
    "# ax3.set_ylim(ax3.get_ylim()[::-1])\n",
    "ax3.yaxis.grid(True)\n",
    "ax3.xaxis.grid(True)\n",
    "ax3.set_xlim(datetime.datetime(2017, 1, 1, 0, 0),datetime.datetime(2019, 6, 17, 0, 0))\n",
    "# years = dates.YearLocator()\n",
    "months = dates.MonthLocator()\n",
    "# yearsFmt = dates.DateFormatter('\\n\\n\\n%Y')\n",
    "monthsFmt = dates.DateFormatter('%b')\n",
    "ax3.xaxis.set_major_locator(months)\n",
    "ax3.xaxis.set_major_formatter(monthsFmt)\n",
    "# ax2.xaxis.set_minor_locator(years)\n",
    "# ax2.xaxis.set_minor_formatter(yearsFmt)\n",
    "ax3.set_title('Eastern Caldera Inflation', fontsize=24, fontweight = 'bold')\n",
    "ax3.set_ylabel('Depth (m)', fontsize=20, fontweight = 'bold', rotation=90)\n",
    "\n",
    "\n",
    "#plt.tight_layout()\n",
    "# plt.setp(ax1.set_xticklabels([]))\n",
    "plt.setp(ax2.set_xticklabels([]))\n",
    "plt.setp(ax3.set_xticklabels([]))\n",
    "# plt.setp(ax4.set_xticklabels([]))\n",
    "# plt.setp(ax5.set_xticklabels([]))\n",
    "\n",
    "#plt.setp(ax1.xaxis.get_majorticklabels(), rotation=0, fontsize=24)\n",
    "#plt.setp(ax1.xaxis.get_minorticklabels(), rotation=0, fontsize=24)\n",
    "# plt.setp(ax1.yaxis.get_majorticklabels(), rotation=0, fontsize=20, fontweight = 'bold')\n",
    "plt.setp(ax2.yaxis.get_majorticklabels(), rotation=0, fontsize=20, fontweight = 'bold')\n",
    "plt.setp(ax3.yaxis.get_majorticklabels(), rotation=0, fontsize=20, fontweight = 'bold')\n",
    "# plt.setp(ax4.yaxis.get_majorticklabels(), rotation=0, fontsize=20, fontweight = 'bold')\n",
    "# plt.setp(ax5.yaxis.get_majorticklabels(), rotation=0, fontsize=20, fontweight = 'bold')\n",
    "# plt.setp(ax6.yaxis.get_majorticklabels(), rotation=0, fontsize=20, fontweight = 'bold')\n",
    "\n",
    "# plt.setp(ax5.xaxis.get_minorticklabels(), rotation=0, fontsize=20, fontweight = 'bold')\n",
    "\n",
    "plt.suptitle('Comparison Between Inflation and Earthquakes',\n",
    "            fontsize=32, color= 'blue', fontweight = 'bold')\n",
    "plt.subplots_adjust(top=0.90, hspace=0.25)\n",
    "# plt.subplots_adjust(top=1.0, hspace=0.25)\n",
    "# plt.savefig('/home/jovyan/botpt/figures/botptbothmethodsvseq.png')\n",
    "# plt.savefig('/home/jovyan/botpt/figures/ohw.png')"
   ]
  },
  {
   "cell_type": "code",
   "execution_count": null,
   "metadata": {},
   "outputs": [],
   "source": []
  }
 ],
 "metadata": {
  "kernelspec": {
   "display_name": "Python 3",
   "language": "python",
   "name": "python3"
  },
  "language_info": {
   "codemirror_mode": {
    "name": "ipython",
    "version": 3
   },
   "file_extension": ".py",
   "mimetype": "text/x-python",
   "name": "python",
   "nbconvert_exporter": "python",
   "pygments_lexer": "ipython3",
   "version": "3.6.6"
  }
 },
 "nbformat": 4,
 "nbformat_minor": 2
}
