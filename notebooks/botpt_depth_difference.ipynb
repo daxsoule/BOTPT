{
 "cells": [
  {
   "cell_type": "code",
   "execution_count": null,
   "metadata": {},
   "outputs": [],
   "source": [
    "import xarray as xr\n",
    "import pandas as pd\n",
    "import numpy as np\n",
    "import datetime\n",
    "import os\n",
    "import matplotlib.pyplot as plt\n",
    "import matplotlib.dates as dates\n",
    "from matplotlib import pyplot\n",
    "from pylab import rcParams\n",
    "import pickle as pk\n",
    "import gc\n",
    "import requests \n",
    "import matplotlib.gridspec as gridspec\n",
    "import netCDF4 as nc"
   ]
  },
  {
   "cell_type": "markdown",
   "metadata": {},
   "source": [
    "#### Read Downsampled BOTPT Data "
   ]
  },
  {
   "cell_type": "code",
   "execution_count": null,
   "metadata": {},
   "outputs": [],
   "source": [
    "with open('/home/jovyan/data/botpt/2019bottom_pressure15s_F.pkl', 'rb') as E:\n",
    "    botpt_data = pk.load(E)\n",
    "df_botptF = pd.DataFrame(botpt_data)\n",
    "df_botptF['bottom_pressure'] = df_botptF['bottom_pressure'].astype(float)\n",
    "df_botptF['depth']=df_botptF['bottom_pressure'].astype(float) * 0.670\n",
    "#MJ03F_cal_depths = [MJ03F_pressure * 0.0670 for MJ03F_pressure in MJ03F_pressure]\n",
    "#list comprehention\n",
    "epoch= [i.timestamp() for i in df_botptF.index.to_pydatetime()]\n",
    "df_botptF['epoch'] = epoch\n",
    "df_botptF= df_botptF.sort_index()\n",
    "df_botptF.tail()"
   ]
  },
  {
   "cell_type": "code",
   "execution_count": null,
   "metadata": {},
   "outputs": [],
   "source": [
    "with open('/home/jovyan/data/botpt/2019bottom_pressure15s_E.pkl', 'rb') as E:\n",
    "    botpt_data = pk.load(E)\n",
    "df_botptE = pd.DataFrame(botpt_data)\n",
    "df_botptE['bottom_pressure'] = df_botptE['bottom_pressure'].astype(float)\n",
    "df_botptE['depth']=df_botptE['bottom_pressure'].astype(float) * 0.670\n",
    "#MJ03F_cal_depths = [MJ03F_pressure * 0.0670 for MJ03F_pressure in MJ03F_pressure]\n",
    "#list comprehention\n",
    "epoch= [i.timestamp() for i in df_botptE.index.to_pydatetime()]\n",
    "df_botptE['epoch'] = epoch\n",
    "df_botptE= df_botptE.sort_index()\n",
    "df_botptE.tail()"
   ]
  },
  {
   "cell_type": "markdown",
   "metadata": {},
   "source": [
    "#### Cleaning up the DataFrame"
   ]
  },
  {
   "cell_type": "code",
   "execution_count": null,
   "metadata": {},
   "outputs": [],
   "source": [
    "del df_botptE['epoch']\n",
    "del df_botptE['bottom_pressure']\n",
    "del df_botptF['epoch']\n",
    "del df_botptF['bottom_pressure']"
   ]
  },
  {
   "cell_type": "code",
   "execution_count": null,
   "metadata": {},
   "outputs": [],
   "source": [
    "df_botptF.tail()"
   ]
  },
  {
   "cell_type": "code",
   "execution_count": null,
   "metadata": {},
   "outputs": [],
   "source": [
    "df_botptE.tail()"
   ]
  },
  {
   "cell_type": "markdown",
   "metadata": {},
   "source": [
    "#### Merge BOTPT E and BOTPT F "
   ]
  },
  {
   "cell_type": "code",
   "execution_count": null,
   "metadata": {},
   "outputs": [],
   "source": [
    "test = pd.merge(df_botptF, df_botptE,how='outer', indicator=True, left_index=True, right_index=True, suffixes=('_F', '_E'))"
   ]
  },
  {
   "cell_type": "code",
   "execution_count": null,
   "metadata": {},
   "outputs": [],
   "source": [
    "df_botptMerge = test[test['_merge'] == 'both']\n",
    "del df_botptMerge['_merge']"
   ]
  },
  {
   "cell_type": "code",
   "execution_count": null,
   "metadata": {},
   "outputs": [],
   "source": [
    "df_botptMerge = df_botptMerge.loc['2017-1-1 00:00:00':'2019-6-27 00:00:00']"
   ]
  },
  {
   "cell_type": "code",
   "execution_count": null,
   "metadata": {},
   "outputs": [],
   "source": [
    "df_botptMerge.tail()"
   ]
  },
  {
   "cell_type": "markdown",
   "metadata": {},
   "source": [
    "#### Calculate Depth difference "
   ]
  },
  {
   "cell_type": "code",
   "execution_count": null,
   "metadata": {},
   "outputs": [],
   "source": [
    "depthDiff = df_botptMerge['depth_E'].values - df_botptMerge['depth_F'].values"
   ]
  },
  {
   "cell_type": "code",
   "execution_count": null,
   "metadata": {},
   "outputs": [],
   "source": [
    "df_botptMerge['diff'] = depthDiff"
   ]
  },
  {
   "cell_type": "markdown",
   "metadata": {},
   "source": [
    "#### Create time and height vectors for plotting "
   ]
  },
  {
   "cell_type": "code",
   "execution_count": null,
   "metadata": {},
   "outputs": [],
   "source": [
    "# time = list(df_botptMerge.index.values)\n",
    "#height = x.tolist()\n",
    "height = df_botptMerge['diff'].tolist()\n",
    "time_int = []\n",
    "time = list(pd.to_datetime(df_botptMerge.index.values))\n",
    "for i in time:\n",
    "    i = np.datetime64(i).astype(datetime.datetime)\n",
    "    time_int.append(dates.date2num(i))"
   ]
  },
  {
   "cell_type": "code",
   "execution_count": null,
   "metadata": {},
   "outputs": [],
   "source": [
    "plt.close()\n",
    "fig, ax = plt.subplots()\n",
    "fig.set_size_inches(28, 6)\n",
    "hb1 = ax.hexbin(time_int, height, vmin=0, vmax=30, gridsize=(1500,100), mincnt=1, cmap='Greens', linewidths=0)\n",
    "fig.colorbar(hb1, pad = 0.01)\n",
    "ax.yaxis.grid(True)\n",
    "ax.xaxis.grid(True)\n",
    "ax.set_xlim(datetime.datetime(2017, 1, 1, 0, 0),datetime.datetime(2019, 6, 11, 0, 0))\n",
    "years = dates.YearLocator()\n",
    "months = dates.MonthLocator()\n",
    "yearsFmt = dates.DateFormatter('\\n\\n\\n%Y')\n",
    "monthsFmt = dates.DateFormatter('%b')\n",
    "ax.xaxis.set_major_locator(months)\n",
    "ax.xaxis.set_major_formatter(monthsFmt)\n",
    "ax.xaxis.set_minor_locator(years)\n",
    "ax.xaxis.set_minor_formatter(yearsFmt)\n",
    "plt.tight_layout()\n",
    "plt.setp(ax.xaxis.get_majorticklabels(), rotation=90)\n",
    "#plt.gca().invert_yaxis()\n",
    "plt.show()"
   ]
  },
  {
   "cell_type": "code",
   "execution_count": null,
   "metadata": {},
   "outputs": [],
   "source": [
    "df_botptMerge['date']=pd.DatetimeIndex(df_botptMerge.index).date\n",
    "#df_botptMerge.head()"
   ]
  },
  {
   "cell_type": "markdown",
   "metadata": {},
   "source": [
    "#### Use Groupby to create one day mean measurements"
   ]
  },
  {
   "cell_type": "code",
   "execution_count": null,
   "metadata": {},
   "outputs": [],
   "source": [
    "df_botptMean=df_botptMerge.groupby('date').mean()\n",
    "df_botptMean.tail()"
   ]
  },
  {
   "cell_type": "markdown",
   "metadata": {},
   "source": [
    "#### Create time and height vectors for plotting "
   ]
  },
  {
   "cell_type": "code",
   "execution_count": null,
   "metadata": {},
   "outputs": [],
   "source": [
    "# time = list(df_botptMerge.index.values)\n",
    "#height = x.tolist()\n",
    "height = df_botptMean['diff'].tolist()\n",
    "time_int = []\n",
    "time = list(pd.to_datetime(df_botptMean.index.values))\n",
    "for i in time:\n",
    "    i = np.datetime64(i).astype(datetime.datetime)\n",
    "    time_int.append(dates.date2num(i))"
   ]
  },
  {
   "cell_type": "code",
   "execution_count": null,
   "metadata": {},
   "outputs": [],
   "source": [
    "# Plot one day \n",
    "plt.close()\n",
    "fig, ax = plt.subplots()\n",
    "fig.set_size_inches(28, 6)\n",
    "hb1 = ax.plot(time_int, height)\n",
    "ax.yaxis.grid(True)\n",
    "ax.xaxis.grid(True)\n",
    "ax.set_xlim(datetime.datetime(2017, 1, 1, 0, 0),datetime.datetime(2019, 6, 11, 0, 0))\n",
    "years = dates.YearLocator()\n",
    "months = dates.MonthLocator()\n",
    "yearsFmt = dates.DateFormatter('\\n\\n\\n%Y')\n",
    "monthsFmt = dates.DateFormatter('%b')\n",
    "ax.xaxis.set_major_locator(months)\n",
    "ax.xaxis.set_major_formatter(monthsFmt)\n",
    "ax.xaxis.set_minor_locator(years)\n",
    "ax.xaxis.set_minor_formatter(yearsFmt)\n",
    "plt.tight_layout()\n",
    "plt.setp(ax.xaxis.get_majorticklabels(), rotation=90)\n",
    "#plt.gca().invert_yaxis()\n",
    "plt.show()"
   ]
  },
  {
   "cell_type": "code",
   "execution_count": null,
   "metadata": {},
   "outputs": [],
   "source": [
    "# Remove spikes\n",
    "weird_data = np.array(height)\n",
    "time_array = np.array(time)\n",
    "\n",
    "cleaner_data = []\n",
    "cleaner_time = []\n",
    "\n",
    "# i = 0\n",
    "# while i < len(weird_data):\n",
    "#     if (weird_data[i] - weird_data[i-1] > 2\n",
    "\n",
    "length = len(weird_data)\n",
    "\n",
    "i = 0\n",
    "while i < length:\n",
    "    j = i+2\n",
    "    while j < length:\n",
    "        if np.abs(weird_data[i] - weird_data[j]) < .05:\n",
    "            cleaner_data.append(weird_data[j])\n",
    "            cleaner_time.append(time_array[j])\n",
    "            break\n",
    "        else:\n",
    "            j += 1\n",
    "    i = j\n"
   ]
  },
  {
   "cell_type": "markdown",
   "metadata": {},
   "source": [
    "### Comparison between plots with and without spikes. "
   ]
  },
  {
   "cell_type": "code",
   "execution_count": null,
   "metadata": {},
   "outputs": [],
   "source": [
    "plt.close()\n",
    "fig3, (ax1,ax2) = plt.subplots(2,1)\n",
    "fig3.set_size_inches(28, 14)\n",
    "hb1 = ax1.plot(time_int, height, linewidth=5)\n",
    "ax1.yaxis.grid(True)\n",
    "ax1.xaxis.grid(True)\n",
    "ax1.set_xlim(datetime.datetime(2017, 1, 1, 0, 0),datetime.datetime(2019, 6, 11, 0, 0))\n",
    "years = dates.YearLocator()\n",
    "months = dates.MonthLocator()\n",
    "yearsFmt = dates.DateFormatter('\\n\\n\\n%Y')\n",
    "monthsFmt = dates.DateFormatter('%b')\n",
    "ax1.xaxis.set_major_locator(months)\n",
    "ax1.xaxis.set_major_formatter(monthsFmt)\n",
    "ax1.xaxis.set_minor_locator(years)\n",
    "ax1.xaxis.set_minor_formatter(yearsFmt)\n",
    "\n",
    "hb1 = ax2.plot(cleaner_time, cleaner_data, linewidth=5)\n",
    "ax2.yaxis.grid(True)\n",
    "ax2.xaxis.grid(True)\n",
    "ax2.set_xlim(datetime.datetime(2017, 1, 1, 0, 0),datetime.datetime(2019, 6, 11, 0, 0))\n",
    "years = dates.YearLocator()\n",
    "months = dates.MonthLocator()\n",
    "yearsFmt = dates.DateFormatter('\\n\\n\\n%Y')\n",
    "monthsFmt = dates.DateFormatter('%b')\n",
    "ax2.xaxis.set_major_locator(months)\n",
    "ax2.xaxis.set_major_formatter(monthsFmt)\n",
    "ax2.xaxis.set_minor_locator(years)\n",
    "ax2.xaxis.set_minor_formatter(yearsFmt)\n",
    "\n",
    "plt.tight_layout()\n",
    "plt.setp(ax1.xaxis.get_majorticklabels(), rotation=90)\n",
    "plt.suptitle('Removing Outliers', fontsize=32, color= 'red', fontweight = 'bold')\n",
    "plt.subplots_adjust(top=0.90)\n",
    "#plt.gca().invert_yaxis()\n",
    "plt.show()"
   ]
  },
  {
   "cell_type": "markdown",
   "metadata": {},
   "source": [
    "#### Import Seismic Data "
   ]
  },
  {
   "cell_type": "code",
   "execution_count": null,
   "metadata": {},
   "outputs": [],
   "source": [
    "seismic_file = '/home/jovyan/data/hypo71.dat.txt'\n",
    "df_seismic_data = pd.read_csv(seismic_file, delim_whitespace=True, dtype=object)\n",
    "df_seismic_data['datetime'] = df_seismic_data['yyyymmdd'] + 'T' + \\\n",
    "            df_seismic_data['HHMM'].str.slice(start=0, stop=2) + ':' + \\\n",
    "            df_seismic_data['HHMM'].str.slice(start=2) \n",
    "df_seismic_data.index = pd.to_datetime(df_seismic_data['datetime'].values)\n",
    "df_seismic_data['datetime'] = pd.to_datetime(df_seismic_data['datetime'].values)\n",
    "df_seismic_data = df_seismic_data.loc['2017-01-1 00:00:00':'2019-06-17 00:00:00']\n",
    "df_seismic_data.head()\n",
    "# del df_seismic_data['yyyymmdd']\n",
    "# del df_seismic_data['HHMM']\n",
    "del df_seismic_data['Lon(D']\n",
    "# del df_seismic_data['SSS.SS']\n",
    "# del df_seismic_data['Depth']\n",
    "del df_seismic_data['M)']\n",
    "del df_seismic_data['M).1']\n",
    "del df_seismic_data['NWR']\n",
    "del df_seismic_data['GAP']\n",
    "del df_seismic_data['DMIN']\n",
    "del df_seismic_data['ERH']\n",
    "del df_seismic_data['ERZ']\n",
    "del df_seismic_data['ID']\n",
    "del df_seismic_data['Lat(D']\n",
    "del df_seismic_data['PMom']\n",
    "del df_seismic_data['SMom']\n",
    "df_seismic_data['Depth'] = df_seismic_data['Depth'].astype('float64').values\n",
    "df_seismic_data['MW'] = df_seismic_data['MW'].astype('float64').values\n",
    "df_seismic_data['RMS'] = df_seismic_data['RMS'].astype('float64').values"
   ]
  },
  {
   "cell_type": "code",
   "execution_count": null,
   "metadata": {},
   "outputs": [],
   "source": [
    "df_seismic_data.datetime.astype(np.int64).values/1e64\n",
    "df_seismic_data['date'] =pd.DatetimeIndex(df_seismic_data.datetime).date\n",
    "df_seismic_data.tail()"
   ]
  },
  {
   "cell_type": "code",
   "execution_count": null,
   "metadata": {},
   "outputs": [],
   "source": [
    "df_seismic_data.plot(x='datetime', y= 'Depth')"
   ]
  },
  {
   "cell_type": "code",
   "execution_count": null,
   "metadata": {},
   "outputs": [],
   "source": [
    "df_seismic_data.plot(x='datetime', y= 'MW')"
   ]
  },
  {
   "cell_type": "code",
   "execution_count": null,
   "metadata": {},
   "outputs": [],
   "source": [
    "df_eqMean=df_seismic_data.groupby('date').mean()\n",
    "df_eqCount= df_seismic_data.groupby('date').count()\n",
    "#del df_eqMean['datetime']\n",
    "#df_eqMean.columns.name = df_eqMean.index.name\n",
    "#df_eqMean.index.name = None\n",
    "df_eqMean.tail()"
   ]
  },
  {
   "cell_type": "code",
   "execution_count": null,
   "metadata": {},
   "outputs": [],
   "source": [
    "df_eqCount['count'] = df_eqCount.datetime.astype('float64').values\n",
    "df_eqCount.head()"
   ]
  },
  {
   "cell_type": "code",
   "execution_count": null,
   "metadata": {},
   "outputs": [],
   "source": [
    "df_eqMean['count'] = df_eqCount['count'].values\n",
    "df_eqMean.head()"
   ]
  },
  {
   "cell_type": "markdown",
   "metadata": {},
   "source": [
    "#### Resample. Add days to our earthquake data where there were zero earthquakes. "
   ]
  },
  {
   "cell_type": "code",
   "execution_count": null,
   "metadata": {},
   "outputs": [],
   "source": [
    "idx = pd.date_range('2017-01-1 00:00:00', '2019-06-16 00:00:00')\n",
    "\n",
    "df_eqMean = df_eqMean\n",
    "\n",
    "df_eqMean.index = pd.DatetimeIndex(df_eqMean.index)\n",
    "\n",
    "df_eqMean = df_eqMean.reindex(idx, fill_value=0)\n",
    "df_eqMean.tail()"
   ]
  },
  {
   "cell_type": "code",
   "execution_count": null,
   "metadata": {},
   "outputs": [],
   "source": [
    "import hvplot.pandas\n",
    "a= df_eqMean.hvplot.scatter(y= 'count')\n",
    "b= df_eqMean.hvplot.scatter(y= 'Depth')\n",
    "a+b"
   ]
  },
  {
   "cell_type": "code",
   "execution_count": null,
   "metadata": {},
   "outputs": [],
   "source": [
    "df_eqMean.hvplot.scatter(y= ['count', 'Depth','MW','RMS']\n",
    "                        , subplots=True, shared_axes=False).cols(1)"
   ]
  },
  {
   "cell_type": "markdown",
   "metadata": {},
   "source": [
    "#### Create time and count vectors earthquake frequency vectors for plotting "
   ]
  },
  {
   "cell_type": "code",
   "execution_count": null,
   "metadata": {},
   "outputs": [],
   "source": [
    "count = df_eqMean['count'].tolist()\n",
    "time_int = []\n",
    "time = list(pd.to_datetime(df_eqMean.index.values))\n",
    "for i in time:\n",
    "    i = np.datetime64(i).astype(datetime.datetime)\n",
    "    time_int.append(dates.date2num(i))"
   ]
  },
  {
   "cell_type": "code",
   "execution_count": null,
   "metadata": {},
   "outputs": [],
   "source": [
    "def movingaverage(interval, window_size):\n",
    "    window= np.ones(int(window_size))/float(window_size)\n",
    "    return np.convolve(interval, window, 'same')"
   ]
  },
  {
   "cell_type": "code",
   "execution_count": null,
   "metadata": {},
   "outputs": [],
   "source": [
    "# smooth data using rolling window that chops off 95th percentile \n",
    "count_av = list(movingaverage(df_eqMean['count'],21))"
   ]
  },
  {
   "cell_type": "code",
   "execution_count": null,
   "metadata": {},
   "outputs": [],
   "source": [
    "plt.close()\n",
    "fig4, (ax1,ax2) = plt.subplots(2,1)\n",
    "fig4.set_size_inches(30, 14)\n",
    "hb1 = ax1.plot(cleaner_time, cleaner_data, linewidth=5)\n",
    "ax1.yaxis.grid(True)\n",
    "ax1.xaxis.grid(True)\n",
    "ax1.set_xlim(datetime.datetime(2017, 1, 1, 0, 0),datetime.datetime(2018, 10, 31, 0, 0))\n",
    "#years = dates.YearLocator()\n",
    "months = dates.MonthLocator()\n",
    "#yearsFmt = dates.DateFormatter('\\n\\n\\n%Y')\n",
    "monthsFmt = dates.DateFormatter('%b')\n",
    "ax1.xaxis.set_major_locator(months)\n",
    "ax1.xaxis.set_major_formatter(monthsFmt)\n",
    "#ax1.xaxis.set_minor_locator(years)\n",
    "#ax1.xaxis.set_minor_formatter(yearsFmt)\n",
    "ax1.set_title('Caldera Inflation', fontsize=36, fontweight = 'bold')\n",
    "ax1.set_ylabel('Depth-Diff (m)', fontsize=36, fontweight = 'bold', rotation=90)\n",
    "\n",
    "\n",
    "hb1 = ax2.plot(time, count)\n",
    "hb2 = ax2.plot(time, count_av, linewidth=5)\n",
    "ax2.yaxis.grid(True)\n",
    "ax2.xaxis.grid(True)\n",
    "ax2.set_xlim(datetime.datetime(2017, 1, 1, 0, 0),datetime.datetime(2018, 10, 31, 0, 0))\n",
    "years = dates.YearLocator()\n",
    "months = dates.MonthLocator()\n",
    "yearsFmt = dates.DateFormatter('\\n\\n\\n%Y')\n",
    "monthsFmt = dates.DateFormatter('%b')\n",
    "ax2.xaxis.set_major_locator(months)\n",
    "ax2.xaxis.set_major_formatter(monthsFmt)\n",
    "ax2.xaxis.set_minor_locator(years)\n",
    "ax2.xaxis.set_minor_formatter(yearsFmt)\n",
    "ax2.set_title('Daily Seismicity', fontsize=36, fontweight = 'bold')\n",
    "ax2.set_ylabel('EQ/Day', fontsize=36, fontweight = 'bold', rotation=90)\n",
    "\n",
    "#plt.tight_layout()\n",
    "plt.setp(ax1.set_xticklabels([]))\n",
    "#plt.setp(ax1.xaxis.get_majorticklabels(), rotation=0, fontsize=24)\n",
    "#plt.setp(ax1.xaxis.get_minorticklabels(), rotation=0, fontsize=24)\n",
    "plt.setp(ax1.yaxis.get_majorticklabels(), rotation=0, fontsize=24, fontweight = 'bold')\n",
    "\n",
    "plt.setp(ax2.xaxis.get_majorticklabels(), rotation=0, fontsize=24, fontweight = 'bold')\n",
    "plt.setp(ax2.xaxis.get_minorticklabels(), rotation=0, fontsize=36, fontweight = 'bold')\n",
    "plt.setp(ax2.yaxis.get_majorticklabels(), rotation=0, fontsize=24, fontweight = 'bold')\n",
    "\n",
    "#plt.suptitle('Comparison Between Inflation and Seismicity',\n",
    "#             fontsize=32, color= 'blue', fontweight = 'bold')\n",
    "plt.subplots_adjust(top=0.90, hspace=0.25)\n",
    "plt.savefig('/home/jovyan/AGU_2018/Examples/botptvseq.png')"
   ]
  },
  {
   "cell_type": "code",
   "execution_count": null,
   "metadata": {},
   "outputs": [],
   "source": [
    "plt.close()\n",
    "fig4, (ax1,ax2) = plt.subplots(2,1)\n",
    "fig4.set_size_inches(30, 14)\n",
    "# hb1 = botpt_corrected.plot(ax=ax);\n",
    "# hb1 = ax1.plot(botpt_corrected, linewidth=5) \n",
    "# hb1 = botpt['bottom_pressure'].plot\n",
    "# hb1 = ax1.plot(cleaner_time, cleaner_data, linewidth=5)\n",
    "ax1.yaxis.grid(True)\n",
    "ax1.xaxis.grid(True)\n",
    "ax1.set_xlim(datetime.datetime(2017, 1, 1, 0, 0),datetime.datetime(2019, 6, 17, 0, 0))\n",
    "# years = dates.YearLocator()\n",
    "months = dates.MonthLocator()\n",
    "# yearsFmt = dates.DateFormatter('\\n\\n\\n%Y')\n",
    "monthsFmt = dates.DateFormatter('%b')\n",
    "ax1.xaxis.set_major_locator(months)\n",
    "ax1.xaxis.set_major_formatter(monthsFmt)\n",
    "# ax1.xaxis.set_minor_locator(years)\n",
    "# ax1.xaxis.set_minor_formatter(yearsFmt)\n",
    "ax1.set_title('BOTPT Caldera Inflation', fontsize=36, fontweight = 'bold')\n",
    "ax1.set_ylabel('Depth (m)', fontsize=36, fontweight = 'bold', rotation=90)\n",
    "\n",
    "# fig, (ax) = plt.subplots(figsize=(10,5))\n",
    "# botpt['bottom_pressure'].plot(axes=ax);\n",
    "\n",
    "hb1 = ax2.plot(time, count)\n",
    "hb2 = ax2.plot(time, count_av, linewidth=5)\n",
    "ax2.yaxis.grid(True)\n",
    "ax2.xaxis.grid(True)\n",
    "ax2.set_xlim(datetime.datetime(2017, 1, 1, 0, 0),datetime.datetime(2019, 6, 17, 0, 0))\n",
    "years = dates.YearLocator()\n",
    "months = dates.MonthLocator()\n",
    "yearsFmt = dates.DateFormatter('\\n\\n\\n%Y')\n",
    "monthsFmt = dates.DateFormatter('%b')\n",
    "ax2.xaxis.set_major_locator(months)\n",
    "ax2.xaxis.set_major_formatter(monthsFmt)\n",
    "ax2.xaxis.set_minor_locator(years)\n",
    "ax2.xaxis.set_minor_formatter(yearsFmt)\n",
    "ax2.set_title('Daily Seismicity', fontsize=36, fontweight = 'bold')\n",
    "ax2.set_ylabel('EQ/Day', fontsize=36, fontweight = 'bold', rotation=90)\n",
    "\n",
    "plt.tight_layout()\n",
    "plt.setp(ax1.set_xticklabels([]))\n",
    "plt.setp(ax1.xaxis.get_majorticklabels(), rotation=0, fontsize=24)\n",
    "plt.setp(ax1.xaxis.get_minorticklabels(), rotation=0, fontsize=24)\n",
    "plt.setp(ax1.yaxis.get_majorticklabels(), rotation=0, fontsize=24, fontweight = 'bold')\n",
    "\n",
    "plt.setp(ax2.xaxis.get_majorticklabels(), rotation=0, fontsize=24, fontweight = 'bold')\n",
    "plt.setp(ax2.xaxis.get_minorticklabels(), rotation=0, fontsize=36, fontweight = 'bold')\n",
    "plt.setp(ax2.yaxis.get_majorticklabels(), rotation=0, fontsize=24, fontweight = 'bold')\n",
    "\n",
    "plt.suptitle('Comparison Between BOTPT Inflation and Seismicity',\n",
    "            fontsize=32, color= 'blue', fontweight = 'bold')\n",
    "plt.subplots_adjust(top=0.90, hspace=0.25)\n",
    "# plt.savefig('/home/jovyan/AGU_2018/Examples/botptvseq.png')"
   ]
  },
  {
   "cell_type": "code",
   "execution_count": null,
   "metadata": {},
   "outputs": [],
   "source": []
  }
 ],
 "metadata": {
  "kernelspec": {
   "display_name": "Python 3",
   "language": "python",
   "name": "python3"
  },
  "language_info": {
   "codemirror_mode": {
    "name": "ipython",
    "version": 3
   },
   "file_extension": ".py",
   "mimetype": "text/x-python",
   "name": "python",
   "nbconvert_exporter": "python",
   "pygments_lexer": "ipython3",
   "version": "3.6.6"
  }
 },
 "nbformat": 4,
 "nbformat_minor": 2
}
