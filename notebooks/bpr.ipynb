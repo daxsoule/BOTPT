{
 "cells": [
  {
   "cell_type": "code",
   "execution_count": null,
   "metadata": {},
   "outputs": [],
   "source": [
    "import pandas as pd\n",
    "import hvplot.pandas\n",
    "import numpy as np\n",
    "import matplotlib.dates as dates\n",
    "import warnings\n",
    "warnings.filterwarnings('ignore')"
   ]
  },
  {
   "cell_type": "code",
   "execution_count": null,
   "metadata": {},
   "outputs": [],
   "source": [
    "import datetime\n",
    "def dateparse (date_string):\n",
    "    return datetime.datetime.strptime(date_string, '%m/%d/%Y %H:%M:%S')"
   ]
  },
  {
   "cell_type": "markdown",
   "metadata": {},
   "source": [
    "# Nemo Center 2010-2011"
   ]
  },
  {
   "cell_type": "code",
   "execution_count": null,
   "metadata": {},
   "outputs": [],
   "source": [
    "bpr_file = '/home/jovyan/data/bpr/Axial_Deformation/nemo2010-2011-BPR-center-15sec-driftcorr-detided-lpf.txt'"
   ]
  },
  {
   "cell_type": "code",
   "execution_count": null,
   "metadata": {},
   "outputs": [],
   "source": [
    "df_nemoC = pd.read_csv(bpr_file, parse_dates=True, date_parser=dateparse, index_col='Date',\n",
    "                       dtype = {'Date': object,'RawDep': np.float64,\n",
    "                                'Temp': np.float64, 'DriftCorrRawDep': np.float64,\n",
    "                                'SpotlDep': np.float64, 'DriftCorrSpotlDep': np.float64,\n",
    "                                'LPFDep,DriftCorrLPFDep': np.float64})"
   ]
  },
  {
   "cell_type": "code",
   "execution_count": null,
   "metadata": {},
   "outputs": [],
   "source": [
    "df_nemoC.hvplot.scatter(x='Date', y= ['DriftCorrRawDep', 'DriftCorrSpotlDep', 'DriftCorrLPFDep'], subplots= True, datashade=True, flip_yaxis=True).cols(1)"
   ]
  },
  {
   "cell_type": "markdown",
   "metadata": {},
   "source": [
    "# Nemo South 2009-2011"
   ]
  },
  {
   "cell_type": "code",
   "execution_count": null,
   "metadata": {},
   "outputs": [],
   "source": [
    "bpr_file = '/home/jovyan/data/botpt/bpr_files/Axial_Deformation/nemo2009-2011-BPR-south-15sec-detided-lpf.txt'"
   ]
  },
  {
   "cell_type": "code",
   "execution_count": null,
   "metadata": {},
   "outputs": [],
   "source": [
    "!head /home/jovyan/data/botpt/bpr_files/Axial_Deformation/nemo2009-2011-BPR-south-15sec-detided-lpf.txt"
   ]
  },
  {
   "cell_type": "code",
   "execution_count": null,
   "metadata": {},
   "outputs": [],
   "source": [
    "df_nemoS = pd.read_csv(bpr_file, parse_dates=True, date_parser=dateparse, index_col='Date',\n",
    "                       dtype = {'Date': object,'Depth': np.float64,\n",
    "                                'Temp': np.float64, 'SpotlDetidedDepth': np.float64,\n",
    "                                'LPFDetidedDepth': np.float64})"
   ]
  },
  {
   "cell_type": "code",
   "execution_count": null,
   "metadata": {},
   "outputs": [],
   "source": [
    "df_nemoS.head()"
   ]
  },
  {
   "cell_type": "markdown",
   "metadata": {},
   "source": [
    "#### Notes; "
   ]
  },
  {
   "cell_type": "code",
   "execution_count": null,
   "metadata": {},
   "outputs": [],
   "source": [
    "df_nemoS.hvplot.scatter(x='Date', y= ['Depth', 'SpotlDetidedDepth'], subplots= True, datashade=True, flip_yaxis=True).cols(1)"
   ]
  },
  {
   "cell_type": "markdown",
   "metadata": {},
   "source": [
    "# Difference plot: Nemo Centeral - Nemo South \n",
    "### Nemo South does not have drift corrected values; so I am not sure if this is as valuable... "
   ]
  },
  {
   "cell_type": "code",
   "execution_count": null,
   "metadata": {},
   "outputs": [],
   "source": []
  }
 ],
 "metadata": {
  "kernelspec": {
   "display_name": "Python 3",
   "language": "python",
   "name": "python3"
  },
  "language_info": {
   "codemirror_mode": {
    "name": "ipython",
    "version": 3
   },
   "file_extension": ".py",
   "mimetype": "text/x-python",
   "name": "python",
   "nbconvert_exporter": "python",
   "pygments_lexer": "ipython3",
   "version": "3.6.7"
  }
 },
 "nbformat": 4,
 "nbformat_minor": 2
}
