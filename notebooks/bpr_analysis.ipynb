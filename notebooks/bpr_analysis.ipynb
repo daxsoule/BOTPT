{
 "cells": [
  {
   "cell_type": "code",
   "execution_count": null,
   "metadata": {},
   "outputs": [],
   "source": [
    "## import pandas as pd\n",
    "import hvplot.pandas\n",
    "import numpy as np\n",
    "import matplotlib.dates as dates\n",
    "import warnings\n",
    "warnings.filterwarnings('ignore')"
   ]
  },
  {
   "cell_type": "code",
   "execution_count": null,
   "metadata": {},
   "outputs": [],
   "source": [
    "import datetime\n",
    "def dateparse (date_string):\n",
    "    return datetime.datetime.strptime(date_string, '%m/%d/%Y %H:%M:%S')"
   ]
  },
  {
   "cell_type": "markdown",
   "metadata": {},
   "source": [
    "### Center 2000-2002"
   ]
  },
  {
   "cell_type": "code",
   "execution_count": null,
   "metadata": {},
   "outputs": [],
   "source": [
    "bpr_file = '/home/jovyan/data/bpr/Axial_Deformation/nemo2000-2002-BPR-center-15sec-driftcorr-detided-lpf.txt'"
   ]
  },
  {
   "cell_type": "code",
   "execution_count": null,
   "metadata": {},
   "outputs": [],
   "source": [
    "df_nemoA = pd.read_csv(bpr_file, parse_dates=True, date_parser=dateparse, index_col='Date',\n",
    "                       dtype = {'Date': object,'RawDep': np.float64,\n",
    "                                'Temp': np.float64, 'DriftCorrRawDep': np.float64,\n",
    "                                'SpotlDep': np.float64, 'DriftCorrSpotlDep': np.float64,\n",
    "                                'LPFDep,DriftCorrLPFDep': np.float64})"
   ]
  },
  {
   "cell_type": "code",
   "execution_count": null,
   "metadata": {},
   "outputs": [],
   "source": [
    "df_nemoA.head()"
   ]
  },
  {
   "cell_type": "code",
   "execution_count": null,
   "metadata": {},
   "outputs": [],
   "source": [
    "df_nemoA.hvplot.scatter(x='Date', y= 'RawDep', datashade=True, flip_yaxis=True)"
   ]
  },
  {
   "cell_type": "markdown",
   "metadata": {},
   "source": [
    "### South 2003-2005"
   ]
  },
  {
   "cell_type": "code",
   "execution_count": null,
   "metadata": {},
   "outputs": [],
   "source": [
    "bpr_file = '/home/jovyan/data/bpr/Axial_Deformation/nemo2000-2002-BPR-center-15sec-driftcorr-detided-lpf.txt'"
   ]
  },
  {
   "cell_type": "code",
   "execution_count": null,
   "metadata": {},
   "outputs": [],
   "source": [
    "df_nemoB = pd.read_csv(bpr_file, parse_dates=True, date_parser=dateparse, index_col='Date',\n",
    "                       dtype = {'Date': object,'RawDep': np.float64,\n",
    "                                'Temp': np.float64, 'DriftCorrRawDep': np.float64,\n",
    "                                'SpotlDep': np.float64, 'DriftCorrSpotlDep': np.float64,\n",
    "                                'LPFDep,DriftCorrLPFDep': np.float64})"
   ]
  },
  {
   "cell_type": "code",
   "execution_count": null,
   "metadata": {},
   "outputs": [],
   "source": [
    "df_nemoB.hvplot.scatter(x='Date', y= 'RawDep', datashade=True, flip_yaxis=True)"
   ]
  },
  {
   "cell_type": "markdown",
   "metadata": {},
   "source": [
    "### Center 2004-2007 - PDF file"
   ]
  },
  {
   "cell_type": "markdown",
   "metadata": {},
   "source": [
    "### Center 2011-2013 - PDF file"
   ]
  },
  {
   "cell_type": "markdown",
   "metadata": {},
   "source": [
    "### Center 2013-2015"
   ]
  },
  {
   "cell_type": "code",
   "execution_count": null,
   "metadata": {},
   "outputs": [],
   "source": [
    "bpr_file = '/home/jovyan/data/bpr/Axial_Deformation/nemo2013-2015-BPR-Center-15sec-driftcorr-detided-lpf.txt'"
   ]
  },
  {
   "cell_type": "code",
   "execution_count": null,
   "metadata": {},
   "outputs": [],
   "source": [
    "!head '/home/jovyan/data/bpr/Axial_Deformation/nemo2013-2015-BPR-Center-15sec-driftcorr-detided-lpf.txt'"
   ]
  },
  {
   "cell_type": "code",
   "execution_count": null,
   "metadata": {},
   "outputs": [],
   "source": [
    "df_nemoC = pd.read_csv(bpr_file, parse_dates=True, date_parser=dateparse, index_col='Date',\n",
    "                       dtype = {'Date': object,'RawDep': np.float64,\n",
    "                                'Temp': np.float64, 'DriftCorrRawDep': np.float64,\n",
    "                                'SpotlDep': np.float64, 'DriftCorrSpotlDep': np.float64,\n",
    "                                'LPFDep,DriftCorrLPFDep': np.float64})"
   ]
  },
  {
   "cell_type": "code",
   "execution_count": null,
   "metadata": {},
   "outputs": [],
   "source": [
    "df_nemoC.head()"
   ]
  },
  {
   "cell_type": "code",
   "execution_count": null,
   "metadata": {},
   "outputs": [],
   "source": [
    "df_nemoC.hvplot.scatter(x='Date', y= 'RawDep', datashade=True, flip_yaxis=True)"
   ]
  },
  {
   "cell_type": "markdown",
   "metadata": {},
   "source": [
    "### South 2013-2015"
   ]
  },
  {
   "cell_type": "code",
   "execution_count": null,
   "metadata": {},
   "outputs": [],
   "source": [
    "bpr_file = '/home/jovyan/data/bpr/Axial_Deformation/nemo2013-2015-BPR-South-1-15sec-driftcorr-detided-lpf.txt'"
   ]
  },
  {
   "cell_type": "code",
   "execution_count": null,
   "metadata": {},
   "outputs": [],
   "source": [
    "df_nemoS13 = pd.read_csv(bpr_file, parse_dates=True, date_parser=dateparse, index_col='Date',\n",
    "                       dtype = {'Date': object,'Depth': np.float64,\n",
    "                                'Temp': np.float64, 'SpotlDetidedDepth': np.float64,\n",
    "                                'LPFDetidedDepth': np.float64})"
   ]
  },
  {
   "cell_type": "code",
   "execution_count": null,
   "metadata": {},
   "outputs": [],
   "source": [
    "df_nemoS13.head()"
   ]
  },
  {
   "cell_type": "code",
   "execution_count": null,
   "metadata": {},
   "outputs": [],
   "source": [
    "df_nemoS13.hvplot.scatter(x='Date', y= 'RawDep', datashade=True, flip_yaxis=True)"
   ]
  },
  {
   "cell_type": "markdown",
   "metadata": {},
   "source": [
    "### Center 2015-2017"
   ]
  },
  {
   "cell_type": "code",
   "execution_count": null,
   "metadata": {},
   "outputs": [],
   "source": [
    "bpr_file = '/home/jovyan/data/bpr/Axial_Deformation/nemo2015-2017-BPR-center-15sec-driftcorr-detided-lpf.txt'"
   ]
  },
  {
   "cell_type": "code",
   "execution_count": null,
   "metadata": {},
   "outputs": [],
   "source": [
    "df_nemoC15 = pd.read_csv(bpr_file, parse_dates=True, date_parser=dateparse, index_col='Date',\n",
    "                       dtype = {'Date': object,'Depth': np.float64,\n",
    "                                'Temp': np.float64, 'SpotlDetidedDepth': np.float64,\n",
    "                                'LPFDetidedDepth': np.float64})"
   ]
  },
  {
   "cell_type": "code",
   "execution_count": null,
   "metadata": {},
   "outputs": [],
   "source": [
    "df_nemoC15.hvplot.scatter(x='Date', y= 'RawDep', datashade=True, flip_yaxis=True)"
   ]
  }
 ],
 "metadata": {
  "kernelspec": {
   "display_name": "Python 3",
   "language": "python",
   "name": "python3"
  },
  "language_info": {
   "codemirror_mode": {
    "name": "ipython",
    "version": 3
   },
   "file_extension": ".py",
   "mimetype": "text/x-python",
   "name": "python",
   "nbconvert_exporter": "python",
   "pygments_lexer": "ipython3",
   "version": "3.6.7"
  }
 },
 "nbformat": 4,
 "nbformat_minor": 2
}
