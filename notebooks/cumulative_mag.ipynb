{
 "cells": [
  {
   "cell_type": "code",
   "execution_count": 32,
   "metadata": {},
   "outputs": [],
   "source": [
    "import pandas as pd\n",
    "import xarray as xr\n",
    "import dask.dataframe as dd\n",
    "import hvplot.pandas  # noqa\n",
    "import hvplot.dask  # noqa\n",
    "import numpy as np\n",
    "from scipy import stats\n",
    "import datetime\n",
    "import matplotlib.dates as dates"
   ]
  },
  {
   "cell_type": "code",
   "execution_count": 2,
   "metadata": {},
   "outputs": [],
   "source": [
    "import warnings\n",
    "warnings.filterwarnings('ignore')"
   ]
  },
  {
   "cell_type": "code",
   "execution_count": 4,
   "metadata": {},
   "outputs": [
    {
     "data": {
      "text/html": [
       "<table style=\"border: 2px solid white;\">\n",
       "<tr>\n",
       "<td style=\"vertical-align: top; border: 0px solid white\">\n",
       "<h3 style=\"text-align: left;\">Client</h3>\n",
       "<ul style=\"text-align: left; list-style: none; margin: 0; padding: 0;\">\n",
       "  <li><b>Scheduler: </b>tcp://10.0.131.0:38033</li>\n",
       "  <li><b>Dashboard: </b><a href='/user/jnatalie12/proxy/8787/status' target='_blank'>/user/jnatalie12/proxy/8787/status</a>\n",
       "</ul>\n",
       "</td>\n",
       "<td style=\"vertical-align: top; border: 0px solid white\">\n",
       "<h3 style=\"text-align: left;\">Cluster</h3>\n",
       "<ul style=\"text-align: left; list-style:none; margin: 0; padding: 0;\">\n",
       "  <li><b>Workers: </b>4</li>\n",
       "  <li><b>Cores: </b>4</li>\n",
       "  <li><b>Memory: </b>5.00 GB</li>\n",
       "</ul>\n",
       "</td>\n",
       "</tr>\n",
       "</table>"
      ],
      "text/plain": [
       "<Client: 'tcp://10.0.131.0:38033' processes=4 threads=4, memory=5.00 GB>"
      ]
     },
     "execution_count": 4,
     "metadata": {},
     "output_type": "execute_result"
    }
   ],
   "source": [
    "from dask.distributed import Client\n",
    "\n",
    "client = Client(\"tcp://10.0.131.0:38033\")\n",
    "client"
   ]
  },
  {
   "cell_type": "code",
   "execution_count": 5,
   "metadata": {},
   "outputs": [
    {
     "name": "stdout",
     "output_type": "stream",
     "text": [
      "yyyymmdd HHMM SSS.SS Lat(D M)  Lon(D M)  Depth    MW NWR GAP DMIN  RMS  ERH  ERZ            ID         PMom    SMom\n",
      "20150122 0000 27.54 45 56.81 129 59.92   0.55  -0.31  7 206  1.2 0.03  0.8  0.4         20830      3.8e+17 3.9e+17\n",
      "20150122 0008 58.89 45 56.96 129 59.70   0.00   0.02 10 149  1.2 0.09  0.2  0.2         20831      1.9e+18 7.8e+17\n",
      "20150122 0202 41.04 45 56.47 130  0.89   0.67  -0.03 12 200  0.8 0.03  0.9  0.7         20836      1.4e+18 7.2e+17\n",
      "20150122 0219 56.90 45 54.93 129 57.59   1.60   0.26  7 325  1.8 0.06  1.4  2.5         20837      3.3e+18 2.2e+18\n",
      "20150122 0236  7.08 45 56.80 129 59.71   0.51  -0.15  8 160  1.2 0.06  0.5  0.2         20840      6.7e+17 6.8e+17\n",
      "20150122 0239 20.66 45 56.93 129 59.48   1.56   0.07 12 148  0.9 0.08  0.5  1.3         20841      1.3e+18 1.6e+18\n",
      "20150122 0242 34.06 45 56.70 129 59.34   1.09   0.27 12 108  0.9 0.05  0.3  1.4         20843      2.7e+18 3.1e+18\n",
      "20150122 0250 15.94 45 57.96 129 59.53   1.45   0.54 14 286  1.8 0.03  0.7  1.1         20844      8.2e+18 6.6e+18\n",
      "20150122 0259 40.84 45 56.76 129 59.20   1.30   0.28 12 113  0.7 0.07  0.4  1.1         20847      3.6e+18 2.3e+18\n"
     ]
    }
   ],
   "source": [
    "!head '/home/jovyan/data/botpt/axial_seismic/hypo71_11_2019.txt'"
   ]
  },
  {
   "cell_type": "code",
   "execution_count": 6,
   "metadata": {},
   "outputs": [
    {
     "data": {
      "text/html": [
       "<div>\n",
       "<style scoped>\n",
       "    .dataframe tbody tr th:only-of-type {\n",
       "        vertical-align: middle;\n",
       "    }\n",
       "\n",
       "    .dataframe tbody tr th {\n",
       "        vertical-align: top;\n",
       "    }\n",
       "\n",
       "    .dataframe thead th {\n",
       "        text-align: right;\n",
       "    }\n",
       "</style>\n",
       "<table border=\"1\" class=\"dataframe\">\n",
       "  <thead>\n",
       "    <tr style=\"text-align: right;\">\n",
       "      <th></th>\n",
       "      <th>Depth</th>\n",
       "      <th>MW</th>\n",
       "      <th>RMS</th>\n",
       "      <th>datetime</th>\n",
       "      <th>date</th>\n",
       "    </tr>\n",
       "  </thead>\n",
       "  <tbody>\n",
       "    <tr>\n",
       "      <td>2015-03-01 00:01:00</td>\n",
       "      <td>0.67</td>\n",
       "      <td>-0.46</td>\n",
       "      <td>0.04</td>\n",
       "      <td>2015-03-01 00:01:00</td>\n",
       "      <td>2015-03-01</td>\n",
       "    </tr>\n",
       "    <tr>\n",
       "      <td>2015-03-01 00:01:00</td>\n",
       "      <td>1.85</td>\n",
       "      <td>0.06</td>\n",
       "      <td>0.12</td>\n",
       "      <td>2015-03-01 00:01:00</td>\n",
       "      <td>2015-03-01</td>\n",
       "    </tr>\n",
       "    <tr>\n",
       "      <td>2015-03-01 00:04:00</td>\n",
       "      <td>1.27</td>\n",
       "      <td>-0.15</td>\n",
       "      <td>0.01</td>\n",
       "      <td>2015-03-01 00:04:00</td>\n",
       "      <td>2015-03-01</td>\n",
       "    </tr>\n",
       "    <tr>\n",
       "      <td>2015-03-01 00:04:00</td>\n",
       "      <td>1.00</td>\n",
       "      <td>-0.10</td>\n",
       "      <td>0.01</td>\n",
       "      <td>2015-03-01 00:04:00</td>\n",
       "      <td>2015-03-01</td>\n",
       "    </tr>\n",
       "    <tr>\n",
       "      <td>2015-03-01 00:07:00</td>\n",
       "      <td>1.72</td>\n",
       "      <td>-0.17</td>\n",
       "      <td>0.03</td>\n",
       "      <td>2015-03-01 00:07:00</td>\n",
       "      <td>2015-03-01</td>\n",
       "    </tr>\n",
       "  </tbody>\n",
       "</table>\n",
       "</div>"
      ],
      "text/plain": [
       "                     Depth    MW   RMS            datetime        date\n",
       "2015-03-01 00:01:00   0.67 -0.46  0.04 2015-03-01 00:01:00  2015-03-01\n",
       "2015-03-01 00:01:00   1.85  0.06  0.12 2015-03-01 00:01:00  2015-03-01\n",
       "2015-03-01 00:04:00   1.27 -0.15  0.01 2015-03-01 00:04:00  2015-03-01\n",
       "2015-03-01 00:04:00   1.00 -0.10  0.01 2015-03-01 00:04:00  2015-03-01\n",
       "2015-03-01 00:07:00   1.72 -0.17  0.03 2015-03-01 00:07:00  2015-03-01"
      ]
     },
     "execution_count": 6,
     "metadata": {},
     "output_type": "execute_result"
    }
   ],
   "source": [
    "seismic_file = '/home/jovyan/data/botpt/axial_seismic/hypo71_11_2019.txt'\n",
    "df_seismic = pd.read_csv(seismic_file, delim_whitespace=True, dtype=object)\n",
    "df_seismic['datetime'] = df_seismic['yyyymmdd'] + 'T' + \\\n",
    "            df_seismic['HHMM'].str.slice(start=0, stop=2) + ':' + \\\n",
    "            df_seismic['HHMM'].str.slice(start=2) \n",
    "df_seismic.index = pd.to_datetime(df_seismic['datetime'].values)\n",
    "df_seismic['datetime'] = pd.to_datetime(df_seismic['datetime'].values)\n",
    "df_seismic = df_seismic.loc['2015-03-01 00:00:00':'2015-05-31 00:00:00']\n",
    "df_seismic.datetime.astype(np.int64).values/1e64\n",
    "df_seismic['date'] =pd.DatetimeIndex(df_seismic.datetime).date\n",
    "df_seismic['Depth']= df_seismic['Depth'].astype(np.float).values\n",
    "df_seismic['MW']= df_seismic['MW'].astype(np.float).values\n",
    "df_seismic['RMS']= df_seismic['RMS'].astype(np.float).values\n",
    "del df_seismic['NWR']\n",
    "del df_seismic['GAP']\n",
    "del df_seismic['DMIN']\n",
    "del df_seismic['ERH']\n",
    "del df_seismic['ERZ']\n",
    "del df_seismic['ID']\n",
    "del df_seismic['PMom']\n",
    "del df_seismic['SMom']\n",
    "del df_seismic['yyyymmdd']\n",
    "del df_seismic['HHMM']\n",
    "del df_seismic['SSS.SS']\n",
    "del df_seismic['Lat(D']\n",
    "del df_seismic['M)']\n",
    "del df_seismic['Lon(D']\n",
    "del df_seismic['M).1']\n",
    "df_seismic.head()"
   ]
  },
  {
   "cell_type": "markdown",
   "metadata": {},
   "source": [
    "## Create new dataframe with count per day"
   ]
  },
  {
   "cell_type": "code",
   "execution_count": 7,
   "metadata": {},
   "outputs": [
    {
     "data": {
      "text/html": [
       "<div>\n",
       "<style scoped>\n",
       "    .dataframe tbody tr th:only-of-type {\n",
       "        vertical-align: middle;\n",
       "    }\n",
       "\n",
       "    .dataframe tbody tr th {\n",
       "        vertical-align: top;\n",
       "    }\n",
       "\n",
       "    .dataframe thead th {\n",
       "        text-align: right;\n",
       "    }\n",
       "</style>\n",
       "<table border=\"1\" class=\"dataframe\">\n",
       "  <thead>\n",
       "    <tr style=\"text-align: right;\">\n",
       "      <th></th>\n",
       "      <th>Depth</th>\n",
       "      <th>MW</th>\n",
       "      <th>RMS</th>\n",
       "      <th>count</th>\n",
       "    </tr>\n",
       "    <tr>\n",
       "      <th>date</th>\n",
       "      <th></th>\n",
       "      <th></th>\n",
       "      <th></th>\n",
       "      <th></th>\n",
       "    </tr>\n",
       "  </thead>\n",
       "  <tbody>\n",
       "    <tr>\n",
       "      <td>2015-05-26</td>\n",
       "      <td>1.586667</td>\n",
       "      <td>0.143333</td>\n",
       "      <td>0.045000</td>\n",
       "      <td>12.0</td>\n",
       "    </tr>\n",
       "    <tr>\n",
       "      <td>2015-05-27</td>\n",
       "      <td>1.292222</td>\n",
       "      <td>0.011111</td>\n",
       "      <td>0.065556</td>\n",
       "      <td>9.0</td>\n",
       "    </tr>\n",
       "    <tr>\n",
       "      <td>2015-05-28</td>\n",
       "      <td>0.873750</td>\n",
       "      <td>-0.051250</td>\n",
       "      <td>0.025000</td>\n",
       "      <td>8.0</td>\n",
       "    </tr>\n",
       "    <tr>\n",
       "      <td>2015-05-29</td>\n",
       "      <td>1.027000</td>\n",
       "      <td>-0.117000</td>\n",
       "      <td>0.037000</td>\n",
       "      <td>10.0</td>\n",
       "    </tr>\n",
       "    <tr>\n",
       "      <td>2015-05-30</td>\n",
       "      <td>0.943636</td>\n",
       "      <td>0.063636</td>\n",
       "      <td>0.046364</td>\n",
       "      <td>11.0</td>\n",
       "    </tr>\n",
       "  </tbody>\n",
       "</table>\n",
       "</div>"
      ],
      "text/plain": [
       "               Depth        MW       RMS  count\n",
       "date                                           \n",
       "2015-05-26  1.586667  0.143333  0.045000   12.0\n",
       "2015-05-27  1.292222  0.011111  0.065556    9.0\n",
       "2015-05-28  0.873750 -0.051250  0.025000    8.0\n",
       "2015-05-29  1.027000 -0.117000  0.037000   10.0\n",
       "2015-05-30  0.943636  0.063636  0.046364   11.0"
      ]
     },
     "execution_count": 7,
     "metadata": {},
     "output_type": "execute_result"
    }
   ],
   "source": [
    "df_eqMean=df_seismic.groupby('date').mean()\n",
    "df_eqCount= df_seismic.groupby('date').count()\n",
    "df_eqCount['count'] = df_eqCount.datetime.astype('float64').values\n",
    "df_eqMean['count'] = df_eqCount['count'].values\n",
    "df_eqMean.tail()"
   ]
  },
  {
   "cell_type": "code",
   "execution_count": 8,
   "metadata": {},
   "outputs": [],
   "source": [
    "cumsum_eq = np.cumsum(df_eqMean)"
   ]
  },
  {
   "cell_type": "code",
   "execution_count": 9,
   "metadata": {},
   "outputs": [
    {
     "data": {
      "application/vnd.holoviews_exec.v0+json": "",
      "text/html": [
       "<div id='1004' style='display: table; margin: 0 auto;'>\n",
       "\n",
       "\n",
       "\n",
       "\n",
       "\n",
       "  <div class=\"bk-root\" id=\"bda4cfda-dd63-481c-8af4-5ac1369a46d7\" data-root-id=\"1004\"></div>\n",
       "</div>\n",
       "<script type=\"application/javascript\">(function(root) {\n",
       "  function embed_document(root) {\n",
       "    \n",
       "  var docs_json = {\"2c152252-47d8-4af3-8fef-f8869c0aec81\":{\"roots\":{\"references\":[{\"attributes\":{\"align\":null,\"below\":[{\"id\":\"1013\",\"type\":\"DatetimeAxis\"}],\"center\":[{\"id\":\"1017\",\"type\":\"Grid\"},{\"id\":\"1022\",\"type\":\"Grid\"}],\"left\":[{\"id\":\"1018\",\"type\":\"LinearAxis\"}],\"margin\":null,\"min_border_bottom\":10,\"min_border_left\":10,\"min_border_right\":10,\"min_border_top\":10,\"plot_height\":300,\"plot_width\":700,\"renderers\":[{\"id\":\"1041\",\"type\":\"GlyphRenderer\"}],\"sizing_mode\":\"fixed\",\"title\":{\"id\":\"1005\",\"type\":\"Title\"},\"toolbar\":{\"id\":\"1028\",\"type\":\"Toolbar\"},\"x_range\":{\"id\":\"1001\",\"type\":\"Range1d\"},\"x_scale\":{\"id\":\"1009\",\"type\":\"LinearScale\"},\"y_range\":{\"id\":\"1002\",\"type\":\"Range1d\"},\"y_scale\":{\"id\":\"1011\",\"type\":\"LinearScale\"}},\"id\":\"1004\",\"subtype\":\"Figure\",\"type\":\"Plot\"},{\"attributes\":{\"mantissas\":[1,2,5],\"max_interval\":500.0,\"num_minor_ticks\":0},\"id\":\"1053\",\"type\":\"AdaptiveTicker\"},{\"attributes\":{\"axis_label\":\"date\",\"bounds\":\"auto\",\"formatter\":{\"id\":\"1044\",\"type\":\"DatetimeTickFormatter\"},\"major_label_orientation\":\"horizontal\",\"ticker\":{\"id\":\"1014\",\"type\":\"DatetimeTicker\"}},\"id\":\"1013\",\"type\":\"DatetimeAxis\"},{\"attributes\":{\"axis_label\":\"\",\"bounds\":\"auto\",\"formatter\":{\"id\":\"1046\",\"type\":\"BasicTickFormatter\"},\"major_label_orientation\":\"horizontal\",\"ticker\":{\"id\":\"1019\",\"type\":\"BasicTicker\"}},\"id\":\"1018\",\"type\":\"LinearAxis\"},{\"attributes\":{\"source\":{\"id\":\"1035\",\"type\":\"ColumnDataSource\"}},\"id\":\"1042\",\"type\":\"CDSView\"},{\"attributes\":{},\"id\":\"1019\",\"type\":\"BasicTicker\"},{\"attributes\":{\"callback\":null,\"data\":{\"MW\":{\"__ndarray__\":\"4AAZqZMasT/Sn+4uTiTRP1SD0S0aL9I/cTwdYkIX0z8svfW2XInTPyiUl2QVtNI/6U2HmXJ90T/LDHWtklvTP6LF0vmq19w/D1lteiMm4D8q/uz883HgP0DaXs+5tOI/aDSMEdn54z/J2d2hJ8jkP3vXduG5fuQ/V9gacwGH5z9z+7Jb8evoPw1of9zyG+o/EMDspe/g6z+LOFYJKwzvP2gDCh+vdu8/BE5jPJu68D8jw71PRvrwP8Q0LFiXBfM/h5TknjJ38z9/hYAzdzz0P5Bhnm0U5fM/vtOFkIsT9D/qrjWuzdP0P2PW0bkZufQ/jxibUh5X9D+yuiCNTHL0P8YkhPKBhvQ/N8L/6is89D+glB9wPPLyPyDftNr1RPI/kZ+Y6vyA8D/ZLKNoDhPvP6I3m/576Ow/KC79fph66z9SlvIkG9HsP1RVzt+I6PE/VaYvocUr8j/fOMTin9zyP6I9Z5g5oPM/KT9kuCT48j9Y7J7zIoj0P6aqMrPE4fQ/0I1WCWBa9T/3by7B4rP1P86CifUvsPU/+F0pc4V1+T+3k9VP+AoGQDI5agp8LgpAysMg+KboDUBWWsUrMH8QQIfKg+Hm/BFAGLgAIRzbEkC+ezOixdUTQCZlMNd7nxRAwa9zpfmVFUAXbTondT8WQDoFIxfa9BZAiCkGXAzDF0BDoLUa6GEYQCd9HTL4/BhAYiWhbKCAGUB9DVbu7hsaQEADf0p+rhpA1JA99wJZG0AfD+/bGqQbQKl2NP8bAxxAgBqlPCYaHECfn5CO3vgbQNmb1Q617xtAkinc/ss3HEAkiAf3kMkcQFnmwUCdCx1AtyYua6rEHUBGdo3GxvAdQP6UErIYKR5ACe7a9C7bHUC4Gsu/MYodQHA5UKuDIh1AA5l8pEm1HUC5+YdaqsAdQKVLQHkvjB1AesQpoGAUHUC7YjyEilUdQA==\",\"dtype\":\"float64\",\"shape\":[89]},\"date\":[1425168000000.0,1425254400000.0,1425340800000.0,1425427200000.0,1425513600000.0,1425772800000.0,1425859200000.0,1425945600000.0,1426032000000.0,1426118400000.0,1426204800000.0,1426291200000.0,1426377600000.0,1426464000000.0,1426550400000.0,1426636800000.0,1426723200000.0,1426809600000.0,1426896000000.0,1426982400000.0,1427068800000.0,1427155200000.0,1427241600000.0,1427328000000.0,1427414400000.0,1427500800000.0,1427587200000.0,1427673600000.0,1427760000000.0,1427846400000.0,1427932800000.0,1428019200000.0,1428105600000.0,1428192000000.0,1428278400000.0,1428364800000.0,1428451200000.0,1428537600000.0,1428624000000.0,1428710400000.0,1428796800000.0,1428883200000.0,1428969600000.0,1429056000000.0,1429142400000.0,1429228800000.0,1429315200000.0,1429401600000.0,1429488000000.0,1429574400000.0,1429660800000.0,1429747200000.0,1429833600000.0,1429920000000.0,1430006400000.0,1430092800000.0,1430179200000.0,1430265600000.0,1430352000000.0,1430438400000.0,1430524800000.0,1430611200000.0,1430697600000.0,1430784000000.0,1430870400000.0,1430956800000.0,1431043200000.0,1431129600000.0,1431216000000.0,1431302400000.0,1431388800000.0,1431475200000.0,1431561600000.0,1431648000000.0,1431734400000.0,1431820800000.0,1431907200000.0,1431993600000.0,1432080000000.0,1432166400000.0,1432252800000.0,1432339200000.0,1432425600000.0,1432512000000.0,1432598400000.0,1432684800000.0,1432771200000.0,1432857600000.0,1432944000000.0],\"date_dt_strings\":[\"2015-03-01\",\"2015-03-02\",\"2015-03-03\",\"2015-03-04\",\"2015-03-05\",\"2015-03-08\",\"2015-03-09\",\"2015-03-10\",\"2015-03-11\",\"2015-03-12\",\"2015-03-13\",\"2015-03-14\",\"2015-03-15\",\"2015-03-16\",\"2015-03-17\",\"2015-03-18\",\"2015-03-19\",\"2015-03-20\",\"2015-03-21\",\"2015-03-22\",\"2015-03-23\",\"2015-03-24\",\"2015-03-25\",\"2015-03-26\",\"2015-03-27\",\"2015-03-28\",\"2015-03-29\",\"2015-03-30\",\"2015-03-31\",\"2015-04-01\",\"2015-04-02\",\"2015-04-03\",\"2015-04-04\",\"2015-04-05\",\"2015-04-06\",\"2015-04-07\",\"2015-04-08\",\"2015-04-09\",\"2015-04-10\",\"2015-04-11\",\"2015-04-12\",\"2015-04-13\",\"2015-04-14\",\"2015-04-15\",\"2015-04-16\",\"2015-04-17\",\"2015-04-18\",\"2015-04-19\",\"2015-04-20\",\"2015-04-21\",\"2015-04-22\",\"2015-04-23\",\"2015-04-24\",\"2015-04-25\",\"2015-04-26\",\"2015-04-27\",\"2015-04-28\",\"2015-04-29\",\"2015-04-30\",\"2015-05-01\",\"2015-05-02\",\"2015-05-03\",\"2015-05-04\",\"2015-05-05\",\"2015-05-06\",\"2015-05-07\",\"2015-05-08\",\"2015-05-09\",\"2015-05-10\",\"2015-05-11\",\"2015-05-12\",\"2015-05-13\",\"2015-05-14\",\"2015-05-15\",\"2015-05-16\",\"2015-05-17\",\"2015-05-18\",\"2015-05-19\",\"2015-05-20\",\"2015-05-21\",\"2015-05-22\",\"2015-05-23\",\"2015-05-24\",\"2015-05-25\",\"2015-05-26\",\"2015-05-27\",\"2015-05-28\",\"2015-05-29\",\"2015-05-30\"]},\"selected\":{\"id\":\"1036\",\"type\":\"Selection\"},\"selection_policy\":{\"id\":\"1065\",\"type\":\"UnionRenderers\"}},\"id\":\"1035\",\"type\":\"ColumnDataSource\"},{\"attributes\":{\"line_alpha\":0.1,\"line_color\":\"#1f77b3\",\"line_width\":2,\"x\":{\"field\":\"date\"},\"y\":{\"field\":\"MW\"}},\"id\":\"1039\",\"type\":\"Line\"},{\"attributes\":{\"months\":[0,2,4,6,8,10]},\"id\":\"1061\",\"type\":\"MonthsTicker\"},{\"attributes\":{},\"id\":\"1023\",\"type\":\"SaveTool\"},{\"attributes\":{\"days\":[1,15]},\"id\":\"1059\",\"type\":\"DaysTicker\"},{\"attributes\":{\"text\":\"MW\",\"text_color\":{\"value\":\"black\"},\"text_font_size\":{\"value\":\"12pt\"}},\"id\":\"1005\",\"type\":\"Title\"},{\"attributes\":{\"line_alpha\":0.2,\"line_color\":\"#1f77b3\",\"line_width\":2,\"x\":{\"field\":\"date\"},\"y\":{\"field\":\"MW\"}},\"id\":\"1040\",\"type\":\"Line\"},{\"attributes\":{\"months\":[0,1,2,3,4,5,6,7,8,9,10,11]},\"id\":\"1060\",\"type\":\"MonthsTicker\"},{\"attributes\":{\"line_color\":\"#1f77b3\",\"line_width\":2,\"x\":{\"field\":\"date\"},\"y\":{\"field\":\"MW\"}},\"id\":\"1038\",\"type\":\"Line\"},{\"attributes\":{\"dimension\":1,\"grid_line_color\":null,\"ticker\":{\"id\":\"1019\",\"type\":\"BasicTicker\"}},\"id\":\"1022\",\"type\":\"Grid\"},{\"attributes\":{\"active_drag\":\"auto\",\"active_inspect\":\"auto\",\"active_multi\":null,\"active_scroll\":\"auto\",\"active_tap\":\"auto\",\"tools\":[{\"id\":\"1003\",\"type\":\"HoverTool\"},{\"id\":\"1023\",\"type\":\"SaveTool\"},{\"id\":\"1024\",\"type\":\"PanTool\"},{\"id\":\"1025\",\"type\":\"WheelZoomTool\"},{\"id\":\"1026\",\"type\":\"BoxZoomTool\"},{\"id\":\"1027\",\"type\":\"ResetTool\"}]},\"id\":\"1028\",\"type\":\"Toolbar\"},{\"attributes\":{\"bottom_units\":\"screen\",\"fill_alpha\":{\"value\":0.5},\"fill_color\":{\"value\":\"lightgrey\"},\"left_units\":\"screen\",\"level\":\"overlay\",\"line_alpha\":{\"value\":1.0},\"line_color\":{\"value\":\"black\"},\"line_dash\":[4,4],\"line_width\":{\"value\":2},\"render_mode\":\"css\",\"right_units\":\"screen\",\"top_units\":\"screen\"},\"id\":\"1052\",\"type\":\"BoxAnnotation\"},{\"attributes\":{\"days\":[1,4,7,10,13,16,19,22,25,28]},\"id\":\"1057\",\"type\":\"DaysTicker\"},{\"attributes\":{\"grid_line_color\":null,\"ticker\":{\"id\":\"1014\",\"type\":\"DatetimeTicker\"}},\"id\":\"1017\",\"type\":\"Grid\"},{\"attributes\":{\"callback\":null,\"renderers\":[{\"id\":\"1041\",\"type\":\"GlyphRenderer\"}],\"tags\":[\"hv_created\"],\"tooltips\":[[\"date\",\"@{date_dt_strings}\"],[\"MW\",\"@{MW}\"]]},\"id\":\"1003\",\"type\":\"HoverTool\"},{\"attributes\":{\"data_source\":{\"id\":\"1035\",\"type\":\"ColumnDataSource\"},\"glyph\":{\"id\":\"1038\",\"type\":\"Line\"},\"hover_glyph\":null,\"muted_glyph\":{\"id\":\"1040\",\"type\":\"Line\"},\"nonselection_glyph\":{\"id\":\"1039\",\"type\":\"Line\"},\"selection_glyph\":null,\"view\":{\"id\":\"1042\",\"type\":\"CDSView\"}},\"id\":\"1041\",\"type\":\"GlyphRenderer\"},{\"attributes\":{\"days\":[1,8,15,22]},\"id\":\"1058\",\"type\":\"DaysTicker\"},{\"attributes\":{\"base\":60,\"mantissas\":[1,2,5,10,15,20,30],\"max_interval\":1800000.0,\"min_interval\":1000.0,\"num_minor_ticks\":0},\"id\":\"1054\",\"type\":\"AdaptiveTicker\"},{\"attributes\":{},\"id\":\"1027\",\"type\":\"ResetTool\"},{\"attributes\":{\"days\":[1,2,3,4,5,6,7,8,9,10,11,12,13,14,15,16,17,18,19,20,21,22,23,24,25,26,27,28,29,30,31]},\"id\":\"1056\",\"type\":\"DaysTicker\"},{\"attributes\":{\"base\":24,\"mantissas\":[1,2,4,6,8,12],\"max_interval\":43200000.0,\"min_interval\":3600000.0,\"num_minor_ticks\":0},\"id\":\"1055\",\"type\":\"AdaptiveTicker\"},{\"attributes\":{},\"id\":\"1036\",\"type\":\"Selection\"},{\"attributes\":{},\"id\":\"1046\",\"type\":\"BasicTickFormatter\"},{\"attributes\":{\"num_minor_ticks\":5,\"tickers\":[{\"id\":\"1053\",\"type\":\"AdaptiveTicker\"},{\"id\":\"1054\",\"type\":\"AdaptiveTicker\"},{\"id\":\"1055\",\"type\":\"AdaptiveTicker\"},{\"id\":\"1056\",\"type\":\"DaysTicker\"},{\"id\":\"1057\",\"type\":\"DaysTicker\"},{\"id\":\"1058\",\"type\":\"DaysTicker\"},{\"id\":\"1059\",\"type\":\"DaysTicker\"},{\"id\":\"1060\",\"type\":\"MonthsTicker\"},{\"id\":\"1061\",\"type\":\"MonthsTicker\"},{\"id\":\"1062\",\"type\":\"MonthsTicker\"},{\"id\":\"1063\",\"type\":\"MonthsTicker\"},{\"id\":\"1064\",\"type\":\"YearsTicker\"}]},\"id\":\"1014\",\"type\":\"DatetimeTicker\"},{\"attributes\":{},\"id\":\"1011\",\"type\":\"LinearScale\"},{\"attributes\":{\"months\":[0,6]},\"id\":\"1063\",\"type\":\"MonthsTicker\"},{\"attributes\":{\"callback\":null,\"end\":7.540133268722682,\"reset_end\":7.540133268722682,\"reset_start\":0.06681177976952624,\"start\":0.06681177976952624,\"tags\":[[[\"MW\",\"MW\",null]]]},\"id\":\"1002\",\"type\":\"Range1d\"},{\"attributes\":{\"overlay\":{\"id\":\"1052\",\"type\":\"BoxAnnotation\"}},\"id\":\"1026\",\"type\":\"BoxZoomTool\"},{\"attributes\":{\"months\":[0,4,8]},\"id\":\"1062\",\"type\":\"MonthsTicker\"},{\"attributes\":{},\"id\":\"1065\",\"type\":\"UnionRenderers\"},{\"attributes\":{\"callback\":null,\"end\":1432944000000.0,\"reset_end\":1432944000000.0,\"reset_start\":1425168000000.0,\"start\":1425168000000.0,\"tags\":[[[\"date\",\"date\",null]]]},\"id\":\"1001\",\"type\":\"Range1d\"},{\"attributes\":{},\"id\":\"1044\",\"type\":\"DatetimeTickFormatter\"},{\"attributes\":{},\"id\":\"1025\",\"type\":\"WheelZoomTool\"},{\"attributes\":{},\"id\":\"1024\",\"type\":\"PanTool\"},{\"attributes\":{},\"id\":\"1064\",\"type\":\"YearsTicker\"},{\"attributes\":{},\"id\":\"1009\",\"type\":\"LinearScale\"}],\"root_ids\":[\"1004\"]},\"title\":\"Bokeh Application\",\"version\":\"1.3.4\"}};\n",
       "  var render_items = [{\"docid\":\"2c152252-47d8-4af3-8fef-f8869c0aec81\",\"roots\":{\"1004\":\"bda4cfda-dd63-481c-8af4-5ac1369a46d7\"}}];\n",
       "  root.Bokeh.embed.embed_items_notebook(docs_json, render_items);\n",
       "\n",
       "  }\n",
       "  if (root.Bokeh !== undefined) {\n",
       "    embed_document(root);\n",
       "  } else {\n",
       "    var attempts = 0;\n",
       "    var timer = setInterval(function(root) {\n",
       "      if (root.Bokeh !== undefined) {\n",
       "        embed_document(root);\n",
       "        clearInterval(timer);\n",
       "      }\n",
       "      attempts++;\n",
       "      if (attempts > 100) {\n",
       "        console.log(\"Bokeh: ERROR: Unable to run BokehJS code because BokehJS library is missing\");\n",
       "        clearInterval(timer);\n",
       "      }\n",
       "    }, 10, root)\n",
       "  }\n",
       "})(window);</script>"
      ],
      "text/plain": [
       ":Curve   [date]   (MW)"
      ]
     },
     "execution_count": 9,
     "metadata": {
      "application/vnd.holoviews_exec.v0+json": {
       "id": "1004"
      }
     },
     "output_type": "execute_result"
    }
   ],
   "source": [
    "cumsum_eq['MW'].hvplot()"
   ]
  },
  {
   "cell_type": "markdown",
   "metadata": {},
   "source": [
    "## Read in Eastern Caldera"
   ]
  },
  {
   "cell_type": "code",
   "execution_count": 10,
   "metadata": {},
   "outputs": [
    {
     "data": {
      "text/plain": [
       "<xarray.Dataset>\n",
       "Dimensions:                  (index: 2581724)\n",
       "Coordinates:\n",
       "  * index                    (index) datetime64[ns] 2014-09-04 ... 2019-10-14T23:59:00\n",
       "Data variables:\n",
       "    bottom_pressure_eastern  (index) float32 dask.array<chunksize=(10080,), meta=np.ndarray>"
      ]
     },
     "execution_count": 10,
     "metadata": {},
     "output_type": "execute_result"
    }
   ],
   "source": [
    "ds1 = xr.open_mfdataset('/home/jovyan/data/botpt/RS03CCAL-MJ03E-06-BOTPTA302/*_resampled.nc', parallel=True).chunk(10080)\n",
    "ds1['bottom_pressure_eastern'] = ds1['bottom_pressure']\n",
    "del ds1['bottom_pressure']\n",
    "ds1"
   ]
  },
  {
   "cell_type": "markdown",
   "metadata": {},
   "source": [
    "## Read in Central Caldera"
   ]
  },
  {
   "cell_type": "code",
   "execution_count": 11,
   "metadata": {},
   "outputs": [
    {
     "data": {
      "text/plain": [
       "<xarray.Dataset>\n",
       "Dimensions:                  (index: 2606374)\n",
       "Coordinates:\n",
       "  * index                    (index) datetime64[ns] 2014-09-04 ... 2019-10-14T23:59:00\n",
       "Data variables:\n",
       "    bottom_pressure_central  (index) float32 dask.array<chunksize=(10080,), meta=np.ndarray>"
      ]
     },
     "execution_count": 11,
     "metadata": {},
     "output_type": "execute_result"
    }
   ],
   "source": [
    "ds2 = xr.open_mfdataset('/home/jovyan/data/botpt/RS03CCAL-MJ03F-05-BOTPTA301/*_resampled.nc', parallel=True).chunk(10080)\n",
    "ds2['bottom_pressure_central'] = ds2['bottom_pressure']\n",
    "del ds2['bottom_pressure']\n",
    "ds2"
   ]
  },
  {
   "cell_type": "markdown",
   "metadata": {},
   "source": [
    "## Create DataFrame"
   ]
  },
  {
   "cell_type": "code",
   "execution_count": 12,
   "metadata": {},
   "outputs": [],
   "source": [
    "#df = ds1.to_dask_dataframe()\n",
    "df1 = ds1.to_dataframe()\n",
    "df2= ds2.to_dataframe()\n",
    "del ds1\n",
    "del ds2"
   ]
  },
  {
   "cell_type": "code",
   "execution_count": 13,
   "metadata": {},
   "outputs": [],
   "source": [
    "df1['Datetime']=np.datetime_as_string(df1.index)\n",
    "df2['Datetime']=np.datetime_as_string(df2.index)"
   ]
  },
  {
   "cell_type": "code",
   "execution_count": 14,
   "metadata": {},
   "outputs": [],
   "source": [
    "df1['Datetime']=df1['Datetime'].str[:19]\n",
    "df2['Datetime']=df2['Datetime'].str[:19]"
   ]
  },
  {
   "cell_type": "code",
   "execution_count": 15,
   "metadata": {},
   "outputs": [
    {
     "data": {
      "text/html": [
       "<div>\n",
       "<style scoped>\n",
       "    .dataframe tbody tr th:only-of-type {\n",
       "        vertical-align: middle;\n",
       "    }\n",
       "\n",
       "    .dataframe tbody tr th {\n",
       "        vertical-align: top;\n",
       "    }\n",
       "\n",
       "    .dataframe thead th {\n",
       "        text-align: right;\n",
       "    }\n",
       "</style>\n",
       "<table border=\"1\" class=\"dataframe\">\n",
       "  <thead>\n",
       "    <tr style=\"text-align: right;\">\n",
       "      <th></th>\n",
       "      <th>bottom_pressure_eastern</th>\n",
       "      <th>Datetime</th>\n",
       "      <th>bottom_pressure_central</th>\n",
       "    </tr>\n",
       "  </thead>\n",
       "  <tbody>\n",
       "    <tr>\n",
       "      <td>0</td>\n",
       "      <td>2241.750244</td>\n",
       "      <td>2014-09-04T00:00:00</td>\n",
       "      <td>2254.789795</td>\n",
       "    </tr>\n",
       "    <tr>\n",
       "      <td>1</td>\n",
       "      <td>2241.757812</td>\n",
       "      <td>2014-09-04T00:01:00</td>\n",
       "      <td>2254.798340</td>\n",
       "    </tr>\n",
       "    <tr>\n",
       "      <td>2</td>\n",
       "      <td>2241.766113</td>\n",
       "      <td>2014-09-04T00:02:00</td>\n",
       "      <td>2254.805664</td>\n",
       "    </tr>\n",
       "    <tr>\n",
       "      <td>3</td>\n",
       "      <td>2241.772705</td>\n",
       "      <td>2014-09-04T00:03:00</td>\n",
       "      <td>2254.813965</td>\n",
       "    </tr>\n",
       "    <tr>\n",
       "      <td>4</td>\n",
       "      <td>2241.779053</td>\n",
       "      <td>2014-09-04T00:04:00</td>\n",
       "      <td>2254.819580</td>\n",
       "    </tr>\n",
       "  </tbody>\n",
       "</table>\n",
       "</div>"
      ],
      "text/plain": [
       "   bottom_pressure_eastern             Datetime  bottom_pressure_central\n",
       "0              2241.750244  2014-09-04T00:00:00              2254.789795\n",
       "1              2241.757812  2014-09-04T00:01:00              2254.798340\n",
       "2              2241.766113  2014-09-04T00:02:00              2254.805664\n",
       "3              2241.772705  2014-09-04T00:03:00              2254.813965\n",
       "4              2241.779053  2014-09-04T00:04:00              2254.819580"
      ]
     },
     "execution_count": 15,
     "metadata": {},
     "output_type": "execute_result"
    }
   ],
   "source": [
    "df_botpt=pd.merge(df1,df2, on = 'Datetime')\n",
    "del df1\n",
    "del df2\n",
    "df_botpt.head()"
   ]
  },
  {
   "cell_type": "code",
   "execution_count": 16,
   "metadata": {},
   "outputs": [
    {
     "data": {
      "text/html": [
       "<div>\n",
       "<style scoped>\n",
       "    .dataframe tbody tr th:only-of-type {\n",
       "        vertical-align: middle;\n",
       "    }\n",
       "\n",
       "    .dataframe tbody tr th {\n",
       "        vertical-align: top;\n",
       "    }\n",
       "\n",
       "    .dataframe thead th {\n",
       "        text-align: right;\n",
       "    }\n",
       "</style>\n",
       "<table border=\"1\" class=\"dataframe\">\n",
       "  <thead>\n",
       "    <tr style=\"text-align: right;\">\n",
       "      <th></th>\n",
       "      <th>bottom_pressure_eastern</th>\n",
       "      <th>Datetime</th>\n",
       "      <th>bottom_pressure_central</th>\n",
       "      <th>depthDiff</th>\n",
       "      <th>spikes</th>\n",
       "      <th>cleanDiff</th>\n",
       "    </tr>\n",
       "    <tr>\n",
       "      <th>Datetime</th>\n",
       "      <th></th>\n",
       "      <th></th>\n",
       "      <th></th>\n",
       "      <th></th>\n",
       "      <th></th>\n",
       "      <th></th>\n",
       "    </tr>\n",
       "  </thead>\n",
       "  <tbody>\n",
       "    <tr>\n",
       "      <td>2015-03-01 00:00:00</td>\n",
       "      <td>2239.331299</td>\n",
       "      <td>2015-03-01T00:00:00</td>\n",
       "      <td>2252.090820</td>\n",
       "      <td>-12.759521</td>\n",
       "      <td>False</td>\n",
       "      <td>NaN</td>\n",
       "    </tr>\n",
       "    <tr>\n",
       "      <td>2015-03-01 00:01:00</td>\n",
       "      <td>2239.333740</td>\n",
       "      <td>2015-03-01T00:01:00</td>\n",
       "      <td>2252.092529</td>\n",
       "      <td>-12.758789</td>\n",
       "      <td>False</td>\n",
       "      <td>NaN</td>\n",
       "    </tr>\n",
       "    <tr>\n",
       "      <td>2015-03-01 00:02:00</td>\n",
       "      <td>2239.336182</td>\n",
       "      <td>2015-03-01T00:02:00</td>\n",
       "      <td>2252.094238</td>\n",
       "      <td>-12.758057</td>\n",
       "      <td>False</td>\n",
       "      <td>NaN</td>\n",
       "    </tr>\n",
       "    <tr>\n",
       "      <td>2015-03-01 00:03:00</td>\n",
       "      <td>2239.338623</td>\n",
       "      <td>2015-03-01T00:03:00</td>\n",
       "      <td>2252.096191</td>\n",
       "      <td>-12.757568</td>\n",
       "      <td>False</td>\n",
       "      <td>NaN</td>\n",
       "    </tr>\n",
       "    <tr>\n",
       "      <td>2015-03-01 00:04:00</td>\n",
       "      <td>2239.342041</td>\n",
       "      <td>2015-03-01T00:04:00</td>\n",
       "      <td>2252.100586</td>\n",
       "      <td>-12.758545</td>\n",
       "      <td>False</td>\n",
       "      <td>NaN</td>\n",
       "    </tr>\n",
       "  </tbody>\n",
       "</table>\n",
       "</div>"
      ],
      "text/plain": [
       "                     bottom_pressure_eastern             Datetime  \\\n",
       "Datetime                                                            \n",
       "2015-03-01 00:00:00              2239.331299  2015-03-01T00:00:00   \n",
       "2015-03-01 00:01:00              2239.333740  2015-03-01T00:01:00   \n",
       "2015-03-01 00:02:00              2239.336182  2015-03-01T00:02:00   \n",
       "2015-03-01 00:03:00              2239.338623  2015-03-01T00:03:00   \n",
       "2015-03-01 00:04:00              2239.342041  2015-03-01T00:04:00   \n",
       "\n",
       "                     bottom_pressure_central  depthDiff  spikes  cleanDiff  \n",
       "Datetime                                                                    \n",
       "2015-03-01 00:00:00              2252.090820 -12.759521   False        NaN  \n",
       "2015-03-01 00:01:00              2252.092529 -12.758789   False        NaN  \n",
       "2015-03-01 00:02:00              2252.094238 -12.758057   False        NaN  \n",
       "2015-03-01 00:03:00              2252.096191 -12.757568   False        NaN  \n",
       "2015-03-01 00:04:00              2252.100586 -12.758545   False        NaN  "
      ]
     },
     "execution_count": 16,
     "metadata": {},
     "output_type": "execute_result"
    }
   ],
   "source": [
    "df_botpt= df_botpt.set_index(pd.to_datetime(df_botpt['Datetime']))\n",
    "#del df_botpt['Datetime']\n",
    "df_botpt['depthDiff']= df_botpt['bottom_pressure_eastern'] - df_botpt['bottom_pressure_central']\n",
    "df_botpt =df_botpt.loc['2015-03-01 00:00:00':'2015-05-31 00:00:00']\n",
    "df_botpt['spikes']=(df_botpt['depthDiff'] - df_botpt['depthDiff'].rolling(1000).median()).abs() < 0.1\n",
    "df_botpt['cleanDiff']=df_botpt['depthDiff'].where(df_botpt.spikes)\n",
    "#df_botpt['bottom_pressure_eastern']= df_botpt.bottom_pressure_eastern.round(3)\n",
    "#df_botpt['bottom_pressure_central']= df_botpt.bottom_pressure_central.round(3)\n",
    "#df_botpt.sample(100)\n",
    "df_botpt.head()"
   ]
  },
  {
   "cell_type": "markdown",
   "metadata": {},
   "source": [
    "#### Create time and height vectors"
   ]
  },
  {
   "cell_type": "code",
   "execution_count": 17,
   "metadata": {},
   "outputs": [],
   "source": [
    "height = df_botpt['depthDiff'].tolist()\n",
    "time_int = []\n",
    "time = list(pd.to_datetime(df_botpt.index.values))\n",
    "for i in time:\n",
    "    i = np.datetime64(i).astype(datetime.datetime)\n",
    "    time_int.append(dates.date2num(i))"
   ]
  },
  {
   "cell_type": "markdown",
   "metadata": {},
   "source": [
    "#### Use Groupby to create one day mean measurements"
   ]
  },
  {
   "cell_type": "code",
   "execution_count": 18,
   "metadata": {},
   "outputs": [],
   "source": [
    "df_botpt['date']=pd.DatetimeIndex(df_botpt.index).date"
   ]
  },
  {
   "cell_type": "code",
   "execution_count": 19,
   "metadata": {},
   "outputs": [
    {
     "data": {
      "text/html": [
       "<div>\n",
       "<style scoped>\n",
       "    .dataframe tbody tr th:only-of-type {\n",
       "        vertical-align: middle;\n",
       "    }\n",
       "\n",
       "    .dataframe tbody tr th {\n",
       "        vertical-align: top;\n",
       "    }\n",
       "\n",
       "    .dataframe thead th {\n",
       "        text-align: right;\n",
       "    }\n",
       "</style>\n",
       "<table border=\"1\" class=\"dataframe\">\n",
       "  <thead>\n",
       "    <tr style=\"text-align: right;\">\n",
       "      <th></th>\n",
       "      <th>bottom_pressure_eastern</th>\n",
       "      <th>bottom_pressure_central</th>\n",
       "      <th>depthDiff</th>\n",
       "      <th>spikes</th>\n",
       "      <th>cleanDiff</th>\n",
       "    </tr>\n",
       "    <tr>\n",
       "      <th>date</th>\n",
       "      <th></th>\n",
       "      <th></th>\n",
       "      <th></th>\n",
       "      <th></th>\n",
       "      <th></th>\n",
       "    </tr>\n",
       "  </thead>\n",
       "  <tbody>\n",
       "    <tr>\n",
       "      <td>2015-03-01</td>\n",
       "      <td>2240.897217</td>\n",
       "      <td>2253.657227</td>\n",
       "      <td>-12.759914</td>\n",
       "      <td>0.30625</td>\n",
       "      <td>-12.760100</td>\n",
       "    </tr>\n",
       "    <tr>\n",
       "      <td>2015-03-02</td>\n",
       "      <td>2240.892090</td>\n",
       "      <td>2253.649658</td>\n",
       "      <td>-12.757645</td>\n",
       "      <td>1.00000</td>\n",
       "      <td>-12.757645</td>\n",
       "    </tr>\n",
       "    <tr>\n",
       "      <td>2015-03-03</td>\n",
       "      <td>2240.867432</td>\n",
       "      <td>2253.624512</td>\n",
       "      <td>-12.757014</td>\n",
       "      <td>1.00000</td>\n",
       "      <td>-12.757014</td>\n",
       "    </tr>\n",
       "    <tr>\n",
       "      <td>2015-03-04</td>\n",
       "      <td>2240.849854</td>\n",
       "      <td>2253.615967</td>\n",
       "      <td>-12.766049</td>\n",
       "      <td>1.00000</td>\n",
       "      <td>-12.766049</td>\n",
       "    </tr>\n",
       "    <tr>\n",
       "      <td>2015-03-05</td>\n",
       "      <td>2240.853271</td>\n",
       "      <td>2253.616699</td>\n",
       "      <td>-12.763405</td>\n",
       "      <td>1.00000</td>\n",
       "      <td>-12.763405</td>\n",
       "    </tr>\n",
       "  </tbody>\n",
       "</table>\n",
       "</div>"
      ],
      "text/plain": [
       "            bottom_pressure_eastern  bottom_pressure_central  depthDiff  \\\n",
       "date                                                                      \n",
       "2015-03-01              2240.897217              2253.657227 -12.759914   \n",
       "2015-03-02              2240.892090              2253.649658 -12.757645   \n",
       "2015-03-03              2240.867432              2253.624512 -12.757014   \n",
       "2015-03-04              2240.849854              2253.615967 -12.766049   \n",
       "2015-03-05              2240.853271              2253.616699 -12.763405   \n",
       "\n",
       "             spikes  cleanDiff  \n",
       "date                            \n",
       "2015-03-01  0.30625 -12.760100  \n",
       "2015-03-02  1.00000 -12.757645  \n",
       "2015-03-03  1.00000 -12.757014  \n",
       "2015-03-04  1.00000 -12.766049  \n",
       "2015-03-05  1.00000 -12.763405  "
      ]
     },
     "execution_count": 19,
     "metadata": {},
     "output_type": "execute_result"
    }
   ],
   "source": [
    "df_botptMean=df_botpt.groupby('date').mean()\n",
    "df_botptMean.head()"
   ]
  },
  {
   "cell_type": "code",
   "execution_count": 20,
   "metadata": {},
   "outputs": [
    {
     "data": {
      "text/plain": [
       "date\n",
       "2015-03-01    2240.897217\n",
       "2015-03-02    2240.892090\n",
       "2015-03-03    2240.867432\n",
       "2015-03-04    2240.849854\n",
       "2015-03-05    2240.853271\n",
       "Name: bottom_pressure_eastern, dtype: float32"
      ]
     },
     "execution_count": 20,
     "metadata": {},
     "output_type": "execute_result"
    }
   ],
   "source": [
    "df_botptMean['bottom_pressure_eastern'].head()"
   ]
  },
  {
   "cell_type": "code",
   "execution_count": 21,
   "metadata": {},
   "outputs": [],
   "source": [
    "df_plot = pd.merge(df_botptMean, df_eqMean, on = 'date')\n",
    "del df_plot['bottom_pressure_eastern']\n",
    "del df_plot['bottom_pressure_central']\n",
    "del df_plot['spikes']\n",
    "del df_plot['cleanDiff']\n",
    "del df_plot['Depth']\n",
    "del df_plot['RMS']\n",
    "del df_plot['count']\n",
    "# df_botpt=pd.merge(df1,df2, on = 'Datetime')"
   ]
  },
  {
   "cell_type": "code",
   "execution_count": 22,
   "metadata": {},
   "outputs": [
    {
     "data": {
      "text/html": [
       "<div>\n",
       "<style scoped>\n",
       "    .dataframe tbody tr th:only-of-type {\n",
       "        vertical-align: middle;\n",
       "    }\n",
       "\n",
       "    .dataframe tbody tr th {\n",
       "        vertical-align: top;\n",
       "    }\n",
       "\n",
       "    .dataframe thead th {\n",
       "        text-align: right;\n",
       "    }\n",
       "</style>\n",
       "<table border=\"1\" class=\"dataframe\">\n",
       "  <thead>\n",
       "    <tr style=\"text-align: right;\">\n",
       "      <th></th>\n",
       "      <th>depthDiff</th>\n",
       "      <th>MW</th>\n",
       "    </tr>\n",
       "    <tr>\n",
       "      <th>date</th>\n",
       "      <th></th>\n",
       "      <th></th>\n",
       "    </tr>\n",
       "  </thead>\n",
       "  <tbody>\n",
       "    <tr>\n",
       "      <td>2015-03-01</td>\n",
       "      <td>-12.759914</td>\n",
       "      <td>0.066812</td>\n",
       "    </tr>\n",
       "    <tr>\n",
       "      <td>2015-03-02</td>\n",
       "      <td>-12.757645</td>\n",
       "      <td>0.201029</td>\n",
       "    </tr>\n",
       "    <tr>\n",
       "      <td>2015-03-03</td>\n",
       "      <td>-12.757014</td>\n",
       "      <td>0.016284</td>\n",
       "    </tr>\n",
       "    <tr>\n",
       "      <td>2015-03-04</td>\n",
       "      <td>-12.766049</td>\n",
       "      <td>0.014170</td>\n",
       "    </tr>\n",
       "    <tr>\n",
       "      <td>2015-03-05</td>\n",
       "      <td>-12.763405</td>\n",
       "      <td>0.006964</td>\n",
       "    </tr>\n",
       "  </tbody>\n",
       "</table>\n",
       "</div>"
      ],
      "text/plain": [
       "            depthDiff        MW\n",
       "date                           \n",
       "2015-03-01 -12.759914  0.066812\n",
       "2015-03-02 -12.757645  0.201029\n",
       "2015-03-03 -12.757014  0.016284\n",
       "2015-03-04 -12.766049  0.014170\n",
       "2015-03-05 -12.763405  0.006964"
      ]
     },
     "execution_count": 22,
     "metadata": {},
     "output_type": "execute_result"
    }
   ],
   "source": [
    "df_plot.head()"
   ]
  },
  {
   "cell_type": "code",
   "execution_count": 23,
   "metadata": {},
   "outputs": [
    {
     "data": {
      "application/vnd.holoviews_exec.v0+json": "",
      "text/html": [
       "<div id='1211' style='display: table; margin: 0 auto;'>\n",
       "\n",
       "\n",
       "\n",
       "\n",
       "\n",
       "  <div class=\"bk-root\" id=\"606b0be2-4463-4bda-93c5-2526207f84a7\" data-root-id=\"1211\"></div>\n",
       "</div>\n",
       "<script type=\"application/javascript\">(function(root) {\n",
       "  function embed_document(root) {\n",
       "    \n",
       "  var docs_json = {\"26867142-725d-4007-91ce-b5dc16c63b63\":{\"roots\":{\"references\":[{\"attributes\":{\"align\":null,\"below\":[{\"id\":\"1220\",\"type\":\"DatetimeAxis\"}],\"center\":[{\"id\":\"1224\",\"type\":\"Grid\"},{\"id\":\"1229\",\"type\":\"Grid\"},{\"id\":\"1272\",\"type\":\"Legend\"}],\"left\":[{\"id\":\"1225\",\"type\":\"LinearAxis\"}],\"margin\":null,\"min_border_bottom\":10,\"min_border_left\":10,\"min_border_right\":10,\"min_border_top\":10,\"plot_height\":300,\"plot_width\":700,\"renderers\":[{\"id\":\"1252\",\"type\":\"GlyphRenderer\"},{\"id\":\"1280\",\"type\":\"GlyphRenderer\"}],\"right\":[{\"id\":\"1272\",\"type\":\"Legend\"}],\"sizing_mode\":\"fixed\",\"title\":{\"id\":\"1212\",\"type\":\"Title\"},\"toolbar\":{\"id\":\"1235\",\"type\":\"Toolbar\"},\"x_range\":{\"id\":\"1207\",\"type\":\"Range1d\"},\"x_scale\":{\"id\":\"1216\",\"type\":\"LinearScale\"},\"y_range\":{\"id\":\"1208\",\"type\":\"Range1d\"},\"y_scale\":{\"id\":\"1218\",\"type\":\"LinearScale\"}},\"id\":\"1211\",\"subtype\":\"Figure\",\"type\":\"Plot\"},{\"attributes\":{},\"id\":\"1231\",\"type\":\"PanTool\"},{\"attributes\":{\"callback\":null,\"end\":1432944000000.0,\"reset_end\":1432944000000.0,\"reset_start\":1425168000000.0,\"start\":1425168000000.0,\"tags\":[[[\"date\",\"date\",null]]]},\"id\":\"1207\",\"type\":\"Range1d\"},{\"attributes\":{\"axis_label\":\"date\",\"bounds\":\"auto\",\"formatter\":{\"id\":\"1243\",\"type\":\"DatetimeTickFormatter\"},\"major_label_orientation\":\"horizontal\",\"ticker\":{\"id\":\"1221\",\"type\":\"DatetimeTicker\"}},\"id\":\"1220\",\"type\":\"DatetimeAxis\"},{\"attributes\":{\"line_alpha\":0.1,\"line_color\":\"#1f77b3\",\"line_width\":2,\"x\":{\"field\":\"date\"},\"y\":{\"field\":\"value\"}},\"id\":\"1250\",\"type\":\"Line\"},{\"attributes\":{\"months\":[0,2,4,6,8,10]},\"id\":\"1268\",\"type\":\"MonthsTicker\"},{\"attributes\":{\"line_alpha\":0.2,\"line_color\":\"#1f77b3\",\"line_width\":2,\"x\":{\"field\":\"date\"},\"y\":{\"field\":\"value\"}},\"id\":\"1251\",\"type\":\"Line\"},{\"attributes\":{\"dimension\":1,\"grid_line_color\":null,\"ticker\":{\"id\":\"1226\",\"type\":\"BasicTicker\"}},\"id\":\"1229\",\"type\":\"Grid\"},{\"attributes\":{\"days\":[1,2,3,4,5,6,7,8,9,10,11,12,13,14,15,16,17,18,19,20,21,22,23,24,25,26,27,28,29,30,31]},\"id\":\"1263\",\"type\":\"DaysTicker\"},{\"attributes\":{\"text\":\"\",\"text_color\":{\"value\":\"black\"},\"text_font_size\":{\"value\":\"12pt\"}},\"id\":\"1212\",\"type\":\"Title\"},{\"attributes\":{\"days\":[1,8,15,22]},\"id\":\"1265\",\"type\":\"DaysTicker\"},{\"attributes\":{},\"id\":\"1323\",\"type\":\"UnionRenderers\"},{\"attributes\":{\"grid_line_color\":null,\"ticker\":{\"id\":\"1221\",\"type\":\"DatetimeTicker\"}},\"id\":\"1224\",\"type\":\"Grid\"},{\"attributes\":{\"source\":{\"id\":\"1246\",\"type\":\"ColumnDataSource\"}},\"id\":\"1253\",\"type\":\"CDSView\"},{\"attributes\":{},\"id\":\"1218\",\"type\":\"LinearScale\"},{\"attributes\":{\"source\":{\"id\":\"1274\",\"type\":\"ColumnDataSource\"}},\"id\":\"1281\",\"type\":\"CDSView\"},{\"attributes\":{\"callback\":null,\"end\":1.1641647089532774,\"reset_end\":1.1641647089532774,\"reset_start\":-14.769476890563965,\"start\":-14.769476890563965,\"tags\":[[[\"value\",\"value\",null]]]},\"id\":\"1208\",\"type\":\"Range1d\"},{\"attributes\":{},\"id\":\"1232\",\"type\":\"WheelZoomTool\"},{\"attributes\":{\"callback\":null,\"data\":{\"Variable\":[\"depthDiff\",\"depthDiff\",\"depthDiff\",\"depthDiff\",\"depthDiff\",\"depthDiff\",\"depthDiff\",\"depthDiff\",\"depthDiff\",\"depthDiff\",\"depthDiff\",\"depthDiff\",\"depthDiff\",\"depthDiff\",\"depthDiff\",\"depthDiff\",\"depthDiff\",\"depthDiff\",\"depthDiff\",\"depthDiff\",\"depthDiff\",\"depthDiff\",\"depthDiff\",\"depthDiff\",\"depthDiff\",\"depthDiff\",\"depthDiff\",\"depthDiff\",\"depthDiff\",\"depthDiff\",\"depthDiff\",\"depthDiff\",\"depthDiff\",\"depthDiff\",\"depthDiff\",\"depthDiff\",\"depthDiff\",\"depthDiff\",\"depthDiff\",\"depthDiff\",\"depthDiff\",\"depthDiff\",\"depthDiff\",\"depthDiff\",\"depthDiff\",\"depthDiff\",\"depthDiff\",\"depthDiff\",\"depthDiff\",\"depthDiff\",\"depthDiff\",\"depthDiff\",\"depthDiff\",\"depthDiff\",\"depthDiff\",\"depthDiff\",\"depthDiff\",\"depthDiff\",\"depthDiff\",\"depthDiff\",\"depthDiff\",\"depthDiff\",\"depthDiff\",\"depthDiff\",\"depthDiff\",\"depthDiff\",\"depthDiff\",\"depthDiff\",\"depthDiff\",\"depthDiff\",\"depthDiff\",\"depthDiff\",\"depthDiff\",\"depthDiff\",\"depthDiff\",\"depthDiff\",\"depthDiff\",\"depthDiff\",\"depthDiff\",\"depthDiff\",\"depthDiff\",\"depthDiff\",\"depthDiff\",\"depthDiff\",\"depthDiff\",\"depthDiff\",\"depthDiff\",\"depthDiff\"],\"date\":[1425168000000.0,1425254400000.0,1425340800000.0,1425427200000.0,1425513600000.0,1425859200000.0,1425945600000.0,1426032000000.0,1426118400000.0,1426204800000.0,1426291200000.0,1426377600000.0,1426464000000.0,1426550400000.0,1426636800000.0,1426723200000.0,1426809600000.0,1426896000000.0,1426982400000.0,1427068800000.0,1427155200000.0,1427241600000.0,1427328000000.0,1427414400000.0,1427500800000.0,1427587200000.0,1427673600000.0,1427760000000.0,1427846400000.0,1427932800000.0,1428019200000.0,1428105600000.0,1428192000000.0,1428278400000.0,1428364800000.0,1428451200000.0,1428537600000.0,1428624000000.0,1428710400000.0,1428796800000.0,1428883200000.0,1428969600000.0,1429056000000.0,1429142400000.0,1429228800000.0,1429315200000.0,1429401600000.0,1429488000000.0,1429574400000.0,1429660800000.0,1429747200000.0,1429833600000.0,1429920000000.0,1430006400000.0,1430092800000.0,1430179200000.0,1430265600000.0,1430352000000.0,1430438400000.0,1430524800000.0,1430611200000.0,1430697600000.0,1430784000000.0,1430870400000.0,1430956800000.0,1431043200000.0,1431129600000.0,1431216000000.0,1431302400000.0,1431388800000.0,1431475200000.0,1431561600000.0,1431648000000.0,1431734400000.0,1431820800000.0,1431907200000.0,1431993600000.0,1432080000000.0,1432166400000.0,1432252800000.0,1432339200000.0,1432425600000.0,1432512000000.0,1432598400000.0,1432684800000.0,1432771200000.0,1432857600000.0,1432944000000.0],\"date_dt_strings\":[\"2015-03-01\",\"2015-03-02\",\"2015-03-03\",\"2015-03-04\",\"2015-03-05\",\"2015-03-09\",\"2015-03-10\",\"2015-03-11\",\"2015-03-12\",\"2015-03-13\",\"2015-03-14\",\"2015-03-15\",\"2015-03-16\",\"2015-03-17\",\"2015-03-18\",\"2015-03-19\",\"2015-03-20\",\"2015-03-21\",\"2015-03-22\",\"2015-03-23\",\"2015-03-24\",\"2015-03-25\",\"2015-03-26\",\"2015-03-27\",\"2015-03-28\",\"2015-03-29\",\"2015-03-30\",\"2015-03-31\",\"2015-04-01\",\"2015-04-02\",\"2015-04-03\",\"2015-04-04\",\"2015-04-05\",\"2015-04-06\",\"2015-04-07\",\"2015-04-08\",\"2015-04-09\",\"2015-04-10\",\"2015-04-11\",\"2015-04-12\",\"2015-04-13\",\"2015-04-14\",\"2015-04-15\",\"2015-04-16\",\"2015-04-17\",\"2015-04-18\",\"2015-04-19\",\"2015-04-20\",\"2015-04-21\",\"2015-04-22\",\"2015-04-23\",\"2015-04-24\",\"2015-04-25\",\"2015-04-26\",\"2015-04-27\",\"2015-04-28\",\"2015-04-29\",\"2015-04-30\",\"2015-05-01\",\"2015-05-02\",\"2015-05-03\",\"2015-05-04\",\"2015-05-05\",\"2015-05-06\",\"2015-05-07\",\"2015-05-08\",\"2015-05-09\",\"2015-05-10\",\"2015-05-11\",\"2015-05-12\",\"2015-05-13\",\"2015-05-14\",\"2015-05-15\",\"2015-05-16\",\"2015-05-17\",\"2015-05-18\",\"2015-05-19\",\"2015-05-20\",\"2015-05-21\",\"2015-05-22\",\"2015-05-23\",\"2015-05-24\",\"2015-05-25\",\"2015-05-26\",\"2015-05-27\",\"2015-05-28\",\"2015-05-29\",\"2015-05-30\"],\"value\":{\"__ndarray__\":\"nChMwVAfTMG7HEzBvUFMweg2TMHlBkzBTwBMwRf3S8GS5UvBsMVLwfDMS8GSzUvBGMRLwXC/S8EZsUvBg6hLweWdS8F9mUvBWoxLwduCS8GjdEvBx2pLwXVgS8F+WkvBf05LwYE/S8EGOkvBqC1LwTIgS8FsGEvBFg5LwWz+SsEd+UrBTPZKwbvoSsEN5krBzedKwTbfSsFJ2krBXtNKwebRSsERxUrB3KxKwWm1SsFfuUrBhq9KwbepSsFxokrBtZpKwTWZSsHvjErBVb9cwXNHa8F5+WvBOChswWRFbMGcTWzBx09swVo3bMG9LmzB+TVswbotbMHTOGzBuOtrwUrBa8Fe7WvB6tZrwe+5a8GYbGvBg3RrwSGva8GhymvBj7hrwYapa8F1l2vBXXdrwTxTa8GvKWvBUhlrwb4la8F+/GrB8+lqwQjYasHjsGrB/olqwXluasHqWWrBJENqwQ==\",\"dtype\":\"float32\",\"shape\":[88]}},\"selected\":{\"id\":\"1247\",\"type\":\"Selection\"},\"selection_policy\":{\"id\":\"1300\",\"type\":\"UnionRenderers\"}},\"id\":\"1246\",\"type\":\"ColumnDataSource\"},{\"attributes\":{\"label\":{\"value\":\"depthDiff\"},\"renderers\":[{\"id\":\"1252\",\"type\":\"GlyphRenderer\"}]},\"id\":\"1273\",\"type\":\"LegendItem\"},{\"attributes\":{},\"id\":\"1275\",\"type\":\"Selection\"},{\"attributes\":{\"label\":{\"value\":\"MW\"},\"renderers\":[{\"id\":\"1280\",\"type\":\"GlyphRenderer\"}]},\"id\":\"1302\",\"type\":\"LegendItem\"},{\"attributes\":{\"data_source\":{\"id\":\"1274\",\"type\":\"ColumnDataSource\"},\"glyph\":{\"id\":\"1277\",\"type\":\"Line\"},\"hover_glyph\":null,\"muted_glyph\":{\"id\":\"1279\",\"type\":\"Line\"},\"nonselection_glyph\":{\"id\":\"1278\",\"type\":\"Line\"},\"selection_glyph\":null,\"view\":{\"id\":\"1281\",\"type\":\"CDSView\"}},\"id\":\"1280\",\"type\":\"GlyphRenderer\"},{\"attributes\":{},\"id\":\"1245\",\"type\":\"BasicTickFormatter\"},{\"attributes\":{\"click_policy\":\"mute\",\"items\":[{\"id\":\"1273\",\"type\":\"LegendItem\"},{\"id\":\"1302\",\"type\":\"LegendItem\"}],\"location\":[0,0]},\"id\":\"1272\",\"type\":\"Legend\"},{\"attributes\":{\"callback\":null,\"data\":{\"Variable\":[\"MW\",\"MW\",\"MW\",\"MW\",\"MW\",\"MW\",\"MW\",\"MW\",\"MW\",\"MW\",\"MW\",\"MW\",\"MW\",\"MW\",\"MW\",\"MW\",\"MW\",\"MW\",\"MW\",\"MW\",\"MW\",\"MW\",\"MW\",\"MW\",\"MW\",\"MW\",\"MW\",\"MW\",\"MW\",\"MW\",\"MW\",\"MW\",\"MW\",\"MW\",\"MW\",\"MW\",\"MW\",\"MW\",\"MW\",\"MW\",\"MW\",\"MW\",\"MW\",\"MW\",\"MW\",\"MW\",\"MW\",\"MW\",\"MW\",\"MW\",\"MW\",\"MW\",\"MW\",\"MW\",\"MW\",\"MW\",\"MW\",\"MW\",\"MW\",\"MW\",\"MW\",\"MW\",\"MW\",\"MW\",\"MW\",\"MW\",\"MW\",\"MW\",\"MW\",\"MW\",\"MW\",\"MW\",\"MW\",\"MW\",\"MW\",\"MW\",\"MW\",\"MW\",\"MW\",\"MW\",\"MW\",\"MW\",\"MW\",\"MW\",\"MW\",\"MW\",\"MW\",\"MW\"],\"date\":[1425168000000.0,1425254400000.0,1425340800000.0,1425427200000.0,1425513600000.0,1425859200000.0,1425945600000.0,1426032000000.0,1426118400000.0,1426204800000.0,1426291200000.0,1426377600000.0,1426464000000.0,1426550400000.0,1426636800000.0,1426723200000.0,1426809600000.0,1426896000000.0,1426982400000.0,1427068800000.0,1427155200000.0,1427241600000.0,1427328000000.0,1427414400000.0,1427500800000.0,1427587200000.0,1427673600000.0,1427760000000.0,1427846400000.0,1427932800000.0,1428019200000.0,1428105600000.0,1428192000000.0,1428278400000.0,1428364800000.0,1428451200000.0,1428537600000.0,1428624000000.0,1428710400000.0,1428796800000.0,1428883200000.0,1428969600000.0,1429056000000.0,1429142400000.0,1429228800000.0,1429315200000.0,1429401600000.0,1429488000000.0,1429574400000.0,1429660800000.0,1429747200000.0,1429833600000.0,1429920000000.0,1430006400000.0,1430092800000.0,1430179200000.0,1430265600000.0,1430352000000.0,1430438400000.0,1430524800000.0,1430611200000.0,1430697600000.0,1430784000000.0,1430870400000.0,1430956800000.0,1431043200000.0,1431129600000.0,1431216000000.0,1431302400000.0,1431388800000.0,1431475200000.0,1431561600000.0,1431648000000.0,1431734400000.0,1431820800000.0,1431907200000.0,1431993600000.0,1432080000000.0,1432166400000.0,1432252800000.0,1432339200000.0,1432425600000.0,1432512000000.0,1432598400000.0,1432684800000.0,1432771200000.0,1432857600000.0,1432944000000.0],\"date_dt_strings\":[\"2015-03-01\",\"2015-03-02\",\"2015-03-03\",\"2015-03-04\",\"2015-03-05\",\"2015-03-09\",\"2015-03-10\",\"2015-03-11\",\"2015-03-12\",\"2015-03-13\",\"2015-03-14\",\"2015-03-15\",\"2015-03-16\",\"2015-03-17\",\"2015-03-18\",\"2015-03-19\",\"2015-03-20\",\"2015-03-21\",\"2015-03-22\",\"2015-03-23\",\"2015-03-24\",\"2015-03-25\",\"2015-03-26\",\"2015-03-27\",\"2015-03-28\",\"2015-03-29\",\"2015-03-30\",\"2015-03-31\",\"2015-04-01\",\"2015-04-02\",\"2015-04-03\",\"2015-04-04\",\"2015-04-05\",\"2015-04-06\",\"2015-04-07\",\"2015-04-08\",\"2015-04-09\",\"2015-04-10\",\"2015-04-11\",\"2015-04-12\",\"2015-04-13\",\"2015-04-14\",\"2015-04-15\",\"2015-04-16\",\"2015-04-17\",\"2015-04-18\",\"2015-04-19\",\"2015-04-20\",\"2015-04-21\",\"2015-04-22\",\"2015-04-23\",\"2015-04-24\",\"2015-04-25\",\"2015-04-26\",\"2015-04-27\",\"2015-04-28\",\"2015-04-29\",\"2015-04-30\",\"2015-05-01\",\"2015-05-02\",\"2015-05-03\",\"2015-05-04\",\"2015-05-05\",\"2015-05-06\",\"2015-05-07\",\"2015-05-08\",\"2015-05-09\",\"2015-05-10\",\"2015-05-11\",\"2015-05-12\",\"2015-05-13\",\"2015-05-14\",\"2015-05-15\",\"2015-05-16\",\"2015-05-17\",\"2015-05-18\",\"2015-05-19\",\"2015-05-20\",\"2015-05-21\",\"2015-05-22\",\"2015-05-23\",\"2015-05-24\",\"2015-05-25\",\"2015-05-26\",\"2015-05-27\",\"2015-05-28\",\"2015-05-29\",\"2015-05-30\"],\"value\":{\"__ndarray__\":\"4AAZqZMasT81v1CJUrvJPyM4Lu6/rJA/miN3iQYFjT/GLiA2lYZ8P+9jBLEsapO/Ju7bPgHinT+vcbuYMPjCP+NjP9jfpKs/3UbpnyD0gj+y4I6TLhayP4ei1SL0UaQ/L6w0CtLJmT+Qk8AZcFuCv+AGII08Qrg/vTGCif5Opj+eycYMGACjPyqA1ZbMT6w/2sNLG9tZuT9bt/JsBaGKP/uJyZt16K8/jY86rYnVjz8FjXNDiFrAP83wF67RZpw//R5+k5KoqD+v+4h4sdiVvxIXuXORO4c/hmX7tUMIqD+Rhthj9LN6vxd1r83Zfpi/OyOihTouez+qE2pjZTV0P7ejGOGBlZK/d9kCrveetL/0r1at0qilv/D4wwGPP7y/lSThyLburr+0qT9Qk1Sxv52X4Pk33qa/qIJWXypopT9UUahq2v/LPy5AVFgwz5A/QFGSMkgbpj9pmGC0NnOoPxHPXwCcAqW/9tKqs+P/uD9vk+/kb2iWP5HK+IjVJp4/sIn49a1glj+/SmknXZZNv1LZ/uyrKs4/dsmBLGug8j/ulVLqDo7gP7xUtG1X0d0/CodP+8qt2D8KA+dba9vXPyyyne+nxss/yHRYJjBVzz8FLZ2fxjbJP2NTaci5z84/vKrXOHAvxT9kBBP9nazGP8aJZJxIxsk/Utfu1Xfbwz+HnPvsAmLDP1EHdVAHdcA/aQOdNtBpwz9SuB6F61HCP4iy0ZeVUMU/xZJfLPnFsj9q4lnRSMC3PwvXo3A9Cpc/pHA9CtejoL+Viwd2/1KCvy9uowG8BbI/ONJrBZ84wj9RjZduEoOwP7ULiE2lIcc/Ssenry0Opj8pXI/C9SisPzi96U1verO/P9T0Q00/tL/uUbgeheu5v1jyiyW/WMI/F2zBFmzBhj88CtejcD2qv8DKoUW2872/SpCnBHlKsD8=\",\"dtype\":\"float64\",\"shape\":[88]}},\"selected\":{\"id\":\"1275\",\"type\":\"Selection\"},\"selection_policy\":{\"id\":\"1323\",\"type\":\"UnionRenderers\"}},\"id\":\"1274\",\"type\":\"ColumnDataSource\"},{\"attributes\":{\"bottom_units\":\"screen\",\"fill_alpha\":{\"value\":0.5},\"fill_color\":{\"value\":\"lightgrey\"},\"left_units\":\"screen\",\"level\":\"overlay\",\"line_alpha\":{\"value\":1.0},\"line_color\":{\"value\":\"black\"},\"line_dash\":[4,4],\"line_width\":{\"value\":2},\"render_mode\":\"css\",\"right_units\":\"screen\",\"top_units\":\"screen\"},\"id\":\"1259\",\"type\":\"BoxAnnotation\"},{\"attributes\":{\"days\":[1,4,7,10,13,16,19,22,25,28]},\"id\":\"1264\",\"type\":\"DaysTicker\"},{\"attributes\":{},\"id\":\"1216\",\"type\":\"LinearScale\"},{\"attributes\":{\"months\":[0,1,2,3,4,5,6,7,8,9,10,11]},\"id\":\"1267\",\"type\":\"MonthsTicker\"},{\"attributes\":{},\"id\":\"1300\",\"type\":\"UnionRenderers\"},{\"attributes\":{\"active_drag\":\"auto\",\"active_inspect\":\"auto\",\"active_multi\":null,\"active_scroll\":\"auto\",\"active_tap\":\"auto\",\"tools\":[{\"id\":\"1209\",\"type\":\"HoverTool\"},{\"id\":\"1230\",\"type\":\"SaveTool\"},{\"id\":\"1231\",\"type\":\"PanTool\"},{\"id\":\"1232\",\"type\":\"WheelZoomTool\"},{\"id\":\"1233\",\"type\":\"BoxZoomTool\"},{\"id\":\"1234\",\"type\":\"ResetTool\"}]},\"id\":\"1235\",\"type\":\"Toolbar\"},{\"attributes\":{\"num_minor_ticks\":5,\"tickers\":[{\"id\":\"1260\",\"type\":\"AdaptiveTicker\"},{\"id\":\"1261\",\"type\":\"AdaptiveTicker\"},{\"id\":\"1262\",\"type\":\"AdaptiveTicker\"},{\"id\":\"1263\",\"type\":\"DaysTicker\"},{\"id\":\"1264\",\"type\":\"DaysTicker\"},{\"id\":\"1265\",\"type\":\"DaysTicker\"},{\"id\":\"1266\",\"type\":\"DaysTicker\"},{\"id\":\"1267\",\"type\":\"MonthsTicker\"},{\"id\":\"1268\",\"type\":\"MonthsTicker\"},{\"id\":\"1269\",\"type\":\"MonthsTicker\"},{\"id\":\"1270\",\"type\":\"MonthsTicker\"},{\"id\":\"1271\",\"type\":\"YearsTicker\"}]},\"id\":\"1221\",\"type\":\"DatetimeTicker\"},{\"attributes\":{},\"id\":\"1243\",\"type\":\"DatetimeTickFormatter\"},{\"attributes\":{\"days\":[1,15]},\"id\":\"1266\",\"type\":\"DaysTicker\"},{\"attributes\":{\"line_alpha\":0.1,\"line_color\":\"#ff7e0e\",\"line_width\":2,\"x\":{\"field\":\"date\"},\"y\":{\"field\":\"value\"}},\"id\":\"1278\",\"type\":\"Line\"},{\"attributes\":{},\"id\":\"1234\",\"type\":\"ResetTool\"},{\"attributes\":{\"months\":[0,6]},\"id\":\"1270\",\"type\":\"MonthsTicker\"},{\"attributes\":{\"mantissas\":[1,2,5],\"max_interval\":500.0,\"num_minor_ticks\":0},\"id\":\"1260\",\"type\":\"AdaptiveTicker\"},{\"attributes\":{\"base\":24,\"mantissas\":[1,2,4,6,8,12],\"max_interval\":43200000.0,\"min_interval\":3600000.0,\"num_minor_ticks\":0},\"id\":\"1262\",\"type\":\"AdaptiveTicker\"},{\"attributes\":{\"line_color\":\"#1f77b3\",\"line_width\":2,\"x\":{\"field\":\"date\"},\"y\":{\"field\":\"value\"}},\"id\":\"1249\",\"type\":\"Line\"},{\"attributes\":{\"base\":60,\"mantissas\":[1,2,5,10,15,20,30],\"max_interval\":1800000.0,\"min_interval\":1000.0,\"num_minor_ticks\":0},\"id\":\"1261\",\"type\":\"AdaptiveTicker\"},{\"attributes\":{},\"id\":\"1230\",\"type\":\"SaveTool\"},{\"attributes\":{},\"id\":\"1271\",\"type\":\"YearsTicker\"},{\"attributes\":{\"line_color\":\"#ff7e0e\",\"line_width\":2,\"x\":{\"field\":\"date\"},\"y\":{\"field\":\"value\"}},\"id\":\"1277\",\"type\":\"Line\"},{\"attributes\":{\"line_alpha\":0.2,\"line_color\":\"#ff7e0e\",\"line_width\":2,\"x\":{\"field\":\"date\"},\"y\":{\"field\":\"value\"}},\"id\":\"1279\",\"type\":\"Line\"},{\"attributes\":{\"callback\":null,\"renderers\":[{\"id\":\"1252\",\"type\":\"GlyphRenderer\"},{\"id\":\"1280\",\"type\":\"GlyphRenderer\"}],\"tags\":[\"hv_created\"],\"tooltips\":[[\"Variable\",\"@{Variable}\"],[\"date\",\"@{date_dt_strings}\"],[\"value\",\"@{value}\"]]},\"id\":\"1209\",\"type\":\"HoverTool\"},{\"attributes\":{},\"id\":\"1247\",\"type\":\"Selection\"},{\"attributes\":{\"data_source\":{\"id\":\"1246\",\"type\":\"ColumnDataSource\"},\"glyph\":{\"id\":\"1249\",\"type\":\"Line\"},\"hover_glyph\":null,\"muted_glyph\":{\"id\":\"1251\",\"type\":\"Line\"},\"nonselection_glyph\":{\"id\":\"1250\",\"type\":\"Line\"},\"selection_glyph\":null,\"view\":{\"id\":\"1253\",\"type\":\"CDSView\"}},\"id\":\"1252\",\"type\":\"GlyphRenderer\"},{\"attributes\":{\"months\":[0,4,8]},\"id\":\"1269\",\"type\":\"MonthsTicker\"},{\"attributes\":{\"overlay\":{\"id\":\"1259\",\"type\":\"BoxAnnotation\"}},\"id\":\"1233\",\"type\":\"BoxZoomTool\"},{\"attributes\":{},\"id\":\"1226\",\"type\":\"BasicTicker\"},{\"attributes\":{\"axis_label\":\"\",\"bounds\":\"auto\",\"formatter\":{\"id\":\"1245\",\"type\":\"BasicTickFormatter\"},\"major_label_orientation\":\"horizontal\",\"ticker\":{\"id\":\"1226\",\"type\":\"BasicTicker\"}},\"id\":\"1225\",\"type\":\"LinearAxis\"}],\"root_ids\":[\"1211\"]},\"title\":\"Bokeh Application\",\"version\":\"1.3.4\"}};\n",
       "  var render_items = [{\"docid\":\"26867142-725d-4007-91ce-b5dc16c63b63\",\"roots\":{\"1211\":\"606b0be2-4463-4bda-93c5-2526207f84a7\"}}];\n",
       "  root.Bokeh.embed.embed_items_notebook(docs_json, render_items);\n",
       "\n",
       "  }\n",
       "  if (root.Bokeh !== undefined) {\n",
       "    embed_document(root);\n",
       "  } else {\n",
       "    var attempts = 0;\n",
       "    var timer = setInterval(function(root) {\n",
       "      if (root.Bokeh !== undefined) {\n",
       "        embed_document(root);\n",
       "        clearInterval(timer);\n",
       "      }\n",
       "      attempts++;\n",
       "      if (attempts > 100) {\n",
       "        console.log(\"Bokeh: ERROR: Unable to run BokehJS code because BokehJS library is missing\");\n",
       "        clearInterval(timer);\n",
       "      }\n",
       "    }, 10, root)\n",
       "  }\n",
       "})(window);</script>"
      ],
      "text/plain": [
       ":NdOverlay   [Variable]\n",
       "   :Curve   [date]   (value)"
      ]
     },
     "execution_count": 23,
     "metadata": {
      "application/vnd.holoviews_exec.v0+json": {
       "id": "1211"
      }
     },
     "output_type": "execute_result"
    }
   ],
   "source": [
    "df_plot.hvplot()"
   ]
  },
  {
   "cell_type": "code",
   "execution_count": 24,
   "metadata": {},
   "outputs": [],
   "source": [
    "df_plot['mw_cumsum']= df_plot['MW'].cumsum()\n",
    "del df_plot['MW']"
   ]
  },
  {
   "cell_type": "code",
   "execution_count": 25,
   "metadata": {},
   "outputs": [
    {
     "data": {
      "text/html": [
       "<div>\n",
       "<style scoped>\n",
       "    .dataframe tbody tr th:only-of-type {\n",
       "        vertical-align: middle;\n",
       "    }\n",
       "\n",
       "    .dataframe tbody tr th {\n",
       "        vertical-align: top;\n",
       "    }\n",
       "\n",
       "    .dataframe thead th {\n",
       "        text-align: right;\n",
       "    }\n",
       "</style>\n",
       "<table border=\"1\" class=\"dataframe\">\n",
       "  <thead>\n",
       "    <tr style=\"text-align: right;\">\n",
       "      <th></th>\n",
       "      <th>depthDiff</th>\n",
       "      <th>mw_cumsum</th>\n",
       "    </tr>\n",
       "    <tr>\n",
       "      <th>date</th>\n",
       "      <th></th>\n",
       "      <th></th>\n",
       "    </tr>\n",
       "  </thead>\n",
       "  <tbody>\n",
       "    <tr>\n",
       "      <td>2015-03-01</td>\n",
       "      <td>-12.759914</td>\n",
       "      <td>0.066812</td>\n",
       "    </tr>\n",
       "    <tr>\n",
       "      <td>2015-03-02</td>\n",
       "      <td>-12.757645</td>\n",
       "      <td>0.267841</td>\n",
       "    </tr>\n",
       "    <tr>\n",
       "      <td>2015-03-03</td>\n",
       "      <td>-12.757014</td>\n",
       "      <td>0.284125</td>\n",
       "    </tr>\n",
       "    <tr>\n",
       "      <td>2015-03-04</td>\n",
       "      <td>-12.766049</td>\n",
       "      <td>0.298295</td>\n",
       "    </tr>\n",
       "    <tr>\n",
       "      <td>2015-03-05</td>\n",
       "      <td>-12.763405</td>\n",
       "      <td>0.305259</td>\n",
       "    </tr>\n",
       "  </tbody>\n",
       "</table>\n",
       "</div>"
      ],
      "text/plain": [
       "            depthDiff  mw_cumsum\n",
       "date                            \n",
       "2015-03-01 -12.759914   0.066812\n",
       "2015-03-02 -12.757645   0.267841\n",
       "2015-03-03 -12.757014   0.284125\n",
       "2015-03-04 -12.766049   0.298295\n",
       "2015-03-05 -12.763405   0.305259"
      ]
     },
     "execution_count": 25,
     "metadata": {},
     "output_type": "execute_result"
    }
   ],
   "source": [
    "df_plot.head()"
   ]
  },
  {
   "cell_type": "code",
   "execution_count": 26,
   "metadata": {},
   "outputs": [
    {
     "data": {
      "application/vnd.holoviews_exec.v0+json": "",
      "text/html": [
       "<div id='1637' style='display: table; margin: 0 auto;'>\n",
       "\n",
       "\n",
       "\n",
       "\n",
       "\n",
       "  <div class=\"bk-root\" id=\"0493bdb2-1e78-4af9-8240-403da708dd95\" data-root-id=\"1637\"></div>\n",
       "</div>\n",
       "<script type=\"application/javascript\">(function(root) {\n",
       "  function embed_document(root) {\n",
       "    \n",
       "  var docs_json = {\"75024521-d021-403e-8b8a-257a6a81a47d\":{\"roots\":{\"references\":[{\"attributes\":{\"align\":null,\"below\":[{\"id\":\"1646\",\"type\":\"DatetimeAxis\"}],\"center\":[{\"id\":\"1650\",\"type\":\"Grid\"},{\"id\":\"1655\",\"type\":\"Grid\"},{\"id\":\"1698\",\"type\":\"Legend\"}],\"left\":[{\"id\":\"1651\",\"type\":\"LinearAxis\"}],\"margin\":null,\"min_border_bottom\":10,\"min_border_left\":10,\"min_border_right\":10,\"min_border_top\":10,\"plot_height\":300,\"plot_width\":700,\"renderers\":[{\"id\":\"1678\",\"type\":\"GlyphRenderer\"},{\"id\":\"1706\",\"type\":\"GlyphRenderer\"}],\"right\":[{\"id\":\"1698\",\"type\":\"Legend\"}],\"sizing_mode\":\"fixed\",\"title\":{\"id\":\"1638\",\"type\":\"Title\"},\"toolbar\":{\"id\":\"1661\",\"type\":\"Toolbar\"},\"x_range\":{\"id\":\"1633\",\"type\":\"Range1d\"},\"x_scale\":{\"id\":\"1642\",\"type\":\"LinearScale\"},\"y_range\":{\"id\":\"1634\",\"type\":\"Range1d\"},\"y_scale\":{\"id\":\"1644\",\"type\":\"LinearScale\"}},\"id\":\"1637\",\"subtype\":\"Figure\",\"type\":\"Plot\"},{\"attributes\":{\"mantissas\":[1,2,5],\"max_interval\":500.0,\"num_minor_ticks\":0},\"id\":\"1686\",\"type\":\"AdaptiveTicker\"},{\"attributes\":{\"months\":[0,2,4,6,8,10]},\"id\":\"1694\",\"type\":\"MonthsTicker\"},{\"attributes\":{\"callback\":null,\"end\":7.553150761434052,\"reset_end\":7.553150761434052,\"reset_start\":-14.769476890563965,\"start\":-14.769476890563965,\"tags\":[[[\"value\",\"value\",null]]]},\"id\":\"1634\",\"type\":\"Range1d\"},{\"attributes\":{\"dimension\":1,\"grid_line_color\":null,\"ticker\":{\"id\":\"1652\",\"type\":\"BasicTicker\"}},\"id\":\"1655\",\"type\":\"Grid\"},{\"attributes\":{\"label\":{\"value\":\"depthDiff\"},\"renderers\":[{\"id\":\"1678\",\"type\":\"GlyphRenderer\"}]},\"id\":\"1699\",\"type\":\"LegendItem\"},{\"attributes\":{\"line_alpha\":0.1,\"line_color\":\"#1f77b3\",\"line_width\":2,\"x\":{\"field\":\"date\"},\"y\":{\"field\":\"value\"}},\"id\":\"1676\",\"type\":\"Line\"},{\"attributes\":{},\"id\":\"1726\",\"type\":\"UnionRenderers\"},{\"attributes\":{\"source\":{\"id\":\"1700\",\"type\":\"ColumnDataSource\"}},\"id\":\"1707\",\"type\":\"CDSView\"},{\"attributes\":{\"click_policy\":\"mute\",\"items\":[{\"id\":\"1699\",\"type\":\"LegendItem\"},{\"id\":\"1728\",\"type\":\"LegendItem\"}],\"location\":[0,0]},\"id\":\"1698\",\"type\":\"Legend\"},{\"attributes\":{\"days\":[1,2,3,4,5,6,7,8,9,10,11,12,13,14,15,16,17,18,19,20,21,22,23,24,25,26,27,28,29,30,31]},\"id\":\"1689\",\"type\":\"DaysTicker\"},{\"attributes\":{\"overlay\":{\"id\":\"1685\",\"type\":\"BoxAnnotation\"}},\"id\":\"1659\",\"type\":\"BoxZoomTool\"},{\"attributes\":{\"base\":24,\"mantissas\":[1,2,4,6,8,12],\"max_interval\":43200000.0,\"min_interval\":3600000.0,\"num_minor_ticks\":0},\"id\":\"1688\",\"type\":\"AdaptiveTicker\"},{\"attributes\":{},\"id\":\"1657\",\"type\":\"PanTool\"},{\"attributes\":{},\"id\":\"1644\",\"type\":\"LinearScale\"},{\"attributes\":{},\"id\":\"1671\",\"type\":\"BasicTickFormatter\"},{\"attributes\":{\"label\":{\"value\":\"mw_cumsum\"},\"renderers\":[{\"id\":\"1706\",\"type\":\"GlyphRenderer\"}]},\"id\":\"1728\",\"type\":\"LegendItem\"},{\"attributes\":{\"days\":[1,15]},\"id\":\"1692\",\"type\":\"DaysTicker\"},{\"attributes\":{},\"id\":\"1660\",\"type\":\"ResetTool\"},{\"attributes\":{\"axis_label\":\"date\",\"bounds\":\"auto\",\"formatter\":{\"id\":\"1669\",\"type\":\"DatetimeTickFormatter\"},\"major_label_orientation\":\"horizontal\",\"ticker\":{\"id\":\"1647\",\"type\":\"DatetimeTicker\"}},\"id\":\"1646\",\"type\":\"DatetimeAxis\"},{\"attributes\":{\"base\":60,\"mantissas\":[1,2,5,10,15,20,30],\"max_interval\":1800000.0,\"min_interval\":1000.0,\"num_minor_ticks\":0},\"id\":\"1687\",\"type\":\"AdaptiveTicker\"},{\"attributes\":{\"active_drag\":\"auto\",\"active_inspect\":\"auto\",\"active_multi\":null,\"active_scroll\":\"auto\",\"active_tap\":\"auto\",\"tools\":[{\"id\":\"1635\",\"type\":\"HoverTool\"},{\"id\":\"1656\",\"type\":\"SaveTool\"},{\"id\":\"1657\",\"type\":\"PanTool\"},{\"id\":\"1658\",\"type\":\"WheelZoomTool\"},{\"id\":\"1659\",\"type\":\"BoxZoomTool\"},{\"id\":\"1660\",\"type\":\"ResetTool\"}]},\"id\":\"1661\",\"type\":\"Toolbar\"},{\"attributes\":{\"days\":[1,4,7,10,13,16,19,22,25,28]},\"id\":\"1690\",\"type\":\"DaysTicker\"},{\"attributes\":{\"data_source\":{\"id\":\"1700\",\"type\":\"ColumnDataSource\"},\"glyph\":{\"id\":\"1703\",\"type\":\"Line\"},\"hover_glyph\":null,\"muted_glyph\":{\"id\":\"1705\",\"type\":\"Line\"},\"nonselection_glyph\":{\"id\":\"1704\",\"type\":\"Line\"},\"selection_glyph\":null,\"view\":{\"id\":\"1707\",\"type\":\"CDSView\"}},\"id\":\"1706\",\"type\":\"GlyphRenderer\"},{\"attributes\":{\"source\":{\"id\":\"1672\",\"type\":\"ColumnDataSource\"}},\"id\":\"1679\",\"type\":\"CDSView\"},{\"attributes\":{\"months\":[0,1,2,3,4,5,6,7,8,9,10,11]},\"id\":\"1693\",\"type\":\"MonthsTicker\"},{\"attributes\":{},\"id\":\"1658\",\"type\":\"WheelZoomTool\"},{\"attributes\":{\"num_minor_ticks\":5,\"tickers\":[{\"id\":\"1686\",\"type\":\"AdaptiveTicker\"},{\"id\":\"1687\",\"type\":\"AdaptiveTicker\"},{\"id\":\"1688\",\"type\":\"AdaptiveTicker\"},{\"id\":\"1689\",\"type\":\"DaysTicker\"},{\"id\":\"1690\",\"type\":\"DaysTicker\"},{\"id\":\"1691\",\"type\":\"DaysTicker\"},{\"id\":\"1692\",\"type\":\"DaysTicker\"},{\"id\":\"1693\",\"type\":\"MonthsTicker\"},{\"id\":\"1694\",\"type\":\"MonthsTicker\"},{\"id\":\"1695\",\"type\":\"MonthsTicker\"},{\"id\":\"1696\",\"type\":\"MonthsTicker\"},{\"id\":\"1697\",\"type\":\"YearsTicker\"}]},\"id\":\"1647\",\"type\":\"DatetimeTicker\"},{\"attributes\":{\"line_color\":\"#ff7e0e\",\"line_width\":2,\"x\":{\"field\":\"date\"},\"y\":{\"field\":\"value\"}},\"id\":\"1703\",\"type\":\"Line\"},{\"attributes\":{\"line_color\":\"#1f77b3\",\"line_width\":2,\"x\":{\"field\":\"date\"},\"y\":{\"field\":\"value\"}},\"id\":\"1675\",\"type\":\"Line\"},{\"attributes\":{},\"id\":\"1749\",\"type\":\"UnionRenderers\"},{\"attributes\":{\"line_alpha\":0.2,\"line_color\":\"#ff7e0e\",\"line_width\":2,\"x\":{\"field\":\"date\"},\"y\":{\"field\":\"value\"}},\"id\":\"1705\",\"type\":\"Line\"},{\"attributes\":{\"months\":[0,6]},\"id\":\"1696\",\"type\":\"MonthsTicker\"},{\"attributes\":{},\"id\":\"1656\",\"type\":\"SaveTool\"},{\"attributes\":{\"callback\":null,\"data\":{\"Variable\":[\"mw_cumsum\",\"mw_cumsum\",\"mw_cumsum\",\"mw_cumsum\",\"mw_cumsum\",\"mw_cumsum\",\"mw_cumsum\",\"mw_cumsum\",\"mw_cumsum\",\"mw_cumsum\",\"mw_cumsum\",\"mw_cumsum\",\"mw_cumsum\",\"mw_cumsum\",\"mw_cumsum\",\"mw_cumsum\",\"mw_cumsum\",\"mw_cumsum\",\"mw_cumsum\",\"mw_cumsum\",\"mw_cumsum\",\"mw_cumsum\",\"mw_cumsum\",\"mw_cumsum\",\"mw_cumsum\",\"mw_cumsum\",\"mw_cumsum\",\"mw_cumsum\",\"mw_cumsum\",\"mw_cumsum\",\"mw_cumsum\",\"mw_cumsum\",\"mw_cumsum\",\"mw_cumsum\",\"mw_cumsum\",\"mw_cumsum\",\"mw_cumsum\",\"mw_cumsum\",\"mw_cumsum\",\"mw_cumsum\",\"mw_cumsum\",\"mw_cumsum\",\"mw_cumsum\",\"mw_cumsum\",\"mw_cumsum\",\"mw_cumsum\",\"mw_cumsum\",\"mw_cumsum\",\"mw_cumsum\",\"mw_cumsum\",\"mw_cumsum\",\"mw_cumsum\",\"mw_cumsum\",\"mw_cumsum\",\"mw_cumsum\",\"mw_cumsum\",\"mw_cumsum\",\"mw_cumsum\",\"mw_cumsum\",\"mw_cumsum\",\"mw_cumsum\",\"mw_cumsum\",\"mw_cumsum\",\"mw_cumsum\",\"mw_cumsum\",\"mw_cumsum\",\"mw_cumsum\",\"mw_cumsum\",\"mw_cumsum\",\"mw_cumsum\",\"mw_cumsum\",\"mw_cumsum\",\"mw_cumsum\",\"mw_cumsum\",\"mw_cumsum\",\"mw_cumsum\",\"mw_cumsum\",\"mw_cumsum\",\"mw_cumsum\",\"mw_cumsum\",\"mw_cumsum\",\"mw_cumsum\",\"mw_cumsum\",\"mw_cumsum\",\"mw_cumsum\",\"mw_cumsum\",\"mw_cumsum\",\"mw_cumsum\"],\"date\":[1425168000000.0,1425254400000.0,1425340800000.0,1425427200000.0,1425513600000.0,1425859200000.0,1425945600000.0,1426032000000.0,1426118400000.0,1426204800000.0,1426291200000.0,1426377600000.0,1426464000000.0,1426550400000.0,1426636800000.0,1426723200000.0,1426809600000.0,1426896000000.0,1426982400000.0,1427068800000.0,1427155200000.0,1427241600000.0,1427328000000.0,1427414400000.0,1427500800000.0,1427587200000.0,1427673600000.0,1427760000000.0,1427846400000.0,1427932800000.0,1428019200000.0,1428105600000.0,1428192000000.0,1428278400000.0,1428364800000.0,1428451200000.0,1428537600000.0,1428624000000.0,1428710400000.0,1428796800000.0,1428883200000.0,1428969600000.0,1429056000000.0,1429142400000.0,1429228800000.0,1429315200000.0,1429401600000.0,1429488000000.0,1429574400000.0,1429660800000.0,1429747200000.0,1429833600000.0,1429920000000.0,1430006400000.0,1430092800000.0,1430179200000.0,1430265600000.0,1430352000000.0,1430438400000.0,1430524800000.0,1430611200000.0,1430697600000.0,1430784000000.0,1430870400000.0,1430956800000.0,1431043200000.0,1431129600000.0,1431216000000.0,1431302400000.0,1431388800000.0,1431475200000.0,1431561600000.0,1431648000000.0,1431734400000.0,1431820800000.0,1431907200000.0,1431993600000.0,1432080000000.0,1432166400000.0,1432252800000.0,1432339200000.0,1432425600000.0,1432512000000.0,1432598400000.0,1432684800000.0,1432771200000.0,1432857600000.0,1432944000000.0],\"date_dt_strings\":[\"2015-03-01\",\"2015-03-02\",\"2015-03-03\",\"2015-03-04\",\"2015-03-05\",\"2015-03-09\",\"2015-03-10\",\"2015-03-11\",\"2015-03-12\",\"2015-03-13\",\"2015-03-14\",\"2015-03-15\",\"2015-03-16\",\"2015-03-17\",\"2015-03-18\",\"2015-03-19\",\"2015-03-20\",\"2015-03-21\",\"2015-03-22\",\"2015-03-23\",\"2015-03-24\",\"2015-03-25\",\"2015-03-26\",\"2015-03-27\",\"2015-03-28\",\"2015-03-29\",\"2015-03-30\",\"2015-03-31\",\"2015-04-01\",\"2015-04-02\",\"2015-04-03\",\"2015-04-04\",\"2015-04-05\",\"2015-04-06\",\"2015-04-07\",\"2015-04-08\",\"2015-04-09\",\"2015-04-10\",\"2015-04-11\",\"2015-04-12\",\"2015-04-13\",\"2015-04-14\",\"2015-04-15\",\"2015-04-16\",\"2015-04-17\",\"2015-04-18\",\"2015-04-19\",\"2015-04-20\",\"2015-04-21\",\"2015-04-22\",\"2015-04-23\",\"2015-04-24\",\"2015-04-25\",\"2015-04-26\",\"2015-04-27\",\"2015-04-28\",\"2015-04-29\",\"2015-04-30\",\"2015-05-01\",\"2015-05-02\",\"2015-05-03\",\"2015-05-04\",\"2015-05-05\",\"2015-05-06\",\"2015-05-07\",\"2015-05-08\",\"2015-05-09\",\"2015-05-10\",\"2015-05-11\",\"2015-05-12\",\"2015-05-13\",\"2015-05-14\",\"2015-05-15\",\"2015-05-16\",\"2015-05-17\",\"2015-05-18\",\"2015-05-19\",\"2015-05-20\",\"2015-05-21\",\"2015-05-22\",\"2015-05-23\",\"2015-05-24\",\"2015-05-25\",\"2015-05-26\",\"2015-05-27\",\"2015-05-28\",\"2015-05-29\",\"2015-05-30\"],\"value\":{\"__ndarray__\":\"4AAZqZMasT/Sn+4uTiTRP1SD0S0aL9I/cTwdYkIX0z8svfW2XInTP+125eu5UtI/zzXT/9kw1D+m7jBM8qzdP5FtnCPHkOA/rBIcppfc4D/C7o14XR/jP+pIu7p8ZOQ/S+4MS8sy5T/966WKXenkP9nsSRyl8ec/9Q/iBJVW6T+PfK6FlobqP5LUG0+TS+w/DU2Fss527z/qFznIUuHvP0XY+hDt7/A/ZE1VJJgv8T8Fv8Ms6TrzP8gefHOErPM/wA8YCMlx9D/R6zVCZhr0P/9dHWXdSPQ/KznNgh8J9T+kYGmOa+70P9CiMidwjPQ/80S4YZ6n9D8HrxvH07v0P3hMl799cfQ/4R63RI4n8z9haUyvR3ryP9IpML9OtvA/W0HSEbJ97z8kTMqnH1PtP6pCLCg85es/1Kohzr477T+U32W02h3yP5Uwx3UXYfI/H8Nbt/ER8z/ix/5si9XzP2nJ+4x2LfM/mHY2yHS99D/mNMqHFhf1PxAY7t2xj/U/N/rFlTTp9T8ODSHKgeX1PzjowEfXqvk/11ghOqElBkBS/rX0JEkKQOqIbOJPAw5A5jzroISMEEAXralWOwoSQKiaJpZw6BJATl5ZFxrjE0C2R1ZM0KwUQFGSmRpOoxVAp09gnMlMFkDK50iMLgIXQBgMLNFg0BdA04LbjzxvGEC3X0OnTAoZQPIHx+H0jRlADfB7Y0MpGkDQ5aS/0rsaQGRzY2xXZhtAr/EUUW+xG0A5WVp0cBAcQBD9yrF6JxxAL4K2AzMGHEBpfvuDCf0bQCIMAnQgRRxAtGotbOXWHEDpyOe18RgdQEcJVOD+0R1A1lizOxv+HUCOdzgnbTYeQJnQAGqD6B1ASP3wNIaXHUAAHHYg2C8dQJN7ohmewh1ASdytz/7NHUA1Lmbug5kdQAqnTxW1IR1AS0Vi+d5iHUA=\",\"dtype\":\"float64\",\"shape\":[88]}},\"selected\":{\"id\":\"1701\",\"type\":\"Selection\"},\"selection_policy\":{\"id\":\"1749\",\"type\":\"UnionRenderers\"}},\"id\":\"1700\",\"type\":\"ColumnDataSource\"},{\"attributes\":{},\"id\":\"1652\",\"type\":\"BasicTicker\"},{\"attributes\":{\"days\":[1,8,15,22]},\"id\":\"1691\",\"type\":\"DaysTicker\"},{\"attributes\":{\"callback\":null,\"data\":{\"Variable\":[\"depthDiff\",\"depthDiff\",\"depthDiff\",\"depthDiff\",\"depthDiff\",\"depthDiff\",\"depthDiff\",\"depthDiff\",\"depthDiff\",\"depthDiff\",\"depthDiff\",\"depthDiff\",\"depthDiff\",\"depthDiff\",\"depthDiff\",\"depthDiff\",\"depthDiff\",\"depthDiff\",\"depthDiff\",\"depthDiff\",\"depthDiff\",\"depthDiff\",\"depthDiff\",\"depthDiff\",\"depthDiff\",\"depthDiff\",\"depthDiff\",\"depthDiff\",\"depthDiff\",\"depthDiff\",\"depthDiff\",\"depthDiff\",\"depthDiff\",\"depthDiff\",\"depthDiff\",\"depthDiff\",\"depthDiff\",\"depthDiff\",\"depthDiff\",\"depthDiff\",\"depthDiff\",\"depthDiff\",\"depthDiff\",\"depthDiff\",\"depthDiff\",\"depthDiff\",\"depthDiff\",\"depthDiff\",\"depthDiff\",\"depthDiff\",\"depthDiff\",\"depthDiff\",\"depthDiff\",\"depthDiff\",\"depthDiff\",\"depthDiff\",\"depthDiff\",\"depthDiff\",\"depthDiff\",\"depthDiff\",\"depthDiff\",\"depthDiff\",\"depthDiff\",\"depthDiff\",\"depthDiff\",\"depthDiff\",\"depthDiff\",\"depthDiff\",\"depthDiff\",\"depthDiff\",\"depthDiff\",\"depthDiff\",\"depthDiff\",\"depthDiff\",\"depthDiff\",\"depthDiff\",\"depthDiff\",\"depthDiff\",\"depthDiff\",\"depthDiff\",\"depthDiff\",\"depthDiff\",\"depthDiff\",\"depthDiff\",\"depthDiff\",\"depthDiff\",\"depthDiff\",\"depthDiff\"],\"date\":[1425168000000.0,1425254400000.0,1425340800000.0,1425427200000.0,1425513600000.0,1425859200000.0,1425945600000.0,1426032000000.0,1426118400000.0,1426204800000.0,1426291200000.0,1426377600000.0,1426464000000.0,1426550400000.0,1426636800000.0,1426723200000.0,1426809600000.0,1426896000000.0,1426982400000.0,1427068800000.0,1427155200000.0,1427241600000.0,1427328000000.0,1427414400000.0,1427500800000.0,1427587200000.0,1427673600000.0,1427760000000.0,1427846400000.0,1427932800000.0,1428019200000.0,1428105600000.0,1428192000000.0,1428278400000.0,1428364800000.0,1428451200000.0,1428537600000.0,1428624000000.0,1428710400000.0,1428796800000.0,1428883200000.0,1428969600000.0,1429056000000.0,1429142400000.0,1429228800000.0,1429315200000.0,1429401600000.0,1429488000000.0,1429574400000.0,1429660800000.0,1429747200000.0,1429833600000.0,1429920000000.0,1430006400000.0,1430092800000.0,1430179200000.0,1430265600000.0,1430352000000.0,1430438400000.0,1430524800000.0,1430611200000.0,1430697600000.0,1430784000000.0,1430870400000.0,1430956800000.0,1431043200000.0,1431129600000.0,1431216000000.0,1431302400000.0,1431388800000.0,1431475200000.0,1431561600000.0,1431648000000.0,1431734400000.0,1431820800000.0,1431907200000.0,1431993600000.0,1432080000000.0,1432166400000.0,1432252800000.0,1432339200000.0,1432425600000.0,1432512000000.0,1432598400000.0,1432684800000.0,1432771200000.0,1432857600000.0,1432944000000.0],\"date_dt_strings\":[\"2015-03-01\",\"2015-03-02\",\"2015-03-03\",\"2015-03-04\",\"2015-03-05\",\"2015-03-09\",\"2015-03-10\",\"2015-03-11\",\"2015-03-12\",\"2015-03-13\",\"2015-03-14\",\"2015-03-15\",\"2015-03-16\",\"2015-03-17\",\"2015-03-18\",\"2015-03-19\",\"2015-03-20\",\"2015-03-21\",\"2015-03-22\",\"2015-03-23\",\"2015-03-24\",\"2015-03-25\",\"2015-03-26\",\"2015-03-27\",\"2015-03-28\",\"2015-03-29\",\"2015-03-30\",\"2015-03-31\",\"2015-04-01\",\"2015-04-02\",\"2015-04-03\",\"2015-04-04\",\"2015-04-05\",\"2015-04-06\",\"2015-04-07\",\"2015-04-08\",\"2015-04-09\",\"2015-04-10\",\"2015-04-11\",\"2015-04-12\",\"2015-04-13\",\"2015-04-14\",\"2015-04-15\",\"2015-04-16\",\"2015-04-17\",\"2015-04-18\",\"2015-04-19\",\"2015-04-20\",\"2015-04-21\",\"2015-04-22\",\"2015-04-23\",\"2015-04-24\",\"2015-04-25\",\"2015-04-26\",\"2015-04-27\",\"2015-04-28\",\"2015-04-29\",\"2015-04-30\",\"2015-05-01\",\"2015-05-02\",\"2015-05-03\",\"2015-05-04\",\"2015-05-05\",\"2015-05-06\",\"2015-05-07\",\"2015-05-08\",\"2015-05-09\",\"2015-05-10\",\"2015-05-11\",\"2015-05-12\",\"2015-05-13\",\"2015-05-14\",\"2015-05-15\",\"2015-05-16\",\"2015-05-17\",\"2015-05-18\",\"2015-05-19\",\"2015-05-20\",\"2015-05-21\",\"2015-05-22\",\"2015-05-23\",\"2015-05-24\",\"2015-05-25\",\"2015-05-26\",\"2015-05-27\",\"2015-05-28\",\"2015-05-29\",\"2015-05-30\"],\"value\":{\"__ndarray__\":\"nChMwVAfTMG7HEzBvUFMweg2TMHlBkzBTwBMwRf3S8GS5UvBsMVLwfDMS8GSzUvBGMRLwXC/S8EZsUvBg6hLweWdS8F9mUvBWoxLwduCS8GjdEvBx2pLwXVgS8F+WkvBf05LwYE/S8EGOkvBqC1LwTIgS8FsGEvBFg5LwWz+SsEd+UrBTPZKwbvoSsEN5krBzedKwTbfSsFJ2krBXtNKwebRSsERxUrB3KxKwWm1SsFfuUrBhq9KwbepSsFxokrBtZpKwTWZSsHvjErBVb9cwXNHa8F5+WvBOChswWRFbMGcTWzBx09swVo3bMG9LmzB+TVswbotbMHTOGzBuOtrwUrBa8Fe7WvB6tZrwe+5a8GYbGvBg3RrwSGva8GhymvBj7hrwYapa8F1l2vBXXdrwTxTa8GvKWvBUhlrwb4la8F+/GrB8+lqwQjYasHjsGrB/olqwXluasHqWWrBJENqwQ==\",\"dtype\":\"float32\",\"shape\":[88]}},\"selected\":{\"id\":\"1673\",\"type\":\"Selection\"},\"selection_policy\":{\"id\":\"1726\",\"type\":\"UnionRenderers\"}},\"id\":\"1672\",\"type\":\"ColumnDataSource\"},{\"attributes\":{},\"id\":\"1697\",\"type\":\"YearsTicker\"},{\"attributes\":{},\"id\":\"1642\",\"type\":\"LinearScale\"},{\"attributes\":{},\"id\":\"1673\",\"type\":\"Selection\"},{\"attributes\":{\"months\":[0,4,8]},\"id\":\"1695\",\"type\":\"MonthsTicker\"},{\"attributes\":{\"line_alpha\":0.2,\"line_color\":\"#1f77b3\",\"line_width\":2,\"x\":{\"field\":\"date\"},\"y\":{\"field\":\"value\"}},\"id\":\"1677\",\"type\":\"Line\"},{\"attributes\":{},\"id\":\"1701\",\"type\":\"Selection\"},{\"attributes\":{\"data_source\":{\"id\":\"1672\",\"type\":\"ColumnDataSource\"},\"glyph\":{\"id\":\"1675\",\"type\":\"Line\"},\"hover_glyph\":null,\"muted_glyph\":{\"id\":\"1677\",\"type\":\"Line\"},\"nonselection_glyph\":{\"id\":\"1676\",\"type\":\"Line\"},\"selection_glyph\":null,\"view\":{\"id\":\"1679\",\"type\":\"CDSView\"}},\"id\":\"1678\",\"type\":\"GlyphRenderer\"},{\"attributes\":{\"callback\":null,\"renderers\":[{\"id\":\"1678\",\"type\":\"GlyphRenderer\"},{\"id\":\"1706\",\"type\":\"GlyphRenderer\"}],\"tags\":[\"hv_created\"],\"tooltips\":[[\"Variable\",\"@{Variable}\"],[\"date\",\"@{date_dt_strings}\"],[\"value\",\"@{value}\"]]},\"id\":\"1635\",\"type\":\"HoverTool\"},{\"attributes\":{\"grid_line_color\":null,\"ticker\":{\"id\":\"1647\",\"type\":\"DatetimeTicker\"}},\"id\":\"1650\",\"type\":\"Grid\"},{\"attributes\":{\"line_alpha\":0.1,\"line_color\":\"#ff7e0e\",\"line_width\":2,\"x\":{\"field\":\"date\"},\"y\":{\"field\":\"value\"}},\"id\":\"1704\",\"type\":\"Line\"},{\"attributes\":{\"bottom_units\":\"screen\",\"fill_alpha\":{\"value\":0.5},\"fill_color\":{\"value\":\"lightgrey\"},\"left_units\":\"screen\",\"level\":\"overlay\",\"line_alpha\":{\"value\":1.0},\"line_color\":{\"value\":\"black\"},\"line_dash\":[4,4],\"line_width\":{\"value\":2},\"render_mode\":\"css\",\"right_units\":\"screen\",\"top_units\":\"screen\"},\"id\":\"1685\",\"type\":\"BoxAnnotation\"},{\"attributes\":{\"axis_label\":\"\",\"bounds\":\"auto\",\"formatter\":{\"id\":\"1671\",\"type\":\"BasicTickFormatter\"},\"major_label_orientation\":\"horizontal\",\"ticker\":{\"id\":\"1652\",\"type\":\"BasicTicker\"}},\"id\":\"1651\",\"type\":\"LinearAxis\"},{\"attributes\":{\"text\":\"\",\"text_color\":{\"value\":\"black\"},\"text_font_size\":{\"value\":\"12pt\"}},\"id\":\"1638\",\"type\":\"Title\"},{\"attributes\":{\"callback\":null,\"end\":1432944000000.0,\"reset_end\":1432944000000.0,\"reset_start\":1425168000000.0,\"start\":1425168000000.0,\"tags\":[[[\"date\",\"date\",null]]]},\"id\":\"1633\",\"type\":\"Range1d\"},{\"attributes\":{},\"id\":\"1669\",\"type\":\"DatetimeTickFormatter\"}],\"root_ids\":[\"1637\"]},\"title\":\"Bokeh Application\",\"version\":\"1.3.4\"}};\n",
       "  var render_items = [{\"docid\":\"75024521-d021-403e-8b8a-257a6a81a47d\",\"roots\":{\"1637\":\"0493bdb2-1e78-4af9-8240-403da708dd95\"}}];\n",
       "  root.Bokeh.embed.embed_items_notebook(docs_json, render_items);\n",
       "\n",
       "  }\n",
       "  if (root.Bokeh !== undefined) {\n",
       "    embed_document(root);\n",
       "  } else {\n",
       "    var attempts = 0;\n",
       "    var timer = setInterval(function(root) {\n",
       "      if (root.Bokeh !== undefined) {\n",
       "        embed_document(root);\n",
       "        clearInterval(timer);\n",
       "      }\n",
       "      attempts++;\n",
       "      if (attempts > 100) {\n",
       "        console.log(\"Bokeh: ERROR: Unable to run BokehJS code because BokehJS library is missing\");\n",
       "        clearInterval(timer);\n",
       "      }\n",
       "    }, 10, root)\n",
       "  }\n",
       "})(window);</script>"
      ],
      "text/plain": [
       ":NdOverlay   [Variable]\n",
       "   :Curve   [date]   (value)"
      ]
     },
     "execution_count": 26,
     "metadata": {
      "application/vnd.holoviews_exec.v0+json": {
       "id": "1637"
      }
     },
     "output_type": "execute_result"
    }
   ],
   "source": [
    "df_plot.hvplot()"
   ]
  },
  {
   "cell_type": "code",
   "execution_count": null,
   "metadata": {},
   "outputs": [],
   "source": [
    "import matplotlib.pyplot as plt \n",
    "fig, ax1 = plt.subplots()\n",
    "\n",
    "color = 'tab:red'\n",
    "ax1.set_xlabel('date')\n",
    "ax1.set_ylabel('depth difference (m)', color=color)\n",
    "ax1.plot(df_plot['depthDiff'], color=color)\n",
    "ax1.tick_params(axis='y', labelcolor=color)\n",
    "\n",
    "ax2 = ax1.twinx()  # instantiate a second axes that shares the same x-axis\n",
    "\n",
    "color = 'tab:blue'\n",
    "ax2.set_ylabel('cumulative magnitude', color=color)  # we already handled the x-label with ax1\n",
    "ax2.plot(df_plot['mw_cumsum'], color=color)\n",
    "ax2.tick_params(axis='y', labelcolor=color)\n",
    "\n",
    "fig.tight_layout()  # otherwise the right y-label is slightly clipped\n",
    "host.axis[\"bottom\"].major_ticklabels.set_rotation(30)\n",
    "plt.show()"
   ]
  },
  {
   "cell_type": "code",
   "execution_count": 29,
   "metadata": {},
   "outputs": [
    {
     "data": {
      "image/png": "[encoded data removed]",
      "text/plain": [
       "<Figure size 432x288 with 2 Axes>"
      ]
     },
     "metadata": {
      "needs_background": "light"
     },
     "output_type": "display_data"
    }
   ],
   "source": [
    "# fig, ax = plt.subplots(figsize=(20, 10))\n",
    "import matplotlib.pyplot as plt \n",
    "df_plot.plot(y='depthDiff')\n",
    "ax = df_plot['mw_cumsum'].plot(secondary_y=True, color='k')\n",
    "ax.set_ylabel('cumulative magnitude')\n",
    "# plt.xticks(rotation=90)\n",
    "plt.show()"
   ]
  },
  {
   "cell_type": "markdown",
   "metadata": {},
   "source": [
    "import matplotlib.pyplot as plt \n",
    "\n",
    "df.plot(x=\"land_cover\", y=[1, 2, 3, 4, 5, 6], stacked=True, kind=\"bar\")\n",
    "ax = df['size'].plot(secondary_y=True, color='k', marker='o')\n",
    "ax.set_ylabel('size')\n",
    "\n",
    "plt.show()"
   ]
  },
  {
   "cell_type": "code",
   "execution_count": null,
   "metadata": {},
   "outputs": [],
   "source": []
  }
 ],
 "metadata": {
  "kernelspec": {
   "display_name": "Python 3",
   "language": "python",
   "name": "python3"
  },
  "language_info": {
   "codemirror_mode": {
    "name": "ipython",
    "version": 3
   },
   "file_extension": ".py",
   "mimetype": "text/x-python",
   "name": "python",
   "nbconvert_exporter": "python",
   "pygments_lexer": "ipython3",
   "version": "3.7.3"
  }
 },
 "nbformat": 4,
 "nbformat_minor": 4
}
