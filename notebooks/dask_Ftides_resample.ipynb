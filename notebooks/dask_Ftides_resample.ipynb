{
 "cells": [
  {
   "cell_type": "markdown",
   "metadata": {},
   "source": [
    "# Down Sample Tide Data "
   ]
  },
  {
   "cell_type": "code",
   "execution_count": 52,
   "metadata": {},
   "outputs": [],
   "source": [
    "import pandas as pd\n",
    "import dask.dataframe as dd\n",
    "import hvplot.pandas  # noqa\n",
    "import hvplot.dask  # noqa\n",
    "import numpy as np\n",
    "from scipy import stats"
   ]
  },
  {
   "cell_type": "code",
   "execution_count": 53,
   "metadata": {},
   "outputs": [],
   "source": [
    "import warnings\n",
    "warnings.filterwarnings('ignore')"
   ]
  },
  {
   "cell_type": "code",
   "execution_count": 54,
   "metadata": {},
   "outputs": [
    {
     "data": {
      "text/html": [
       "<table style=\"border: 2px solid white;\">\n",
       "<tr>\n",
       "<td style=\"vertical-align: top; border: 0px solid white\">\n",
       "<h3 style=\"text-align: left;\">Client</h3>\n",
       "<ul style=\"text-align: left; list-style: none; margin: 0; padding: 0;\">\n",
       "  <li><b>Scheduler: </b>tcp://10.0.128.151:38965</li>\n",
       "  <li><b>Dashboard: </b><a href='/user/jnatalie12/proxy/8787/status' target='_blank'>/user/jnatalie12/proxy/8787/status</a>\n",
       "</ul>\n",
       "</td>\n",
       "<td style=\"vertical-align: top; border: 0px solid white\">\n",
       "<h3 style=\"text-align: left;\">Cluster</h3>\n",
       "<ul style=\"text-align: left; list-style:none; margin: 0; padding: 0;\">\n",
       "  <li><b>Workers: </b>5</li>\n",
       "  <li><b>Cores: </b>5</li>\n",
       "  <li><b>Memory: </b>6.25 GB</li>\n",
       "</ul>\n",
       "</td>\n",
       "</tr>\n",
       "</table>"
      ],
      "text/plain": [
       "<Client: 'tcp://10.0.128.151:38965' processes=5 threads=5, memory=6.25 GB>"
      ]
     },
     "execution_count": 54,
     "metadata": {},
     "output_type": "execute_result"
    }
   ],
   "source": [
    "from dask.distributed import Client\n",
    "\n",
    "client = Client(\"tcp://10.0.128.151:38965\")\n",
    "client"
   ]
  },
  {
   "cell_type": "markdown",
   "metadata": {},
   "source": [
    "## Read in tide predictions for Central Caldera "
   ]
  },
  {
   "cell_type": "code",
   "execution_count": 55,
   "metadata": {},
   "outputs": [
    {
     "name": "stdout",
     "output_type": "stream",
     "text": [
      "pred_E.txt  pred_F.txt\ttidesEasternCaldera.csv\n"
     ]
    }
   ],
   "source": [
    "!ls /home/jovyan/data/botpt/tidepredictions/"
   ]
  },
  {
   "cell_type": "code",
   "execution_count": 56,
   "metadata": {},
   "outputs": [
    {
     "name": "stdout",
     "output_type": "stream",
     "text": [
      "year month day hour minute second height\n",
      "2010 01 01 00 00 00 -0.9626\n",
      "2010 01 01 00 00 15 -0.9654\n",
      "2010 01 01 00 00 30 -0.9681\n",
      "2010 01 01 00 00 45 -0.9709\n",
      "2010 01 01 00 01 00 -0.9736\n",
      "2010 01 01 00 01 15 -0.9764\n",
      "2010 01 01 00 01 30 -0.9791\n",
      "2010 01 01 00 01 45 -0.9818\n",
      "2010 01 01 00 02 00 -0.9845\n"
     ]
    }
   ],
   "source": [
    "!head /home/jovyan/data/botpt/tidepredictions/pred_F.txt"
   ]
  },
  {
   "cell_type": "code",
   "execution_count": 57,
   "metadata": {},
   "outputs": [],
   "source": [
    "tide_fileF = '/home/jovyan/data/botpt/tidepredictions/pred_F.txt'\n",
    "df_tidesF = pd.read_csv(tide_fileF,header = 0, delim_whitespace=True, dtype = object)"
   ]
  },
  {
   "cell_type": "code",
   "execution_count": 58,
   "metadata": {},
   "outputs": [],
   "source": [
    "df_tidesF['datetime']=df_tidesF['year'] + '-' + df_tidesF['month'] + '-' + df_tidesF['day'] + \\\n",
    "            'T' + df_tidesF['hour'] + ':' + df_tidesF['minute'] + ':' + df_tidesF['second']\n",
    "#df_tides_E = pd.DataFrame(tides_E)\n",
    "df_tidesF.index=pd.to_datetime(df_tidesF['datetime'].values)"
   ]
  },
  {
   "cell_type": "code",
   "execution_count": 59,
   "metadata": {},
   "outputs": [
    {
     "data": {
      "text/html": [
       "<div>\n",
       "<style scoped>\n",
       "    .dataframe tbody tr th:only-of-type {\n",
       "        vertical-align: middle;\n",
       "    }\n",
       "\n",
       "    .dataframe tbody tr th {\n",
       "        vertical-align: top;\n",
       "    }\n",
       "\n",
       "    .dataframe thead th {\n",
       "        text-align: right;\n",
       "    }\n",
       "</style>\n",
       "<table border=\"1\" class=\"dataframe\">\n",
       "  <thead>\n",
       "    <tr style=\"text-align: right;\">\n",
       "      <th></th>\n",
       "      <th>height</th>\n",
       "    </tr>\n",
       "  </thead>\n",
       "  <tbody>\n",
       "    <tr>\n",
       "      <td>2010-01-01 00:00:00</td>\n",
       "      <td>-0.9626</td>\n",
       "    </tr>\n",
       "    <tr>\n",
       "      <td>2010-01-01 00:00:15</td>\n",
       "      <td>-0.9654</td>\n",
       "    </tr>\n",
       "    <tr>\n",
       "      <td>2010-01-01 00:00:30</td>\n",
       "      <td>-0.9681</td>\n",
       "    </tr>\n",
       "    <tr>\n",
       "      <td>2010-01-01 00:00:45</td>\n",
       "      <td>-0.9709</td>\n",
       "    </tr>\n",
       "    <tr>\n",
       "      <td>2010-01-01 00:01:00</td>\n",
       "      <td>-0.9736</td>\n",
       "    </tr>\n",
       "  </tbody>\n",
       "</table>\n",
       "</div>"
      ],
      "text/plain": [
       "                      height\n",
       "2010-01-01 00:00:00  -0.9626\n",
       "2010-01-01 00:00:15  -0.9654\n",
       "2010-01-01 00:00:30  -0.9681\n",
       "2010-01-01 00:00:45  -0.9709\n",
       "2010-01-01 00:01:00  -0.9736"
      ]
     },
     "execution_count": 59,
     "metadata": {},
     "output_type": "execute_result"
    }
   ],
   "source": [
    "del df_tidesF['year']\n",
    "del df_tidesF['month']\n",
    "del df_tidesF['day']\n",
    "del df_tidesF['hour']\n",
    "del df_tidesF['minute']\n",
    "del df_tidesF['second']\n",
    "del df_tidesF['datetime']\n",
    "#df_tides['height'] = df_tides['height'].astype(float)\n",
    "#df_tides= df_tides.sort_index()\n",
    "#df_botpt =df_botpt.loc['2015-05-01 00:00:00':'2019-10-14 00:00:00']\n",
    "df_tidesF.head()"
   ]
  },
  {
   "cell_type": "code",
   "execution_count": 60,
   "metadata": {},
   "outputs": [
    {
     "data": {
      "text/html": [
       "<div>\n",
       "<style scoped>\n",
       "    .dataframe tbody tr th:only-of-type {\n",
       "        vertical-align: middle;\n",
       "    }\n",
       "\n",
       "    .dataframe tbody tr th {\n",
       "        vertical-align: top;\n",
       "    }\n",
       "\n",
       "    .dataframe thead th {\n",
       "        text-align: right;\n",
       "    }\n",
       "</style>\n",
       "<table border=\"1\" class=\"dataframe\">\n",
       "  <thead>\n",
       "    <tr style=\"text-align: right;\">\n",
       "      <th></th>\n",
       "      <th>height</th>\n",
       "    </tr>\n",
       "  </thead>\n",
       "  <tbody>\n",
       "  </tbody>\n",
       "</table>\n",
       "</div>"
      ],
      "text/plain": [
       "Empty DataFrame\n",
       "Columns: [height]\n",
       "Index: []"
      ]
     },
     "execution_count": 60,
     "metadata": {},
     "output_type": "execute_result"
    }
   ],
   "source": [
    "df_tidesF =df_tidesF.loc['2015-05-01 00:00:00':'2019-10-14 00:00:00']\n",
    "df_tidesF.head()"
   ]
  },
  {
   "cell_type": "code",
   "execution_count": 50,
   "metadata": {},
   "outputs": [
    {
     "data": {
      "text/html": [
       "<div>\n",
       "<style scoped>\n",
       "    .dataframe tbody tr th:only-of-type {\n",
       "        vertical-align: middle;\n",
       "    }\n",
       "\n",
       "    .dataframe tbody tr th {\n",
       "        vertical-align: top;\n",
       "    }\n",
       "\n",
       "    .dataframe thead th {\n",
       "        text-align: right;\n",
       "    }\n",
       "</style>\n",
       "<table border=\"1\" class=\"dataframe\">\n",
       "  <thead>\n",
       "    <tr style=\"text-align: right;\">\n",
       "      <th></th>\n",
       "      <th>height</th>\n",
       "    </tr>\n",
       "  </thead>\n",
       "  <tbody>\n",
       "  </tbody>\n",
       "</table>\n",
       "</div>"
      ],
      "text/plain": [
       "Empty DataFrame\n",
       "Columns: [height]\n",
       "Index: []"
      ]
     },
     "execution_count": 50,
     "metadata": {},
     "output_type": "execute_result"
    }
   ],
   "source": [
    "df_tidesF['height'] = df_tidesF['height'].astype(float)\n",
    "df_tidesF = df_tidesF.resample('60s').mean()\n",
    "df_tidesF.head()"
   ]
  },
  {
   "cell_type": "code",
   "execution_count": 61,
   "metadata": {},
   "outputs": [],
   "source": [
    "df_tidesF.to_csv('/home/jovyan/data/botpt/tidepredictions/tidesCentralCaldera.csv') "
   ]
  },
  {
   "cell_type": "code",
   "execution_count": null,
   "metadata": {},
   "outputs": [],
   "source": []
  }
 ],
 "metadata": {
  "kernelspec": {
   "display_name": "Python 3",
   "language": "python",
   "name": "python3"
  },
  "language_info": {
   "codemirror_mode": {
    "name": "ipython",
    "version": 3
   },
   "file_extension": ".py",
   "mimetype": "text/x-python",
   "name": "python",
   "nbconvert_exporter": "python",
   "pygments_lexer": "ipython3",
   "version": "3.7.3"
  }
 },
 "nbformat": 4,
 "nbformat_minor": 4
}
