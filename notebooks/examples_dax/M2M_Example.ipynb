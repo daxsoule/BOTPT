{
 "cells": [
  {
   "cell_type": "markdown",
   "metadata": {},
   "source": [
    "### M2M Request Example using Python"
   ]
  },
  {
   "cell_type": "code",
   "execution_count": 1,
   "metadata": {},
   "outputs": [],
   "source": [
    "import requests\n",
    "import time"
   ]
  },
  {
   "cell_type": "code",
   "execution_count": 2,
   "metadata": {},
   "outputs": [
    {
     "data": {
      "text/plain": [
       "'https://ooinet.oceanobservatories.org/api/m2m/12576/sensor/inv/RS03INT2/MJ03D/06-BOTPTA303/streamed/botpt_nano_sample'"
      ]
     },
     "execution_count": 2,
     "metadata": {},
     "output_type": "execute_result"
    }
   ],
   "source": [
    "# API Login Information\n",
    "username = 'OOIAPI-XXXXXXXXXXX'\n",
    "token = 'TEMP-TOKEN-XXXXXXXXXXXX'\n",
    "# Sensor Base URL\n",
    "base_url = 'https://ooinet.oceanobservatories.org/api/m2m/12576/sensor/inv'\n",
    "# Instrument Information RS03INT2-MJ03D-06-BOTPTA303\n",
    "subsite = 'RS03INT2'\n",
    "node = 'MJ03D'\n",
    "sensor = '06-BOTPTA303'\n",
    "method = 'streamed'\n",
    "stream = 'botpt_nano_sample'\n",
    "beginDT = '2014-09-04T00:00:00.0000Z'\n",
    "endDT = '2014-09-05T23:59:59.99999Z'\n",
    "# Create the request URL\n",
    "data_request_url ='/'.join((base_url,subsite,node,sensor,method,stream))\n",
    "data_request_url"
   ]
  },
  {
   "cell_type": "code",
   "execution_count": 3,
   "metadata": {},
   "outputs": [
    {
     "data": {
      "text/plain": [
       "'https://opendap.oceanobservatories.org/thredds/catalog/ooi/dax.soule@qc.cuny.edu/20191104T001715257Z-RS03INT2-MJ03D-06-BOTPTA303-streamed-botpt_nano_sample/catalog.html'"
      ]
     },
     "execution_count": 3,
     "metadata": {},
     "output_type": "execute_result"
    }
   ],
   "source": [
    "# Request Data\n",
    "r = requests.get(data_request_url, auth=(username, token))\n",
    "data = r.json()\n",
    "data['allURLs'][0]"
   ]
  }
 ],
 "metadata": {
  "kernelspec": {
   "display_name": "Python 3",
   "language": "python",
   "name": "python3"
  },
  "language_info": {
   "codemirror_mode": {
    "name": "ipython",
    "version": 3
   },
   "file_extension": ".py",
   "mimetype": "text/x-python",
   "name": "python",
   "nbconvert_exporter": "python",
   "pygments_lexer": "ipython3",
   "version": "3.7.3"
  }
 },
 "nbformat": 4,
 "nbformat_minor": 4
}
