{
 "cells": [
  {
   "cell_type": "markdown",
   "metadata": {},
   "source": [
    "# Pro-tips- the challenge here is that with the netcdf in its origional configuration it was not possible to read all the data in to downsample it. So what we did was to read in each file, swap the time and obs dimensions and then only keep the \n",
    "1. Create a directory in you data files for downsampled .ncdfs to live"
   ]
  },
  {
   "cell_type": "code",
   "execution_count": 3,
   "metadata": {},
   "outputs": [],
   "source": [
    "import xarray as xr\n",
    "import pandas as pd\n",
    "import dask.dataframe as dd\n",
    "import re\n",
    "import requests\n",
    "import pickle as pk\n",
    "import os\n",
    "import gc\n",
    "#!pip install netcdf4 == 1.5.0"
   ]
  },
  {
   "cell_type": "code",
   "execution_count": 4,
   "metadata": {},
   "outputs": [],
   "source": [
    "# make the output directory\n",
    "new_dir = '/home/jovyan/data/botpt/minute_mean_dataD/'\n",
    "if not os.path.isdir(new_dir):\n",
    "    try:\n",
    "        os.makedirs(new_dir)\n",
    "    except OSError:\n",
    "        if os.path.exists(new_dir):\n",
    "            pass\n",
    "        else:\n",
    "            raise"
   ]
  },
  {
   "cell_type": "code",
   "execution_count": 5,
   "metadata": {},
   "outputs": [],
   "source": [
    "# Sensor E: url = 'https://opendap.oceanobservatories.org/thredds/catalog/ooi/dax.soule@qc.cuny.edu/20181104T104012-RS03ECAL-MJ03E-06-BOTPTA302-streamed-botpt_nano_sample/catalog.html'\n",
    "# Sensor B url = 'https://opendap.oceanobservatories.org/thredds/catalog/ooi/dax.soule@qc.cuny.edu/20181020T213838-RS03ASHS-MJ03B-09-BOTPTA304-streamed-botpt_nano_sample/catalog.html'\n",
    "# Sensor C url = 'https://opendap.oceanobservatories.org/thredds/catalog/ooi/dax.soule@qc.cuny.edu/20181104T041943-RS03CCAL-MJ03F-05-BOTPTA301-streamed-botpt_nano_sample/catalog.html'\n",
    "url = 'https://opendap.oceanobservatories.org/thredds/catalog/ooi/dax.soule@qc.cuny.edu/20191015T040958136Z-RS03INT2-MJ03D-06-BOTPTA303-streamed-botpt_nano_sample/catalog.html'"
   ]
  },
  {
   "cell_type": "code",
   "execution_count": 6,
   "metadata": {},
   "outputs": [],
   "source": [
    "tds_url = 'https://opendap.oceanobservatories.org/thredds/dodsC'\n",
    "datasets = requests.get(url).text\n",
    "urls = re.findall(r'href=[\\'\"]?([^\\'\" >]+)', datasets)\n",
    "x = re.findall(r'(ooi/.*?.nc)', datasets)\n",
    "for i in x:\n",
    "    if i.endswith('.nc') == False:\n",
    "        x.remove(i)\n",
    "for i in x:\n",
    "    try:\n",
    "        float(i[-4])\n",
    "    except:\n",
    "        x.remove(i)\n",
    "datasets = [os.path.join(tds_url, i + '#fillmismatch') for i in x]\n",
    "#datasets"
   ]
  },
  {
   "cell_type": "markdown",
   "metadata": {},
   "source": [
    "## origional loop"
   ]
  },
  {
   "cell_type": "code",
   "execution_count": 5,
   "metadata": {},
   "outputs": [],
   "source": [
    "# num = 0\n",
    "# for i in datasets:\n",
    "#     ds = xr.open_dataset(i)\n",
    "#     ds = ds.swap_dims({'obs': 'time'})\n",
    "\n",
    "#     pressure_min = pd.DataFrame()\n",
    "#     pressure_min['bottom_pressure'] = ds['bottom_pressure'].to_pandas().resample('T').mean()\n",
    "#     del pressure_min.index.name\n",
    "\n",
    "#     pressure_min = pressure_min.dropna()\n",
    "\n",
    "#     out = 'minute_mean_data/' + i.split('/')[-1][:-3] + '_resampled' + '.pd'\n",
    "#     num = num +1\n",
    "\n",
    "#     with open(out, 'wb') as fh:\n",
    "#         pk.dump(pressure_min,fh)\n",
    "\n",
    "#     gc.collect()"
   ]
  },
  {
   "cell_type": "markdown",
   "metadata": {},
   "source": [
    "# pd routine"
   ]
  },
  {
   "cell_type": "code",
   "execution_count": null,
   "metadata": {},
   "outputs": [],
   "source": [
    "%%time\n",
    "for i in datasets:\n",
    "    ds = xr.open_dataset(i)\n",
    "    ds = ds.swap_dims({'obs': 'time'})\n",
    "\n",
    "    pressure_min = pd.DataFrame()\n",
    "    pressure_min['bottom_pressure'] = ds['bottom_pressure'].to_pandas().resample('T').mean()\n",
    "    del pressure_min.index.name\n",
    "\n",
    "    pressure_min = pressure_min.dropna()\n",
    "\n",
    "    out = '/home/jovyan/data/botpt/minute_mean_dataD/' + i.split('/')[-1][:-3] + '_resampled' + '.nc'\n",
    "    ds = xr.Dataset.from_dataframe(pressure_min)\n",
    "    ds.to_netcdf(out)"
   ]
  },
  {
   "cell_type": "code",
   "execution_count": null,
   "metadata": {},
   "outputs": [],
   "source": []
  },
  {
   "cell_type": "markdown",
   "metadata": {},
   "source": [
    "# Test Loop PD"
   ]
  },
  {
   "cell_type": "code",
   "execution_count": null,
   "metadata": {},
   "outputs": [],
   "source": [
    "# %%time\n",
    "# i=datasets[1]\n",
    "# ds = xr.open_dataset(i)\n",
    "# ds = ds.swap_dims({'obs': 'time'})\n",
    "\n",
    "# pressure_min = pd.DataFrame()\n",
    "# pressure_min['bottom_pressure'] = ds['bottom_pressure'].to_pandas().resample('T').mean()\n",
    "# del pressure_min.index.name\n",
    "\n",
    "# pressure_min = pressure_min.dropna()\n",
    "# out = 'minute_mean_data/test.nc'\n",
    "\n",
    "# ds = xr.Dataset.from_dataframe(pressure_min)\n",
    "# ds.to_netcdf(out)"
   ]
  },
  {
   "cell_type": "markdown",
   "metadata": {},
   "source": [
    "## xr routine "
   ]
  },
  {
   "cell_type": "code",
   "execution_count": null,
   "metadata": {},
   "outputs": [
    {
     "name": "stderr",
     "output_type": "stream",
     "text": [
      "distributed.client - WARNING - Couldn't gather 2 keys, rescheduling {'open_dataset-c373e84a-6ea6-42e2-b50d-25b833c29dcf': ('tcp://10.0.128.243:36847',), 'getattr-889ccf3e-e4de-4116-8580-aa80ca6f3e29': ('tcp://10.0.128.243:36847',)}\n",
      "distributed.client - WARNING - Couldn't gather 2 keys, rescheduling {'open_dataset-c373e84a-6ea6-42e2-b50d-25b833c29dcf': ('tcp://10.0.128.101:46587',), 'getattr-889ccf3e-e4de-4116-8580-aa80ca6f3e29': ('tcp://10.0.128.101:46587',)}\n",
      "distributed.client - WARNING - Couldn't gather 2 keys, rescheduling {'open_dataset-8a478b4d-fb45-4bfc-a163-9f16bb513072': ('tcp://10.0.129.20:37071',), 'getattr-84a8c166-e131-43a7-9a55-e79cf1ded9b4': ('tcp://10.0.129.20:37071',)}\n"
     ]
    }
   ],
   "source": [
    "# %%time\n",
    "# for i in datasets:\n",
    "#     ds = xr.open_mfdataset([i], parallel =True, combine='by_coords')\n",
    "#     ds = ds.swap_dims({'obs': 'time'})\n",
    "#     ds= ds['bottom_pressure'].to_dataset()\n",
    "#     ds=ds.resample(time='T').mean()\n",
    "#     out = 'minute_mean_data/' + i.split('/')[-1][:-3] + '_resampled_test' + '.nc'\n",
    "#     ds.to_netcdf(out)"
   ]
  },
  {
   "cell_type": "markdown",
   "metadata": {},
   "source": [
    "# Least Efficienct"
   ]
  },
  {
   "cell_type": "code",
   "execution_count": null,
   "metadata": {},
   "outputs": [],
   "source": [
    "# %%time\n",
    "# i= datasets[1]\n",
    "# ds = xr.open_mfdataset([i], parallel=True, drop_variables= ['deployment', 'id', 'bottom_pressure_qc_executed', 'date_time_string'\n",
    "#                                                   , 'driver_timestamp', 'ingestion_timestamp', 'internal_timestamp'\n",
    "#                                                   ,'port_timestamp', 'preferred_timestamp', 'press_trans_temp'\n",
    "#                                                   ,'provenance','sensor_id', 'time_sync_flag', 'bottom_pressure_qc_results']\n",
    "#                             )\n",
    "# ds=ds.swap_dims({'obs': 'time'}).resample(time='T').mean()\n",
    "# out = 'minute_mean_data/' + i.split('/')[-1][:-3] + '_resampled' + '.nc'\n",
    "# ds.to_netcdf(out)"
   ]
  },
  {
   "cell_type": "code",
   "execution_count": 2,
   "metadata": {},
   "outputs": [
    {
     "name": "stdout",
     "output_type": "stream",
     "text": [
      "/home/jovyan/repos/botpt/manuscript\n"
     ]
    }
   ],
   "source": [
    "!pwd"
   ]
  },
  {
   "cell_type": "code",
   "execution_count": 1,
   "metadata": {},
   "outputs": [
    {
     "name": "stdout",
     "output_type": "stream",
     "text": [
      "rm: cannot remove 'minute_mean_data/*': No such file or directory\n"
     ]
    }
   ],
   "source": [
    "!rm minute_mean_data/*"
   ]
  },
  {
   "cell_type": "code",
   "execution_count": null,
   "metadata": {},
   "outputs": [],
   "source": [
    "ds = xr.open_mfdataset('minute_mean_data/*_resampled.nc', parallel=True,combine='by_coords')\n",
    "#ds = ds.swap_dims({'obs': 'time'}.resample(time='10T').mean()\n",
    "ds"
   ]
  },
  {
   "cell_type": "code",
   "execution_count": null,
   "metadata": {},
   "outputs": [],
   "source": [
    "df = ds.to_dask_dataframe()"
   ]
  },
  {
   "cell_type": "code",
   "execution_count": null,
   "metadata": {},
   "outputs": [],
   "source": [
    "df.head()"
   ]
  },
  {
   "cell_type": "code",
   "execution_count": null,
   "metadata": {},
   "outputs": [],
   "source": []
  }
 ],
 "metadata": {
  "kernelspec": {
   "display_name": "Python 3",
   "language": "python",
   "name": "python3"
  },
  "language_info": {
   "codemirror_mode": {
    "name": "ipython",
    "version": 3
   },
   "file_extension": ".py",
   "mimetype": "text/x-python",
   "name": "python",
   "nbconvert_exporter": "python",
   "pygments_lexer": "ipython3",
   "version": "3.7.3"
  }
 },
 "nbformat": 4,
 "nbformat_minor": 4
}
