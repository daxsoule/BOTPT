{
 "cells": [
  {
   "cell_type": "markdown",
   "metadata": {},
   "source": [
    "# Pro-tips- the challenge here is that with the netcdf in its origional configuration it was not possible to read all the data in to downsample it. So what we did was to read in each file, swap the time and obs dimensions and then only keep the \n",
    "1. Create a directory in you data files for downsampled .ncdfs to live"
   ]
  },
  {
   "cell_type": "code",
   "execution_count": 1,
   "metadata": {},
   "outputs": [],
   "source": [
    "import xarray as xr\n",
    "import pandas as pd\n",
    "import dask.dataframe as dd\n",
    "import re\n",
    "import requests\n",
    "import pickle as pk\n",
    "import os\n",
    "import gc\n",
    "#!pip install netcdf4 == 1.5.0"
   ]
  },
  {
   "cell_type": "code",
   "execution_count": null,
   "metadata": {},
   "outputs": [],
   "source": [
    "# make the output directory\n",
    "new_dir = '/home/jovyan/data/botpt/minute_mean_dataD/'\n",
    "if not os.path.isdir(new_dir):\n",
    "    try:\n",
    "        os.makedirs(new_dir)\n",
    "    except OSError:\n",
    "        if os.path.exists(new_dir):\n",
    "            pass\n",
    "        else:\n",
    "            raise"
   ]
  },
  {
   "cell_type": "code",
   "execution_count": null,
   "metadata": {},
   "outputs": [],
   "source": [
    "# Sensor E: url = 'https://opendap.oceanobservatories.org/thredds/catalog/ooi/dax.soule@qc.cuny.edu/20181104T104012-RS03ECAL-MJ03E-06-BOTPTA302-streamed-botpt_nano_sample/catalog.html'\n",
    "# Sensor B url = 'https://opendap.oceanobservatories.org/thredds/catalog/ooi/dax.soule@qc.cuny.edu/20181020T213838-RS03ASHS-MJ03B-09-BOTPTA304-streamed-botpt_nano_sample/catalog.html'\n",
    "# Sensor C url = 'https://opendap.oceanobservatories.org/thredds/catalog/ooi/dax.soule@qc.cuny.edu/20181104T041943-RS03CCAL-MJ03F-05-BOTPTA301-streamed-botpt_nano_sample/catalog.html'\n",
    "url = 'https://opendap.oceanobservatories.org/thredds/catalog/ooi/dax.soule@qc.cuny.edu/20191015T040958136Z-RS03INT2-MJ03D-06-BOTPTA303-streamed-botpt_nano_sample/catalog.html'"
   ]
  },
  {
   "cell_type": "code",
   "execution_count": null,
   "metadata": {},
   "outputs": [],
   "source": [
    "tds_url = 'https://opendap.oceanobservatories.org/thredds/dodsC'\n",
    "datasets = requests.get(url).text\n",
    "urls = re.findall(r'href=[\\'\"]?([^\\'\" >]+)', datasets)\n",
    "x = re.findall(r'(ooi/.*?.nc)', datasets)\n",
    "for i in x:\n",
    "    if i.endswith('.nc') == False:\n",
    "        x.remove(i)\n",
    "for i in x:\n",
    "    try:\n",
    "        float(i[-4])\n",
    "    except:\n",
    "        x.remove(i)\n",
    "datasets = [os.path.join(tds_url, i + '#fillmismatch') for i in x]\n",
    "#datasets"
   ]
  },
  {
   "cell_type": "markdown",
   "metadata": {},
   "source": [
    "## origional loop"
   ]
  },
  {
   "cell_type": "code",
   "execution_count": null,
   "metadata": {},
   "outputs": [],
   "source": [
    "# num = 0\n",
    "# for i in datasets:\n",
    "#     ds = xr.open_dataset(i)\n",
    "#     ds = ds.swap_dims({'obs': 'time'})\n",
    "\n",
    "#     pressure_min = pd.DataFrame()\n",
    "#     pressure_min['bottom_pressure'] = ds['bottom_pressure'].to_pandas().resample('T').mean()\n",
    "#     del pressure_min.index.name\n",
    "\n",
    "#     pressure_min = pressure_min.dropna()\n",
    "\n",
    "#     out = 'minute_mean_data/' + i.split('/')[-1][:-3] + '_resampled' + '.pd'\n",
    "#     num = num +1\n",
    "\n",
    "#     with open(out, 'wb') as fh:\n",
    "#         pk.dump(pressure_min,fh)\n",
    "\n",
    "#     gc.collect()"
   ]
  },
  {
   "cell_type": "markdown",
   "metadata": {},
   "source": [
    "# pd routine"
   ]
  },
  {
   "cell_type": "code",
   "execution_count": null,
   "metadata": {},
   "outputs": [],
   "source": [
    "%%time\n",
    "for i in datasets:\n",
    "    ds = xr.open_dataset(i)\n",
    "    ds = ds.swap_dims({'obs': 'time'})\n",
    "\n",
    "    pressure_min = pd.DataFrame()\n",
    "    pressure_min['bottom_pressure'] = ds['bottom_pressure'].to_pandas().resample('T').mean()\n",
    "    del pressure_min.index.name\n",
    "\n",
    "    pressure_min = pressure_min.dropna()\n",
    "\n",
    "    out = '/home/jovyan/data/botpt/minute_mean_dataD/' + i.split('/')[-1][:-3] + '_resampled' + '.nc'\n",
    "    ds = xr.Dataset.from_dataframe(pressure_min)\n",
    "    ds.to_netcdf(out)"
   ]
  },
  {
   "cell_type": "code",
   "execution_count": null,
   "metadata": {},
   "outputs": [],
   "source": []
  },
  {
   "cell_type": "markdown",
   "metadata": {},
   "source": [
    "# Test Loop PD"
   ]
  },
  {
   "cell_type": "code",
   "execution_count": null,
   "metadata": {},
   "outputs": [],
   "source": [
    "# %%time\n",
    "# i=datasets[1]\n",
    "# ds = xr.open_dataset(i)\n",
    "# ds = ds.swap_dims({'obs': 'time'})\n",
    "\n",
    "# pressure_min = pd.DataFrame()\n",
    "# pressure_min['bottom_pressure'] = ds['bottom_pressure'].to_pandas().resample('T').mean()\n",
    "# del pressure_min.index.name\n",
    "\n",
    "# pressure_min = pressure_min.dropna()\n",
    "# out = 'minute_mean_data/test.nc'\n",
    "\n",
    "# ds = xr.Dataset.from_dataframe(pressure_min)\n",
    "# ds.to_netcdf(out)"
   ]
  },
  {
   "cell_type": "markdown",
   "metadata": {},
   "source": [
    "## xr routine "
   ]
  },
  {
   "cell_type": "code",
   "execution_count": null,
   "metadata": {},
   "outputs": [],
   "source": [
    "# %%time\n",
    "# for i in datasets:\n",
    "#     ds = xr.open_mfdataset([i], parallel =True, combine='by_coords')\n",
    "#     ds = ds.swap_dims({'obs': 'time'})\n",
    "#     ds= ds['bottom_pressure'].to_dataset()\n",
    "#     ds=ds.resample(time='T').mean()\n",
    "#     out = 'minute_mean_data/' + i.split('/')[-1][:-3] + '_resampled_test' + '.nc'\n",
    "#     ds.to_netcdf(out)"
   ]
  },
  {
   "cell_type": "markdown",
   "metadata": {},
   "source": [
    "# Least Efficienct"
   ]
  },
  {
   "cell_type": "code",
   "execution_count": null,
   "metadata": {},
   "outputs": [],
   "source": [
    "# %%time\n",
    "# i= datasets[1]\n",
    "# ds = xr.open_mfdataset([i], parallel=True, drop_variables= ['deployment', 'id', 'bottom_pressure_qc_executed', 'date_time_string'\n",
    "#                                                   , 'driver_timestamp', 'ingestion_timestamp', 'internal_timestamp'\n",
    "#                                                   ,'port_timestamp', 'preferred_timestamp', 'press_trans_temp'\n",
    "#                                                   ,'provenance','sensor_id', 'time_sync_flag', 'bottom_pressure_qc_results']\n",
    "#                             )\n",
    "# ds=ds.swap_dims({'obs': 'time'}).resample(time='T').mean()\n",
    "# out = 'minute_mean_data/' + i.split('/')[-1][:-3] + '_resampled' + '.nc'\n",
    "# ds.to_netcdf(out)"
   ]
  },
  {
   "cell_type": "markdown",
   "metadata": {},
   "source": [
    "# Build Dask Cluster\n",
    "1. Use gui interface to create a new cluster with ~10 workers\n",
    "2. Use < > to insert an \"import Client\" statement. This is critical because it is how your script knows to use yoru cluster. \n",
    "3. Execute client cell\n",
    "4. Execute your Dask Cell. Note that once you have a cluster running you do not need to re-import the client. \n",
    "5. When finished, always shut down your cluster. "
   ]
  },
  {
   "cell_type": "code",
   "execution_count": 2,
   "metadata": {},
   "outputs": [
    {
     "data": {
      "text/html": [
       "<table style=\"border: 2px solid white;\">\n",
       "<tr>\n",
       "<td style=\"vertical-align: top; border: 0px solid white\">\n",
       "<h3 style=\"text-align: left;\">Client</h3>\n",
       "<ul style=\"text-align: left; list-style: none; margin: 0; padding: 0;\">\n",
       "  <li><b>Scheduler: </b>tcp://10.0.129.130:36559</li>\n",
       "  <li><b>Dashboard: </b><a href='/user/daxsoule/proxy/8787/status' target='_blank'>/user/daxsoule/proxy/8787/status</a>\n",
       "</ul>\n",
       "</td>\n",
       "<td style=\"vertical-align: top; border: 0px solid white\">\n",
       "<h3 style=\"text-align: left;\">Cluster</h3>\n",
       "<ul style=\"text-align: left; list-style:none; margin: 0; padding: 0;\">\n",
       "  <li><b>Workers: </b>14</li>\n",
       "  <li><b>Cores: </b>14</li>\n",
       "  <li><b>Memory: </b>17.50 GB</li>\n",
       "</ul>\n",
       "</td>\n",
       "</tr>\n",
       "</table>"
      ],
      "text/plain": [
       "<Client: 'tcp://10.0.129.130:36559' processes=14 threads=14, memory=17.50 GB>"
      ]
     },
     "execution_count": 2,
     "metadata": {},
     "output_type": "execute_result"
    }
   ],
   "source": [
    "from dask.distributed import Client\n",
    "\n",
    "client = Client(\"tcp://10.0.129.130:36559\")\n",
    "client"
   ]
  },
  {
   "cell_type": "code",
   "execution_count": 4,
   "metadata": {},
   "outputs": [
    {
     "data": {
      "text/plain": [
       "<xarray.Dataset>\n",
       "Dimensions:          (index: 1145599)\n",
       "Coordinates:\n",
       "  * index            (index) datetime64[ns] 2017-06-13 ... 2019-10-14T23:59:00\n",
       "Data variables:\n",
       "    bottom_pressure  (index) float32 dask.array<chunksize=(10800,), meta=np.ndarray>"
      ]
     },
     "execution_count": 4,
     "metadata": {},
     "output_type": "execute_result"
    }
   ],
   "source": [
    "ds = xr.open_mfdataset('/home/jovyan/data/botpt/minute_mean_dataD/*_resampled.nc', parallel=True\n",
    "                       ,combine='by_coords')\n",
    "ds"
   ]
  },
  {
   "cell_type": "code",
   "execution_count": 5,
   "metadata": {},
   "outputs": [],
   "source": [
    "df = ds.to_dask_dataframe()"
   ]
  },
  {
   "cell_type": "code",
   "execution_count": 6,
   "metadata": {},
   "outputs": [
    {
     "data": {
      "text/html": [
       "<div>\n",
       "<style scoped>\n",
       "    .dataframe tbody tr th:only-of-type {\n",
       "        vertical-align: middle;\n",
       "    }\n",
       "\n",
       "    .dataframe tbody tr th {\n",
       "        vertical-align: top;\n",
       "    }\n",
       "\n",
       "    .dataframe thead th {\n",
       "        text-align: right;\n",
       "    }\n",
       "</style>\n",
       "<table border=\"1\" class=\"dataframe\">\n",
       "  <thead>\n",
       "    <tr style=\"text-align: right;\">\n",
       "      <th></th>\n",
       "      <th>index</th>\n",
       "      <th>bottom_pressure</th>\n",
       "    </tr>\n",
       "  </thead>\n",
       "  <tbody>\n",
       "    <tr>\n",
       "      <td>0</td>\n",
       "      <td>2017-06-13 00:00:00</td>\n",
       "      <td>2259.683105</td>\n",
       "    </tr>\n",
       "    <tr>\n",
       "      <td>1</td>\n",
       "      <td>2017-06-13 00:01:00</td>\n",
       "      <td>2259.678711</td>\n",
       "    </tr>\n",
       "    <tr>\n",
       "      <td>2</td>\n",
       "      <td>2017-06-13 00:02:00</td>\n",
       "      <td>2259.674072</td>\n",
       "    </tr>\n",
       "    <tr>\n",
       "      <td>3</td>\n",
       "      <td>2017-06-13 00:03:00</td>\n",
       "      <td>2259.660400</td>\n",
       "    </tr>\n",
       "    <tr>\n",
       "      <td>4</td>\n",
       "      <td>2017-06-13 00:04:00</td>\n",
       "      <td>2259.666992</td>\n",
       "    </tr>\n",
       "  </tbody>\n",
       "</table>\n",
       "</div>"
      ],
      "text/plain": [
       "                index  bottom_pressure\n",
       "0 2017-06-13 00:00:00      2259.683105\n",
       "1 2017-06-13 00:01:00      2259.678711\n",
       "2 2017-06-13 00:02:00      2259.674072\n",
       "3 2017-06-13 00:03:00      2259.660400\n",
       "4 2017-06-13 00:04:00      2259.666992"
      ]
     },
     "execution_count": 6,
     "metadata": {},
     "output_type": "execute_result"
    }
   ],
   "source": [
    "df.head()"
   ]
  },
  {
   "cell_type": "code",
   "execution_count": 7,
   "metadata": {},
   "outputs": [
    {
     "data": {
      "text/html": [
       "<div>\n",
       "<style scoped>\n",
       "    .dataframe tbody tr th:only-of-type {\n",
       "        vertical-align: middle;\n",
       "    }\n",
       "\n",
       "    .dataframe tbody tr th {\n",
       "        vertical-align: top;\n",
       "    }\n",
       "\n",
       "    .dataframe thead th {\n",
       "        text-align: right;\n",
       "    }\n",
       "</style>\n",
       "<table border=\"1\" class=\"dataframe\">\n",
       "  <thead>\n",
       "    <tr style=\"text-align: right;\">\n",
       "      <th></th>\n",
       "      <th>index</th>\n",
       "      <th>bottom_pressure</th>\n",
       "    </tr>\n",
       "  </thead>\n",
       "  <tbody>\n",
       "    <tr>\n",
       "      <td>1145594</td>\n",
       "      <td>2019-10-14 23:55:00</td>\n",
       "      <td>2258.016357</td>\n",
       "    </tr>\n",
       "    <tr>\n",
       "      <td>1145595</td>\n",
       "      <td>2019-10-14 23:56:00</td>\n",
       "      <td>2258.004395</td>\n",
       "    </tr>\n",
       "    <tr>\n",
       "      <td>1145596</td>\n",
       "      <td>2019-10-14 23:57:00</td>\n",
       "      <td>2257.993408</td>\n",
       "    </tr>\n",
       "    <tr>\n",
       "      <td>1145597</td>\n",
       "      <td>2019-10-14 23:58:00</td>\n",
       "      <td>2257.980957</td>\n",
       "    </tr>\n",
       "    <tr>\n",
       "      <td>1145598</td>\n",
       "      <td>2019-10-14 23:59:00</td>\n",
       "      <td>2257.965576</td>\n",
       "    </tr>\n",
       "  </tbody>\n",
       "</table>\n",
       "</div>"
      ],
      "text/plain": [
       "                      index  bottom_pressure\n",
       "1145594 2019-10-14 23:55:00      2258.016357\n",
       "1145595 2019-10-14 23:56:00      2258.004395\n",
       "1145596 2019-10-14 23:57:00      2257.993408\n",
       "1145597 2019-10-14 23:58:00      2257.980957\n",
       "1145598 2019-10-14 23:59:00      2257.965576"
      ]
     },
     "execution_count": 7,
     "metadata": {},
     "output_type": "execute_result"
    }
   ],
   "source": [
    "df.tail()"
   ]
  },
  {
   "cell_type": "code",
   "execution_count": null,
   "metadata": {},
   "outputs": [],
   "source": []
  }
 ],
 "metadata": {
  "kernelspec": {
   "display_name": "Python 3",
   "language": "python",
   "name": "python3"
  },
  "language_info": {
   "codemirror_mode": {
    "name": "ipython",
    "version": 3
   },
   "file_extension": ".py",
   "mimetype": "text/x-python",
   "name": "python",
   "nbconvert_exporter": "python",
   "pygments_lexer": "ipython3",
   "version": "3.7.3"
  }
 },
 "nbformat": 4,
 "nbformat_minor": 4
}
