{
 "cells": [
  {
   "cell_type": "markdown",
   "metadata": {},
   "source": [
    "## File for creating downsampled daily counts of EQs and their related parameters "
   ]
  },
  {
   "cell_type": "code",
   "execution_count": 5,
   "metadata": {},
   "outputs": [],
   "source": [
    "import pandas as pd\n",
    "import dask.dataframe as dd\n",
    "import hvplot.pandas  # noqa\n",
    "import hvplot.dask  # noqa\n",
    "import numpy as np\n",
    "from scipy import stats"
   ]
  },
  {
   "cell_type": "code",
   "execution_count": 6,
   "metadata": {},
   "outputs": [
    {
     "name": "stdout",
     "output_type": "stream",
     "text": [
      "hypo71_11_2019.txt  hypo71_2018.dat\n"
     ]
    }
   ],
   "source": [
    "!ls /home/jovyan/data/botpt/axial_seismic/"
   ]
  },
  {
   "cell_type": "code",
   "execution_count": 7,
   "metadata": {},
   "outputs": [
    {
     "name": "stdout",
     "output_type": "stream",
     "text": [
      "yyyymmdd HHMM SSS.SS Lat(D M)  Lon(D M)  Depth    MW NWR GAP DMIN  RMS  ERH  ERZ            ID         PMom    SMom\n",
      "20150122 0000 27.54 45 56.81 129 59.92   0.55  -0.31  7 206  1.2 0.03  0.8  0.4         20830      3.8e+17 3.9e+17\n",
      "20150122 0008 58.89 45 56.96 129 59.70   0.00   0.02 10 149  1.2 0.09  0.2  0.2         20831      1.9e+18 7.8e+17\n",
      "20150122 0202 41.04 45 56.47 130  0.89   0.67  -0.03 12 200  0.8 0.03  0.9  0.7         20836      1.4e+18 7.2e+17\n",
      "20150122 0219 56.90 45 54.93 129 57.59   1.60   0.26  7 325  1.8 0.06  1.4  2.5         20837      3.3e+18 2.2e+18\n",
      "20150122 0236  7.08 45 56.80 129 59.71   0.51  -0.15  8 160  1.2 0.06  0.5  0.2         20840      6.7e+17 6.8e+17\n",
      "20150122 0239 20.66 45 56.93 129 59.48   1.56   0.07 12 148  0.9 0.08  0.5  1.3         20841      1.3e+18 1.6e+18\n",
      "20150122 0242 34.06 45 56.70 129 59.34   1.09   0.27 12 108  0.9 0.05  0.3  1.4         20843      2.7e+18 3.1e+18\n",
      "20150122 0250 15.94 45 57.96 129 59.53   1.45   0.54 14 286  1.8 0.03  0.7  1.1         20844      8.2e+18 6.6e+18\n",
      "20150122 0259 40.84 45 56.76 129 59.20   1.30   0.28 12 113  0.7 0.07  0.4  1.1         20847      3.6e+18 2.3e+18\n"
     ]
    }
   ],
   "source": [
    "!head /home/jovyan/data/botpt/axial_seismic/hypo71_11_2019.txt"
   ]
  },
  {
   "cell_type": "code",
   "execution_count": 8,
   "metadata": {},
   "outputs": [
    {
     "data": {
      "text/html": [
       "<div>\n",
       "<style scoped>\n",
       "    .dataframe tbody tr th:only-of-type {\n",
       "        vertical-align: middle;\n",
       "    }\n",
       "\n",
       "    .dataframe tbody tr th {\n",
       "        vertical-align: top;\n",
       "    }\n",
       "\n",
       "    .dataframe thead th {\n",
       "        text-align: right;\n",
       "    }\n",
       "</style>\n",
       "<table border=\"1\" class=\"dataframe\">\n",
       "  <thead>\n",
       "    <tr style=\"text-align: right;\">\n",
       "      <th></th>\n",
       "      <th>Depth</th>\n",
       "      <th>MW</th>\n",
       "      <th>RMS</th>\n",
       "      <th>datetime</th>\n",
       "      <th>date</th>\n",
       "    </tr>\n",
       "  </thead>\n",
       "  <tbody>\n",
       "    <tr>\n",
       "      <td>2015-05-01 00:02:00</td>\n",
       "      <td>1.91</td>\n",
       "      <td>0.48</td>\n",
       "      <td>0.03</td>\n",
       "      <td>2015-05-01 00:02:00</td>\n",
       "      <td>2015-05-01</td>\n",
       "    </tr>\n",
       "    <tr>\n",
       "      <td>2015-05-01 00:27:00</td>\n",
       "      <td>0.82</td>\n",
       "      <td>0.03</td>\n",
       "      <td>0.01</td>\n",
       "      <td>2015-05-01 00:27:00</td>\n",
       "      <td>2015-05-01</td>\n",
       "    </tr>\n",
       "    <tr>\n",
       "      <td>2015-05-01 00:28:00</td>\n",
       "      <td>0.43</td>\n",
       "      <td>-0.23</td>\n",
       "      <td>0.01</td>\n",
       "      <td>2015-05-01 00:28:00</td>\n",
       "      <td>2015-05-01</td>\n",
       "    </tr>\n",
       "    <tr>\n",
       "      <td>2015-05-01 00:44:00</td>\n",
       "      <td>0.71</td>\n",
       "      <td>-0.16</td>\n",
       "      <td>0.01</td>\n",
       "      <td>2015-05-01 00:44:00</td>\n",
       "      <td>2015-05-01</td>\n",
       "    </tr>\n",
       "    <tr>\n",
       "      <td>2015-05-01 00:46:00</td>\n",
       "      <td>0.44</td>\n",
       "      <td>-0.34</td>\n",
       "      <td>0.04</td>\n",
       "      <td>2015-05-01 00:46:00</td>\n",
       "      <td>2015-05-01</td>\n",
       "    </tr>\n",
       "  </tbody>\n",
       "</table>\n",
       "</div>"
      ],
      "text/plain": [
       "                     Depth    MW   RMS            datetime        date\n",
       "2015-05-01 00:02:00   1.91  0.48  0.03 2015-05-01 00:02:00  2015-05-01\n",
       "2015-05-01 00:27:00   0.82  0.03  0.01 2015-05-01 00:27:00  2015-05-01\n",
       "2015-05-01 00:28:00   0.43 -0.23  0.01 2015-05-01 00:28:00  2015-05-01\n",
       "2015-05-01 00:44:00   0.71 -0.16  0.01 2015-05-01 00:44:00  2015-05-01\n",
       "2015-05-01 00:46:00   0.44 -0.34  0.04 2015-05-01 00:46:00  2015-05-01"
      ]
     },
     "execution_count": 8,
     "metadata": {},
     "output_type": "execute_result"
    }
   ],
   "source": [
    "seismic_file = '/home/jovyan/data/botpt/axial_seismic/hypo71_11_2019.txt'\n",
    "df_seismic = pd.read_csv(seismic_file, delim_whitespace=True, dtype=object)\n",
    "df_seismic['datetime'] = df_seismic['yyyymmdd'] + 'T' + \\\n",
    "            df_seismic['HHMM'].str.slice(start=0, stop=2) + ':' + \\\n",
    "            df_seismic['HHMM'].str.slice(start=2) \n",
    "df_seismic.index = pd.to_datetime(df_seismic['datetime'].values)\n",
    "df_seismic['datetime'] = pd.to_datetime(df_seismic['datetime'].values)\n",
    "df_seismic = df_seismic.loc['2015-05-01 00:00:00':'2019-10-14 00:00:00']\n",
    "df_seismic.datetime.astype(np.int64).values/1e64\n",
    "df_seismic['date'] =pd.DatetimeIndex(df_seismic.datetime).date\n",
    "df_seismic['Depth']= df_seismic['Depth'].astype(np.float).values\n",
    "df_seismic['MW']= df_seismic['MW'].astype(np.float).values\n",
    "df_seismic['RMS']= df_seismic['RMS'].astype(np.float).values\n",
    "del df_seismic['NWR']\n",
    "del df_seismic['GAP']\n",
    "del df_seismic['DMIN']\n",
    "del df_seismic['ERH']\n",
    "del df_seismic['ERZ']\n",
    "del df_seismic['ID']\n",
    "del df_seismic['PMom']\n",
    "del df_seismic['SMom']\n",
    "del df_seismic['yyyymmdd']\n",
    "del df_seismic['HHMM']\n",
    "del df_seismic['SSS.SS']\n",
    "del df_seismic['Lat(D']\n",
    "del df_seismic['M)']\n",
    "del df_seismic['Lon(D']\n",
    "del df_seismic['M).1']\n",
    "df_seismic.head()"
   ]
  },
  {
   "cell_type": "markdown",
   "metadata": {},
   "source": [
    "## Create new dataframe with count per day"
   ]
  },
  {
   "cell_type": "code",
   "execution_count": 12,
   "metadata": {},
   "outputs": [
    {
     "data": {
      "text/html": [
       "<div>\n",
       "<style scoped>\n",
       "    .dataframe tbody tr th:only-of-type {\n",
       "        vertical-align: middle;\n",
       "    }\n",
       "\n",
       "    .dataframe tbody tr th {\n",
       "        vertical-align: top;\n",
       "    }\n",
       "\n",
       "    .dataframe thead th {\n",
       "        text-align: right;\n",
       "    }\n",
       "</style>\n",
       "<table border=\"1\" class=\"dataframe\">\n",
       "  <thead>\n",
       "    <tr style=\"text-align: right;\">\n",
       "      <th></th>\n",
       "      <th>Depth</th>\n",
       "      <th>MW</th>\n",
       "      <th>RMS</th>\n",
       "      <th>count</th>\n",
       "    </tr>\n",
       "    <tr>\n",
       "      <th>date</th>\n",
       "      <th></th>\n",
       "      <th></th>\n",
       "      <th></th>\n",
       "      <th></th>\n",
       "    </tr>\n",
       "  </thead>\n",
       "  <tbody>\n",
       "    <tr>\n",
       "      <td>2015-05-01</td>\n",
       "      <td>1.194603</td>\n",
       "      <td>0.196984</td>\n",
       "      <td>0.045397</td>\n",
       "      <td>63.0</td>\n",
       "    </tr>\n",
       "    <tr>\n",
       "      <td>2015-05-02</td>\n",
       "      <td>1.246190</td>\n",
       "      <td>0.240714</td>\n",
       "      <td>0.049524</td>\n",
       "      <td>42.0</td>\n",
       "    </tr>\n",
       "    <tr>\n",
       "      <td>2015-05-03</td>\n",
       "      <td>0.995306</td>\n",
       "      <td>0.165510</td>\n",
       "      <td>0.040000</td>\n",
       "      <td>49.0</td>\n",
       "    </tr>\n",
       "    <tr>\n",
       "      <td>2015-05-04</td>\n",
       "      <td>1.247429</td>\n",
       "      <td>0.177143</td>\n",
       "      <td>0.047714</td>\n",
       "      <td>35.0</td>\n",
       "    </tr>\n",
       "    <tr>\n",
       "      <td>2015-05-05</td>\n",
       "      <td>1.202955</td>\n",
       "      <td>0.201364</td>\n",
       "      <td>0.057273</td>\n",
       "      <td>44.0</td>\n",
       "    </tr>\n",
       "  </tbody>\n",
       "</table>\n",
       "</div>"
      ],
      "text/plain": [
       "               Depth        MW       RMS  count\n",
       "date                                           \n",
       "2015-05-01  1.194603  0.196984  0.045397   63.0\n",
       "2015-05-02  1.246190  0.240714  0.049524   42.0\n",
       "2015-05-03  0.995306  0.165510  0.040000   49.0\n",
       "2015-05-04  1.247429  0.177143  0.047714   35.0\n",
       "2015-05-05  1.202955  0.201364  0.057273   44.0"
      ]
     },
     "execution_count": 12,
     "metadata": {},
     "output_type": "execute_result"
    }
   ],
   "source": [
    "df_eqMean=df_seismic.groupby('date').mean()\n",
    "df_eqCount= df_seismic.groupby('date').count()\n",
    "df_eqCount['count'] = df_eqCount.datetime.astype('float64').values\n",
    "df_eqMean['count'] = df_eqCount['count'].values\n",
    "df_eqMean.head()"
   ]
  },
  {
   "cell_type": "code",
   "execution_count": null,
   "metadata": {},
   "outputs": [],
   "source": []
  }
 ],
 "metadata": {
  "kernelspec": {
   "display_name": "Python 3",
   "language": "python",
   "name": "python3"
  },
  "language_info": {
   "codemirror_mode": {
    "name": "ipython",
    "version": 3
   },
   "file_extension": ".py",
   "mimetype": "text/x-python",
   "name": "python",
   "nbconvert_exporter": "python",
   "pygments_lexer": "ipython3",
   "version": "3.7.3"
  }
 },
 "nbformat": 4,
 "nbformat_minor": 4
}
