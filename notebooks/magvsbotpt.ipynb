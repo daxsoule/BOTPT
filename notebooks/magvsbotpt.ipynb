{
 "cells": [
  {
   "cell_type": "code",
   "execution_count": null,
   "metadata": {},
   "outputs": [],
   "source": [
    "import xarray as xr\n",
    "import pandas as pd\n",
    "import numpy as np\n",
    "import datetime\n",
    "import os\n",
    "import matplotlib.pyplot as plt\n",
    "import matplotlib.dates as dates\n",
    "from matplotlib import pyplot\n",
    "import hvplot.pandas\n",
    "from pylab import rcParams\n",
    "import pickle as pk\n",
    "import gc\n",
    "import requests \n",
    "import matplotlib.gridspec as gridspec\n",
    "import netCDF4 as nc\n",
    "import warnings \n",
    "warnings.filterwarnings('ignore')"
   ]
  },
  {
   "cell_type": "code",
   "execution_count": null,
   "metadata": {},
   "outputs": [],
   "source": [
    "tide_file = '/home/jovyan/data/tide/pred_F.txt'\n",
    "df_tides = pd.read_csv(tide_file, delim_whitespace=True, dtype = object)\n",
    "df_tides['datetime']=df_tides['year'] + '-' + df_tides['month'] + '-' + df_tides['day'] + \\\n",
    "            'T' + df_tides['hour'] + ':' + df_tides['minute'] + ':' + df_tides['second']\n",
    "#df_tides_E = pd.DataFrame(tides_E)\n",
    "df_tides.index=pd.to_datetime(df_tides['datetime'].values)\n",
    "#df_tides_E.index = df_tides_E['parsed_time']\n",
    "del df_tides['year']\n",
    "del df_tides['month']\n",
    "del df_tides['day']\n",
    "del df_tides['hour']\n",
    "del df_tides['minute']\n",
    "del df_tides['second']\n",
    "del df_tides['datetime']\n",
    "df_tides['height'] = df_tides['height'].astype(float)\n",
    "df_tides= df_tides.sort_index()\n",
    "#df_tides_E['height'] = df_tides_E['height'].to_pandas().resample('T').mean()\n",
    "df_tides.head"
   ]
  },
  {
   "cell_type": "code",
   "execution_count": null,
   "metadata": {},
   "outputs": [],
   "source": [
    "df_tides.describe()"
   ]
  },
  {
   "cell_type": "code",
   "execution_count": null,
   "metadata": {},
   "outputs": [],
   "source": [
    "#list comprehention\n",
    "epoch= [i.timestamp() for i in df_tides.index.to_pydatetime()]"
   ]
  },
  {
   "cell_type": "code",
   "execution_count": null,
   "metadata": {},
   "outputs": [],
   "source": [
    "df_tides['epoch'] = epoch"
   ]
  },
  {
   "cell_type": "code",
   "execution_count": null,
   "metadata": {},
   "outputs": [],
   "source": [
    "with open('/home/jovyan/data/botpt/bottom_pressure15S_F11.pkl', 'rb') as F:\n",
    "    botpt_data = pk.load(F)\n",
    "df_botpt = pd.DataFrame(botpt_data)\n",
    "df_botpt['bottom_pressure'] = df_botpt['bottom_pressure'].astype(float)\n",
    "df_botpt['Depth']=df_botpt['bottom_pressure'].astype(float) * 0.670\n",
    "#MJ03F_cal_depths = [MJ03F_pressure * 0.0670 for MJ03F_pressure in MJ03F_pressure]\n",
    "#list comprehention\n",
    "epoch= [i.timestamp() for i in df_botpt.index.to_pydatetime()]\n",
    "df_botpt['epoch'] = epoch\n",
    "df_botpt= df_botpt.sort_index()\n",
    "df_botpt.index.name= 'Date'\n",
    "df_botpt.tail()"
   ]
  },
  {
   "cell_type": "code",
   "execution_count": null,
   "metadata": {},
   "outputs": [],
   "source": [
    "df_botpt.hvplot.scatter(x='Date', y='Depth', height=200, datashade=True,\n",
    "                       flip_yaxis=True)"
   ]
  },
  {
   "cell_type": "code",
   "execution_count": null,
   "metadata": {},
   "outputs": [],
   "source": [
    "df_subsetTides = df_tides.loc['2015-01-1 00:00:00':'2018-10-31 00:00:00']\n",
    "df_subsetBOTPT = df_botpt.loc['2015-01-1 00:00:00':'2018-10-31 00:00:00']"
   ]
  },
  {
   "cell_type": "code",
   "execution_count": null,
   "metadata": {},
   "outputs": [],
   "source": [
    "type(df_botpt)"
   ]
  },
  {
   "cell_type": "code",
   "execution_count": null,
   "metadata": {},
   "outputs": [],
   "source": [
    "df_subsetBOTPT['tides'] = df_subsetTides.height\n",
    "df_subsetBOTPT.tail()"
   ]
  },
  {
   "cell_type": "code",
   "execution_count": null,
   "metadata": {},
   "outputs": [],
   "source": [
    "df_subsetBOTPT['dtide']=  df_subsetBOTPT['Depth'] - df_subsetBOTPT['tides']\n",
    "df_subsetBOTPT.tail()"
   ]
  },
  {
   "cell_type": "code",
   "execution_count": null,
   "metadata": {},
   "outputs": [],
   "source": [
    "df_subsetBOTPT.hvplot(x='Date', y='dtide', datashade=True, height=200,\n",
    "                       flip_yaxis=True)"
   ]
  },
  {
   "cell_type": "markdown",
   "metadata": {},
   "source": [
    "### Import Seismic Data"
   ]
  },
  {
   "cell_type": "code",
   "execution_count": null,
   "metadata": {},
   "outputs": [],
   "source": [
    "seismic_file = '/home/jovyan/data/hypo71.dat.txt'\n",
    "df_seismic_data = pd.read_csv(seismic_file, delim_whitespace=True, dtype=object)\n",
    "df_seismic_data['datetime'] = df_seismic_data['yyyymmdd'] + 'T' + \\\n",
    "            df_seismic_data['HHMM'].str.slice(start=0, stop=2) + ':' + \\\n",
    "            df_seismic_data['HHMM'].str.slice(start=2) \n",
    "df_seismic_data.index = pd.to_datetime(df_seismic_data['datetime'].values)\n",
    "df_seismic_data['datetime'] = pd.to_datetime(df_seismic_data['datetime'].values)\n",
    "df_seismic_data = df_seismic_data.loc['2017-01-1 00:00:00':'2018-10-31 00:00:00']\n",
    "df_seismic_data.head()\n",
    "del df_seismic_data['yyyymmdd']\n",
    "del df_seismic_data['HHMM']\n",
    "del df_seismic_data['SSS.SS']\n",
    "del df_seismic_data['Depth']\n",
    "del df_seismic_data['MW']\n",
    "del df_seismic_data['NWR']\n",
    "# del df_seismic_data['GAP']\n",
    "# del df_seismic_data['DMIN']\n",
    "del df_seismic_data['ERH']\n",
    "del df_seismic_data['ERZ']\n",
    "del df_seismic_data['ID']\n",
    "del df_seismic_data['Lat(D']\n",
    "del df_seismic_data['Lon(D']\n",
    "del df_seismic_data['M)']\n",
    "del df_seismic_data['M).1']\n",
    "# del df_seismic_data['PMom']\n",
    "# del df_seismic_data['SMom']\n",
    "del df_seismic_data['RMS']\n",
    "df_seismic_data.head()"
   ]
  },
  {
   "cell_type": "markdown",
   "metadata": {},
   "source": [
    "1. yyyymmdd - year, month, day\n",
    "2. HHMM - hour, minute\n",
    "3. Lat(D - latitude degree \n",
    "4. M) - latitude minute \n",
    "5. Lon(D - longitude degreee\n",
    "6. M).1 - longitude minute\n",
    "7. Depth - depth in km\n",
    "8. MW - moment magnitude (based on the concept of seismic moment) - rupture area, slip \n",
    "9. NWR - NOAA Weather Radio???\n",
    "10. GAP - seismic gap (section of a fault that has produced earthquakes in the past but is now quiet) - azimuthal \n",
    "11. DMIN - Horizontal distance from the epicenter to the nearest station (in km). In general, the smaller this number, the more reliable is the calculated depth of the earthquake\n",
    "12. RMS - root mean square \n",
    "13. ERH - error estimates in horizontal direction \n",
    "14. ERZ - error estimates in vertical direction\n",
    "15. ID - measurement ID???\n",
    "16. PMom - body wave magnitude?\n",
    "17. SMom - surface wave magnitude?"
   ]
  },
  {
   "cell_type": "code",
   "execution_count": null,
   "metadata": {},
   "outputs": [],
   "source": [
    "df_seismic_data.datetime.astype(np.int64).values/1e64\n",
    "df_seismic_data['date'] =pd.DatetimeIndex(df_seismic_data.datetime).date\n",
    "df_seismic_data.head()"
   ]
  },
  {
   "cell_type": "markdown",
   "metadata": {},
   "source": [
    "#### Richter magnitude (Local Magnitude ML)\n",
    "This is still used for measuring the magnitude of shallow events at distances less than 600 km \n",
    "<br/>ML = logA + 2.56logD - 1.67\n",
    "<br/>A: measured ground motion (in micrometres)\n",
    "<br/>D: distance from the event (in km)\n",
    "\n",
    "### What is A??"
   ]
  },
  {
   "cell_type": "markdown",
   "metadata": {},
   "source": [
    "#### Body wave magnitude Mb\n",
    "For earthquakes measured at distances greater than 600 km magnitude can be estimated from the formula.\n",
    "<br/> Mb = log(A/T) + σ(D,h)\n",
    "\n",
    "A: maximum amplitude (in micrometres)of the P-waves measured at period T (generally about one second) \n",
    "<br/> σ: calibration term (in the range 6–8) that depends on distance from the event D and depth of the event h (tables of σ are used)."
   ]
  },
  {
   "cell_type": "markdown",
   "metadata": {},
   "source": [
    "#### Surface wave magnitude Ms\n",
    "For shallow earthquakes (i.e. ones that generate surface waves) magnitudes can be estimated using the formula.\n",
    "\n",
    "MS = log(A/T) + 1.66logΔ + 3.3\n",
    "\n",
    "A: maximum amplitude (in micrometres) of the Rayleigh waves\n",
    "<br/>T: period (usually about 20 seconds) \n",
    "<br/>Δ: distance (in degrees)."
   ]
  },
  {
   "cell_type": "markdown",
   "metadata": {},
   "source": [
    "#### Moment magnitude\n",
    "Earthquakes occur when the ground ruptures. Stresses build up over time (usually caused by the slow movements of tectonic plates) and eventually a piece of the Earth's brittle crust deep under ground breaks (the technical term is ruptures). This rupture then grows until eventually a large area has shifted (the rupture propagates at a velocity of 2–3km/sec). The magnitude of the earthquake is related to the size of the rupture.\n",
    "\n",
    "Seismic moment (Mo) = μ* rupture area * slip length\n",
    "\n",
    "μ: shear modulus of the crust (approx 3x1010 N/m)\n",
    "\n",
    "Moment magnitude (Mw) = 2/3log(Mo) - 6.06\n",
    "\n"
   ]
  },
  {
   "cell_type": "markdown",
   "metadata": {},
   "source": [
    "#### An earthquake can have a negative magnitude\n",
    "Very small events (e.g. If 2/3log(Mo)<6.0 or if logA+2.56logD<1.67 ) will have a magnitude less than zero. In practice, earthquakes this small, although quite numerous, are usually only recorded and located in very small scale studies (e.g. studying rockbursts in underground mines)."
   ]
  },
  {
   "cell_type": "code",
   "execution_count": null,
   "metadata": {},
   "outputs": [],
   "source": []
  }
 ],
 "metadata": {
  "kernelspec": {
   "display_name": "Python 3",
   "language": "python",
   "name": "python3"
  },
  "language_info": {
   "codemirror_mode": {
    "name": "ipython",
    "version": 3
   },
   "file_extension": ".py",
   "mimetype": "text/x-python",
   "name": "python",
   "nbconvert_exporter": "python",
   "pygments_lexer": "ipython3",
   "version": "3.6.6"
  }
 },
 "nbformat": 4,
 "nbformat_minor": 2
}
