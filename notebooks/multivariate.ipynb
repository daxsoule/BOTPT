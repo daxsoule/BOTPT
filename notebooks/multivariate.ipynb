{
 "cells": [
  {
   "cell_type": "code",
   "execution_count": 16,
   "metadata": {},
   "outputs": [],
   "source": [
    "import xarray as xr\n",
    "import pandas as pd\n",
    "import dask.dataframe as dd\n",
    "import hvplot.pandas  # noqa\n",
    "import hvplot.dask  # noqa\n",
    "import numpy as np\n",
    "import datetime\n",
    "from scipy import stats\n",
    "import matplotlib.dates as dates"
   ]
  },
  {
   "cell_type": "code",
   "execution_count": 17,
   "metadata": {},
   "outputs": [],
   "source": [
    "import warnings\n",
    "warnings.filterwarnings('ignore')"
   ]
  },
  {
   "cell_type": "code",
   "execution_count": 18,
   "metadata": {},
   "outputs": [
    {
     "data": {
      "text/html": [
       "<table style=\"border: 2px solid white;\">\n",
       "<tr>\n",
       "<td style=\"vertical-align: top; border: 0px solid white\">\n",
       "<h3 style=\"text-align: left;\">Client</h3>\n",
       "<ul style=\"text-align: left; list-style: none; margin: 0; padding: 0;\">\n",
       "  <li><b>Scheduler: </b>tcp://10.0.128.15:33067</li>\n",
       "  <li><b>Dashboard: </b><a href='/user/jnatalie12/proxy/8787/status' target='_blank'>/user/jnatalie12/proxy/8787/status</a>\n",
       "</ul>\n",
       "</td>\n",
       "<td style=\"vertical-align: top; border: 0px solid white\">\n",
       "<h3 style=\"text-align: left;\">Cluster</h3>\n",
       "<ul style=\"text-align: left; list-style:none; margin: 0; padding: 0;\">\n",
       "  <li><b>Workers: </b>4</li>\n",
       "  <li><b>Cores: </b>4</li>\n",
       "  <li><b>Memory: </b>5.00 GB</li>\n",
       "</ul>\n",
       "</td>\n",
       "</tr>\n",
       "</table>"
      ],
      "text/plain": [
       "<Client: 'tcp://10.0.128.15:33067' processes=4 threads=4, memory=5.00 GB>"
      ]
     },
     "execution_count": 18,
     "metadata": {},
     "output_type": "execute_result"
    }
   ],
   "source": [
    "from dask.distributed import Client\n",
    "\n",
    "client = Client(\"tcp://10.0.128.15:33067\")\n",
    "client"
   ]
  },
  {
   "cell_type": "markdown",
   "metadata": {},
   "source": [
    "## Read in Eastern Caldera"
   ]
  },
  {
   "cell_type": "code",
   "execution_count": 19,
   "metadata": {},
   "outputs": [
    {
     "data": {
      "text/html": [
       "<pre>&lt;xarray.Dataset&gt;\n",
       "Dimensions:                  (index: 2581724)\n",
       "Coordinates:\n",
       "  * index                    (index) datetime64[ns] 2014-09-04 ... 2019-10-14T23:59:00\n",
       "Data variables:\n",
       "    bottom_pressure_eastern  (index) float32 dask.array&lt;chunksize=(10080,), meta=np.ndarray&gt;</pre>"
      ],
      "text/plain": [
       "<xarray.Dataset>\n",
       "Dimensions:                  (index: 2581724)\n",
       "Coordinates:\n",
       "  * index                    (index) datetime64[ns] 2014-09-04 ... 2019-10-14T23:59:00\n",
       "Data variables:\n",
       "    bottom_pressure_eastern  (index) float32 dask.array<chunksize=(10080,), meta=np.ndarray>"
      ]
     },
     "execution_count": 19,
     "metadata": {},
     "output_type": "execute_result"
    }
   ],
   "source": [
    "ds1 = xr.open_mfdataset('/home/jovyan/data/botpt/RS03CCAL-MJ03E-06-BOTPTA302/*_resampled.nc', parallel=True).chunk(10080)\n",
    "ds1['bottom_pressure_eastern'] = ds1['bottom_pressure']\n",
    "del ds1['bottom_pressure']\n",
    "ds1"
   ]
  },
  {
   "cell_type": "markdown",
   "metadata": {},
   "source": [
    "## Read in Central Caldera"
   ]
  },
  {
   "cell_type": "code",
   "execution_count": 20,
   "metadata": {},
   "outputs": [
    {
     "data": {
      "text/html": [
       "<pre>&lt;xarray.Dataset&gt;\n",
       "Dimensions:                  (index: 2606374)\n",
       "Coordinates:\n",
       "  * index                    (index) datetime64[ns] 2014-09-04 ... 2019-10-14T23:59:00\n",
       "Data variables:\n",
       "    bottom_pressure_central  (index) float32 dask.array&lt;chunksize=(10080,), meta=np.ndarray&gt;</pre>"
      ],
      "text/plain": [
       "<xarray.Dataset>\n",
       "Dimensions:                  (index: 2606374)\n",
       "Coordinates:\n",
       "  * index                    (index) datetime64[ns] 2014-09-04 ... 2019-10-14T23:59:00\n",
       "Data variables:\n",
       "    bottom_pressure_central  (index) float32 dask.array<chunksize=(10080,), meta=np.ndarray>"
      ]
     },
     "execution_count": 20,
     "metadata": {},
     "output_type": "execute_result"
    }
   ],
   "source": [
    "ds2 = xr.open_mfdataset('/home/jovyan/data/botpt/RS03CCAL-MJ03F-05-BOTPTA301/*_resampled.nc', parallel=True).chunk(10080)\n",
    "ds2['bottom_pressure_central'] = ds2['bottom_pressure']\n",
    "del ds2['bottom_pressure']\n",
    "ds2"
   ]
  },
  {
   "cell_type": "code",
   "execution_count": 21,
   "metadata": {},
   "outputs": [],
   "source": [
    "#df = ds1.to_dask_dataframe()\n",
    "df1 = ds1.to_dataframe()\n",
    "df2= ds2.to_dataframe()\n",
    "del ds1\n",
    "del ds2"
   ]
  },
  {
   "cell_type": "code",
   "execution_count": 22,
   "metadata": {},
   "outputs": [],
   "source": [
    "df1['Datetime']=np.datetime_as_string(df1.index)\n",
    "df2['Datetime']=np.datetime_as_string(df2.index)"
   ]
  },
  {
   "cell_type": "code",
   "execution_count": 23,
   "metadata": {},
   "outputs": [],
   "source": [
    "df1['Datetime']=df1['Datetime'].str[:19]\n",
    "df2['Datetime']=df2['Datetime'].str[:19]"
   ]
  },
  {
   "cell_type": "code",
   "execution_count": 24,
   "metadata": {},
   "outputs": [
    {
     "data": {
      "text/html": [
       "<div>\n",
       "<style scoped>\n",
       "    .dataframe tbody tr th:only-of-type {\n",
       "        vertical-align: middle;\n",
       "    }\n",
       "\n",
       "    .dataframe tbody tr th {\n",
       "        vertical-align: top;\n",
       "    }\n",
       "\n",
       "    .dataframe thead th {\n",
       "        text-align: right;\n",
       "    }\n",
       "</style>\n",
       "<table border=\"1\" class=\"dataframe\">\n",
       "  <thead>\n",
       "    <tr style=\"text-align: right;\">\n",
       "      <th></th>\n",
       "      <th>bottom_pressure_eastern</th>\n",
       "      <th>Datetime</th>\n",
       "      <th>bottom_pressure_central</th>\n",
       "    </tr>\n",
       "  </thead>\n",
       "  <tbody>\n",
       "    <tr>\n",
       "      <td>2576362</td>\n",
       "      <td>2240.960938</td>\n",
       "      <td>2019-10-14T23:55:00</td>\n",
       "      <td>2254.007324</td>\n",
       "    </tr>\n",
       "    <tr>\n",
       "      <td>2576363</td>\n",
       "      <td>2240.949463</td>\n",
       "      <td>2019-10-14T23:56:00</td>\n",
       "      <td>2253.995605</td>\n",
       "    </tr>\n",
       "    <tr>\n",
       "      <td>2576364</td>\n",
       "      <td>2240.938232</td>\n",
       "      <td>2019-10-14T23:57:00</td>\n",
       "      <td>2253.984375</td>\n",
       "    </tr>\n",
       "    <tr>\n",
       "      <td>2576365</td>\n",
       "      <td>2240.925781</td>\n",
       "      <td>2019-10-14T23:58:00</td>\n",
       "      <td>2253.970215</td>\n",
       "    </tr>\n",
       "    <tr>\n",
       "      <td>2576366</td>\n",
       "      <td>2240.910156</td>\n",
       "      <td>2019-10-14T23:59:00</td>\n",
       "      <td>2253.955811</td>\n",
       "    </tr>\n",
       "  </tbody>\n",
       "</table>\n",
       "</div>"
      ],
      "text/plain": [
       "         bottom_pressure_eastern             Datetime  bottom_pressure_central\n",
       "2576362              2240.960938  2019-10-14T23:55:00              2254.007324\n",
       "2576363              2240.949463  2019-10-14T23:56:00              2253.995605\n",
       "2576364              2240.938232  2019-10-14T23:57:00              2253.984375\n",
       "2576365              2240.925781  2019-10-14T23:58:00              2253.970215\n",
       "2576366              2240.910156  2019-10-14T23:59:00              2253.955811"
      ]
     },
     "execution_count": 24,
     "metadata": {},
     "output_type": "execute_result"
    }
   ],
   "source": [
    "df_botpt=pd.merge(df1,df2, on = 'Datetime')\n",
    "del df1\n",
    "del df2\n",
    "df_botpt.tail()"
   ]
  },
  {
   "cell_type": "markdown",
   "metadata": {},
   "source": [
    "## trimming data frame"
   ]
  },
  {
   "cell_type": "code",
   "execution_count": 25,
   "metadata": {},
   "outputs": [
    {
     "data": {
      "text/html": [
       "<div>\n",
       "<style scoped>\n",
       "    .dataframe tbody tr th:only-of-type {\n",
       "        vertical-align: middle;\n",
       "    }\n",
       "\n",
       "    .dataframe tbody tr th {\n",
       "        vertical-align: top;\n",
       "    }\n",
       "\n",
       "    .dataframe thead th {\n",
       "        text-align: right;\n",
       "    }\n",
       "</style>\n",
       "<table border=\"1\" class=\"dataframe\">\n",
       "  <thead>\n",
       "    <tr style=\"text-align: right;\">\n",
       "      <th></th>\n",
       "      <th>bottom_pressure_eastern</th>\n",
       "      <th>Datetime</th>\n",
       "      <th>bottom_pressure_central</th>\n",
       "      <th>depthDiff</th>\n",
       "      <th>spikes</th>\n",
       "      <th>cleanDiff</th>\n",
       "    </tr>\n",
       "    <tr>\n",
       "      <th>Datetime</th>\n",
       "      <th></th>\n",
       "      <th></th>\n",
       "      <th></th>\n",
       "      <th></th>\n",
       "      <th></th>\n",
       "      <th></th>\n",
       "    </tr>\n",
       "  </thead>\n",
       "  <tbody>\n",
       "    <tr>\n",
       "      <td>2015-05-01 00:00:00</td>\n",
       "      <td>2241.314697</td>\n",
       "      <td>2015-05-01T00:00:00</td>\n",
       "      <td>2256.084717</td>\n",
       "      <td>-14.770020</td>\n",
       "      <td>False</td>\n",
       "      <td>NaN</td>\n",
       "    </tr>\n",
       "    <tr>\n",
       "      <td>2015-05-01 00:01:00</td>\n",
       "      <td>2241.314941</td>\n",
       "      <td>2015-05-01T00:01:00</td>\n",
       "      <td>2256.085938</td>\n",
       "      <td>-14.770996</td>\n",
       "      <td>False</td>\n",
       "      <td>NaN</td>\n",
       "    </tr>\n",
       "    <tr>\n",
       "      <td>2015-05-01 00:02:00</td>\n",
       "      <td>2241.314209</td>\n",
       "      <td>2015-05-01T00:02:00</td>\n",
       "      <td>2256.085938</td>\n",
       "      <td>-14.771729</td>\n",
       "      <td>False</td>\n",
       "      <td>NaN</td>\n",
       "    </tr>\n",
       "    <tr>\n",
       "      <td>2015-05-01 00:03:00</td>\n",
       "      <td>2241.310303</td>\n",
       "      <td>2015-05-01T00:03:00</td>\n",
       "      <td>2256.081543</td>\n",
       "      <td>-14.771240</td>\n",
       "      <td>False</td>\n",
       "      <td>NaN</td>\n",
       "    </tr>\n",
       "    <tr>\n",
       "      <td>2015-05-01 00:04:00</td>\n",
       "      <td>2241.307129</td>\n",
       "      <td>2015-05-01T00:04:00</td>\n",
       "      <td>2256.079834</td>\n",
       "      <td>-14.772705</td>\n",
       "      <td>False</td>\n",
       "      <td>NaN</td>\n",
       "    </tr>\n",
       "  </tbody>\n",
       "</table>\n",
       "</div>"
      ],
      "text/plain": [
       "                     bottom_pressure_eastern             Datetime  \\\n",
       "Datetime                                                            \n",
       "2015-05-01 00:00:00              2241.314697  2015-05-01T00:00:00   \n",
       "2015-05-01 00:01:00              2241.314941  2015-05-01T00:01:00   \n",
       "2015-05-01 00:02:00              2241.314209  2015-05-01T00:02:00   \n",
       "2015-05-01 00:03:00              2241.310303  2015-05-01T00:03:00   \n",
       "2015-05-01 00:04:00              2241.307129  2015-05-01T00:04:00   \n",
       "\n",
       "                     bottom_pressure_central  depthDiff  spikes  cleanDiff  \n",
       "Datetime                                                                    \n",
       "2015-05-01 00:00:00              2256.084717 -14.770020   False        NaN  \n",
       "2015-05-01 00:01:00              2256.085938 -14.770996   False        NaN  \n",
       "2015-05-01 00:02:00              2256.085938 -14.771729   False        NaN  \n",
       "2015-05-01 00:03:00              2256.081543 -14.771240   False        NaN  \n",
       "2015-05-01 00:04:00              2256.079834 -14.772705   False        NaN  "
      ]
     },
     "execution_count": 25,
     "metadata": {},
     "output_type": "execute_result"
    }
   ],
   "source": [
    "df_botpt= df_botpt.set_index(pd.to_datetime(df_botpt['Datetime']))\n",
    "#del df_botpt['Datetime']\n",
    "df_botpt['depthDiff']= df_botpt['bottom_pressure_eastern'] - df_botpt['bottom_pressure_central']\n",
    "df_botpt =df_botpt.loc['2015-05-01 00:00:00':'2019-10-14 00:00:00']\n",
    "df_botpt['spikes']=(df_botpt['depthDiff'] - df_botpt['depthDiff'].rolling(1000).median()).abs() < 0.1\n",
    "df_botpt['cleanDiff']=df_botpt['depthDiff'].where(df_botpt.spikes)\n",
    "#df_botpt['bottom_pressure_eastern']= df_botpt.bottom_pressure_eastern.round(3)\n",
    "#df_botpt['bottom_pressure_central']= df_botpt.bottom_pressure_central.round(3)\n",
    "#df_botpt.sample(100)\n",
    "df_botpt.head()"
   ]
  },
  {
   "cell_type": "code",
   "execution_count": 26,
   "metadata": {},
   "outputs": [],
   "source": [
    "height = df_botpt['depthDiff'].tolist()\n",
    "time_int = []\n",
    "time = list(pd.to_datetime(df_botpt.index.values))\n",
    "for i in time:\n",
    "    i = np.datetime64(i).astype(datetime.datetime)\n",
    "    time_int.append(dates.date2num(i))"
   ]
  },
  {
   "cell_type": "code",
   "execution_count": 27,
   "metadata": {},
   "outputs": [],
   "source": [
    "df_botpt['date']=pd.DatetimeIndex(df_botpt.index).date"
   ]
  },
  {
   "cell_type": "code",
   "execution_count": 28,
   "metadata": {},
   "outputs": [
    {
     "data": {
      "text/html": [
       "<div>\n",
       "<style scoped>\n",
       "    .dataframe tbody tr th:only-of-type {\n",
       "        vertical-align: middle;\n",
       "    }\n",
       "\n",
       "    .dataframe tbody tr th {\n",
       "        vertical-align: top;\n",
       "    }\n",
       "\n",
       "    .dataframe thead th {\n",
       "        text-align: right;\n",
       "    }\n",
       "</style>\n",
       "<table border=\"1\" class=\"dataframe\">\n",
       "  <thead>\n",
       "    <tr style=\"text-align: right;\">\n",
       "      <th></th>\n",
       "      <th>bottom_pressure_eastern</th>\n",
       "      <th>bottom_pressure_central</th>\n",
       "      <th>depthDiff</th>\n",
       "      <th>spikes</th>\n",
       "      <th>cleanDiff</th>\n",
       "    </tr>\n",
       "    <tr>\n",
       "      <th>date</th>\n",
       "      <th></th>\n",
       "      <th></th>\n",
       "      <th></th>\n",
       "      <th></th>\n",
       "      <th></th>\n",
       "    </tr>\n",
       "  </thead>\n",
       "  <tbody>\n",
       "    <tr>\n",
       "      <td>2015-05-01</td>\n",
       "      <td>2242.323730</td>\n",
       "      <td>2257.087158</td>\n",
       "      <td>-14.763514</td>\n",
       "      <td>0.30625</td>\n",
       "      <td>-14.762942</td>\n",
       "    </tr>\n",
       "    <tr>\n",
       "      <td>2015-05-02</td>\n",
       "      <td>2242.330078</td>\n",
       "      <td>2257.091553</td>\n",
       "      <td>-14.761411</td>\n",
       "      <td>1.00000</td>\n",
       "      <td>-14.761411</td>\n",
       "    </tr>\n",
       "    <tr>\n",
       "      <td>2015-05-03</td>\n",
       "      <td>2242.337402</td>\n",
       "      <td>2257.100586</td>\n",
       "      <td>-14.763177</td>\n",
       "      <td>1.00000</td>\n",
       "      <td>-14.763177</td>\n",
       "    </tr>\n",
       "    <tr>\n",
       "      <td>2015-05-04</td>\n",
       "      <td>2242.327393</td>\n",
       "      <td>2257.088623</td>\n",
       "      <td>-14.761164</td>\n",
       "      <td>1.00000</td>\n",
       "      <td>-14.761164</td>\n",
       "    </tr>\n",
       "    <tr>\n",
       "      <td>2015-05-05</td>\n",
       "      <td>2242.318604</td>\n",
       "      <td>2257.082520</td>\n",
       "      <td>-14.763873</td>\n",
       "      <td>1.00000</td>\n",
       "      <td>-14.763873</td>\n",
       "    </tr>\n",
       "  </tbody>\n",
       "</table>\n",
       "</div>"
      ],
      "text/plain": [
       "            bottom_pressure_eastern  bottom_pressure_central  depthDiff  \\\n",
       "date                                                                      \n",
       "2015-05-01              2242.323730              2257.087158 -14.763514   \n",
       "2015-05-02              2242.330078              2257.091553 -14.761411   \n",
       "2015-05-03              2242.337402              2257.100586 -14.763177   \n",
       "2015-05-04              2242.327393              2257.088623 -14.761164   \n",
       "2015-05-05              2242.318604              2257.082520 -14.763873   \n",
       "\n",
       "             spikes  cleanDiff  \n",
       "date                            \n",
       "2015-05-01  0.30625 -14.762942  \n",
       "2015-05-02  1.00000 -14.761411  \n",
       "2015-05-03  1.00000 -14.763177  \n",
       "2015-05-04  1.00000 -14.761164  \n",
       "2015-05-05  1.00000 -14.763873  "
      ]
     },
     "execution_count": 28,
     "metadata": {},
     "output_type": "execute_result"
    }
   ],
   "source": [
    "df_botptMean=df_botpt.groupby('date').mean()\n",
    "df_botptMean.head()"
   ]
  },
  {
   "cell_type": "markdown",
   "metadata": {},
   "source": [
    "### Load in seismic data"
   ]
  },
  {
   "cell_type": "code",
   "execution_count": 29,
   "metadata": {},
   "outputs": [
    {
     "data": {
      "text/html": [
       "<div>\n",
       "<style scoped>\n",
       "    .dataframe tbody tr th:only-of-type {\n",
       "        vertical-align: middle;\n",
       "    }\n",
       "\n",
       "    .dataframe tbody tr th {\n",
       "        vertical-align: top;\n",
       "    }\n",
       "\n",
       "    .dataframe thead th {\n",
       "        text-align: right;\n",
       "    }\n",
       "</style>\n",
       "<table border=\"1\" class=\"dataframe\">\n",
       "  <thead>\n",
       "    <tr style=\"text-align: right;\">\n",
       "      <th></th>\n",
       "      <th>Depth</th>\n",
       "      <th>MW</th>\n",
       "      <th>RMS</th>\n",
       "      <th>datetime</th>\n",
       "      <th>date</th>\n",
       "    </tr>\n",
       "  </thead>\n",
       "  <tbody>\n",
       "    <tr>\n",
       "      <td>2015-05-01 00:02:00</td>\n",
       "      <td>1.91</td>\n",
       "      <td>0.48</td>\n",
       "      <td>0.03</td>\n",
       "      <td>2015-05-01 00:02:00</td>\n",
       "      <td>2015-05-01</td>\n",
       "    </tr>\n",
       "    <tr>\n",
       "      <td>2015-05-01 00:27:00</td>\n",
       "      <td>0.82</td>\n",
       "      <td>0.03</td>\n",
       "      <td>0.01</td>\n",
       "      <td>2015-05-01 00:27:00</td>\n",
       "      <td>2015-05-01</td>\n",
       "    </tr>\n",
       "    <tr>\n",
       "      <td>2015-05-01 00:28:00</td>\n",
       "      <td>0.43</td>\n",
       "      <td>-0.23</td>\n",
       "      <td>0.01</td>\n",
       "      <td>2015-05-01 00:28:00</td>\n",
       "      <td>2015-05-01</td>\n",
       "    </tr>\n",
       "    <tr>\n",
       "      <td>2015-05-01 00:44:00</td>\n",
       "      <td>0.71</td>\n",
       "      <td>-0.16</td>\n",
       "      <td>0.01</td>\n",
       "      <td>2015-05-01 00:44:00</td>\n",
       "      <td>2015-05-01</td>\n",
       "    </tr>\n",
       "    <tr>\n",
       "      <td>2015-05-01 00:46:00</td>\n",
       "      <td>0.44</td>\n",
       "      <td>-0.34</td>\n",
       "      <td>0.04</td>\n",
       "      <td>2015-05-01 00:46:00</td>\n",
       "      <td>2015-05-01</td>\n",
       "    </tr>\n",
       "  </tbody>\n",
       "</table>\n",
       "</div>"
      ],
      "text/plain": [
       "                     Depth    MW   RMS            datetime        date\n",
       "2015-05-01 00:02:00   1.91  0.48  0.03 2015-05-01 00:02:00  2015-05-01\n",
       "2015-05-01 00:27:00   0.82  0.03  0.01 2015-05-01 00:27:00  2015-05-01\n",
       "2015-05-01 00:28:00   0.43 -0.23  0.01 2015-05-01 00:28:00  2015-05-01\n",
       "2015-05-01 00:44:00   0.71 -0.16  0.01 2015-05-01 00:44:00  2015-05-01\n",
       "2015-05-01 00:46:00   0.44 -0.34  0.04 2015-05-01 00:46:00  2015-05-01"
      ]
     },
     "execution_count": 29,
     "metadata": {},
     "output_type": "execute_result"
    }
   ],
   "source": [
    "seismic_file = '/home/jovyan/data/botpt/axial_seismic/hypo71_11_2019.txt'\n",
    "df_seismic = pd.read_csv(seismic_file, delim_whitespace=True, dtype=object)\n",
    "df_seismic['datetime'] = df_seismic['yyyymmdd'] + 'T' + \\\n",
    "            df_seismic['HHMM'].str.slice(start=0, stop=2) + ':' + \\\n",
    "            df_seismic['HHMM'].str.slice(start=2) \n",
    "df_seismic.index = pd.to_datetime(df_seismic['datetime'].values)\n",
    "df_seismic['datetime'] = pd.to_datetime(df_seismic['datetime'].values)\n",
    "df_seismic = df_seismic.loc['2015-05-01 00:00:00':'2019-10-14 00:00:00']\n",
    "df_seismic.datetime.astype(np.int64).values/1e64\n",
    "df_seismic['date'] =pd.DatetimeIndex(df_seismic.datetime).date\n",
    "df_seismic['Depth']= df_seismic['Depth'].astype(np.float).values\n",
    "df_seismic['MW']= df_seismic['MW'].astype(np.float).values\n",
    "df_seismic['RMS']= df_seismic['RMS'].astype(np.float).values\n",
    "del df_seismic['NWR']\n",
    "del df_seismic['GAP']\n",
    "del df_seismic['DMIN']\n",
    "del df_seismic['ERH']\n",
    "del df_seismic['ERZ']\n",
    "del df_seismic['ID']\n",
    "del df_seismic['PMom']\n",
    "del df_seismic['SMom']\n",
    "del df_seismic['yyyymmdd']\n",
    "del df_seismic['HHMM']\n",
    "del df_seismic['SSS.SS']\n",
    "del df_seismic['Lat(D']\n",
    "del df_seismic['M)']\n",
    "del df_seismic['Lon(D']\n",
    "del df_seismic['M).1']\n",
    "df_seismic.head()"
   ]
  },
  {
   "cell_type": "markdown",
   "metadata": {},
   "source": [
    "## Create new dataframe with count per day"
   ]
  },
  {
   "cell_type": "code",
   "execution_count": 30,
   "metadata": {},
   "outputs": [
    {
     "data": {
      "text/html": [
       "<div>\n",
       "<style scoped>\n",
       "    .dataframe tbody tr th:only-of-type {\n",
       "        vertical-align: middle;\n",
       "    }\n",
       "\n",
       "    .dataframe tbody tr th {\n",
       "        vertical-align: top;\n",
       "    }\n",
       "\n",
       "    .dataframe thead th {\n",
       "        text-align: right;\n",
       "    }\n",
       "</style>\n",
       "<table border=\"1\" class=\"dataframe\">\n",
       "  <thead>\n",
       "    <tr style=\"text-align: right;\">\n",
       "      <th></th>\n",
       "      <th>Depth</th>\n",
       "      <th>MW</th>\n",
       "      <th>RMS</th>\n",
       "      <th>count</th>\n",
       "    </tr>\n",
       "    <tr>\n",
       "      <th>date</th>\n",
       "      <th></th>\n",
       "      <th></th>\n",
       "      <th></th>\n",
       "      <th></th>\n",
       "    </tr>\n",
       "  </thead>\n",
       "  <tbody>\n",
       "    <tr>\n",
       "      <td>2015-05-01</td>\n",
       "      <td>1.194603</td>\n",
       "      <td>0.196984</td>\n",
       "      <td>0.045397</td>\n",
       "      <td>63.0</td>\n",
       "    </tr>\n",
       "    <tr>\n",
       "      <td>2015-05-02</td>\n",
       "      <td>1.246190</td>\n",
       "      <td>0.240714</td>\n",
       "      <td>0.049524</td>\n",
       "      <td>42.0</td>\n",
       "    </tr>\n",
       "    <tr>\n",
       "      <td>2015-05-03</td>\n",
       "      <td>0.995306</td>\n",
       "      <td>0.165510</td>\n",
       "      <td>0.040000</td>\n",
       "      <td>49.0</td>\n",
       "    </tr>\n",
       "    <tr>\n",
       "      <td>2015-05-04</td>\n",
       "      <td>1.247429</td>\n",
       "      <td>0.177143</td>\n",
       "      <td>0.047714</td>\n",
       "      <td>35.0</td>\n",
       "    </tr>\n",
       "    <tr>\n",
       "      <td>2015-05-05</td>\n",
       "      <td>1.202955</td>\n",
       "      <td>0.201364</td>\n",
       "      <td>0.057273</td>\n",
       "      <td>44.0</td>\n",
       "    </tr>\n",
       "  </tbody>\n",
       "</table>\n",
       "</div>"
      ],
      "text/plain": [
       "               Depth        MW       RMS  count\n",
       "date                                           \n",
       "2015-05-01  1.194603  0.196984  0.045397   63.0\n",
       "2015-05-02  1.246190  0.240714  0.049524   42.0\n",
       "2015-05-03  0.995306  0.165510  0.040000   49.0\n",
       "2015-05-04  1.247429  0.177143  0.047714   35.0\n",
       "2015-05-05  1.202955  0.201364  0.057273   44.0"
      ]
     },
     "execution_count": 30,
     "metadata": {},
     "output_type": "execute_result"
    }
   ],
   "source": [
    "df_eqMean=df_seismic.groupby('date').mean()\n",
    "df_eqCount= df_seismic.groupby('date').count()\n",
    "df_eqCount['count'] = df_eqCount.datetime.astype('float64').values\n",
    "df_eqMean['count'] = df_eqCount['count'].values\n",
    "df_eqMean.head()"
   ]
  },
  {
   "cell_type": "code",
   "execution_count": 31,
   "metadata": {},
   "outputs": [],
   "source": [
    "cumsum_eq = np.cumsum(df_eqMean)"
   ]
  },
  {
   "cell_type": "markdown",
   "metadata": {},
   "source": [
    "### Merge botpt and EQ Magnitude"
   ]
  },
  {
   "cell_type": "code",
   "execution_count": 38,
   "metadata": {},
   "outputs": [],
   "source": [
    "df_plot = pd.merge(df_botptMean, df_eqMean, on = 'date')\n",
    "# del df_plot['bottom_pressure_eastern']\n",
    "# del df_plot['bottom_pressure_central']\n",
    "del df_plot['spikes']\n",
    "del df_plot['cleanDiff']\n",
    "# del df_plot['Depth']\n",
    "del df_plot['RMS']\n",
    "# del df_plot['count']\n",
    "# df_botpt=pd.merge(df1,df2, on = 'Datetime')"
   ]
  },
  {
   "cell_type": "code",
   "execution_count": 39,
   "metadata": {},
   "outputs": [
    {
     "data": {
      "text/html": [
       "<div>\n",
       "<style scoped>\n",
       "    .dataframe tbody tr th:only-of-type {\n",
       "        vertical-align: middle;\n",
       "    }\n",
       "\n",
       "    .dataframe tbody tr th {\n",
       "        vertical-align: top;\n",
       "    }\n",
       "\n",
       "    .dataframe thead th {\n",
       "        text-align: right;\n",
       "    }\n",
       "</style>\n",
       "<table border=\"1\" class=\"dataframe\">\n",
       "  <thead>\n",
       "    <tr style=\"text-align: right;\">\n",
       "      <th></th>\n",
       "      <th>bottom_pressure_eastern</th>\n",
       "      <th>bottom_pressure_central</th>\n",
       "      <th>depthDiff</th>\n",
       "      <th>Depth</th>\n",
       "      <th>MW</th>\n",
       "      <th>count</th>\n",
       "    </tr>\n",
       "    <tr>\n",
       "      <th>date</th>\n",
       "      <th></th>\n",
       "      <th></th>\n",
       "      <th></th>\n",
       "      <th></th>\n",
       "      <th></th>\n",
       "      <th></th>\n",
       "    </tr>\n",
       "  </thead>\n",
       "  <tbody>\n",
       "    <tr>\n",
       "      <td>2015-05-01</td>\n",
       "      <td>2242.323730</td>\n",
       "      <td>2257.087158</td>\n",
       "      <td>-14.763514</td>\n",
       "      <td>1.194603</td>\n",
       "      <td>0.196984</td>\n",
       "      <td>63.0</td>\n",
       "    </tr>\n",
       "    <tr>\n",
       "      <td>2015-05-02</td>\n",
       "      <td>2242.330078</td>\n",
       "      <td>2257.091553</td>\n",
       "      <td>-14.761411</td>\n",
       "      <td>1.246190</td>\n",
       "      <td>0.240714</td>\n",
       "      <td>42.0</td>\n",
       "    </tr>\n",
       "    <tr>\n",
       "      <td>2015-05-03</td>\n",
       "      <td>2242.337402</td>\n",
       "      <td>2257.100586</td>\n",
       "      <td>-14.763177</td>\n",
       "      <td>0.995306</td>\n",
       "      <td>0.165510</td>\n",
       "      <td>49.0</td>\n",
       "    </tr>\n",
       "    <tr>\n",
       "      <td>2015-05-04</td>\n",
       "      <td>2242.327393</td>\n",
       "      <td>2257.088623</td>\n",
       "      <td>-14.761164</td>\n",
       "      <td>1.247429</td>\n",
       "      <td>0.177143</td>\n",
       "      <td>35.0</td>\n",
       "    </tr>\n",
       "    <tr>\n",
       "      <td>2015-05-05</td>\n",
       "      <td>2242.318604</td>\n",
       "      <td>2257.082520</td>\n",
       "      <td>-14.763873</td>\n",
       "      <td>1.202955</td>\n",
       "      <td>0.201364</td>\n",
       "      <td>44.0</td>\n",
       "    </tr>\n",
       "  </tbody>\n",
       "</table>\n",
       "</div>"
      ],
      "text/plain": [
       "            bottom_pressure_eastern  bottom_pressure_central  depthDiff  \\\n",
       "date                                                                      \n",
       "2015-05-01              2242.323730              2257.087158 -14.763514   \n",
       "2015-05-02              2242.330078              2257.091553 -14.761411   \n",
       "2015-05-03              2242.337402              2257.100586 -14.763177   \n",
       "2015-05-04              2242.327393              2257.088623 -14.761164   \n",
       "2015-05-05              2242.318604              2257.082520 -14.763873   \n",
       "\n",
       "               Depth        MW  count  \n",
       "date                                   \n",
       "2015-05-01  1.194603  0.196984   63.0  \n",
       "2015-05-02  1.246190  0.240714   42.0  \n",
       "2015-05-03  0.995306  0.165510   49.0  \n",
       "2015-05-04  1.247429  0.177143   35.0  \n",
       "2015-05-05  1.202955  0.201364   44.0  "
      ]
     },
     "execution_count": 39,
     "metadata": {},
     "output_type": "execute_result"
    }
   ],
   "source": [
    "df_plot.head()"
   ]
  },
  {
   "cell_type": "code",
   "execution_count": null,
   "metadata": {},
   "outputs": [],
   "source": []
  }
 ],
 "metadata": {
  "kernelspec": {
   "display_name": "Python 3",
   "language": "python",
   "name": "python3"
  },
  "language_info": {
   "codemirror_mode": {
    "name": "ipython",
    "version": 3
   },
   "file_extension": ".py",
   "mimetype": "text/x-python",
   "name": "python",
   "nbconvert_exporter": "python",
   "pygments_lexer": "ipython3",
   "version": "3.7.3"
  }
 },
 "nbformat": 4,
 "nbformat_minor": 4
}
