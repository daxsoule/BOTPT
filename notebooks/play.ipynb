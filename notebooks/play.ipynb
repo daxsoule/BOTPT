{
 "cells": [
  {
   "cell_type": "code",
   "execution_count": 1,
   "metadata": {},
   "outputs": [],
   "source": [
    "import pickle as pk\n",
    "import pandas as pd\n",
    "import numpy as np\n",
    "import datetime\n",
    "import matplotlib.dates as dates"
   ]
  },
  {
   "cell_type": "code",
   "execution_count": 2,
   "metadata": {},
   "outputs": [
    {
     "data": {
      "text/html": [
       "<table style=\"border: 2px solid white;\">\n",
       "<tr>\n",
       "<td style=\"vertical-align: top; border: 0px solid white\">\n",
       "<h3 style=\"text-align: left;\">Client</h3>\n",
       "<ul style=\"text-align: left; list-style: none; margin: 0; padding: 0;\">\n",
       "  <li><b>Scheduler: </b>tcp://10.0.128.15:33067</li>\n",
       "  <li><b>Dashboard: </b><a href='/user/jnatalie12/proxy/8787/status' target='_blank'>/user/jnatalie12/proxy/8787/status</a>\n",
       "</ul>\n",
       "</td>\n",
       "<td style=\"vertical-align: top; border: 0px solid white\">\n",
       "<h3 style=\"text-align: left;\">Cluster</h3>\n",
       "<ul style=\"text-align: left; list-style:none; margin: 0; padding: 0;\">\n",
       "  <li><b>Workers: </b>4</li>\n",
       "  <li><b>Cores: </b>4</li>\n",
       "  <li><b>Memory: </b>5.00 GB</li>\n",
       "</ul>\n",
       "</td>\n",
       "</tr>\n",
       "</table>"
      ],
      "text/plain": [
       "<Client: 'tcp://10.0.128.15:33067' processes=4 threads=4, memory=5.00 GB>"
      ]
     },
     "execution_count": 2,
     "metadata": {},
     "output_type": "execute_result"
    }
   ],
   "source": [
    "from dask.distributed import Client\n",
    "\n",
    "client = Client(\"tcp://10.0.128.15:33067\")\n",
    "client"
   ]
  },
  {
   "cell_type": "code",
   "execution_count": 3,
   "metadata": {},
   "outputs": [
    {
     "data": {
      "text/html": [
       "<div>\n",
       "<style scoped>\n",
       "    .dataframe tbody tr th:only-of-type {\n",
       "        vertical-align: middle;\n",
       "    }\n",
       "\n",
       "    .dataframe tbody tr th {\n",
       "        vertical-align: top;\n",
       "    }\n",
       "\n",
       "    .dataframe thead th {\n",
       "        text-align: right;\n",
       "    }\n",
       "</style>\n",
       "<table border=\"1\" class=\"dataframe\">\n",
       "  <thead>\n",
       "    <tr style=\"text-align: right;\">\n",
       "      <th></th>\n",
       "      <th>depth</th>\n",
       "    </tr>\n",
       "    <tr>\n",
       "      <th>Date</th>\n",
       "      <th></th>\n",
       "    </tr>\n",
       "  </thead>\n",
       "  <tbody>\n",
       "    <tr>\n",
       "      <td>2019-06-27 23:58:45</td>\n",
       "      <td>1510.264895</td>\n",
       "    </tr>\n",
       "    <tr>\n",
       "      <td>2019-06-27 23:59:00</td>\n",
       "      <td>1510.266367</td>\n",
       "    </tr>\n",
       "    <tr>\n",
       "      <td>2019-06-27 23:59:15</td>\n",
       "      <td>1510.267839</td>\n",
       "    </tr>\n",
       "    <tr>\n",
       "      <td>2019-06-27 23:59:30</td>\n",
       "      <td>1510.268494</td>\n",
       "    </tr>\n",
       "    <tr>\n",
       "      <td>2019-06-27 23:59:45</td>\n",
       "      <td>1510.269148</td>\n",
       "    </tr>\n",
       "  </tbody>\n",
       "</table>\n",
       "</div>"
      ],
      "text/plain": [
       "                           depth\n",
       "Date                            \n",
       "2019-06-27 23:58:45  1510.264895\n",
       "2019-06-27 23:59:00  1510.266367\n",
       "2019-06-27 23:59:15  1510.267839\n",
       "2019-06-27 23:59:30  1510.268494\n",
       "2019-06-27 23:59:45  1510.269148"
      ]
     },
     "execution_count": 3,
     "metadata": {},
     "output_type": "execute_result"
    }
   ],
   "source": [
    "with open('/home/jovyan/data/botpt/2019bottom_pressure15s_F.pkl', 'rb') as E:\n",
    "    botpt_data = pk.load(E)\n",
    "df_botptF = pd.DataFrame(botpt_data)\n",
    "df_botptF['bottom_pressure'] = df_botptF['bottom_pressure'].astype(float)\n",
    "df_botptF['depth']=df_botptF['bottom_pressure'].astype(float) * 0.670\n",
    "#MJ03F_cal_depths = [MJ03F_pressure * 0.0670 for MJ03F_pressure in MJ03F_pressure]\n",
    "#list comprehention\n",
    "epoch= [i.timestamp() for i in df_botptF.index.to_pydatetime()]\n",
    "df_botptF['epoch'] = epoch\n",
    "df_botptF= df_botptF.sort_index()\n",
    "df_botptF.index.name= 'Date'\n",
    "del df_botptF['epoch']\n",
    "del df_botptF['bottom_pressure']\n",
    "df_botptF.tail()"
   ]
  },
  {
   "cell_type": "code",
   "execution_count": 4,
   "metadata": {},
   "outputs": [],
   "source": [
    "# df_botptF.loc['2018-02-17']"
   ]
  },
  {
   "cell_type": "code",
   "execution_count": 5,
   "metadata": {},
   "outputs": [
    {
     "data": {
      "text/html": [
       "<div>\n",
       "<style scoped>\n",
       "    .dataframe tbody tr th:only-of-type {\n",
       "        vertical-align: middle;\n",
       "    }\n",
       "\n",
       "    .dataframe tbody tr th {\n",
       "        vertical-align: top;\n",
       "    }\n",
       "\n",
       "    .dataframe thead th {\n",
       "        text-align: right;\n",
       "    }\n",
       "</style>\n",
       "<table border=\"1\" class=\"dataframe\">\n",
       "  <thead>\n",
       "    <tr style=\"text-align: right;\">\n",
       "      <th></th>\n",
       "      <th>depth</th>\n",
       "    </tr>\n",
       "    <tr>\n",
       "      <th>Date</th>\n",
       "      <th></th>\n",
       "    </tr>\n",
       "  </thead>\n",
       "  <tbody>\n",
       "    <tr>\n",
       "      <td>2017-01-01 00:00:00</td>\n",
       "      <td>1502.244033</td>\n",
       "    </tr>\n",
       "    <tr>\n",
       "      <td>2017-01-01 00:00:15</td>\n",
       "      <td>1502.242725</td>\n",
       "    </tr>\n",
       "    <tr>\n",
       "      <td>2017-01-01 00:00:30</td>\n",
       "      <td>1502.239944</td>\n",
       "    </tr>\n",
       "    <tr>\n",
       "      <td>2017-01-01 00:00:45</td>\n",
       "      <td>1502.237327</td>\n",
       "    </tr>\n",
       "    <tr>\n",
       "      <td>2017-01-01 00:01:00</td>\n",
       "      <td>1502.235200</td>\n",
       "    </tr>\n",
       "  </tbody>\n",
       "</table>\n",
       "</div>"
      ],
      "text/plain": [
       "                           depth\n",
       "Date                            \n",
       "2017-01-01 00:00:00  1502.244033\n",
       "2017-01-01 00:00:15  1502.242725\n",
       "2017-01-01 00:00:30  1502.239944\n",
       "2017-01-01 00:00:45  1502.237327\n",
       "2017-01-01 00:01:00  1502.235200"
      ]
     },
     "execution_count": 5,
     "metadata": {},
     "output_type": "execute_result"
    }
   ],
   "source": [
    "with open('/home/jovyan/data/botpt/2019bottom_pressure15s_E.pkl', 'rb') as E:\n",
    "    botpt_data = pk.load(E)\n",
    "df_botptE = pd.DataFrame(botpt_data)\n",
    "df_botptE['bottom_pressure'] = df_botptE['bottom_pressure'].astype(float)\n",
    "df_botptE['depth']=df_botptE['bottom_pressure'].astype(float) * 0.670\n",
    "#MJ03F_cal_depths = [MJ03F_pressure * 0.0670 for MJ03F_pressure in MJ03F_pressure]\n",
    "#list comprehention\n",
    "epoch= [i.timestamp() for i in df_botptE.index.to_pydatetime()]\n",
    "df_botptE['epoch'] = epoch\n",
    "df_botptE= df_botptE.sort_index()\n",
    "df_botptE.index.name= 'Date'\n",
    "del df_botptE['epoch']\n",
    "del df_botptE['bottom_pressure']\n",
    "df_botptE.head()"
   ]
  },
  {
   "cell_type": "markdown",
   "metadata": {},
   "source": [
    "#### Merge BOTPT E and BOTPT F "
   ]
  },
  {
   "cell_type": "code",
   "execution_count": 6,
   "metadata": {},
   "outputs": [],
   "source": [
    "test = pd.merge(df_botptF, df_botptE,how='outer', indicator=True, left_index=True, right_index=True, suffixes=('_F', '_E'))"
   ]
  },
  {
   "cell_type": "code",
   "execution_count": 7,
   "metadata": {},
   "outputs": [],
   "source": [
    "df_botptMerge = test[test['_merge'] == 'both']\n",
    "del df_botptMerge['_merge']"
   ]
  },
  {
   "cell_type": "code",
   "execution_count": 8,
   "metadata": {},
   "outputs": [],
   "source": [
    "df_botptMerge = df_botptMerge.loc['2017-1-1 00:00:00':'2017-01-30 00:00:00']"
   ]
  },
  {
   "cell_type": "code",
   "execution_count": 9,
   "metadata": {},
   "outputs": [
    {
     "data": {
      "text/html": [
       "<div>\n",
       "<style scoped>\n",
       "    .dataframe tbody tr th:only-of-type {\n",
       "        vertical-align: middle;\n",
       "    }\n",
       "\n",
       "    .dataframe tbody tr th {\n",
       "        vertical-align: top;\n",
       "    }\n",
       "\n",
       "    .dataframe thead th {\n",
       "        text-align: right;\n",
       "    }\n",
       "</style>\n",
       "<table border=\"1\" class=\"dataframe\">\n",
       "  <thead>\n",
       "    <tr style=\"text-align: right;\">\n",
       "      <th></th>\n",
       "      <th>depth_F</th>\n",
       "      <th>depth_E</th>\n",
       "    </tr>\n",
       "    <tr>\n",
       "      <th>Date</th>\n",
       "      <th></th>\n",
       "      <th></th>\n",
       "    </tr>\n",
       "  </thead>\n",
       "  <tbody>\n",
       "    <tr>\n",
       "      <td>2017-01-01 00:00:00</td>\n",
       "      <td>1511.468474</td>\n",
       "      <td>1502.244033</td>\n",
       "    </tr>\n",
       "    <tr>\n",
       "      <td>2017-01-01 00:00:15</td>\n",
       "      <td>1511.466184</td>\n",
       "      <td>1502.242725</td>\n",
       "    </tr>\n",
       "    <tr>\n",
       "      <td>2017-01-01 00:00:30</td>\n",
       "      <td>1511.464875</td>\n",
       "      <td>1502.239944</td>\n",
       "    </tr>\n",
       "    <tr>\n",
       "      <td>2017-01-01 00:00:45</td>\n",
       "      <td>1511.463894</td>\n",
       "      <td>1502.237327</td>\n",
       "    </tr>\n",
       "    <tr>\n",
       "      <td>2017-01-01 00:01:00</td>\n",
       "      <td>1511.460786</td>\n",
       "      <td>1502.235200</td>\n",
       "    </tr>\n",
       "    <tr>\n",
       "      <td>...</td>\n",
       "      <td>...</td>\n",
       "      <td>...</td>\n",
       "    </tr>\n",
       "    <tr>\n",
       "      <td>2017-01-29 23:59:00</td>\n",
       "      <td>1511.284126</td>\n",
       "      <td>1502.078496</td>\n",
       "    </tr>\n",
       "    <tr>\n",
       "      <td>2017-01-29 23:59:15</td>\n",
       "      <td>1511.282000</td>\n",
       "      <td>1502.078169</td>\n",
       "    </tr>\n",
       "    <tr>\n",
       "      <td>2017-01-29 23:59:30</td>\n",
       "      <td>1511.276765</td>\n",
       "      <td>1502.074734</td>\n",
       "    </tr>\n",
       "    <tr>\n",
       "      <td>2017-01-29 23:59:45</td>\n",
       "      <td>1511.274639</td>\n",
       "      <td>1502.068518</td>\n",
       "    </tr>\n",
       "    <tr>\n",
       "      <td>2017-01-30 00:00:00</td>\n",
       "      <td>1511.274966</td>\n",
       "      <td>1502.063611</td>\n",
       "    </tr>\n",
       "  </tbody>\n",
       "</table>\n",
       "<p>164082 rows × 2 columns</p>\n",
       "</div>"
      ],
      "text/plain": [
       "                         depth_F      depth_E\n",
       "Date                                         \n",
       "2017-01-01 00:00:00  1511.468474  1502.244033\n",
       "2017-01-01 00:00:15  1511.466184  1502.242725\n",
       "2017-01-01 00:00:30  1511.464875  1502.239944\n",
       "2017-01-01 00:00:45  1511.463894  1502.237327\n",
       "2017-01-01 00:01:00  1511.460786  1502.235200\n",
       "...                          ...          ...\n",
       "2017-01-29 23:59:00  1511.284126  1502.078496\n",
       "2017-01-29 23:59:15  1511.282000  1502.078169\n",
       "2017-01-29 23:59:30  1511.276765  1502.074734\n",
       "2017-01-29 23:59:45  1511.274639  1502.068518\n",
       "2017-01-30 00:00:00  1511.274966  1502.063611\n",
       "\n",
       "[164082 rows x 2 columns]"
      ]
     },
     "execution_count": 9,
     "metadata": {},
     "output_type": "execute_result"
    }
   ],
   "source": [
    "df_botptMerge"
   ]
  },
  {
   "cell_type": "markdown",
   "metadata": {},
   "source": [
    "#### Calculate Depth difference "
   ]
  },
  {
   "cell_type": "code",
   "execution_count": 10,
   "metadata": {},
   "outputs": [],
   "source": [
    "depthDiff = df_botptMerge['depth_E'].values - df_botptMerge['depth_F'].values"
   ]
  },
  {
   "cell_type": "code",
   "execution_count": 11,
   "metadata": {},
   "outputs": [
    {
     "data": {
      "text/plain": [
       "array([-9.22444092, -9.22345947, -9.22493164, ..., -9.20203125,\n",
       "       -9.20612061, -9.21135498])"
      ]
     },
     "execution_count": 11,
     "metadata": {},
     "output_type": "execute_result"
    }
   ],
   "source": [
    "depthDiff"
   ]
  },
  {
   "cell_type": "code",
   "execution_count": 12,
   "metadata": {},
   "outputs": [],
   "source": [
    "# depthDiff = df_botptMerge['diff'].abs()\n",
    "# depthDiff = df_botptMerge['diff'].abs()\n",
    "# df_botptMerge['diff'] = depthDiff.abs()"
   ]
  },
  {
   "cell_type": "code",
   "execution_count": 13,
   "metadata": {},
   "outputs": [],
   "source": [
    "df_botptMerge['diff'] = depthDiff\n",
    "# df_botptMerge['diff'] = abs(depthDiff)"
   ]
  },
  {
   "cell_type": "code",
   "execution_count": 14,
   "metadata": {},
   "outputs": [
    {
     "data": {
      "text/plain": [
       "Date\n",
       "2017-01-01 00:00:00   -9.224441\n",
       "2017-01-01 00:00:15   -9.223459\n",
       "2017-01-01 00:00:30   -9.224932\n",
       "2017-01-01 00:00:45   -9.226567\n",
       "2017-01-01 00:01:00   -9.225586\n",
       "                         ...   \n",
       "2017-01-29 23:59:00   -9.205630\n",
       "2017-01-29 23:59:15   -9.203831\n",
       "2017-01-29 23:59:30   -9.202031\n",
       "2017-01-29 23:59:45   -9.206121\n",
       "2017-01-30 00:00:00   -9.211355\n",
       "Name: diff, Length: 164082, dtype: float64"
      ]
     },
     "execution_count": 14,
     "metadata": {},
     "output_type": "execute_result"
    }
   ],
   "source": [
    "df_botptMerge['diff']"
   ]
  },
  {
   "cell_type": "code",
   "execution_count": 15,
   "metadata": {},
   "outputs": [],
   "source": [
    "depthDiff = df_botptMerge['diff'].abs()"
   ]
  },
  {
   "cell_type": "code",
   "execution_count": 16,
   "metadata": {},
   "outputs": [
    {
     "data": {
      "text/plain": [
       "Date\n",
       "2017-01-01 00:00:00    9.224441\n",
       "2017-01-01 00:00:15    9.223459\n",
       "2017-01-01 00:00:30    9.224932\n",
       "2017-01-01 00:00:45    9.226567\n",
       "2017-01-01 00:01:00    9.225586\n",
       "                         ...   \n",
       "2017-01-29 23:59:00    9.205630\n",
       "2017-01-29 23:59:15    9.203831\n",
       "2017-01-29 23:59:30    9.202031\n",
       "2017-01-29 23:59:45    9.206121\n",
       "2017-01-30 00:00:00    9.211355\n",
       "Name: diff, Length: 164082, dtype: float64"
      ]
     },
     "execution_count": 16,
     "metadata": {},
     "output_type": "execute_result"
    }
   ],
   "source": [
    "depthDiff"
   ]
  },
  {
   "cell_type": "code",
   "execution_count": 17,
   "metadata": {},
   "outputs": [],
   "source": [
    "df_botptMerge['diff'] = depthDiff"
   ]
  },
  {
   "cell_type": "markdown",
   "metadata": {},
   "source": [
    "#### Create time and height vectors for plotting "
   ]
  },
  {
   "cell_type": "code",
   "execution_count": 18,
   "metadata": {},
   "outputs": [],
   "source": [
    "# time = list(df_botptMerge.index.values)\n",
    "#height = x.tolist()\n",
    "height = df_botptMerge['diff'].tolist()\n",
    "time_int = []\n",
    "time = list(pd.to_datetime(df_botptMerge.index.values))\n",
    "for i in time:\n",
    "    i = np.datetime64(i).astype(datetime.datetime)\n",
    "    time_int.append(dates.date2num(i))"
   ]
  },
  {
   "cell_type": "markdown",
   "metadata": {},
   "source": [
    "#### Use Groupby to create one day mean measurements"
   ]
  },
  {
   "cell_type": "code",
   "execution_count": 19,
   "metadata": {},
   "outputs": [
    {
     "data": {
      "text/html": [
       "<div>\n",
       "<style scoped>\n",
       "    .dataframe tbody tr th:only-of-type {\n",
       "        vertical-align: middle;\n",
       "    }\n",
       "\n",
       "    .dataframe tbody tr th {\n",
       "        vertical-align: top;\n",
       "    }\n",
       "\n",
       "    .dataframe thead th {\n",
       "        text-align: right;\n",
       "    }\n",
       "</style>\n",
       "<table border=\"1\" class=\"dataframe\">\n",
       "  <thead>\n",
       "    <tr style=\"text-align: right;\">\n",
       "      <th></th>\n",
       "      <th>depth_F</th>\n",
       "      <th>depth_E</th>\n",
       "      <th>diff</th>\n",
       "      <th>date</th>\n",
       "    </tr>\n",
       "    <tr>\n",
       "      <th>Date</th>\n",
       "      <th></th>\n",
       "      <th></th>\n",
       "      <th></th>\n",
       "      <th></th>\n",
       "    </tr>\n",
       "  </thead>\n",
       "  <tbody>\n",
       "    <tr>\n",
       "      <td>2017-01-01 00:00:00</td>\n",
       "      <td>1511.468474</td>\n",
       "      <td>1502.244033</td>\n",
       "      <td>9.224441</td>\n",
       "      <td>2017-01-01</td>\n",
       "    </tr>\n",
       "    <tr>\n",
       "      <td>2017-01-01 00:00:15</td>\n",
       "      <td>1511.466184</td>\n",
       "      <td>1502.242725</td>\n",
       "      <td>9.223459</td>\n",
       "      <td>2017-01-01</td>\n",
       "    </tr>\n",
       "    <tr>\n",
       "      <td>2017-01-01 00:00:30</td>\n",
       "      <td>1511.464875</td>\n",
       "      <td>1502.239944</td>\n",
       "      <td>9.224932</td>\n",
       "      <td>2017-01-01</td>\n",
       "    </tr>\n",
       "    <tr>\n",
       "      <td>2017-01-01 00:00:45</td>\n",
       "      <td>1511.463894</td>\n",
       "      <td>1502.237327</td>\n",
       "      <td>9.226567</td>\n",
       "      <td>2017-01-01</td>\n",
       "    </tr>\n",
       "    <tr>\n",
       "      <td>2017-01-01 00:01:00</td>\n",
       "      <td>1511.460786</td>\n",
       "      <td>1502.235200</td>\n",
       "      <td>9.225586</td>\n",
       "      <td>2017-01-01</td>\n",
       "    </tr>\n",
       "    <tr>\n",
       "      <td>...</td>\n",
       "      <td>...</td>\n",
       "      <td>...</td>\n",
       "      <td>...</td>\n",
       "      <td>...</td>\n",
       "    </tr>\n",
       "    <tr>\n",
       "      <td>2017-01-29 23:59:00</td>\n",
       "      <td>1511.284126</td>\n",
       "      <td>1502.078496</td>\n",
       "      <td>9.205630</td>\n",
       "      <td>2017-01-29</td>\n",
       "    </tr>\n",
       "    <tr>\n",
       "      <td>2017-01-29 23:59:15</td>\n",
       "      <td>1511.282000</td>\n",
       "      <td>1502.078169</td>\n",
       "      <td>9.203831</td>\n",
       "      <td>2017-01-29</td>\n",
       "    </tr>\n",
       "    <tr>\n",
       "      <td>2017-01-29 23:59:30</td>\n",
       "      <td>1511.276765</td>\n",
       "      <td>1502.074734</td>\n",
       "      <td>9.202031</td>\n",
       "      <td>2017-01-29</td>\n",
       "    </tr>\n",
       "    <tr>\n",
       "      <td>2017-01-29 23:59:45</td>\n",
       "      <td>1511.274639</td>\n",
       "      <td>1502.068518</td>\n",
       "      <td>9.206121</td>\n",
       "      <td>2017-01-29</td>\n",
       "    </tr>\n",
       "    <tr>\n",
       "      <td>2017-01-30 00:00:00</td>\n",
       "      <td>1511.274966</td>\n",
       "      <td>1502.063611</td>\n",
       "      <td>9.211355</td>\n",
       "      <td>2017-01-30</td>\n",
       "    </tr>\n",
       "  </tbody>\n",
       "</table>\n",
       "<p>164082 rows × 4 columns</p>\n",
       "</div>"
      ],
      "text/plain": [
       "                         depth_F      depth_E      diff        date\n",
       "Date                                                               \n",
       "2017-01-01 00:00:00  1511.468474  1502.244033  9.224441  2017-01-01\n",
       "2017-01-01 00:00:15  1511.466184  1502.242725  9.223459  2017-01-01\n",
       "2017-01-01 00:00:30  1511.464875  1502.239944  9.224932  2017-01-01\n",
       "2017-01-01 00:00:45  1511.463894  1502.237327  9.226567  2017-01-01\n",
       "2017-01-01 00:01:00  1511.460786  1502.235200  9.225586  2017-01-01\n",
       "...                          ...          ...       ...         ...\n",
       "2017-01-29 23:59:00  1511.284126  1502.078496  9.205630  2017-01-29\n",
       "2017-01-29 23:59:15  1511.282000  1502.078169  9.203831  2017-01-29\n",
       "2017-01-29 23:59:30  1511.276765  1502.074734  9.202031  2017-01-29\n",
       "2017-01-29 23:59:45  1511.274639  1502.068518  9.206121  2017-01-29\n",
       "2017-01-30 00:00:00  1511.274966  1502.063611  9.211355  2017-01-30\n",
       "\n",
       "[164082 rows x 4 columns]"
      ]
     },
     "execution_count": 19,
     "metadata": {},
     "output_type": "execute_result"
    }
   ],
   "source": [
    "df_botptMerge['date']=pd.DatetimeIndex(df_botptMerge.index).date\n",
    "df_botptMerge"
   ]
  },
  {
   "cell_type": "code",
   "execution_count": 20,
   "metadata": {},
   "outputs": [
    {
     "data": {
      "text/html": [
       "<div>\n",
       "<style scoped>\n",
       "    .dataframe tbody tr th:only-of-type {\n",
       "        vertical-align: middle;\n",
       "    }\n",
       "\n",
       "    .dataframe tbody tr th {\n",
       "        vertical-align: top;\n",
       "    }\n",
       "\n",
       "    .dataframe thead th {\n",
       "        text-align: right;\n",
       "    }\n",
       "</style>\n",
       "<table border=\"1\" class=\"dataframe\">\n",
       "  <thead>\n",
       "    <tr style=\"text-align: right;\">\n",
       "      <th></th>\n",
       "      <th>depth_F</th>\n",
       "      <th>depth_E</th>\n",
       "      <th>diff</th>\n",
       "    </tr>\n",
       "    <tr>\n",
       "      <th>date</th>\n",
       "      <th></th>\n",
       "      <th></th>\n",
       "      <th></th>\n",
       "    </tr>\n",
       "  </thead>\n",
       "  <tbody>\n",
       "    <tr>\n",
       "      <td>2017-01-26</td>\n",
       "      <td>1511.208026</td>\n",
       "      <td>1502.003687</td>\n",
       "      <td>9.204338</td>\n",
       "    </tr>\n",
       "    <tr>\n",
       "      <td>2017-01-27</td>\n",
       "      <td>1511.205536</td>\n",
       "      <td>1502.000957</td>\n",
       "      <td>9.204579</td>\n",
       "    </tr>\n",
       "    <tr>\n",
       "      <td>2017-01-28</td>\n",
       "      <td>1511.187789</td>\n",
       "      <td>1501.983254</td>\n",
       "      <td>9.204535</td>\n",
       "    </tr>\n",
       "    <tr>\n",
       "      <td>2017-01-29</td>\n",
       "      <td>1511.163922</td>\n",
       "      <td>1501.960365</td>\n",
       "      <td>9.203557</td>\n",
       "    </tr>\n",
       "    <tr>\n",
       "      <td>2017-01-30</td>\n",
       "      <td>1511.274966</td>\n",
       "      <td>1502.063611</td>\n",
       "      <td>9.211355</td>\n",
       "    </tr>\n",
       "  </tbody>\n",
       "</table>\n",
       "</div>"
      ],
      "text/plain": [
       "                depth_F      depth_E      diff\n",
       "date                                          \n",
       "2017-01-26  1511.208026  1502.003687  9.204338\n",
       "2017-01-27  1511.205536  1502.000957  9.204579\n",
       "2017-01-28  1511.187789  1501.983254  9.204535\n",
       "2017-01-29  1511.163922  1501.960365  9.203557\n",
       "2017-01-30  1511.274966  1502.063611  9.211355"
      ]
     },
     "execution_count": 20,
     "metadata": {},
     "output_type": "execute_result"
    }
   ],
   "source": [
    "df_botptMean=df_botptMerge.groupby('date').mean()\n",
    "df_botptMean.tail()"
   ]
  },
  {
   "cell_type": "code",
   "execution_count": 21,
   "metadata": {},
   "outputs": [
    {
     "name": "stdout",
     "output_type": "stream",
     "text": [
      "0\n",
      "[-0.00141094]\n",
      "[-0.00094132]\n",
      "[-0.00232943]\n",
      "[-0.00357699]\n",
      "[-0.00261367]\n",
      "[-0.00379248]\n",
      "[-0.00394398]\n",
      "[0.02960332]\n",
      "[-0.03409383]\n",
      "[-0.03650786]\n",
      "[-0.03760713]\n",
      "[-0.03810563]\n",
      "[-0.03861902]\n",
      "[-0.03862526]\n",
      "[-0.04048064]\n",
      "[-0.03986826]\n",
      "[-0.04200049]\n",
      "[-0.0418256]\n",
      "[-0.04234485]\n",
      "[-0.04216676]\n",
      "[-0.04535444]\n",
      "[-0.04508591]\n",
      "[-0.04426784]\n",
      "[-0.04601385]\n",
      "[-0.04721646]\n",
      "[-0.04697547]\n",
      "[-0.04701975]\n",
      "[-0.04799801]\n",
      "[-0.04019984]\n"
     ]
    }
   ],
   "source": [
    "# q= df_botptMean['diff'].values\n",
    "# q[0:3]\n",
    "# pd.DataFrame({\"A\": [1, 2], \"B\": [3, 4]}).to_numpy()\n",
    "test = pd.DataFrame(df_botptMean['diff']).to_numpy()\n",
    "\n",
    "for i in range(len(test)):\n",
    "    if i==0:\n",
    "        #diff_max=test[0]\n",
    "        print(0)\n",
    "    else:\n",
    "        diff_max = max(test[:i])\n",
    "        print(test[i]-diff_max)"
   ]
  },
  {
   "cell_type": "code",
   "execution_count": 22,
   "metadata": {},
   "outputs": [],
   "source": [
    "# test = pd.DataFrame(df_botptMean['diff']).to_numpy()\n",
    "\n",
    "# d={}\n",
    "# for i in range(len(test)):\n",
    "#     if i==0:\n",
    "#         #diff_max=test[0]\n",
    "#         print(0)\n",
    "#     else:\n",
    "#         diff_max = max(test[:i])\n",
    "#         print(test[i]-diff_max)"
   ]
  },
  {
   "cell_type": "code",
   "execution_count": 36,
   "metadata": {},
   "outputs": [
    {
     "name": "stdout",
     "output_type": "stream",
     "text": [
      "0\n",
      "[-0.00141094]\n",
      "[-0.00094132]\n",
      "[-0.00232943]\n",
      "[-0.00357699]\n",
      "[-0.00261367]\n",
      "[-0.00379248]\n",
      "[-0.00394398]\n",
      "[0.02960332]\n",
      "[-0.03409383]\n",
      "[-0.03650786]\n",
      "[-0.03760713]\n",
      "[-0.03810563]\n",
      "[-0.03861902]\n",
      "[-0.03862526]\n",
      "[-0.04048064]\n",
      "[-0.03986826]\n",
      "[-0.04200049]\n",
      "[-0.0418256]\n",
      "[-0.04234485]\n",
      "[-0.04216676]\n",
      "[-0.04535444]\n",
      "[-0.04508591]\n",
      "[-0.04426784]\n",
      "[-0.04601385]\n",
      "[-0.04721646]\n",
      "[-0.04697547]\n",
      "[-0.04701975]\n",
      "[-0.04799801]\n",
      "[-0.04019984]\n"
     ]
    }
   ],
   "source": [
    "test = pd.DataFrame(df_botptMean['diff']).to_numpy()\n",
    "\n",
    "for i in range(len(test)):\n",
    "    if i==0:\n",
    "        #diff_max=test[0]\n",
    "        print(0)\n",
    "    else:\n",
    "        diff_max = max(test[:i])\n",
    "        daily_diff = (test[i]-diff_max)\n",
    "        print(daily_diff)"
   ]
  },
  {
   "cell_type": "code",
   "execution_count": 38,
   "metadata": {},
   "outputs": [
    {
     "data": {
      "text/plain": [
       "array([-0.04019984])"
      ]
     },
     "execution_count": 38,
     "metadata": {},
     "output_type": "execute_result"
    }
   ],
   "source": [
    "daily_diff"
   ]
  },
  {
   "cell_type": "code",
   "execution_count": 30,
   "metadata": {},
   "outputs": [],
   "source": [
    "df_diff = pd.DataFrame(daily_diff)"
   ]
  },
  {
   "cell_type": "code",
   "execution_count": 32,
   "metadata": {},
   "outputs": [
    {
     "data": {
      "text/html": [
       "<div>\n",
       "<style scoped>\n",
       "    .dataframe tbody tr th:only-of-type {\n",
       "        vertical-align: middle;\n",
       "    }\n",
       "\n",
       "    .dataframe tbody tr th {\n",
       "        vertical-align: top;\n",
       "    }\n",
       "\n",
       "    .dataframe thead th {\n",
       "        text-align: right;\n",
       "    }\n",
       "</style>\n",
       "<table border=\"1\" class=\"dataframe\">\n",
       "  <thead>\n",
       "    <tr style=\"text-align: right;\">\n",
       "      <th></th>\n",
       "      <th>0</th>\n",
       "    </tr>\n",
       "  </thead>\n",
       "  <tbody>\n",
       "    <tr>\n",
       "      <td>0</td>\n",
       "      <td>-0.0402</td>\n",
       "    </tr>\n",
       "  </tbody>\n",
       "</table>\n",
       "</div>"
      ],
      "text/plain": [
       "        0\n",
       "0 -0.0402"
      ]
     },
     "execution_count": 32,
     "metadata": {},
     "output_type": "execute_result"
    }
   ],
   "source": [
    "df_diff.head()"
   ]
  },
  {
   "cell_type": "code",
   "execution_count": 98,
   "metadata": {},
   "outputs": [
    {
     "data": {
      "text/plain": [
       "<matplotlib.axes._subplots.AxesSubplot at 0x7f8e18373cf8>"
      ]
     },
     "execution_count": 98,
     "metadata": {},
     "output_type": "execute_result"
    },
    {
     "data": {
      "image/png": "[encoded data removed]",
      "text/plain": [
       "<Figure size 432x288 with 1 Axes>"
      ]
     },
     "metadata": {
      "needs_background": "light"
     },
     "output_type": "display_data"
    }
   ],
   "source": [
    "df_botptMean['diff'].plot()\n",
    "# plt.setp(ax.xaxis.get_majorticklabels(), rotation=90)"
   ]
  },
  {
   "cell_type": "code",
   "execution_count": null,
   "metadata": {},
   "outputs": [],
   "source": [
    "df_botptMean['daily_diff'] = df_botptMean['diff'] "
   ]
  },
  {
   "cell_type": "code",
   "execution_count": null,
   "metadata": {},
   "outputs": [],
   "source": [
    "import pickle\n",
    "\n",
    "\n",
    "with open('/jovyan/data/botpt/2019bottom_pressure15s_E.pkl, 'rb') as f:\n",
    "    botpt_E = pickle.load(f)"
   ]
  },
  {
   "cell_type": "code",
   "execution_count": null,
   "metadata": {},
   "outputs": [],
   "source": [
    "botpt_E"
   ]
  },
  {
   "cell_type": "code",
   "execution_count": null,
   "metadata": {},
   "outputs": [],
   "source": [
    "with open('2019bottom_pressure15s_F.pkl', 'rb') as f:\n",
    "    botpt_F = pickle.load(f)"
   ]
  },
  {
   "cell_type": "code",
   "execution_count": null,
   "metadata": {},
   "outputs": [],
   "source": [
    "botpt_F.iloc[1, 10]"
   ]
  },
  {
   "cell_type": "code",
   "execution_count": null,
   "metadata": {},
   "outputs": [],
   "source": [
    "botpt_F[1, 10]"
   ]
  },
  {
   "cell_type": "code",
   "execution_count": null,
   "metadata": {},
   "outputs": [],
   "source": []
  },
  {
   "cell_type": "code",
   "execution_count": null,
   "metadata": {},
   "outputs": [],
   "source": []
  },
  {
   "cell_type": "code",
   "execution_count": null,
   "metadata": {},
   "outputs": [],
   "source": []
  }
 ],
 "metadata": {
  "kernelspec": {
   "display_name": "Python 3",
   "language": "python",
   "name": "python3"
  },
  "language_info": {
   "codemirror_mode": {
    "name": "ipython",
    "version": 3
   },
   "file_extension": ".py",
   "mimetype": "text/x-python",
   "name": "python",
   "nbconvert_exporter": "python",
   "pygments_lexer": "ipython3",
   "version": "3.7.3"
  }
 },
 "nbformat": 4,
 "nbformat_minor": 4
}
