{
 "cells": [
  {
   "cell_type": "code",
   "execution_count": 1,
   "metadata": {},
   "outputs": [],
   "source": [
    "import pickle as pk\n",
    "import pandas as pd\n",
    "import numpy as np\n",
    "import datetime\n",
    "import matplotlib.dates as dates"
   ]
  },
  {
   "cell_type": "code",
   "execution_count": 2,
   "metadata": {},
   "outputs": [
    {
     "data": {
      "text/html": [
       "<div>\n",
       "<style scoped>\n",
       "    .dataframe tbody tr th:only-of-type {\n",
       "        vertical-align: middle;\n",
       "    }\n",
       "\n",
       "    .dataframe tbody tr th {\n",
       "        vertical-align: top;\n",
       "    }\n",
       "\n",
       "    .dataframe thead th {\n",
       "        text-align: right;\n",
       "    }\n",
       "</style>\n",
       "<table border=\"1\" class=\"dataframe\">\n",
       "  <thead>\n",
       "    <tr style=\"text-align: right;\">\n",
       "      <th></th>\n",
       "      <th>depth</th>\n",
       "    </tr>\n",
       "    <tr>\n",
       "      <th>Date</th>\n",
       "      <th></th>\n",
       "    </tr>\n",
       "  </thead>\n",
       "  <tbody>\n",
       "    <tr>\n",
       "      <td>2019-06-27 23:58:45</td>\n",
       "      <td>1510.264895</td>\n",
       "    </tr>\n",
       "    <tr>\n",
       "      <td>2019-06-27 23:59:00</td>\n",
       "      <td>1510.266367</td>\n",
       "    </tr>\n",
       "    <tr>\n",
       "      <td>2019-06-27 23:59:15</td>\n",
       "      <td>1510.267839</td>\n",
       "    </tr>\n",
       "    <tr>\n",
       "      <td>2019-06-27 23:59:30</td>\n",
       "      <td>1510.268494</td>\n",
       "    </tr>\n",
       "    <tr>\n",
       "      <td>2019-06-27 23:59:45</td>\n",
       "      <td>1510.269148</td>\n",
       "    </tr>\n",
       "  </tbody>\n",
       "</table>\n",
       "</div>"
      ],
      "text/plain": [
       "                           depth\n",
       "Date                            \n",
       "2019-06-27 23:58:45  1510.264895\n",
       "2019-06-27 23:59:00  1510.266367\n",
       "2019-06-27 23:59:15  1510.267839\n",
       "2019-06-27 23:59:30  1510.268494\n",
       "2019-06-27 23:59:45  1510.269148"
      ]
     },
     "execution_count": 2,
     "metadata": {},
     "output_type": "execute_result"
    }
   ],
   "source": [
    "with open('/home/jovyan/data/botpt/2019bottom_pressure15s_F.pkl', 'rb') as E:\n",
    "    botpt_data = pk.load(E)\n",
    "df_botptF = pd.DataFrame(botpt_data)\n",
    "df_botptF['bottom_pressure'] = df_botptF['bottom_pressure'].astype(float)\n",
    "df_botptF['depth']=df_botptF['bottom_pressure'].astype(float) * 0.670\n",
    "#MJ03F_cal_depths = [MJ03F_pressure * 0.0670 for MJ03F_pressure in MJ03F_pressure]\n",
    "#list comprehention\n",
    "epoch= [i.timestamp() for i in df_botptF.index.to_pydatetime()]\n",
    "df_botptF['epoch'] = epoch\n",
    "df_botptF= df_botptF.sort_index()\n",
    "df_botptF.index.name= 'Date'\n",
    "del df_botptF['epoch']\n",
    "del df_botptF['bottom_pressure']\n",
    "df_botptF.tail()"
   ]
  },
  {
   "cell_type": "code",
   "execution_count": 3,
   "metadata": {},
   "outputs": [
    {
     "data": {
      "text/html": [
       "<div>\n",
       "<style scoped>\n",
       "    .dataframe tbody tr th:only-of-type {\n",
       "        vertical-align: middle;\n",
       "    }\n",
       "\n",
       "    .dataframe tbody tr th {\n",
       "        vertical-align: top;\n",
       "    }\n",
       "\n",
       "    .dataframe thead th {\n",
       "        text-align: right;\n",
       "    }\n",
       "</style>\n",
       "<table border=\"1\" class=\"dataframe\">\n",
       "  <thead>\n",
       "    <tr style=\"text-align: right;\">\n",
       "      <th></th>\n",
       "      <th>depth</th>\n",
       "    </tr>\n",
       "    <tr>\n",
       "      <th>Date</th>\n",
       "      <th></th>\n",
       "    </tr>\n",
       "  </thead>\n",
       "  <tbody>\n",
       "    <tr>\n",
       "      <td>2018-02-17 00:00:00</td>\n",
       "      <td>1510.675793</td>\n",
       "    </tr>\n",
       "    <tr>\n",
       "      <td>2018-02-17 00:00:15</td>\n",
       "      <td>1510.673176</td>\n",
       "    </tr>\n",
       "    <tr>\n",
       "      <td>2018-02-17 00:00:30</td>\n",
       "      <td>1510.669414</td>\n",
       "    </tr>\n",
       "    <tr>\n",
       "      <td>2018-02-17 00:00:45</td>\n",
       "      <td>1510.665815</td>\n",
       "    </tr>\n",
       "    <tr>\n",
       "      <td>2018-02-17 00:01:00</td>\n",
       "      <td>1510.662053</td>\n",
       "    </tr>\n",
       "    <tr>\n",
       "      <td>...</td>\n",
       "      <td>...</td>\n",
       "    </tr>\n",
       "    <tr>\n",
       "      <td>2018-02-17 23:58:45</td>\n",
       "      <td>1511.015210</td>\n",
       "    </tr>\n",
       "    <tr>\n",
       "      <td>2018-02-17 23:59:00</td>\n",
       "      <td>1511.012920</td>\n",
       "    </tr>\n",
       "    <tr>\n",
       "      <td>2018-02-17 23:59:15</td>\n",
       "      <td>1511.011121</td>\n",
       "    </tr>\n",
       "    <tr>\n",
       "      <td>2018-02-17 23:59:30</td>\n",
       "      <td>1511.011775</td>\n",
       "    </tr>\n",
       "    <tr>\n",
       "      <td>2018-02-17 23:59:45</td>\n",
       "      <td>1511.010957</td>\n",
       "    </tr>\n",
       "  </tbody>\n",
       "</table>\n",
       "<p>5760 rows × 1 columns</p>\n",
       "</div>"
      ],
      "text/plain": [
       "                           depth\n",
       "Date                            \n",
       "2018-02-17 00:00:00  1510.675793\n",
       "2018-02-17 00:00:15  1510.673176\n",
       "2018-02-17 00:00:30  1510.669414\n",
       "2018-02-17 00:00:45  1510.665815\n",
       "2018-02-17 00:01:00  1510.662053\n",
       "...                          ...\n",
       "2018-02-17 23:58:45  1511.015210\n",
       "2018-02-17 23:59:00  1511.012920\n",
       "2018-02-17 23:59:15  1511.011121\n",
       "2018-02-17 23:59:30  1511.011775\n",
       "2018-02-17 23:59:45  1511.010957\n",
       "\n",
       "[5760 rows x 1 columns]"
      ]
     },
     "execution_count": 3,
     "metadata": {},
     "output_type": "execute_result"
    }
   ],
   "source": [
    "df_botptF.loc['2018-02-17']"
   ]
  },
  {
   "cell_type": "code",
   "execution_count": 4,
   "metadata": {},
   "outputs": [
    {
     "data": {
      "text/html": [
       "<div>\n",
       "<style scoped>\n",
       "    .dataframe tbody tr th:only-of-type {\n",
       "        vertical-align: middle;\n",
       "    }\n",
       "\n",
       "    .dataframe tbody tr th {\n",
       "        vertical-align: top;\n",
       "    }\n",
       "\n",
       "    .dataframe thead th {\n",
       "        text-align: right;\n",
       "    }\n",
       "</style>\n",
       "<table border=\"1\" class=\"dataframe\">\n",
       "  <thead>\n",
       "    <tr style=\"text-align: right;\">\n",
       "      <th></th>\n",
       "      <th>depth</th>\n",
       "    </tr>\n",
       "    <tr>\n",
       "      <th>Date</th>\n",
       "      <th></th>\n",
       "    </tr>\n",
       "  </thead>\n",
       "  <tbody>\n",
       "    <tr>\n",
       "      <td>2019-06-27 23:58:45</td>\n",
       "      <td>1501.491919</td>\n",
       "    </tr>\n",
       "    <tr>\n",
       "      <td>2019-06-27 23:59:00</td>\n",
       "      <td>1501.494209</td>\n",
       "    </tr>\n",
       "    <tr>\n",
       "      <td>2019-06-27 23:59:15</td>\n",
       "      <td>1501.495027</td>\n",
       "    </tr>\n",
       "    <tr>\n",
       "      <td>2019-06-27 23:59:30</td>\n",
       "      <td>1501.495518</td>\n",
       "    </tr>\n",
       "    <tr>\n",
       "      <td>2019-06-27 23:59:45</td>\n",
       "      <td>1501.496826</td>\n",
       "    </tr>\n",
       "  </tbody>\n",
       "</table>\n",
       "</div>"
      ],
      "text/plain": [
       "                           depth\n",
       "Date                            \n",
       "2019-06-27 23:58:45  1501.491919\n",
       "2019-06-27 23:59:00  1501.494209\n",
       "2019-06-27 23:59:15  1501.495027\n",
       "2019-06-27 23:59:30  1501.495518\n",
       "2019-06-27 23:59:45  1501.496826"
      ]
     },
     "execution_count": 4,
     "metadata": {},
     "output_type": "execute_result"
    }
   ],
   "source": [
    "with open('/home/jovyan/data/botpt/2019bottom_pressure15s_E.pkl', 'rb') as E:\n",
    "    botpt_data = pk.load(E)\n",
    "df_botptE = pd.DataFrame(botpt_data)\n",
    "df_botptE['bottom_pressure'] = df_botptE['bottom_pressure'].astype(float)\n",
    "df_botptE['depth']=df_botptE['bottom_pressure'].astype(float) * 0.670\n",
    "#MJ03F_cal_depths = [MJ03F_pressure * 0.0670 for MJ03F_pressure in MJ03F_pressure]\n",
    "#list comprehention\n",
    "epoch= [i.timestamp() for i in df_botptE.index.to_pydatetime()]\n",
    "df_botptE['epoch'] = epoch\n",
    "df_botptE= df_botptE.sort_index()\n",
    "df_botptE.index.name= 'Date'\n",
    "del df_botptE['epoch']\n",
    "del df_botptE['bottom_pressure']\n",
    "df_botptE.tail()"
   ]
  },
  {
   "cell_type": "markdown",
   "metadata": {},
   "source": [
    "#### Merge BOTPT E and BOTPT F "
   ]
  },
  {
   "cell_type": "code",
   "execution_count": 5,
   "metadata": {},
   "outputs": [],
   "source": [
    "test = pd.merge(df_botptF, df_botptE,how='outer', indicator=True, left_index=True, right_index=True, suffixes=('_F', '_E'))"
   ]
  },
  {
   "cell_type": "code",
   "execution_count": 6,
   "metadata": {},
   "outputs": [],
   "source": [
    "df_botptMerge = test[test['_merge'] == 'both']\n",
    "del df_botptMerge['_merge']"
   ]
  },
  {
   "cell_type": "code",
   "execution_count": 7,
   "metadata": {},
   "outputs": [],
   "source": [
    "df_botptMerge = df_botptMerge.loc['2017-1-1 00:00:00':'2017-1-10 00:00:00']"
   ]
  },
  {
   "cell_type": "code",
   "execution_count": 8,
   "metadata": {},
   "outputs": [
    {
     "data": {
      "text/html": [
       "<div>\n",
       "<style scoped>\n",
       "    .dataframe tbody tr th:only-of-type {\n",
       "        vertical-align: middle;\n",
       "    }\n",
       "\n",
       "    .dataframe tbody tr th {\n",
       "        vertical-align: top;\n",
       "    }\n",
       "\n",
       "    .dataframe thead th {\n",
       "        text-align: right;\n",
       "    }\n",
       "</style>\n",
       "<table border=\"1\" class=\"dataframe\">\n",
       "  <thead>\n",
       "    <tr style=\"text-align: right;\">\n",
       "      <th></th>\n",
       "      <th>depth_F</th>\n",
       "      <th>depth_E</th>\n",
       "    </tr>\n",
       "    <tr>\n",
       "      <th>Date</th>\n",
       "      <th></th>\n",
       "      <th></th>\n",
       "    </tr>\n",
       "  </thead>\n",
       "  <tbody>\n",
       "    <tr>\n",
       "      <td>2017-01-09 18:29:45</td>\n",
       "      <td>1512.271460</td>\n",
       "      <td>1503.054707</td>\n",
       "    </tr>\n",
       "    <tr>\n",
       "      <td>2017-01-09 18:30:00</td>\n",
       "      <td>1512.270806</td>\n",
       "      <td>1503.052253</td>\n",
       "    </tr>\n",
       "    <tr>\n",
       "      <td>2017-01-09 18:30:15</td>\n",
       "      <td>1512.268352</td>\n",
       "      <td>1503.050781</td>\n",
       "    </tr>\n",
       "    <tr>\n",
       "      <td>2017-01-09 18:30:30</td>\n",
       "      <td>1512.265735</td>\n",
       "      <td>1503.050618</td>\n",
       "    </tr>\n",
       "    <tr>\n",
       "      <td>2017-01-09 18:30:45</td>\n",
       "      <td>1512.264590</td>\n",
       "      <td>1503.049963</td>\n",
       "    </tr>\n",
       "  </tbody>\n",
       "</table>\n",
       "</div>"
      ],
      "text/plain": [
       "                         depth_F      depth_E\n",
       "Date                                         \n",
       "2017-01-09 18:29:45  1512.271460  1503.054707\n",
       "2017-01-09 18:30:00  1512.270806  1503.052253\n",
       "2017-01-09 18:30:15  1512.268352  1503.050781\n",
       "2017-01-09 18:30:30  1512.265735  1503.050618\n",
       "2017-01-09 18:30:45  1512.264590  1503.049963"
      ]
     },
     "execution_count": 8,
     "metadata": {},
     "output_type": "execute_result"
    }
   ],
   "source": [
    "df_botptMerge.tail()"
   ]
  },
  {
   "cell_type": "markdown",
   "metadata": {},
   "source": [
    "#### Calculate Depth difference "
   ]
  },
  {
   "cell_type": "code",
   "execution_count": 9,
   "metadata": {},
   "outputs": [],
   "source": [
    "depthDiff = df_botptMerge['depth_E'].values - df_botptMerge['depth_F'].values"
   ]
  },
  {
   "cell_type": "code",
   "execution_count": 10,
   "metadata": {},
   "outputs": [
    {
     "data": {
      "text/plain": [
       "array([-9.22444092, -9.22345947, -9.22493164, ..., -9.2175708 ,\n",
       "       -9.21511719, -9.21462646])"
      ]
     },
     "execution_count": 10,
     "metadata": {},
     "output_type": "execute_result"
    }
   ],
   "source": [
    "depthDiff"
   ]
  },
  {
   "cell_type": "code",
   "execution_count": 26,
   "metadata": {},
   "outputs": [],
   "source": [
    "# depthDiff = df_botptMerge['diff'].abs()\n",
    "# depthDiff = df_botptMerge['diff'].abs()\n",
    "# df_botptMerge['diff'] = depthDiff.abs()"
   ]
  },
  {
   "cell_type": "code",
   "execution_count": 13,
   "metadata": {},
   "outputs": [],
   "source": [
    "df_botptMerge['diff'] = depthDiff\n",
    "# df_botptMerge['diff'] = abs(depthDiff)"
   ]
  },
  {
   "cell_type": "code",
   "execution_count": 15,
   "metadata": {},
   "outputs": [
    {
     "data": {
      "text/plain": [
       "Date\n",
       "2017-01-01 00:00:00   -9.224441\n",
       "2017-01-01 00:00:15   -9.223459\n",
       "2017-01-01 00:00:30   -9.224932\n",
       "2017-01-01 00:00:45   -9.226567\n",
       "2017-01-01 00:01:00   -9.225586\n",
       "                         ...   \n",
       "2017-01-09 18:29:45   -9.216753\n",
       "2017-01-09 18:30:00   -9.218552\n",
       "2017-01-09 18:30:15   -9.217571\n",
       "2017-01-09 18:30:30   -9.215117\n",
       "2017-01-09 18:30:45   -9.214626\n",
       "Name: diff, Length: 50524, dtype: float64"
      ]
     },
     "execution_count": 15,
     "metadata": {},
     "output_type": "execute_result"
    }
   ],
   "source": [
    "df_botptMerge['diff']"
   ]
  },
  {
   "cell_type": "code",
   "execution_count": 16,
   "metadata": {},
   "outputs": [],
   "source": [
    "depthDiff = df_botptMerge['diff'].abs()"
   ]
  },
  {
   "cell_type": "code",
   "execution_count": 17,
   "metadata": {},
   "outputs": [
    {
     "data": {
      "text/plain": [
       "Date\n",
       "2017-01-01 00:00:00    9.224441\n",
       "2017-01-01 00:00:15    9.223459\n",
       "2017-01-01 00:00:30    9.224932\n",
       "2017-01-01 00:00:45    9.226567\n",
       "2017-01-01 00:01:00    9.225586\n",
       "                         ...   \n",
       "2017-01-09 18:29:45    9.216753\n",
       "2017-01-09 18:30:00    9.218552\n",
       "2017-01-09 18:30:15    9.217571\n",
       "2017-01-09 18:30:30    9.215117\n",
       "2017-01-09 18:30:45    9.214626\n",
       "Name: diff, Length: 50524, dtype: float64"
      ]
     },
     "execution_count": 17,
     "metadata": {},
     "output_type": "execute_result"
    }
   ],
   "source": [
    "depthDiff"
   ]
  },
  {
   "cell_type": "code",
   "execution_count": 21,
   "metadata": {},
   "outputs": [],
   "source": [
    "df_botptMerge['diff'] = depthDiff"
   ]
  },
  {
   "cell_type": "markdown",
   "metadata": {},
   "source": [
    "#### Create time and height vectors for plotting "
   ]
  },
  {
   "cell_type": "code",
   "execution_count": 22,
   "metadata": {},
   "outputs": [],
   "source": [
    "# time = list(df_botptMerge.index.values)\n",
    "#height = x.tolist()\n",
    "height = df_botptMerge['diff'].tolist()\n",
    "time_int = []\n",
    "time = list(pd.to_datetime(df_botptMerge.index.values))\n",
    "for i in time:\n",
    "    i = np.datetime64(i).astype(datetime.datetime)\n",
    "    time_int.append(dates.date2num(i))"
   ]
  },
  {
   "cell_type": "markdown",
   "metadata": {},
   "source": [
    "#### Use Groupby to create one day mean measurements"
   ]
  },
  {
   "cell_type": "code",
   "execution_count": 23,
   "metadata": {},
   "outputs": [
    {
     "data": {
      "text/html": [
       "<div>\n",
       "<style scoped>\n",
       "    .dataframe tbody tr th:only-of-type {\n",
       "        vertical-align: middle;\n",
       "    }\n",
       "\n",
       "    .dataframe tbody tr th {\n",
       "        vertical-align: top;\n",
       "    }\n",
       "\n",
       "    .dataframe thead th {\n",
       "        text-align: right;\n",
       "    }\n",
       "</style>\n",
       "<table border=\"1\" class=\"dataframe\">\n",
       "  <thead>\n",
       "    <tr style=\"text-align: right;\">\n",
       "      <th></th>\n",
       "      <th>depth_F</th>\n",
       "      <th>depth_E</th>\n",
       "      <th>diff</th>\n",
       "      <th>date</th>\n",
       "    </tr>\n",
       "    <tr>\n",
       "      <th>Date</th>\n",
       "      <th></th>\n",
       "      <th></th>\n",
       "      <th></th>\n",
       "      <th></th>\n",
       "    </tr>\n",
       "  </thead>\n",
       "  <tbody>\n",
       "    <tr>\n",
       "      <td>2017-01-01 00:00:00</td>\n",
       "      <td>1511.468474</td>\n",
       "      <td>1502.244033</td>\n",
       "      <td>9.224441</td>\n",
       "      <td>2017-01-01</td>\n",
       "    </tr>\n",
       "    <tr>\n",
       "      <td>2017-01-01 00:00:15</td>\n",
       "      <td>1511.466184</td>\n",
       "      <td>1502.242725</td>\n",
       "      <td>9.223459</td>\n",
       "      <td>2017-01-01</td>\n",
       "    </tr>\n",
       "    <tr>\n",
       "      <td>2017-01-01 00:00:30</td>\n",
       "      <td>1511.464875</td>\n",
       "      <td>1502.239944</td>\n",
       "      <td>9.224932</td>\n",
       "      <td>2017-01-01</td>\n",
       "    </tr>\n",
       "    <tr>\n",
       "      <td>2017-01-01 00:00:45</td>\n",
       "      <td>1511.463894</td>\n",
       "      <td>1502.237327</td>\n",
       "      <td>9.226567</td>\n",
       "      <td>2017-01-01</td>\n",
       "    </tr>\n",
       "    <tr>\n",
       "      <td>2017-01-01 00:01:00</td>\n",
       "      <td>1511.460786</td>\n",
       "      <td>1502.235200</td>\n",
       "      <td>9.225586</td>\n",
       "      <td>2017-01-01</td>\n",
       "    </tr>\n",
       "    <tr>\n",
       "      <td>...</td>\n",
       "      <td>...</td>\n",
       "      <td>...</td>\n",
       "      <td>...</td>\n",
       "      <td>...</td>\n",
       "    </tr>\n",
       "    <tr>\n",
       "      <td>2017-01-09 18:29:45</td>\n",
       "      <td>1512.271460</td>\n",
       "      <td>1503.054707</td>\n",
       "      <td>9.216753</td>\n",
       "      <td>2017-01-09</td>\n",
       "    </tr>\n",
       "    <tr>\n",
       "      <td>2017-01-09 18:30:00</td>\n",
       "      <td>1512.270806</td>\n",
       "      <td>1503.052253</td>\n",
       "      <td>9.218552</td>\n",
       "      <td>2017-01-09</td>\n",
       "    </tr>\n",
       "    <tr>\n",
       "      <td>2017-01-09 18:30:15</td>\n",
       "      <td>1512.268352</td>\n",
       "      <td>1503.050781</td>\n",
       "      <td>9.217571</td>\n",
       "      <td>2017-01-09</td>\n",
       "    </tr>\n",
       "    <tr>\n",
       "      <td>2017-01-09 18:30:30</td>\n",
       "      <td>1512.265735</td>\n",
       "      <td>1503.050618</td>\n",
       "      <td>9.215117</td>\n",
       "      <td>2017-01-09</td>\n",
       "    </tr>\n",
       "    <tr>\n",
       "      <td>2017-01-09 18:30:45</td>\n",
       "      <td>1512.264590</td>\n",
       "      <td>1503.049963</td>\n",
       "      <td>9.214626</td>\n",
       "      <td>2017-01-09</td>\n",
       "    </tr>\n",
       "  </tbody>\n",
       "</table>\n",
       "<p>50524 rows × 4 columns</p>\n",
       "</div>"
      ],
      "text/plain": [
       "                         depth_F      depth_E      diff        date\n",
       "Date                                                               \n",
       "2017-01-01 00:00:00  1511.468474  1502.244033  9.224441  2017-01-01\n",
       "2017-01-01 00:00:15  1511.466184  1502.242725  9.223459  2017-01-01\n",
       "2017-01-01 00:00:30  1511.464875  1502.239944  9.224932  2017-01-01\n",
       "2017-01-01 00:00:45  1511.463894  1502.237327  9.226567  2017-01-01\n",
       "2017-01-01 00:01:00  1511.460786  1502.235200  9.225586  2017-01-01\n",
       "...                          ...          ...       ...         ...\n",
       "2017-01-09 18:29:45  1512.271460  1503.054707  9.216753  2017-01-09\n",
       "2017-01-09 18:30:00  1512.270806  1503.052253  9.218552  2017-01-09\n",
       "2017-01-09 18:30:15  1512.268352  1503.050781  9.217571  2017-01-09\n",
       "2017-01-09 18:30:30  1512.265735  1503.050618  9.215117  2017-01-09\n",
       "2017-01-09 18:30:45  1512.264590  1503.049963  9.214626  2017-01-09\n",
       "\n",
       "[50524 rows x 4 columns]"
      ]
     },
     "execution_count": 23,
     "metadata": {},
     "output_type": "execute_result"
    }
   ],
   "source": [
    "df_botptMerge['date']=pd.DatetimeIndex(df_botptMerge.index).date\n",
    "df_botptMerge"
   ]
  },
  {
   "cell_type": "code",
   "execution_count": 24,
   "metadata": {},
   "outputs": [
    {
     "data": {
      "text/html": [
       "<div>\n",
       "<style scoped>\n",
       "    .dataframe tbody tr th:only-of-type {\n",
       "        vertical-align: middle;\n",
       "    }\n",
       "\n",
       "    .dataframe tbody tr th {\n",
       "        vertical-align: top;\n",
       "    }\n",
       "\n",
       "    .dataframe thead th {\n",
       "        text-align: right;\n",
       "    }\n",
       "</style>\n",
       "<table border=\"1\" class=\"dataframe\">\n",
       "  <thead>\n",
       "    <tr style=\"text-align: right;\">\n",
       "      <th></th>\n",
       "      <th>depth_F</th>\n",
       "      <th>depth_E</th>\n",
       "      <th>diff</th>\n",
       "    </tr>\n",
       "    <tr>\n",
       "      <th>date</th>\n",
       "      <th></th>\n",
       "      <th></th>\n",
       "      <th></th>\n",
       "    </tr>\n",
       "  </thead>\n",
       "  <tbody>\n",
       "    <tr>\n",
       "      <td>2017-01-01</td>\n",
       "      <td>1511.190229</td>\n",
       "      <td>1501.968277</td>\n",
       "      <td>9.221951</td>\n",
       "    </tr>\n",
       "    <tr>\n",
       "      <td>2017-01-02</td>\n",
       "      <td>1511.150868</td>\n",
       "      <td>1501.930328</td>\n",
       "      <td>9.220541</td>\n",
       "    </tr>\n",
       "    <tr>\n",
       "      <td>2017-01-03</td>\n",
       "      <td>1511.144084</td>\n",
       "      <td>1501.923073</td>\n",
       "      <td>9.221010</td>\n",
       "    </tr>\n",
       "    <tr>\n",
       "      <td>2017-01-04</td>\n",
       "      <td>1511.154041</td>\n",
       "      <td>1501.934419</td>\n",
       "      <td>9.219622</td>\n",
       "    </tr>\n",
       "    <tr>\n",
       "      <td>2017-01-05</td>\n",
       "      <td>1511.157324</td>\n",
       "      <td>1501.938949</td>\n",
       "      <td>9.218375</td>\n",
       "    </tr>\n",
       "    <tr>\n",
       "      <td>2017-01-06</td>\n",
       "      <td>1511.154243</td>\n",
       "      <td>1501.934905</td>\n",
       "      <td>9.219338</td>\n",
       "    </tr>\n",
       "    <tr>\n",
       "      <td>2017-01-07</td>\n",
       "      <td>1511.186865</td>\n",
       "      <td>1501.968706</td>\n",
       "      <td>9.218159</td>\n",
       "    </tr>\n",
       "    <tr>\n",
       "      <td>2017-01-08</td>\n",
       "      <td>1511.203105</td>\n",
       "      <td>1501.985098</td>\n",
       "      <td>9.218008</td>\n",
       "    </tr>\n",
       "    <tr>\n",
       "      <td>2017-01-09</td>\n",
       "      <td>1511.335411</td>\n",
       "      <td>1502.083856</td>\n",
       "      <td>9.251555</td>\n",
       "    </tr>\n",
       "  </tbody>\n",
       "</table>\n",
       "</div>"
      ],
      "text/plain": [
       "                depth_F      depth_E      diff\n",
       "date                                          \n",
       "2017-01-01  1511.190229  1501.968277  9.221951\n",
       "2017-01-02  1511.150868  1501.930328  9.220541\n",
       "2017-01-03  1511.144084  1501.923073  9.221010\n",
       "2017-01-04  1511.154041  1501.934419  9.219622\n",
       "2017-01-05  1511.157324  1501.938949  9.218375\n",
       "2017-01-06  1511.154243  1501.934905  9.219338\n",
       "2017-01-07  1511.186865  1501.968706  9.218159\n",
       "2017-01-08  1511.203105  1501.985098  9.218008\n",
       "2017-01-09  1511.335411  1502.083856  9.251555"
      ]
     },
     "execution_count": 24,
     "metadata": {},
     "output_type": "execute_result"
    }
   ],
   "source": [
    "df_botptMean=df_botptMerge.groupby('date').mean()\n",
    "df_botptMean"
   ]
  },
  {
   "cell_type": "code",
   "execution_count": 156,
   "metadata": {},
   "outputs": [
    {
     "name": "stdout",
     "output_type": "stream",
     "text": [
      "0\n",
      "[-0.00141094]\n",
      "[-0.00094132]\n",
      "[-0.00232943]\n",
      "[-0.00357699]\n",
      "[-0.00261367]\n",
      "[-0.00379248]\n",
      "[-0.00394398]\n",
      "[0.02960332]\n"
     ]
    }
   ],
   "source": [
    "# q= df_botptMean['diff'].values\n",
    "# q[0:3]\n",
    "# pd.DataFrame({\"A\": [1, 2], \"B\": [3, 4]}).to_numpy()\n",
    "test = pd.DataFrame(df_botptMean['diff']).to_numpy()\n",
    "\n",
    "\n",
    "for i in range(len(test)):\n",
    "    if i==0:\n",
    "        #diff_max=test[0]\n",
    "        print(0)\n",
    "    else:\n",
    "        diff_max = max(test[:i])\n",
    "        print(test[i]-diff_max)"
   ]
  },
  {
   "cell_type": "code",
   "execution_count": 160,
   "metadata": {},
   "outputs": [
    {
     "name": "stdout",
     "output_type": "stream",
     "text": [
      "0\n",
      "[-0.00141094]\n",
      "[-0.00094132]\n",
      "[-0.00232943]\n",
      "[-0.00357699]\n",
      "[-0.00261367]\n",
      "[-0.00379248]\n",
      "[-0.00394398]\n",
      "[0.02960332]\n"
     ]
    }
   ],
   "source": [
    "test = pd.DataFrame(df_botptMean['diff']).to_numpy()\n",
    "\n",
    "\n",
    "for i in range(len(test)):\n",
    "    if i==0:\n",
    "        #diff_max=test[0]\n",
    "        print(0)\n",
    "    else:\n",
    "        diff_max = max(test[:i])\n",
    "        daily_diff = (test[i]-diff_max)\n",
    "        print(daily_diff)"
   ]
  },
  {
   "cell_type": "code",
   "execution_count": 161,
   "metadata": {},
   "outputs": [
    {
     "ename": "AttributeError",
     "evalue": "'numpy.ndarray' object has no attribute 'plot'",
     "output_type": "error",
     "traceback": [
      "\u001b[0;31m---------------------------------------------------------------------------\u001b[0m",
      "\u001b[0;31mAttributeError\u001b[0m                            Traceback (most recent call last)",
      "\u001b[0;32m<ipython-input-161-45feeb9dfee2>\u001b[0m in \u001b[0;36m<module>\u001b[0;34m\u001b[0m\n\u001b[0;32m----> 1\u001b[0;31m \u001b[0mdaily_diff\u001b[0m\u001b[0;34m.\u001b[0m\u001b[0mplot\u001b[0m\u001b[0;34m(\u001b[0m\u001b[0;34m)\u001b[0m\u001b[0;34m\u001b[0m\u001b[0;34m\u001b[0m\u001b[0m\n\u001b[0m",
      "\u001b[0;31mAttributeError\u001b[0m: 'numpy.ndarray' object has no attribute 'plot'"
     ]
    }
   ],
   "source": [
    "daily_diff.plot()"
   ]
  },
  {
   "cell_type": "code",
   "execution_count": 122,
   "metadata": {},
   "outputs": [
    {
     "data": {
      "text/plain": [
       "<matplotlib.axes._subplots.AxesSubplot at 0x7f5e1a74f780>"
      ]
     },
     "execution_count": 122,
     "metadata": {},
     "output_type": "execute_result"
    },
    {
     "data": {
      "image/png": "[encoded data removed]",
      "text/plain": [
       "<Figure size 432x288 with 1 Axes>"
      ]
     },
     "metadata": {
      "needs_background": "light"
     },
     "output_type": "display_data"
    }
   ],
   "source": [
    "df_botptMean['diff'].plot()\n",
    "# plt.setp(ax.xaxis.get_majorticklabels(), rotation=90)"
   ]
  },
  {
   "cell_type": "code",
   "execution_count": null,
   "metadata": {},
   "outputs": [],
   "source": [
    "df_botptMean['daily_diff'] = df_botptMean['diff'] "
   ]
  },
  {
   "cell_type": "code",
   "execution_count": null,
   "metadata": {},
   "outputs": [],
   "source": [
    "import pickle\n",
    "\n",
    "\n",
    "with open('/jovyan/data/botpt/2019bottom_pressure15s_E.pkl, 'rb') as f:\n",
    "    botpt_E = pickle.load(f)"
   ]
  },
  {
   "cell_type": "code",
   "execution_count": null,
   "metadata": {},
   "outputs": [],
   "source": [
    "botpt_E"
   ]
  },
  {
   "cell_type": "code",
   "execution_count": null,
   "metadata": {},
   "outputs": [],
   "source": [
    "with open('2019bottom_pressure15s_F.pkl', 'rb') as f:\n",
    "    botpt_F = pickle.load(f)"
   ]
  },
  {
   "cell_type": "code",
   "execution_count": null,
   "metadata": {},
   "outputs": [],
   "source": [
    "botpt_F.iloc[1, 10]"
   ]
  },
  {
   "cell_type": "code",
   "execution_count": null,
   "metadata": {},
   "outputs": [],
   "source": [
    "botpt_F[1, 10]"
   ]
  },
  {
   "cell_type": "code",
   "execution_count": null,
   "metadata": {},
   "outputs": [],
   "source": []
  },
  {
   "cell_type": "code",
   "execution_count": null,
   "metadata": {},
   "outputs": [],
   "source": []
  },
  {
   "cell_type": "code",
   "execution_count": null,
   "metadata": {},
   "outputs": [],
   "source": []
  }
 ],
 "metadata": {
  "kernelspec": {
   "display_name": "Python 3",
   "language": "python",
   "name": "python3"
  },
  "language_info": {
   "codemirror_mode": {
    "name": "ipython",
    "version": 3
   },
   "file_extension": ".py",
   "mimetype": "text/x-python",
   "name": "python",
   "nbconvert_exporter": "python",
   "pygments_lexer": "ipython3",
   "version": "3.7.3"
  }
 },
 "nbformat": 4,
 "nbformat_minor": 4
}
