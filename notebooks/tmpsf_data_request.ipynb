{
 "cells": [
  {
   "cell_type": "code",
   "execution_count": 1,
   "metadata": {},
   "outputs": [],
   "source": [
    "# First, we need to add some more Python libraries\n",
    "import requests\n",
    "import datetime\n",
    "import time\n",
    "import pandas as pd\n",
    "import numpy as np\n",
    "import datetime\n",
    "import matplotlib.pyplot as plt\n",
    "import matplotlib.dates as dates\n",
    "import matplotlib.gridspec as gridspec\n",
    "from matplotlib import pyplot\n",
    "from pylab import rcParams\n",
    "import pickle as pk\n",
    "import netCDF4 as nc"
   ]
  },
  {
   "cell_type": "code",
   "execution_count": 2,
   "metadata": {},
   "outputs": [],
   "source": [
    "import xarray as xr\n",
    "import re\n",
    "import requests\n",
    "import os\n",
    "import gc"
   ]
  },
  {
   "cell_type": "code",
   "execution_count": 3,
   "metadata": {},
   "outputs": [],
   "source": [
    "# API Login Information\n",
    "USERNAME = 'OOIAPI-BI8MMX3Y14S4FL'\n",
    "TOKEN = 'TEMP-TOKEN-MK0PEMRS0CFA8Z'"
   ]
  },
  {
   "cell_type": "code",
   "execution_count": 5,
   "metadata": {},
   "outputs": [
    {
     "data": {
      "text/plain": [
       "[{'@class': '.VocabRecord',\n",
       "  'model': 'XR-420',\n",
       "  'manufacturer': 'RBR Global',\n",
       "  'vocabId': 1394,\n",
       "  'refdes': 'RS03ASHS-MJ03B-07-TMPSFA301',\n",
       "  'instrument': 'Diffuse Vent Fluid 3-D Temperature Array',\n",
       "  'tocL1': 'Cabled Axial Seamount',\n",
       "  'tocL2': 'ASHES Vent Field',\n",
       "  'tocL3': 'Medium-Power JBox (MJ03B)',\n",
       "  'mindepth': 1552.0,\n",
       "  'maxdepth': 1552.0}]"
      ]
     },
     "execution_count": 5,
     "metadata": {},
     "output_type": "execute_result"
    }
   ],
   "source": [
    "# Instrument Information\n",
    "site = 'RS03ASHS'\n",
    "node = 'MJ03B'\n",
    "instrument = '07-TMPSFA301'\n",
    "\n",
    "VOCAB_BASE_URL = 'https://ooinet.oceanobservatories.org/api/m2m/12586/vocab/inv'\n",
    "\n",
    "# Create the request URL (3 different ways)\n",
    "# request_url = VOCAB_BASE_URL + '/'+site+'/'+ node+'/'+instrument # Good\n",
    "# request_url = \"%s/%s/%s/%s\" % (VOCAB_BASE_URL,site,node,instrument) # Better\n",
    "request_url ='/'.join((VOCAB_BASE_URL,site,node,instrument)) # Python wizard best\n",
    "\n",
    "# Retrieve vocabulary information for a given instrument\n",
    "r = requests.get(request_url, auth=(USERNAME, TOKEN))\n",
    "data = r.json()\n",
    "\n",
    "data"
   ]
  },
  {
   "cell_type": "code",
   "execution_count": 6,
   "metadata": {},
   "outputs": [
    {
     "name": "stdout",
     "output_type": "stream",
     "text": [
      "Cabled Axial Seamount, ASHES Vent Field, Diffuse Vent Fluid 3-D Temperature Array\n"
     ]
    }
   ],
   "source": [
    "print(\"%s, %s, %s\" % (data[0]['tocL1'],data[0]['tocL2'],data[0]['instrument']))"
   ]
  },
  {
   "cell_type": "code",
   "execution_count": 7,
   "metadata": {},
   "outputs": [],
   "source": [
    "# Instrument Information\n",
    "site = 'RS03ASHS'\n",
    "node = 'MJ03B'\n",
    "instrument = '07-TMPSFA301'\n",
    "method = 'streamed'\n",
    "stream = 'tmpsf_sample'\n",
    "\n",
    "SENSOR_BASE_URL = 'https://ooinet.oceanobservatories.org/api/m2m/12576/sensor/inv/'\n",
    "\n",
    "# Create the request URL\n",
    "data_request_url ='/'.join((SENSOR_BASE_URL,site,node,instrument,method,stream))\n",
    "\n",
    "# All of the following are optional\n",
    "params = {\n",
    "  'beginDT':'2018-01-01T00:00:00.000Z',\n",
    "  'endDT':'2019-01-01T00:00:00.000Z',\n",
    "  'format':'application/netcdf',\n",
    "  'include_provenance':'true',\n",
    "  'include_annotations':'true'\n",
    "}"
   ]
  },
  {
   "cell_type": "code",
   "execution_count": 8,
   "metadata": {},
   "outputs": [],
   "source": [
    "r = requests.get(data_request_url, params=params, auth=(USERNAME, TOKEN))\n",
    "data = r.json()"
   ]
  },
  {
   "cell_type": "code",
   "execution_count": 9,
   "metadata": {},
   "outputs": [
    {
     "data": {
      "text/plain": [
       "{'requestUUID': '7f655e97-bc55-47bc-a6cd-b2ede0314909',\n",
       " 'outputURL': 'https://opendap.oceanobservatories.org/thredds/catalog/ooi/jazlynnatalie12@gmail.com/20190915T203234493Z-RS03ASHS-MJ03B-07-TMPSFA301-streamed-tmpsf_sample/catalog.html',\n",
       " 'allURLs': ['https://opendap.oceanobservatories.org/thredds/catalog/ooi/jazlynnatalie12@gmail.com/20190915T203234493Z-RS03ASHS-MJ03B-07-TMPSFA301-streamed-tmpsf_sample/catalog.html',\n",
       "  'https://opendap.oceanobservatories.org/async_results/jazlynnatalie12@gmail.com/20190915T203234493Z-RS03ASHS-MJ03B-07-TMPSFA301-streamed-tmpsf_sample'],\n",
       " 'sizeCalculation': 286614128,\n",
       " 'timeCalculation': 60,\n",
       " 'numberOfSubJobs': 27}"
      ]
     },
     "execution_count": 9,
     "metadata": {},
     "output_type": "execute_result"
    }
   ],
   "source": [
    "data"
   ]
  },
  {
   "cell_type": "code",
   "execution_count": 10,
   "metadata": {},
   "outputs": [],
   "source": [
    "# Sensor E: url = 'https://opendap.oceanobservatories.org/thredds/catalog/ooi/dax.soule@qc.cuny.edu/20181104T104012-RS03ECAL-MJ03E-06-BOTPTA302-streamed-botpt_nano_sample/catalog.html'\n",
    "# Sensor B url = 'https://opendap.oceanobservatories.org/thredds/catalog/ooi/dax.soule@qc.cuny.edu/20181020T213838-RS03ASHS-MJ03B-09-BOTPTA304-streamed-botpt_nano_sample/catalog.html'\n",
    "# Sensor F url = 'https://opendap.oceanobservatories.org/thredds/catalog/ooi/dax.soule@qc.cuny.edu/20181104T041943-RS03CCAL-MJ03F-05-BOTPTA301-streamed-botpt_nano_sample/catalog.html'\n",
    "url = 'https://opendap.oceanobservatories.org/thredds/catalog/ooi/jazlynnatalie12@gmail.com/20190915T203234493Z-RS03ASHS-MJ03B-07-TMPSFA301-streamed-tmpsf_sample/catalog.html'\n",
    "\n",
    "tds_url = 'https://opendap.oceanobservatories.org/thredds/dodsC'\n",
    "datasets = requests.get(url).text\n",
    "urls = re.findall(r'href=[\\'\"]?([^\\'\" >]+)', datasets)\n",
    "x = re.findall(r'(ooi/.*?.nc)', datasets)\n",
    "for i in x:\n",
    "    if i.endswith('.nc') == False:\n",
    "        x.remove(i)\n",
    "for i in x:\n",
    "    try:\n",
    "        float(i[-4])\n",
    "    except:\n",
    "        x.remove(i)\n",
    "datasets = [os.path.join(tds_url, i) for i in x]"
   ]
  },
  {
   "cell_type": "code",
   "execution_count": 13,
   "metadata": {},
   "outputs": [
    {
     "data": {
      "text/plain": [
       "[]"
      ]
     },
     "execution_count": 13,
     "metadata": {},
     "output_type": "execute_result"
    }
   ],
   "source": [
    "datasets"
   ]
  }
 ],
 "metadata": {
  "kernelspec": {
   "display_name": "Python 3",
   "language": "python",
   "name": "python3"
  },
  "language_info": {
   "codemirror_mode": {
    "name": "ipython",
    "version": 3
   },
   "file_extension": ".py",
   "mimetype": "text/x-python",
   "name": "python",
   "nbconvert_exporter": "python",
   "pygments_lexer": "ipython3",
   "version": "3.7.3"
  }
 },
 "nbformat": 4,
 "nbformat_minor": 4
}
