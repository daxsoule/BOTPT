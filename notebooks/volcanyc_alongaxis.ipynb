{
 "cells": [
  {
   "cell_type": "code",
   "execution_count": 40,
   "metadata": {},
   "outputs": [],
   "source": [
    "import warnings\n",
    "warnings.filterwarnings('ignore')"
   ]
  },
  {
   "cell_type": "code",
   "execution_count": 41,
   "metadata": {},
   "outputs": [],
   "source": [
    "import pandas as pd\n",
    "import xarray as xr\n",
    "import numpy as np\n",
    "import matplotlib.pyplot as plt "
   ]
  },
  {
   "cell_type": "code",
   "execution_count": 42,
   "metadata": {},
   "outputs": [
    {
     "name": "stdout",
     "output_type": "stream",
     "text": [
      "Longitude\tLatitude\tDistance\tElevation\n",
      "-173.79181\t-15.124682\t0.0\t-2917.3823\n",
      "-173.7912\t-15.124298\t0.07729869\t-2914.2627\n",
      "-173.7906\t-15.123914\t0.15459745\t-2903.7527\n",
      "-173.79001\t-15.123529\t0.23189619\t-2883.649\n",
      "-173.7894\t-15.123145\t0.3091949\t-2873.7375\n",
      "-173.7888\t-15.12276\t0.38649353\t-2884.0676\n",
      "-173.78821\t-15.1223755\t0.46379223\t-2890.1672\n",
      "-173.7876\t-15.121991\t0.5410909\t-2880.5962\n",
      "-173.787\t-15.121607\t0.6183895\t-2869.4976\n"
     ]
    }
   ],
   "source": [
    "# !head '/home/jovyan/data/volcanyc/along_axis/kita_t1_table.txt'\n",
    "# !head '/home/jovyan/data/volcanyc/along_axis/knoll_t1_table.txt'\n",
    "# !head '/home/jovyan/data/volcanyc/along_axis/tracy_t1_table.txt'\n",
    "# !head '/home/jovyan/data/volcanyc/along_axis/volcano_O_t1_table.txt'\n",
    "!head '/home/jovyan/data/volcanyc/along_axis/wm_t1_table.txt'"
   ]
  },
  {
   "cell_type": "markdown",
   "metadata": {},
   "source": [
    "#### Read in Along Axis Datafiles"
   ]
  },
  {
   "cell_type": "code",
   "execution_count": 43,
   "metadata": {},
   "outputs": [
    {
     "data": {
      "text/plain": [
       "pandas.core.frame.DataFrame"
      ]
     },
     "execution_count": 43,
     "metadata": {},
     "output_type": "execute_result"
    }
   ],
   "source": [
    "# aa_kita = '/home/jovyan/data/volcanyc/along_axis/kita_t1_table.txt'\n",
    "# df_aa_kita = pd.read_csv(aa_kita, delim_whitespace=True, dtype=object)\n",
    "# df_aa_kita['Distance']= df_aa_kita['Distance'].astype(np.float).values\n",
    "# aa_kita = pd.read_csv('/home/jovyan/data/volcanyc/along_axis/kita_t1_table.txt', delimiter=\"\\t\", header = None, dtype=object)\n",
    "aa_kita = pd.read_csv('/home/jovyan/data/volcanyc/along_axis/kita_t1_table.txt', delim_whitespace=True, dtype=object)\n",
    "df_aa_kita = pd.DataFrame(aa_kita)\n",
    "df_aa_kita = df_aa_kita.astype(float)\n",
    "# df = pd.DataFrame(data=d)\n",
    "# df=df.astype(float)\n",
    "del df_aa_kita['Longitude']\n",
    "del df_aa_kita['Latitude']\n",
    "# aa_kita = aa_kita.to_frame()\n",
    "# type(aa_kita['Distance'])\n",
    "# type(aa_kita)\n",
    "type(df_aa_kita)\n",
    "# type(df_aa_kita)"
   ]
  },
  {
   "cell_type": "code",
   "execution_count": 44,
   "metadata": {},
   "outputs": [
    {
     "data": {
      "text/plain": [
       "<matplotlib.axes._subplots.AxesSubplot at 0x7f11c8834160>"
      ]
     },
     "execution_count": 44,
     "metadata": {},
     "output_type": "execute_result"
    },
    {
     "data": {
      "image/png": "[encoded data removed]",
      "text/plain": [
       "<Figure size 432x288 with 1 Axes>"
      ]
     },
     "metadata": {
      "needs_background": "light"
     },
     "output_type": "display_data"
    }
   ],
   "source": [
    "df_aa_kita.plot(x='Distance', y='Elevation')"
   ]
  },
  {
   "cell_type": "code",
   "execution_count": 45,
   "metadata": {},
   "outputs": [
    {
     "data": {
      "text/html": [
       "<div>\n",
       "<style scoped>\n",
       "    .dataframe tbody tr th:only-of-type {\n",
       "        vertical-align: middle;\n",
       "    }\n",
       "\n",
       "    .dataframe tbody tr th {\n",
       "        vertical-align: top;\n",
       "    }\n",
       "\n",
       "    .dataframe thead th {\n",
       "        text-align: right;\n",
       "    }\n",
       "</style>\n",
       "<table border=\"1\" class=\"dataframe\">\n",
       "  <thead>\n",
       "    <tr style=\"text-align: right;\">\n",
       "      <th></th>\n",
       "      <th>Distance</th>\n",
       "      <th>Elevation</th>\n",
       "    </tr>\n",
       "  </thead>\n",
       "  <tbody>\n",
       "    <tr>\n",
       "      <td>0</td>\n",
       "      <td>0.000000</td>\n",
       "      <td>-1329.3534</td>\n",
       "    </tr>\n",
       "    <tr>\n",
       "      <td>1</td>\n",
       "      <td>0.080971</td>\n",
       "      <td>-1326.0970</td>\n",
       "    </tr>\n",
       "    <tr>\n",
       "      <td>2</td>\n",
       "      <td>0.161942</td>\n",
       "      <td>-1319.9816</td>\n",
       "    </tr>\n",
       "    <tr>\n",
       "      <td>3</td>\n",
       "      <td>0.242913</td>\n",
       "      <td>-1314.6461</td>\n",
       "    </tr>\n",
       "    <tr>\n",
       "      <td>4</td>\n",
       "      <td>0.323884</td>\n",
       "      <td>-1310.5388</td>\n",
       "    </tr>\n",
       "    <tr>\n",
       "      <td>...</td>\n",
       "      <td>...</td>\n",
       "      <td>...</td>\n",
       "    </tr>\n",
       "    <tr>\n",
       "      <td>165</td>\n",
       "      <td>13.360216</td>\n",
       "      <td>-1053.9879</td>\n",
       "    </tr>\n",
       "    <tr>\n",
       "      <td>166</td>\n",
       "      <td>13.441187</td>\n",
       "      <td>-1093.9929</td>\n",
       "    </tr>\n",
       "    <tr>\n",
       "      <td>167</td>\n",
       "      <td>13.522158</td>\n",
       "      <td>-1112.1945</td>\n",
       "    </tr>\n",
       "    <tr>\n",
       "      <td>168</td>\n",
       "      <td>13.603128</td>\n",
       "      <td>-1116.8184</td>\n",
       "    </tr>\n",
       "    <tr>\n",
       "      <td>169</td>\n",
       "      <td>13.684099</td>\n",
       "      <td>-1119.3632</td>\n",
       "    </tr>\n",
       "  </tbody>\n",
       "</table>\n",
       "<p>170 rows × 2 columns</p>\n",
       "</div>"
      ],
      "text/plain": [
       "      Distance  Elevation\n",
       "0     0.000000 -1329.3534\n",
       "1     0.080971 -1326.0970\n",
       "2     0.161942 -1319.9816\n",
       "3     0.242913 -1314.6461\n",
       "4     0.323884 -1310.5388\n",
       "..         ...        ...\n",
       "165  13.360216 -1053.9879\n",
       "166  13.441187 -1093.9929\n",
       "167  13.522158 -1112.1945\n",
       "168  13.603128 -1116.8184\n",
       "169  13.684099 -1119.3632\n",
       "\n",
       "[170 rows x 2 columns]"
      ]
     },
     "execution_count": 45,
     "metadata": {},
     "output_type": "execute_result"
    }
   ],
   "source": [
    "# aa_knoll = '/home/jovyan/data/volcanyc/along_axis/knoll_t1_table.txt'\n",
    "aa_knoll = pd.read_csv('/home/jovyan/data/volcanyc/along_axis/knoll_t1_table.txt', delim_whitespace=True, dtype=object)\n",
    "df_aa_knoll = pd.DataFrame(aa_knoll).astype(float)\n",
    "del df_aa_knoll['Longitude']\n",
    "del df_aa_knoll['Latitude']\n",
    "df_aa_knoll"
   ]
  },
  {
   "cell_type": "code",
   "execution_count": 46,
   "metadata": {},
   "outputs": [
    {
     "data": {
      "image/png": "[encoded data removed]",
      "text/plain": [
       "<Figure size 432x288 with 1 Axes>"
      ]
     },
     "metadata": {
      "needs_background": "light"
     },
     "output_type": "display_data"
    }
   ],
   "source": [
    "df_aa_kita.plot(x='Distance', y='Elevation')\n",
    "ax = df_aa_knoll['Elevation'].plot(color='k')\n",
    "\n",
    "# df_plot.plot(y='depthDiff')\n",
    "# ax = df_plot['mw_cumsum'].plot(secondary_y=True, color='k')\n",
    "# ax.set_ylabel('cumulative magnitude')\n",
    "# plt.xticks(rotation=90)\n",
    "plt.show()"
   ]
  },
  {
   "cell_type": "code",
   "execution_count": 47,
   "metadata": {},
   "outputs": [
    {
     "data": {
      "text/html": [
       "<div>\n",
       "<style scoped>\n",
       "    .dataframe tbody tr th:only-of-type {\n",
       "        vertical-align: middle;\n",
       "    }\n",
       "\n",
       "    .dataframe tbody tr th {\n",
       "        vertical-align: top;\n",
       "    }\n",
       "\n",
       "    .dataframe thead th {\n",
       "        text-align: right;\n",
       "    }\n",
       "</style>\n",
       "<table border=\"1\" class=\"dataframe\">\n",
       "  <thead>\n",
       "    <tr style=\"text-align: right;\">\n",
       "      <th></th>\n",
       "      <th>Distance</th>\n",
       "      <th>Elevation</th>\n",
       "    </tr>\n",
       "  </thead>\n",
       "  <tbody>\n",
       "    <tr>\n",
       "      <td>0</td>\n",
       "      <td>0.000000</td>\n",
       "      <td>-2236.1970</td>\n",
       "    </tr>\n",
       "    <tr>\n",
       "      <td>1</td>\n",
       "      <td>0.076952</td>\n",
       "      <td>-2231.1619</td>\n",
       "    </tr>\n",
       "    <tr>\n",
       "      <td>2</td>\n",
       "      <td>0.153904</td>\n",
       "      <td>-2227.1790</td>\n",
       "    </tr>\n",
       "    <tr>\n",
       "      <td>3</td>\n",
       "      <td>0.230856</td>\n",
       "      <td>-2222.7278</td>\n",
       "    </tr>\n",
       "    <tr>\n",
       "      <td>4</td>\n",
       "      <td>0.307808</td>\n",
       "      <td>-2218.4260</td>\n",
       "    </tr>\n",
       "    <tr>\n",
       "      <td>...</td>\n",
       "      <td>...</td>\n",
       "      <td>...</td>\n",
       "    </tr>\n",
       "    <tr>\n",
       "      <td>295</td>\n",
       "      <td>22.700832</td>\n",
       "      <td>-1917.1420</td>\n",
       "    </tr>\n",
       "    <tr>\n",
       "      <td>296</td>\n",
       "      <td>22.777784</td>\n",
       "      <td>-1914.7605</td>\n",
       "    </tr>\n",
       "    <tr>\n",
       "      <td>297</td>\n",
       "      <td>22.854736</td>\n",
       "      <td>-1912.2241</td>\n",
       "    </tr>\n",
       "    <tr>\n",
       "      <td>298</td>\n",
       "      <td>22.931688</td>\n",
       "      <td>-1910.2231</td>\n",
       "    </tr>\n",
       "    <tr>\n",
       "      <td>299</td>\n",
       "      <td>23.008640</td>\n",
       "      <td>-1911.2811</td>\n",
       "    </tr>\n",
       "  </tbody>\n",
       "</table>\n",
       "<p>300 rows × 2 columns</p>\n",
       "</div>"
      ],
      "text/plain": [
       "      Distance  Elevation\n",
       "0     0.000000 -2236.1970\n",
       "1     0.076952 -2231.1619\n",
       "2     0.153904 -2227.1790\n",
       "3     0.230856 -2222.7278\n",
       "4     0.307808 -2218.4260\n",
       "..         ...        ...\n",
       "295  22.700832 -1917.1420\n",
       "296  22.777784 -1914.7605\n",
       "297  22.854736 -1912.2241\n",
       "298  22.931688 -1910.2231\n",
       "299  23.008640 -1911.2811\n",
       "\n",
       "[300 rows x 2 columns]"
      ]
     },
     "execution_count": 47,
     "metadata": {},
     "output_type": "execute_result"
    }
   ],
   "source": [
    "aa_O = pd.read_csv('/home/jovyan/data/volcanyc/along_axis/volcano_O_t1_table.txt', delim_whitespace=True, dtype=object)\n",
    "df_aa_O = pd.DataFrame(aa_O).astype(float)\n",
    "del df_aa_O['Longitude']\n",
    "del df_aa_O['Latitude']\n",
    "df_aa_O"
   ]
  },
  {
   "cell_type": "code",
   "execution_count": 48,
   "metadata": {},
   "outputs": [
    {
     "data": {
      "text/html": [
       "<div>\n",
       "<style scoped>\n",
       "    .dataframe tbody tr th:only-of-type {\n",
       "        vertical-align: middle;\n",
       "    }\n",
       "\n",
       "    .dataframe tbody tr th {\n",
       "        vertical-align: top;\n",
       "    }\n",
       "\n",
       "    .dataframe thead th {\n",
       "        text-align: right;\n",
       "    }\n",
       "</style>\n",
       "<table border=\"1\" class=\"dataframe\">\n",
       "  <thead>\n",
       "    <tr style=\"text-align: right;\">\n",
       "      <th></th>\n",
       "      <th>Distance</th>\n",
       "      <th>Elevation</th>\n",
       "    </tr>\n",
       "  </thead>\n",
       "  <tbody>\n",
       "    <tr>\n",
       "      <td>0</td>\n",
       "      <td>0.000000</td>\n",
       "      <td>-2917.3823</td>\n",
       "    </tr>\n",
       "    <tr>\n",
       "      <td>1</td>\n",
       "      <td>0.077299</td>\n",
       "      <td>-2914.2627</td>\n",
       "    </tr>\n",
       "    <tr>\n",
       "      <td>2</td>\n",
       "      <td>0.154597</td>\n",
       "      <td>-2903.7527</td>\n",
       "    </tr>\n",
       "    <tr>\n",
       "      <td>3</td>\n",
       "      <td>0.231896</td>\n",
       "      <td>-2883.6490</td>\n",
       "    </tr>\n",
       "    <tr>\n",
       "      <td>4</td>\n",
       "      <td>0.309195</td>\n",
       "      <td>-2873.7375</td>\n",
       "    </tr>\n",
       "    <tr>\n",
       "      <td>...</td>\n",
       "      <td>...</td>\n",
       "      <td>...</td>\n",
       "    </tr>\n",
       "    <tr>\n",
       "      <td>167</td>\n",
       "      <td>12.908875</td>\n",
       "      <td>-2739.1418</td>\n",
       "    </tr>\n",
       "    <tr>\n",
       "      <td>168</td>\n",
       "      <td>12.986174</td>\n",
       "      <td>-2741.8820</td>\n",
       "    </tr>\n",
       "    <tr>\n",
       "      <td>169</td>\n",
       "      <td>13.063472</td>\n",
       "      <td>-2744.2722</td>\n",
       "    </tr>\n",
       "    <tr>\n",
       "      <td>170</td>\n",
       "      <td>13.140771</td>\n",
       "      <td>-2743.9963</td>\n",
       "    </tr>\n",
       "    <tr>\n",
       "      <td>171</td>\n",
       "      <td>13.218070</td>\n",
       "      <td>-2741.8518</td>\n",
       "    </tr>\n",
       "  </tbody>\n",
       "</table>\n",
       "<p>172 rows × 2 columns</p>\n",
       "</div>"
      ],
      "text/plain": [
       "      Distance  Elevation\n",
       "0     0.000000 -2917.3823\n",
       "1     0.077299 -2914.2627\n",
       "2     0.154597 -2903.7527\n",
       "3     0.231896 -2883.6490\n",
       "4     0.309195 -2873.7375\n",
       "..         ...        ...\n",
       "167  12.908875 -2739.1418\n",
       "168  12.986174 -2741.8820\n",
       "169  13.063472 -2744.2722\n",
       "170  13.140771 -2743.9963\n",
       "171  13.218070 -2741.8518\n",
       "\n",
       "[172 rows x 2 columns]"
      ]
     },
     "execution_count": 48,
     "metadata": {},
     "output_type": "execute_result"
    }
   ],
   "source": [
    "aa_wm = pd.read_csv('/home/jovyan/data/volcanyc/along_axis/wm_t1_table.txt', delim_whitespace=True, dtype=object)\n",
    "df_aa_wm = pd.DataFrame(aa_wm).astype(float)\n",
    "del df_aa_wm['Longitude']\n",
    "del df_aa_wm['Latitude']\n",
    "df_aa_wm"
   ]
  },
  {
   "cell_type": "code",
   "execution_count": 49,
   "metadata": {},
   "outputs": [
    {
     "data": {
      "text/html": [
       "<div>\n",
       "<style scoped>\n",
       "    .dataframe tbody tr th:only-of-type {\n",
       "        vertical-align: middle;\n",
       "    }\n",
       "\n",
       "    .dataframe tbody tr th {\n",
       "        vertical-align: top;\n",
       "    }\n",
       "\n",
       "    .dataframe thead th {\n",
       "        text-align: right;\n",
       "    }\n",
       "</style>\n",
       "<table border=\"1\" class=\"dataframe\">\n",
       "  <thead>\n",
       "    <tr style=\"text-align: right;\">\n",
       "      <th></th>\n",
       "      <th>Distance</th>\n",
       "      <th>Elevation</th>\n",
       "    </tr>\n",
       "  </thead>\n",
       "  <tbody>\n",
       "    <tr>\n",
       "      <td>0</td>\n",
       "      <td>0.000000</td>\n",
       "      <td>-3290.2817</td>\n",
       "    </tr>\n",
       "    <tr>\n",
       "      <td>1</td>\n",
       "      <td>0.065961</td>\n",
       "      <td>-3294.2896</td>\n",
       "    </tr>\n",
       "    <tr>\n",
       "      <td>2</td>\n",
       "      <td>0.131922</td>\n",
       "      <td>-3299.9850</td>\n",
       "    </tr>\n",
       "    <tr>\n",
       "      <td>3</td>\n",
       "      <td>0.197883</td>\n",
       "      <td>-3306.1982</td>\n",
       "    </tr>\n",
       "    <tr>\n",
       "      <td>4</td>\n",
       "      <td>0.263844</td>\n",
       "      <td>-3309.3557</td>\n",
       "    </tr>\n",
       "    <tr>\n",
       "      <td>...</td>\n",
       "      <td>...</td>\n",
       "      <td>...</td>\n",
       "    </tr>\n",
       "    <tr>\n",
       "      <td>251</td>\n",
       "      <td>16.556196</td>\n",
       "      <td>-3058.5583</td>\n",
       "    </tr>\n",
       "    <tr>\n",
       "      <td>252</td>\n",
       "      <td>16.622158</td>\n",
       "      <td>-3055.6738</td>\n",
       "    </tr>\n",
       "    <tr>\n",
       "      <td>253</td>\n",
       "      <td>16.688120</td>\n",
       "      <td>-3053.2670</td>\n",
       "    </tr>\n",
       "    <tr>\n",
       "      <td>254</td>\n",
       "      <td>16.754082</td>\n",
       "      <td>-3044.4507</td>\n",
       "    </tr>\n",
       "    <tr>\n",
       "      <td>255</td>\n",
       "      <td>16.820044</td>\n",
       "      <td>-3026.1477</td>\n",
       "    </tr>\n",
       "  </tbody>\n",
       "</table>\n",
       "<p>256 rows × 2 columns</p>\n",
       "</div>"
      ],
      "text/plain": [
       "      Distance  Elevation\n",
       "0     0.000000 -3290.2817\n",
       "1     0.065961 -3294.2896\n",
       "2     0.131922 -3299.9850\n",
       "3     0.197883 -3306.1982\n",
       "4     0.263844 -3309.3557\n",
       "..         ...        ...\n",
       "251  16.556196 -3058.5583\n",
       "252  16.622158 -3055.6738\n",
       "253  16.688120 -3053.2670\n",
       "254  16.754082 -3044.4507\n",
       "255  16.820044 -3026.1477\n",
       "\n",
       "[256 rows x 2 columns]"
      ]
     },
     "execution_count": 49,
     "metadata": {},
     "output_type": "execute_result"
    }
   ],
   "source": [
    "aa_forecast = pd.read_csv('/home/jovyan/data/volcanyc/along_axis/forecast_seamount_along_axis_tbl.txt', delim_whitespace=True, dtype=object)\n",
    "df_aa_forecast = pd.DataFrame(aa_forecast).astype(float)\n",
    "del df_aa_forecast['Longitude']\n",
    "del df_aa_forecast['Latitude']\n",
    "df_aa_forecast"
   ]
  },
  {
   "cell_type": "code",
   "execution_count": 50,
   "metadata": {},
   "outputs": [
    {
     "data": {
      "text/html": [
       "<div>\n",
       "<style scoped>\n",
       "    .dataframe tbody tr th:only-of-type {\n",
       "        vertical-align: middle;\n",
       "    }\n",
       "\n",
       "    .dataframe tbody tr th {\n",
       "        vertical-align: top;\n",
       "    }\n",
       "\n",
       "    .dataframe thead th {\n",
       "        text-align: right;\n",
       "    }\n",
       "</style>\n",
       "<table border=\"1\" class=\"dataframe\">\n",
       "  <thead>\n",
       "    <tr style=\"text-align: right;\">\n",
       "      <th></th>\n",
       "      <th>Distance</th>\n",
       "      <th>Elevation</th>\n",
       "    </tr>\n",
       "  </thead>\n",
       "  <tbody>\n",
       "    <tr>\n",
       "      <td>0</td>\n",
       "      <td>0.000000</td>\n",
       "      <td>-3282.2097</td>\n",
       "    </tr>\n",
       "    <tr>\n",
       "      <td>1</td>\n",
       "      <td>0.031759</td>\n",
       "      <td>-3281.5962</td>\n",
       "    </tr>\n",
       "    <tr>\n",
       "      <td>2</td>\n",
       "      <td>0.063518</td>\n",
       "      <td>-3281.5176</td>\n",
       "    </tr>\n",
       "    <tr>\n",
       "      <td>3</td>\n",
       "      <td>0.095277</td>\n",
       "      <td>-3281.7493</td>\n",
       "    </tr>\n",
       "    <tr>\n",
       "      <td>4</td>\n",
       "      <td>0.127036</td>\n",
       "      <td>-3281.6553</td>\n",
       "    </tr>\n",
       "    <tr>\n",
       "      <td>...</td>\n",
       "      <td>...</td>\n",
       "      <td>...</td>\n",
       "    </tr>\n",
       "    <tr>\n",
       "      <td>462</td>\n",
       "      <td>14.672771</td>\n",
       "      <td>-3438.2158</td>\n",
       "    </tr>\n",
       "    <tr>\n",
       "      <td>463</td>\n",
       "      <td>14.704530</td>\n",
       "      <td>-3441.3486</td>\n",
       "    </tr>\n",
       "    <tr>\n",
       "      <td>464</td>\n",
       "      <td>14.736289</td>\n",
       "      <td>-3445.7654</td>\n",
       "    </tr>\n",
       "    <tr>\n",
       "      <td>465</td>\n",
       "      <td>14.768048</td>\n",
       "      <td>-3451.1640</td>\n",
       "    </tr>\n",
       "    <tr>\n",
       "      <td>466</td>\n",
       "      <td>14.799808</td>\n",
       "      <td>-3456.4504</td>\n",
       "    </tr>\n",
       "  </tbody>\n",
       "</table>\n",
       "<p>467 rows × 2 columns</p>\n",
       "</div>"
      ],
      "text/plain": [
       "      Distance  Elevation\n",
       "0     0.000000 -3282.2097\n",
       "1     0.031759 -3281.5962\n",
       "2     0.063518 -3281.5176\n",
       "3     0.095277 -3281.7493\n",
       "4     0.127036 -3281.6553\n",
       "..         ...        ...\n",
       "462  14.672771 -3438.2158\n",
       "463  14.704530 -3441.3486\n",
       "464  14.736289 -3445.7654\n",
       "465  14.768048 -3451.1640\n",
       "466  14.799808 -3456.4504\n",
       "\n",
       "[467 rows x 2 columns]"
      ]
     },
     "execution_count": 50,
     "metadata": {},
     "output_type": "execute_result"
    }
   ],
   "source": [
    "aa_c = pd.read_csv('/home/jovyan/data/volcanyc/along_axis/seamount_c_along_axis_tbl.txt', delim_whitespace=True, dtype=object)\n",
    "df_aa_c = pd.DataFrame(aa_c).astype(float)\n",
    "del df_aa_c['Longitude']\n",
    "del df_aa_c['Latitude']\n",
    "df_aa_c"
   ]
  },
  {
   "cell_type": "code",
   "execution_count": 51,
   "metadata": {},
   "outputs": [
    {
     "data": {
      "text/html": [
       "<div>\n",
       "<style scoped>\n",
       "    .dataframe tbody tr th:only-of-type {\n",
       "        vertical-align: middle;\n",
       "    }\n",
       "\n",
       "    .dataframe tbody tr th {\n",
       "        vertical-align: top;\n",
       "    }\n",
       "\n",
       "    .dataframe thead th {\n",
       "        text-align: right;\n",
       "    }\n",
       "</style>\n",
       "<table border=\"1\" class=\"dataframe\">\n",
       "  <thead>\n",
       "    <tr style=\"text-align: right;\">\n",
       "      <th></th>\n",
       "      <th>Distance</th>\n",
       "      <th>Elevation</th>\n",
       "    </tr>\n",
       "  </thead>\n",
       "  <tbody>\n",
       "    <tr>\n",
       "      <td>0</td>\n",
       "      <td>0.000000</td>\n",
       "      <td>-3627.7220</td>\n",
       "    </tr>\n",
       "    <tr>\n",
       "      <td>1</td>\n",
       "      <td>0.053804</td>\n",
       "      <td>-3628.5872</td>\n",
       "    </tr>\n",
       "    <tr>\n",
       "      <td>2</td>\n",
       "      <td>0.107608</td>\n",
       "      <td>-3628.9130</td>\n",
       "    </tr>\n",
       "    <tr>\n",
       "      <td>3</td>\n",
       "      <td>0.161412</td>\n",
       "      <td>-3627.3298</td>\n",
       "    </tr>\n",
       "    <tr>\n",
       "      <td>4</td>\n",
       "      <td>0.215215</td>\n",
       "      <td>-3622.6147</td>\n",
       "    </tr>\n",
       "    <tr>\n",
       "      <td>...</td>\n",
       "      <td>...</td>\n",
       "      <td>...</td>\n",
       "    </tr>\n",
       "    <tr>\n",
       "      <td>349</td>\n",
       "      <td>18.777546</td>\n",
       "      <td>-3547.3723</td>\n",
       "    </tr>\n",
       "    <tr>\n",
       "      <td>350</td>\n",
       "      <td>18.831350</td>\n",
       "      <td>-3550.0737</td>\n",
       "    </tr>\n",
       "    <tr>\n",
       "      <td>351</td>\n",
       "      <td>18.885155</td>\n",
       "      <td>-3555.0422</td>\n",
       "    </tr>\n",
       "    <tr>\n",
       "      <td>352</td>\n",
       "      <td>18.938960</td>\n",
       "      <td>-3560.3975</td>\n",
       "    </tr>\n",
       "    <tr>\n",
       "      <td>353</td>\n",
       "      <td>18.992764</td>\n",
       "      <td>-3565.3127</td>\n",
       "    </tr>\n",
       "  </tbody>\n",
       "</table>\n",
       "<p>354 rows × 2 columns</p>\n",
       "</div>"
      ],
      "text/plain": [
       "      Distance  Elevation\n",
       "0     0.000000 -3627.7220\n",
       "1     0.053804 -3628.5872\n",
       "2     0.107608 -3628.9130\n",
       "3     0.161412 -3627.3298\n",
       "4     0.215215 -3622.6147\n",
       "..         ...        ...\n",
       "349  18.777546 -3547.3723\n",
       "350  18.831350 -3550.0737\n",
       "351  18.885155 -3555.0422\n",
       "352  18.938960 -3560.3975\n",
       "353  18.992764 -3565.3127\n",
       "\n",
       "[354 rows x 2 columns]"
      ]
     },
     "execution_count": 51,
     "metadata": {},
     "output_type": "execute_result"
    }
   ],
   "source": [
    "aa_x = pd.read_csv('/home/jovyan/data/volcanyc/along_axis/seamount_x_along_axis_tbl.txt', delim_whitespace=True, dtype=object)\n",
    "df_aa_x = pd.DataFrame(aa_x).astype(float)\n",
    "del df_aa_x['Longitude']\n",
    "del df_aa_x['Latitude']\n",
    "df_aa_x"
   ]
  },
  {
   "cell_type": "code",
   "execution_count": 56,
   "metadata": {},
   "outputs": [
    {
     "data": {
      "text/html": [
       "<div>\n",
       "<style scoped>\n",
       "    .dataframe tbody tr th:only-of-type {\n",
       "        vertical-align: middle;\n",
       "    }\n",
       "\n",
       "    .dataframe tbody tr th {\n",
       "        vertical-align: top;\n",
       "    }\n",
       "\n",
       "    .dataframe thead th {\n",
       "        text-align: right;\n",
       "    }\n",
       "</style>\n",
       "<table border=\"1\" class=\"dataframe\">\n",
       "  <thead>\n",
       "    <tr style=\"text-align: right;\">\n",
       "      <th></th>\n",
       "      <th>Distance</th>\n",
       "      <th>Elevation</th>\n",
       "    </tr>\n",
       "  </thead>\n",
       "  <tbody>\n",
       "    <tr>\n",
       "      <td>0</td>\n",
       "      <td>0.000000</td>\n",
       "      <td>-1413.4866</td>\n",
       "    </tr>\n",
       "    <tr>\n",
       "      <td>1</td>\n",
       "      <td>0.018302</td>\n",
       "      <td>-1413.0626</td>\n",
       "    </tr>\n",
       "    <tr>\n",
       "      <td>2</td>\n",
       "      <td>0.036603</td>\n",
       "      <td>-1412.5221</td>\n",
       "    </tr>\n",
       "    <tr>\n",
       "      <td>3</td>\n",
       "      <td>0.054905</td>\n",
       "      <td>-1411.9523</td>\n",
       "    </tr>\n",
       "    <tr>\n",
       "      <td>4</td>\n",
       "      <td>0.073206</td>\n",
       "      <td>-1411.4884</td>\n",
       "    </tr>\n",
       "    <tr>\n",
       "      <td>...</td>\n",
       "      <td>...</td>\n",
       "      <td>...</td>\n",
       "    </tr>\n",
       "    <tr>\n",
       "      <td>896</td>\n",
       "      <td>16.398226</td>\n",
       "      <td>-1660.7098</td>\n",
       "    </tr>\n",
       "    <tr>\n",
       "      <td>897</td>\n",
       "      <td>16.416527</td>\n",
       "      <td>-1664.0863</td>\n",
       "    </tr>\n",
       "    <tr>\n",
       "      <td>898</td>\n",
       "      <td>16.434828</td>\n",
       "      <td>-1667.2900</td>\n",
       "    </tr>\n",
       "    <tr>\n",
       "      <td>899</td>\n",
       "      <td>16.453129</td>\n",
       "      <td>-1670.5100</td>\n",
       "    </tr>\n",
       "    <tr>\n",
       "      <td>900</td>\n",
       "      <td>16.471430</td>\n",
       "      <td>-1673.8003</td>\n",
       "    </tr>\n",
       "  </tbody>\n",
       "</table>\n",
       "<p>901 rows × 2 columns</p>\n",
       "</div>"
      ],
      "text/plain": [
       "      Distance  Elevation\n",
       "0     0.000000 -1413.4866\n",
       "1     0.018302 -1413.0626\n",
       "2     0.036603 -1412.5221\n",
       "3     0.054905 -1411.9523\n",
       "4     0.073206 -1411.4884\n",
       "..         ...        ...\n",
       "896  16.398226 -1660.7098\n",
       "897  16.416527 -1664.0863\n",
       "898  16.434828 -1667.2900\n",
       "899  16.453129 -1670.5100\n",
       "900  16.471430 -1673.8003\n",
       "\n",
       "[901 rows x 2 columns]"
      ]
     },
     "execution_count": 56,
     "metadata": {},
     "output_type": "execute_result"
    }
   ],
   "source": [
    "aa_orca = pd.read_csv('/home/jovyan/data/volcanyc/along_axis/orca_across_axis_updated.txt', delim_whitespace=True, dtype=object)\n",
    "df_aa_orca = pd.DataFrame(aa_orca).astype(float)\n",
    "del df_aa_orca['Longitude']\n",
    "del df_aa_orca['Latitude']\n",
    "df_aa_orca"
   ]
  },
  {
   "cell_type": "code",
   "execution_count": 74,
   "metadata": {},
   "outputs": [
    {
     "data": {
      "text/html": [
       "<div>\n",
       "<style scoped>\n",
       "    .dataframe tbody tr th:only-of-type {\n",
       "        vertical-align: middle;\n",
       "    }\n",
       "\n",
       "    .dataframe tbody tr th {\n",
       "        vertical-align: top;\n",
       "    }\n",
       "\n",
       "    .dataframe thead th {\n",
       "        text-align: right;\n",
       "    }\n",
       "</style>\n",
       "<table border=\"1\" class=\"dataframe\">\n",
       "  <thead>\n",
       "    <tr style=\"text-align: right;\">\n",
       "      <th></th>\n",
       "      <th>Distance</th>\n",
       "      <th>Elevation</th>\n",
       "    </tr>\n",
       "  </thead>\n",
       "  <tbody>\n",
       "    <tr>\n",
       "      <td>0</td>\n",
       "      <td>0.000000</td>\n",
       "      <td>-2961.1567</td>\n",
       "    </tr>\n",
       "    <tr>\n",
       "      <td>1</td>\n",
       "      <td>0.164566</td>\n",
       "      <td>-2961.4287</td>\n",
       "    </tr>\n",
       "    <tr>\n",
       "      <td>2</td>\n",
       "      <td>0.329132</td>\n",
       "      <td>-2960.7168</td>\n",
       "    </tr>\n",
       "    <tr>\n",
       "      <td>3</td>\n",
       "      <td>0.493698</td>\n",
       "      <td>-2960.1885</td>\n",
       "    </tr>\n",
       "    <tr>\n",
       "      <td>4</td>\n",
       "      <td>0.658264</td>\n",
       "      <td>-2958.8276</td>\n",
       "    </tr>\n",
       "    <tr>\n",
       "      <td>...</td>\n",
       "      <td>...</td>\n",
       "      <td>...</td>\n",
       "    </tr>\n",
       "    <tr>\n",
       "      <td>167</td>\n",
       "      <td>27.482530</td>\n",
       "      <td>-2374.2790</td>\n",
       "    </tr>\n",
       "    <tr>\n",
       "      <td>168</td>\n",
       "      <td>27.647097</td>\n",
       "      <td>-2348.9768</td>\n",
       "    </tr>\n",
       "    <tr>\n",
       "      <td>169</td>\n",
       "      <td>27.811663</td>\n",
       "      <td>-2323.0845</td>\n",
       "    </tr>\n",
       "    <tr>\n",
       "      <td>170</td>\n",
       "      <td>27.976229</td>\n",
       "      <td>-2314.8296</td>\n",
       "    </tr>\n",
       "    <tr>\n",
       "      <td>171</td>\n",
       "      <td>28.140795</td>\n",
       "      <td>-2329.4607</td>\n",
       "    </tr>\n",
       "  </tbody>\n",
       "</table>\n",
       "<p>172 rows × 2 columns</p>\n",
       "</div>"
      ],
      "text/plain": [
       "      Distance  Elevation\n",
       "0     0.000000 -2961.1567\n",
       "1     0.164566 -2961.4287\n",
       "2     0.329132 -2960.7168\n",
       "3     0.493698 -2960.1885\n",
       "4     0.658264 -2958.8276\n",
       "..         ...        ...\n",
       "167  27.482530 -2374.2790\n",
       "168  27.647097 -2348.9768\n",
       "169  27.811663 -2323.0845\n",
       "170  27.976229 -2314.8296\n",
       "171  28.140795 -2329.4607\n",
       "\n",
       "[172 rows x 2 columns]"
      ]
     },
     "execution_count": 74,
     "metadata": {},
     "output_type": "execute_result"
    }
   ],
   "source": [
    "aa_frsc5 = pd.read_csv('/home/jovyan/data/volcanyc/along_axis/frsc5_t1_table.txt', delim_whitespace=True, dtype=object)\n",
    "df_aa_frsc5 = pd.DataFrame(aa_frsc5).astype(float)\n",
    "del df_aa_frsc5['Longitude']\n",
    "del df_aa_frsc5['Latitude']\n",
    "df_aa_frsc5"
   ]
  },
  {
   "cell_type": "code",
   "execution_count": 77,
   "metadata": {},
   "outputs": [
    {
     "data": {
      "image/png": "[encoded data removed]",
      "text/plain": [
       "<Figure size 432x288 with 1 Axes>"
      ]
     },
     "metadata": {
      "needs_background": "light"
     },
     "output_type": "display_data"
    }
   ],
   "source": [
    "ax = df_aa_forecast.plot(y='Elevation')\n",
    "df_aa_wm['Elevation'].plot(ax=ax)\n",
    "df_aa_x['Elevation'].plot(ax=ax)\n",
    "df_aa_orca['Elevation'].plot(ax=ax)\n",
    "df_aa_knoll['Elevation'].plot(ax=ax)\n",
    "df_aa_frsc5['Elevation'].plot(ax=ax)\n",
    "# df_aa_wm['Elevation'].plot(ax=ax)\n",
    "ax.set_ylabel('Elevation (m)')\n",
    "ax.set_xlabel('Distance (m)')\n",
    "ax.legend(['Forecast', 'West Mata', 'Volcano X', 'Orca', 'Knoll', 'FRSC 5'])\n",
    "plt.savefig('along_axis_peak')"
   ]
  },
  {
   "cell_type": "code",
   "execution_count": 79,
   "metadata": {},
   "outputs": [
    {
     "data": {
      "image/png": "[encoded data removed]",
      "text/plain": [
       "<Figure size 432x288 with 1 Axes>"
      ]
     },
     "metadata": {
      "needs_background": "light"
     },
     "output_type": "display_data"
    }
   ],
   "source": [
    "ax = df_aa_kita.plot(y='Elevation', label='Kita')\n",
    "# df_aa_knoll['Elevation'].plot(ax=ax)\n",
    "df_aa_O['Elevation'].plot(ax=ax)\n",
    "# df_aa_knoll['Elevation'].plot(ax=ax)\n",
    "df_aa_c['Elevation'].plot(ax=ax)\n",
    "df_aa_orca['Elevation'].plot(ax=ax)\n",
    "# ax.set_ylabel('Depth (m)')\n",
    "ax.set_xlabel('Distance (m)')\n",
    "ax.set_ylabel('Elevation (m)')\n",
    "ax.legend(['Kita', 'Volcano O', 'Seamount C','Orca'])\n",
    "plt.savefig('alongaxis_caldera')"
   ]
  },
  {
   "cell_type": "code",
   "execution_count": null,
   "metadata": {},
   "outputs": [],
   "source": [
    "ax = df_aa_kita.plot(y='Elevation', label='Kita')\n",
    "# df_aa_knoll['Elevation'].plot(ax=ax)\n",
    "df_aa_O['Elevation'].plot(ax=ax)\n",
    "df_aa_knoll['Elevation'].plot(ax=ax)\n",
    "df_aa_c['Elevation'].plot(ax=ax)\n",
    "df_aa_orca['Elevation'].plot(ax=ax)\n",
    "# ax.set_ylabel('Depth (m)')\n",
    "ax.set_xlabel('Distance (m)')\n",
    "ax.set_ylabel('Elevation (m)')\n",
    "ax.legend(['Kita', 'Volcano O', 'Knoll', 'Seamount C','Orca'])\n",
    "plt.savefig('alongaxis_tracy_o_wm')"
   ]
  },
  {
   "cell_type": "code",
   "execution_count": 231,
   "metadata": {},
   "outputs": [
    {
     "data": {
      "image/png": "[encoded data removed]",
      "text/plain": [
       "<Figure size 432x288 with 1 Axes>"
      ]
     },
     "metadata": {
      "needs_background": "light"
     },
     "output_type": "display_data"
    },
    {
     "data": {
      "image/png": "[encoded data removed]",
      "text/plain": [
       "<Figure size 432x288 with 1 Axes>"
      ]
     },
     "metadata": {
      "needs_background": "light"
     },
     "output_type": "display_data"
    },
    {
     "data": {
      "image/png": "[encoded data removed]",
      "text/plain": [
       "<Figure size 432x288 with 1 Axes>"
      ]
     },
     "metadata": {
      "needs_background": "light"
     },
     "output_type": "display_data"
    },
    {
     "data": {
      "image/png": "[encoded data removed]",
      "text/plain": [
       "<Figure size 432x288 with 1 Axes>"
      ]
     },
     "metadata": {
      "needs_background": "light"
     },
     "output_type": "display_data"
    },
    {
     "data": {
      "image/png": "[encoded data removed]",
      "text/plain": [
       "<Figure size 432x288 with 1 Axes>"
      ]
     },
     "metadata": {
      "needs_background": "light"
     },
     "output_type": "display_data"
    }
   ],
   "source": [
    "df_aa_kita.plot(y='Elevation', x='Distance', label='kita')\n",
    "df_aa_knoll.plot(y='Elevation', x='Distance', label = 'knoll')\n",
    "df_aa_tracy.plot(y='Elevation', x='Distance', label='tracy')\n",
    "df_aa_O.plot(y='Elevation', x='Distance', label='volcano_o')\n",
    "df_aa_wm.plot(y='Elevation', x='Distance', label='wm')\n",
    "plt.savefig('alongaxis_single')"
   ]
  },
  {
   "cell_type": "code",
   "execution_count": null,
   "metadata": {},
   "outputs": [],
   "source": []
  }
 ],
 "metadata": {
  "kernelspec": {
   "display_name": "Python 3",
   "language": "python",
   "name": "python3"
  },
  "language_info": {
   "codemirror_mode": {
    "name": "ipython",
    "version": 3
   },
   "file_extension": ".py",
   "mimetype": "text/x-python",
   "name": "python",
   "nbconvert_exporter": "python",
   "pygments_lexer": "ipython3",
   "version": "3.7.3"
  }
 },
 "nbformat": 4,
 "nbformat_minor": 4
}
